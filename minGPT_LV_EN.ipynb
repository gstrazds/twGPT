{
 "cells": [
  {
   "cell_type": "code",
   "execution_count": 1,
   "id": "varying-atlas",
   "metadata": {
    "id": "varying-atlas"
   },
   "outputs": [],
   "source": [
    "%matplotlib inline\n",
    "import matplotlib.pyplot as plt\n",
    "plt.switch_backend('agg')\n",
    "import matplotlib.ticker as ticker\n",
    "\n",
    "import os\n",
    "import urllib\n",
    "import re\n",
    "import random\n",
    "import json\n",
    "from typing import List, Dict, Optional, Any, Tuple\n",
    "import glob\n",
    "\n",
    "import numpy as np\n",
    "import torch\n",
    "import torch.nn as nn\n",
    "from tqdm import tqdm\n",
    "import pickle\n",
    "from torch.nn import functional as F\n",
    "\n",
    "from collections import OrderedDict, Counter"
   ]
  },
  {
   "cell_type": "code",
   "execution_count": 2,
   "id": "a9caf3ec",
   "metadata": {},
   "outputs": [],
   "source": [
    "import tokenizers\n",
    "#from tokenizers import Tokenizer\n",
    "from tokenizers.pre_tokenizers import Whitespace\n",
    "from tokenizers.pre_tokenizers import WhitespaceSplit\n",
    "from tokenizers.pre_tokenizers import Punctuation\n",
    "\n",
    "from tokenizers import normalizers\n",
    "from tokenizers.normalizers import Lowercase, Strip, Replace, Sequence\n",
    "from tokenizers.trainers import UnigramTrainer"
   ]
  },
  {
   "cell_type": "code",
   "execution_count": 3,
   "id": "45fdc58a",
   "metadata": {},
   "outputs": [],
   "source": [
    "def set_seed(seed):\n",
    "    random.seed(seed)\n",
    "    np.random.seed(seed)\n",
    "    torch.manual_seed(seed)\n",
    "    torch.cuda.manual_seed_all(seed)\n",
    "\n",
    "set_seed(1)"
   ]
  },
  {
   "cell_type": "code",
   "execution_count": 4,
   "id": "c74556d1",
   "metadata": {},
   "outputs": [],
   "source": [
    "HEMINGWAY_DATA = './data/hemingway'\n",
    "!mkdir -p $HEMINGWAY_DATA\n"
   ]
  },
  {
   "cell_type": "code",
   "execution_count": 5,
   "id": "ALC2-FQxnZ1l",
   "metadata": {
    "colab": {
     "base_uri": "https://localhost:8080/"
    },
    "id": "ALC2-FQxnZ1l",
    "outputId": "3e4d0bbd-8b0d-4b9d-884a-eb88c0d3c556"
   },
   "outputs": [
    {
     "name": "stdout",
     "output_type": "stream",
     "text": [
      "Name: sacrebleu\r\n",
      "Version: 1.5.1\r\n",
      "Summary: Hassle-free computation of shareable, comparable, and reproducible BLEU, chrF, and TER scores\r\n",
      "Home-page: https://github.com/mjpost/sacrebleu\r\n",
      "Author: Matt Post\r\n",
      "Author-email: post@cs.jhu.edu\r\n",
      "License: Apache License 2.0\r\n",
      "Location: /home/guntis/anaconda3/envs/tw131/lib/python3.8/site-packages\r\n",
      "Requires: portalocker\r\n",
      "Required-by: \r\n"
     ]
    }
   ],
   "source": [
    "#!pip install sacrebleu\n",
    "!pip show sacrebleu"
   ]
  },
  {
   "cell_type": "code",
   "execution_count": 6,
   "id": "7A8WZUBGiyv7",
   "metadata": {
    "colab": {
     "base_uri": "https://localhost:8080/"
    },
    "id": "7A8WZUBGiyv7",
    "outputId": "cbe405e8-f665-4298-d4ae-44c533bf0711"
   },
   "outputs": [],
   "source": [
    "# from google.colab import drive\n",
    "# drive.mount('/content/drive')"
   ]
  },
  {
   "cell_type": "markdown",
   "id": "Ex11yfCVaueI",
   "metadata": {
    "id": "Ex11yfCVaueI"
   },
   "source": [
    "#Text preprocessing"
   ]
  },
  {
   "cell_type": "code",
   "execution_count": 7,
   "id": "58b5c343",
   "metadata": {},
   "outputs": [
    {
     "name": "stdout",
     "output_type": "stream",
     "text": [
      "BPE_ops=10000 vocab_size=5500 joint_vocab_size=11000\r\n"
     ]
    }
   ],
   "source": [
    "num_bpe_merges = 10000\n",
    "vocab_size = 5500\n",
    "joint_vocab_size = 2*vocab_size\n",
    "\n",
    "!echo BPE_ops=$num_bpe_merges vocab_size=$vocab_size joint_vocab_size=$joint_vocab_size"
   ]
  },
  {
   "cell_type": "code",
   "execution_count": 8,
   "id": "bTfvBWhIaHTh",
   "metadata": {
    "colab": {
     "base_uri": "https://localhost:8080/"
    },
    "id": "bTfvBWhIaHTh",
    "outputId": "e75b4122-7e6e-4abc-827a-134aec8cf165"
   },
   "outputs": [
    {
     "name": "stdout",
     "output_type": "stream",
     "text": [
      "Name: subword-nmt\r\n",
      "Version: 0.3.7\r\n",
      "Summary: Unsupervised Word Segmentation for Neural Machine Translation and Text Generation\r\n",
      "Home-page: https://github.com/rsennrich/subword-nmt\r\n",
      "Author: Rico Sennrich\r\n",
      "Author-email: None\r\n",
      "License: MIT\r\n",
      "Location: /home/guntis/anaconda3/envs/tw131/lib/python3.8/site-packages\r\n",
      "Requires: \r\n",
      "Required-by: \r\n"
     ]
    }
   ],
   "source": [
    "#!pip install subword-nmt\n",
    "!pip show subword-nmt"
   ]
  },
  {
   "cell_type": "code",
   "execution_count": 9,
   "id": "historic-thermal",
   "metadata": {
    "id": "historic-thermal"
   },
   "outputs": [],
   "source": [
    "# Read Hemingway texts from URL. There are Hemingway's \"A Farewell to arms\"\n",
    "text_en = urllib.request.urlopen('http://www.ltn.lv/~guntis/translation_dataset/dataset_en_small.txt').read().decode(\"utf-8\", \"ignore\")\n",
    "text_lv = urllib.request.urlopen('http://www.ltn.lv/~guntis/translation_dataset/dataset_lv_small.txt').read().decode(\"utf-8-sig\", \"ignore\")\n",
    "\n",
    "HEMINGWAY_SRC_EN = f'{HEMINGWAY_DATA}/hemingway.en.txt'\n",
    "HEMINGWAY_SRC_LV = f'{HEMINGWAY_DATA}/hemingway.lv.txt'\n",
    "\n",
    "with open(HEMINGWAY_SRC_EN, 'w') as f:\n",
    "    f.write(text_en)\n",
    "\n",
    "with open(HEMINGWAY_SRC_LV, 'w') as f:\n",
    "    f.write(text_lv)"
   ]
  },
  {
   "cell_type": "code",
   "execution_count": 10,
   "id": "hzgEuTRkV4kK",
   "metadata": {
    "colab": {
     "base_uri": "https://localhost:8080/"
    },
    "id": "hzgEuTRkV4kK",
    "outputId": "6ac1bf6e-9a2a-4cf7-c6cc-e3c76ec72522"
   },
   "outputs": [],
   "source": [
    "# !git clone https://github.com/moses-smt/mosesdecoder.git"
   ]
  },
  {
   "cell_type": "code",
   "execution_count": 11,
   "id": "Z_qVpRZMGJDl",
   "metadata": {
    "colab": {
     "base_uri": "https://localhost:8080/"
    },
    "id": "Z_qVpRZMGJDl",
    "outputId": "d51d2bb1-1337-4e36-eb1f-28f67fdfbd29"
   },
   "outputs": [
    {
     "name": "stdout",
     "output_type": "stream",
     "text": [
      "Tokenizer Version 1.1\n",
      "Language: en\n",
      "Number of threads: 1\n",
      "Tokenizer Version 1.1\n",
      "Language: lv\n",
      "Number of threads: 1\n"
     ]
    }
   ],
   "source": [
    "# Normalize and tokenize texts\n",
    "\n",
    "!cat $HEMINGWAY_SRC_EN | mosesdecoder/scripts/tokenizer/normalize-punctuation.perl -l en \\\n",
    "  | mosesdecoder/scripts/tokenizer/tokenizer.perl -a -l en > $HEMINGWAY_DATA/hemingway.en.tok.txt\n",
    "\n",
    "!cat $HEMINGWAY_SRC_LV | mosesdecoder/scripts/tokenizer/normalize-punctuation.perl -l lv \\\n",
    "  | mosesdecoder/scripts/tokenizer/tokenizer.perl -a -l lv > $HEMINGWAY_DATA/hemingway.lv.tok.txt"
   ]
  },
  {
   "cell_type": "code",
   "execution_count": 12,
   "id": "fe962766",
   "metadata": {
    "colab": {
     "base_uri": "https://localhost:8080/"
    },
    "id": "Z_qVpRZMGJDl",
    "outputId": "d51d2bb1-1337-4e36-eb1f-28f67fdfbd29"
   },
   "outputs": [],
   "source": [
    "# # Normalize and tokenize texts\n",
    "\n",
    "# #!cat hemingway.en.txt | mosesdecoder/scripts/tokenizer/normalize-punctuation.perl -l en \\\n",
    "# !cat hemingway.en.txt \\\n",
    "#   | mosesdecoder/scripts/tokenizer/tokenizer.perl -a -l en > hemingway.en.tok.txt\n",
    "\n",
    "# # !cat hemingway.lv.txt | mosesdecoder/scripts/tokenizer/normalize-punctuation.perl -l lv \\\n",
    "# !cat hemingway.lv.txt \\\n",
    "#   | mosesdecoder/scripts/tokenizer/tokenizer.perl -a -l lv > hemingway.lv.tok.txt"
   ]
  },
  {
   "cell_type": "code",
   "execution_count": 13,
   "id": "YlDFOYvOIb2c",
   "metadata": {
    "id": "YlDFOYvOIb2c"
   },
   "outputs": [],
   "source": [
    "!mosesdecoder/scripts/recaser/train-truecaser.perl -corpus $HEMINGWAY_DATA/hemingway.en.tok.txt -model $HEMINGWAY_DATA/tc_model.en\n",
    "!mosesdecoder/scripts/recaser/train-truecaser.perl -corpus $HEMINGWAY_DATA/hemingway.lv.tok.txt -model $HEMINGWAY_DATA/tc_model.lv\n",
    "\n",
    "!mosesdecoder/scripts/recaser/truecase.perl -model $HEMINGWAY_DATA/tc_model.en < $HEMINGWAY_DATA/hemingway.en.tok.txt > $HEMINGWAY_DATA/hemingway.en.tc.txt\n",
    "!mosesdecoder/scripts/recaser/truecase.perl -model $HEMINGWAY_DATA/tc_model.lv < $HEMINGWAY_DATA/hemingway.lv.tok.txt > $HEMINGWAY_DATA/hemingway.lv.tc.txt"
   ]
  },
  {
   "cell_type": "code",
   "execution_count": 14,
   "id": "aiMbyzugbFZd",
   "metadata": {
    "id": "aiMbyzugbFZd"
   },
   "outputs": [
    {
     "name": "stdout",
     "output_type": "stream",
     "text": [
      "no pair has frequency >= 2. Stopping\n",
      "no pair has frequency >= 2. Stopping\n"
     ]
    }
   ],
   "source": [
    "# !subword-nmt learn-joint-bpe-and-vocab --input en.tc.txt lv.tc.txt -s 10000 -o tokens.txt --write-vocabulary token_freq.en.txt token_freq.lv.txt\n",
    "!mkdir -p $HEMINGWAY_DATA/bpe \n",
    "!subword-nmt learn-joint-bpe-and-vocab --input $HEMINGWAY_DATA/hemingway.en.tc.txt -s $num_bpe_merges -o $HEMINGWAY_DATA/bpe/tokens.en --write-vocabulary $HEMINGWAY_DATA/bpe/token_freq.en\n",
    "!subword-nmt learn-joint-bpe-and-vocab --input $HEMINGWAY_DATA/hemingway.lv.tc.txt -s $num_bpe_merges -o $HEMINGWAY_DATA/bpe/tokens.lv --write-vocabulary $HEMINGWAY_DATA/bpe/token_freq.lv"
   ]
  },
  {
   "cell_type": "code",
   "execution_count": 15,
   "id": "30_qUBkgSNG1",
   "metadata": {
    "id": "30_qUBkgSNG1"
   },
   "outputs": [],
   "source": [
    "def build_vocab(freq_file, vocab_size):\n",
    "    vocab = ['<unk>', '<pad>', '<eos>']\n",
    "    with open(freq_file, 'r') as f:\n",
    "        for line in f.readlines():\n",
    "            token, _ = line.split()\n",
    "            vocab.append(token)\n",
    "    return vocab #[:vocab_size]\n",
    "#     return vocab[:vocab_size]\n",
    "\n",
    "en_vocab = build_vocab(f'{HEMINGWAY_DATA}/bpe/token_freq.en', vocab_size)\n",
    "lv_vocab = build_vocab(f'{HEMINGWAY_DATA}/bpe/token_freq.lv', vocab_size)\n",
    "\n",
    "with open(f'{HEMINGWAY_DATA}/bpe/vocab.en', 'w') as f:\n",
    "    for i, token in enumerate(en_vocab):\n",
    "        f.write(f\"{token} {i + 1} \\n\")\n",
    "\n",
    "with open(f'{HEMINGWAY_DATA}/bpe/vocab.lv', 'w') as f:\n",
    "    for i, token in enumerate(lv_vocab):\n",
    "        f.write(f\"{token} {i + 1} \\n\")"
   ]
  },
  {
   "cell_type": "code",
   "execution_count": null,
   "id": "b4b02897",
   "metadata": {
    "id": "CtzY4LjYbSiJ"
   },
   "outputs": [],
   "source": []
  },
  {
   "cell_type": "code",
   "execution_count": 16,
   "id": "CtzY4LjYbSiJ",
   "metadata": {
    "id": "CtzY4LjYbSiJ"
   },
   "outputs": [],
   "source": [
    "#!subword-nmt apply-bpe -c $HEMINGWAY_DATA/bpe/tokens.en --vocabulary $HEMINGWAY_DATA/bpe/vocab.en --vocabulary-threshold 1 < $HEMINGWAY_DATA/hemingway.en.tc.txt > $HEMINGWAY_DATA/hemingway.en.BPE.txt\n",
    "#!subword-nmt apply-bpe -c $HEMINGWAY_DATA/bpe/tokens.lv --vocabulary $HEMINGWAY_DATA/bpe/vocab.lv --vocabulary-threshold 1 < $HEMINGWAY_DATA/hemingway.lv.tc.txt > $HEMINGWAY_DATA/hemingway.lv.BPE.txt\n",
    "\n",
    "!subword-nmt apply-bpe -c $HEMINGWAY_DATA/bpe/tokens.en --vocabulary $HEMINGWAY_DATA/bpe/token_freq.en --vocabulary-threshold 1 < $HEMINGWAY_DATA/hemingway.en.tc.txt > $HEMINGWAY_DATA/hemingway.en.BPE.txt\n",
    "!subword-nmt apply-bpe -c $HEMINGWAY_DATA/bpe/tokens.lv --vocabulary $HEMINGWAY_DATA/bpe/token_freq.lv --vocabulary-threshold 1 < $HEMINGWAY_DATA/hemingway.lv.tc.txt > $HEMINGWAY_DATA/hemingway.lv.BPE.txt"
   ]
  },
  {
   "cell_type": "code",
   "execution_count": 17,
   "id": "6b829b99",
   "metadata": {},
   "outputs": [
    {
     "name": "stdout",
     "output_type": "stream",
     "text": [
      "2 ['./data/hemingway/hemingway.en.BPE.txt', './data/hemingway/hemingway.lv.BPE.txt']\n"
     ]
    }
   ],
   "source": [
    "special_tokens = ['<unk>', '<pad>', '<eos>', '<sep>'] #, '<S>', '</S>', '<bos>', '<eos>', '<sep>', '<NONE>', '<|>']\n",
    "                  \n",
    "    #  '---Exits---']  #, COMMAND_TOKEN]\n",
    "\n",
    "                 # '+open', '+closed', '+roasted', '+baked', '+fried', '+raw',\n",
    "                 # '+sliced', '+diced', '+chopped', '++Carrying:', ]\n",
    "normalizer = normalizers.Sequence([Strip(), Lowercase()])\n",
    "pre_tokenizer = Whitespace()\n",
    "\n",
    "model = tokenizers.models.WordLevel(unk_token='<unk>')\n",
    "# model = tokenizers.models.WordPiece()\n",
    "tokenizer = tokenizers.Tokenizer(model=model)\n",
    "\n",
    "\n",
    "tokenizer.add_special_tokens(special_tokens)\n",
    "tokenizer.normalizer = normalizer\n",
    "tokenizer.pre_tokenizer = pre_tokenizer\n",
    "\n",
    "# filelist = glob.glob(PTHRU_DIR+\"valid/*.pthru\")\n",
    "# filelist.extend( glob.glob(PTHRU_DIR+\"test/*.pthru\"))\n",
    "# filelist.extend( glob.glob(PTHRU_DIR+\"train/*.pthru\"))\n",
    "\n",
    "\n",
    "# token_strs = [tok for (tok, span) in pre_tokenizer.pre_tokenize_str(str1)]\n",
    "# print(token_strs)\n",
    "\n",
    "# filelist = glob.glob(PTHRU_DIR+\"valid/*.pthru\")\n",
    "\n",
    "filelist = glob.glob(f\"{HEMINGWAY_DATA}/hemingway.*.BPE.txt\")\n",
    "\n",
    "filelist = sorted(filelist)\n",
    "print(len(filelist), filelist[:10])\n",
    "\n",
    "\n",
    "# unigram_trainer = tokenizers.trainers.UnigramTrainer()\n",
    "# trainer = tokenizers.trainers.WordPieceTrainer(vocab_size=vocab_size)\n",
    "trainer = tokenizers.trainers.WordLevelTrainer(vocab_size=joint_vocab_size, special_tokens=special_tokens)\n",
    "\n",
    "tokenizer.train(files=filelist, trainer=trainer)"
   ]
  },
  {
   "cell_type": "code",
   "execution_count": 18,
   "id": "eede732b",
   "metadata": {},
   "outputs": [
    {
     "name": "stdout",
     "output_type": "stream",
     "text": [
      "ACTUAL VOCAB SIZE = 11000\n",
      "{'bear': 3711, 'yours': 3853, 'uzlīmēja': 9106, 'mysterious': 7136, 'mr': 4336, 'fr': 5037, 'nebūtu': 1200, 'jautāja': 361, 'šāvieni': 6842, 'šķidr': 8005, 'prātam': 6222, 'tiks': 8219, 'ēdat': 6351, 'šoruden': 6776, 'vizinā': 7307, 'cijai': 6458, 'spēki': 7942, 'atic': 10894, 'bowed': 3204, 'pateikt': 2089, 'meitēns': 8233, 'nodaļa': 463, 'plateau': 2372, 'izskatī': 4890, 'sajūta': 1216, 'afraid': 551, 'icy': 6026, 'ester': 7301, 'fine': 223, 'šāviņu': 7464, 'lopkautuves': 9325, 'nošķ': 9713, 'mašīnām': 1229, 'krūtīm': 6634, 'proud': 3110, 'gajā': 7030, 'tre': 2233, 'nemi': 10851, 'turned': 478, 'vēr': 2328, 'list': 5980, 'kru': 2621, 'iedzersim': 3141, 'arī': 108, 'pulkstenī': 3755, 'jebkuram': 5620, 'atteica': 2253, 'stomach': 1548, 'said': 25, 'anything': 250, 'sil': 3010, 'neizliecies': 7511, 'cienī': 5612, 'dabūju': 4545, 'dzersim': 2837, 'zobena': 8266, 'ght': 3763, 'programme': 5502, 'žas': 4827, 'tum': 2440, 'labu': 604, 'ton': 4011, 'norauties': 7651, 'jautāju': 728, 'teic': 9019, 'šoseju': 4409, 'zi': 1446, 'forever': 4044, 'klā': 2345, 'won': 215, 'hauling': 4704, 'zirgs': 3310, 'ilgas': 7466, 'second': 1077, 'por': 2333, 'ējos': 2395, 'uzbrukumā': 1084, 'dabūt': 2202, 'dari': 5208, 'ēd': 2844, 'ienākot': 7151, 'skaitī': 3516, 'chal': 5942, 'pārsie': 7406, 'nācu': 4946, 'augšējās': 4489, 'pudeļu': 7452, 'sakustas': 8675, 'nekratīs': 10149, 'beautiful': 623, 'sitting': 630, 'durvīm': 428, 'ievaino': 3866, 'hill': 1632, 'silts': 4386, 'martialled': 6852, 'neuztraucies': 8972, 'trešais': 4618, 'laida': 10923, 'pagādāt': 8487, 'pārējās': 3028, 'ters': 3587, 'spī': 3673, 'pakļau': 7342, 'ling': 1780, 'grapas': 10424, 'apakšpulkvedis': 3658, 'nedz': 4204, 'dog': 7741, 'negāja': 10082, 'ievainojum': 10696, 'york': 5543, 'vēlē': 6526, 'umiem': 4894, 'corridor': 1955, 'take': 195, 'sēj': 4342, 'occup': 7573, 'laukumu': 5030, 'tastes': 6961, 'ground': 1829, 'rotten': 1767, 'pārtrauks': 4767, 'biedru': 9448, 'apakšā': 1525, 'lēdi': 10088, 'ners': 8169, 'doing': 1613, 'atvēra': 2785, 'nikni': 8630, 'agrajā': 10512, 'own': 1556, 'nozī': 5159, 'nopel': 6287, 'tīgs': 6075, 'visā': 5508, 'šoties': 8480, 'ārstu': 3849, 'hospitā': 10762, 'pasaules': 5573, 'priekštilta': 8454, 'sūtīja': 6498, 'abi': 379, 'post': 1063, 'napoleo': 10600, 'kafiju': 2136, 'sacīšu': 7170, 'jokoju': 9631, 'pazīstam': 10556, 'jer': 2745, 'glāzei': 4699, 'varējām': 2650, 'treatment': 8358, 'inflammation': 9286, 'after': 217, 'sim': 520, 'sideways': 7476, 'pasta': 4462, 'nošaut': 10131, 'sānceļa': 10185, 'neuzti': 10778, 'ādas': 1836, 'dat': 3672, 'aizbraucu': 9425, 'apkrau': 8200, 'aizve': 2936, 'nomirsiet': 7715, 'pulksteņa': 7186, 'help': 1386, 'straujš': 6465, 'worrying': 7482, 'skatīties': 7536, 'pamodies': 8898, 'snowing': 4771, 'puttees': 3249, 'godāts': 7461, 'raised': 7524, 'cognac': 1086, 'tot': 4796, 'jauko': 6973, 'nopētīja': 4070, 'orderly': 872, 'rosījās': 5634, 'ējām': 1413, 'ti': 225, 'darāms': 10218, 'line': 425, 'sergeant': 1331, 'zeķes': 5142, 'drāniņu': 8553, 'atdevu': 8699, 'pebbles': 7515, 'aizmig': 5469, 'spiesti': 5799, 'blakus': 449, 'kdams': 4339, 'kreklu': 8959, 'kupe': 10520, 'aizmugur': 10594, 'galveno': 3957, 'feet': 1248, 'shiny': 5260, 'rām': 6005, 'bats': 6610, 'moves': 8153, 'sarkan': 10538, 'miegs': 2354, 'slikti': 1563, 'šņi': 4608, 'headwaiter': 7986, 'paskaties': 4195, 'armijā': 1961, 'rush': 6055, 'nomaļā': 6763, 'ībā': 10801, 'gloves': 4896, 'vagoniem': 5280, 'gli': 3047, 'deg': 9073, 'castle': 7507, 'bām': 2415, 'trīsprocentīgās': 8610, 'krastā': 1213, 'septiņas': 10410, 'scr': 10849, 'dabūja': 4902, 'shed': 3340, 'switzerland': 1434, 'apkakl': 10616, 'daļa': 2805, 'žandarmērija': 7239, 'black': 1243, 'grinned': 7841, 'flot': 6798, 'zie': 4239, 'vēstules': 5894, 'vēder': 10591, 'apstāsimies': 9268, 'celiņi': 7432, 'begin': 8439, 'pagalmu': 7014, 'šī': 546, 'neaiz': 1153, 'hoped': 1700, 'likām': 6337, 'vinā': 8615, 'dzīvžogu': 4671, 'clouds': 2407, 'baltos': 6694, 'kreiz': 10290, 'su': 654, 'cio': 7236, 'milānas': 3486, 'rietumu': 10420, 'programmā': 7460, 'luck': 1527, 'dzimis': 6076, 'iejukuši': 9198, 'infantry': 4552, 'žogiem': 5911, 'burst': 2341, 'dam': 3265, 'nekāds': 3399, 'vārdus': 3551, 'cijas': 3881, 'pārliecināta': 5339, 'mos': 10039, 'aling': 10978, 'dzēja': 9910, 'pūlos': 9746, 'ano': 7188, 'important': 9225, 'pagāja': 3967, 'organizēti': 6319, 'cēl': 3996, 'pārāks': 8151, 'delicacy': 7231, 'apgai': 9461, 'ching': 5591, 'plaukst': 9545, 'planes': 4778, 'sleeves': 5915, 'aizmiguši': 9312, 'aic': 5807, 'concentrated': 6802, 'esam': 313, 'mistaba': 10108, 'statement': 6261, 'labajā': 2878, 'proje': 7382, 'pabraucām': 1917, 'nis': 1122, 'mais': 3854, 'vairī': 4182, 'moderately': 5170, 'neatzī': 7220, 'nogūlos': 8617, 'atpakaļ': 257, 'simple': 2314, 'nosnau': 4525, 'nomazgā': 10664, 'negrū': 10125, 'atradām': 8382, 'apspīdēja': 9374, 'gadam': 7642, 'stūmām': 9171, 'finished': 1316, 'set': 2806, 'jesus': 4628, 'logu': 656, 'ņus': 1902, 'prayers': 8141, 'mirst': 9767, 'kavalē': 10352, 'elpot': 7501, 'mēne': 3584, 'esmu': 153, 'shells': 7486, 'rūtis': 8515, 'tecēja': 4516, 'apskatī': 10391, 'cējam': 7217, 'padusēm': 10252, 'pabrauca': 3931, 'kāpņu': 5571, 'nerunāsim': 4175, 'gonoreja': 5018, 'sagādā': 4880, 'labā': 1242, 'četriem': 9852, 'ettore': 794, 'operācija': 10315, 'ais': 1665, 'gāj': 6695, 'pieda': 8091, 'pakājē': 8746, 'fierce': 8206, 'pieņemtais': 10443, 'likšu': 5776, 'iani': 10645, 'tālā': 5553, 'address': 3415, 'hats': 4900, 'clam': 10724, 'iedo': 7920, 'aizgāja': 761, 'ged': 3708, 'rank': 2208, 'agra': 10070, 'end': 801, 'nemīlu': 4685, 'spl': 4064, 'pastai': 4933, 'šāvi': 6756, 'čen': 10832, 'neap': 2400, 'ktora': 9228, 'aknām': 10035, 'zed': 5895, 'neredzējām': 9187, 'ievainot': 10717, 'pleca': 1772, 'guļot': 2183, 'sargam': 7422, 'dežurē': 6648, 'kals': 7754, 'twit': 9084, 'jāpiesakās': 9347, 'kliboju': 6952, 'dīja': 1865, 'ievainotos': 1506, 'gāja': 597, 'sneaky': 6268, 'ievilku': 3726, 'winner': 8513, 'krājas': 8743, 'vētrā': 7278, 'saglabāt': 6904, 'kartī': 10385, 'sniedzu': 6403, 'štābam': 8517, 'iekāpu': 3330, 'marked': 5453, 'garais': 7079, 'sēdējām': 1659, 'artilēri': 10993, 'meli': 7314, 'sides': 1651, 'stū': 8911, 'dārziem': 9339, 'spēja': 6197, 'brīnumus': 6311, 'vajadzības': 4580, 'stie': 6181, 'kom': 3489, 'kapri': 2127, 'shops': 3839, 'mēr': 4794, 'zābakiem': 5071, 'skaistāka': 5512, 'dēju': 5273, 'tūkstoš': 6582, 'dzim': 3372, 'case': 5413, 'izskatīgs': 6793, 'w': 579, 'sin': 4536, 'quar': 7831, 'barto': 1102, 'noraizējies': 6378, 'miegaini': 9639, 'domāju': 552, 'abruzzi': 1919, 'ami': 7985, 'dīs': 2217, 'barrel': 9042, 'ça': 8906, 'īstenība': 9924, 'kabīnē': 8807, 'nešāva': 6949, 'lauka': 1265, 'pateicu': 1874, 'lūgšanas': 6996, 'rītvakar': 10513, 'mēro': 8709, 'neēr': 5402, 'kokiem': 753, 'žos': 4400, 'kritīs': 9287, 'ros': 3493, 'ening': 9484, 'mouths': 9538, 'labdien': 5716, 'platmale': 9707, 'seši': 3026, 'sauce': 10376, 'pieķēros': 10413, 'about': 127, 'ņēmis': 9239, 'atrast': 5138, 'trenches': 5953, 'airēja': 6027, 'sieviete': 1217, 'bothered': 5971, 'palūdzu': 3728, 'crooked': 5081, 'education': 5711, 'spoke': 1645, 'ale': 2693, 'mēģināšu': 7718, 'soļiem': 9041, 'slush': 9203, 'funny': 1576, 'pārējo': 4573, 'ati': 3271, 'ski': 1463, 'zēns': 796, 'nedrīkstot': 9956, 'ņēmu': 6256, 'pīte': 7189, 'ug': 9676, 'baltu': 8155, 'stupid': 2063, 'auguma': 2664, 'cēlies': 5110, 'card': 2982, 'rāda': 5168, 'pratināja': 4683, 'smeļam': 8245, 'labākā': 10527, 'ier': 1776, 'mīlējis': 3435, 'td': 10517, 'ei': 2649, 'plīšs': 8192, 'nervozēt': 9576, 'plai': 10870, 'pametu': 5643, 'emer': 8190, 'soļoja': 4653, 'skanēja': 7946, 'miris': 1826, 'galva': 864, 'gold': 5322, 'klāt': 634, 'glad': 685, 'turf': 8203, 'gotas': 9617, 'book': 1945, 'brushed': 10090, 'mm': 3999, 'fying': 7547, 'galu': 2708, 'iedošu': 6804, 'pārliecinā': 9169, 'dzirdējām': 1594, 'skā': 3256, 'liem': 3923, 'das': 3255, 'šautenes': 3352, 'ķieģeļu': 5640, 'jonu': 6574, 'baļķim': 7616, 'dirt': 7626, 'blow': 2247, 'gaitenī': 3308, 'kolonnas': 4630, 'stiepjas': 7171, 'netrūkst': 8012, 'tenth': 8066, 'kāja': 2287, 'pamodusies': 7224, 'maza': 3002, 'arrived': 7675, 'turpinājās': 10095, 'washed': 1580, 'qu': 2041, 'liek': 2211, 'atnāca': 3870, 'matron': 6529, 'simta': 7074, 'nošau': 6158, 'happened': 1349, 'parāvu': 6585, 'lapām': 5445, 'happy': 589, 'questions': 7354, 'airim': 8340, 'jiet': 1288, 'til': 1296, 'clip': 7952, 'grāv': 8620, 'contemp': 10370, 'white': 608, 'galleria': 3259, 'etor': 10602, 'notiks': 1922, 'šonakt': 2662, 'šoferiem': 2956, 'ceturtdaļ': 5101, 'wrote': 9013, 'shutters': 3686, 'nāc': 994, 'woods': 1198, 'anywhere': 3882, 'blind': 8317, 'worried': 1860, 'str': 3133, 'grāba': 5669, 'wiped': 1939, 'quite': 672, 'karabinieri': 1674, 'slai': 3911, 'piecos': 5871, 'lēze': 4791, 'siro': 7873, 'fa': 2360, 'etore': 802, 'bella': 4814, 'deeper': 6406, 'skin': 8456, 'pārblīvēto': 9828, 'tau': 2288, 'stāvēju': 4744, 'spie': 6362, 'smaržu': 5812, 'pīpes': 10081, 'pavadījis': 5602, 'tukšums': 10105, 'valentīni': 3752, 'grapu': 4465, 'gājis': 3699, 'porta': 3674, 'nepatīkami': 5730, 'lēt': 6528, 'labvēlīgi': 9338, 'ču': 1732, 'turpat': 1756, 'rather': 1822, 'tions': 3737, 'triecienu': 9648, 'bottles': 789, 'martini': 2506, 'tan': 3301, 'parts': 6514, 'muls': 10911, 'inks': 10995, 'palūkojās': 2979, 'tēva': 8668, 'varat': 1861, 'tree': 5338, 'galotnes': 7306, 'bleeding': 8442, 'turns': 5218, 'avī': 4300, 'gaišs': 3170, 'guttingen': 5539, 'gaisa': 2860, 'procedūrām': 5429, 'sarg': 6371, 'pārgāju': 6397, 'trene': 8831, 'pakāpes': 9773, 'num': 10579, 'zē': 4107, 'hurried': 9173, 'šļ': 5283, 'bukas': 9462, 'uztrau': 5134, 'fiercely': 7780, 'trū': 6298, 'birzs': 6790, 'suši': 7995, 'amerikas': 4450, 'krās': 4623, 'calm': 10155, 'tavas': 4265, 'is': 58, 'iens': 3302, 'return': 2607, 'plates': 2034, 'turpināja': 4559, 'novāca': 8171, 'ksmes': 10800, 'jāuzbrūk': 7533, 'gribēsies': 6030, 'min': 2801, 'pūta': 1474, 'neviens': 611, 'sodī': 7991, 'spēji': 9069, 'ušās': 10242, 'pakaļ': 1774, 'mal': 1844, 'mīl': 2404, 'ceļavēju': 7980, 'posta': 9152, 'sed': 2796, 'izvietojušies': 8890, 'makaro': 10799, 'den': 2642, 'baidos': 2949, 'ļaunu': 5223, 'ind': 3961, 'ziņu': 5464, 'ātrumā': 8355, 'šveicē': 1731, 'ward': 3232, 'sore': 4486, 'salauziet': 9608, 'sirdi': 9833, 'jas': 870, 'ordered': 7182, 'šej': 10438, 'šanas': 1042, 'pastāsti': 3368, 'trā': 7140, 'firing': 1714, 'iznāca': 1035, 'jot': 1234, 'race': 2897, 'wrapped': 3582, 'mes': 3692, 'apmazgāja': 5430, 'sleepy': 1612, 'built': 4015, 'īstas': 6342, 'dzidri': 7125, 'iet': 261, 'žogo': 7546, 'turīnā': 8842, 'kāpusies': 10175, 'patīk': 617, 'kaklu': 1604, 'garš': 2448, 'krouvelam': 4567, 'lepojos': 9022, 'tušās': 9246, 'ūdeni': 925, 'grūta': 9511, 'tribīnēs': 8836, 'pielika': 5804, 'cietumā': 7934, 'tē': 1124, 'devos': 824, 'sievai': 9230, 'laced': 9926, 'us': 130, 'jaunas': 4270, 'iesaucās': 6157, 'pia': 10365, 'ings': 1864, 'pašu': 968, 'these': 1011, 'reasonable': 3353, 'dijas': 9491, 'nepati': 6090, 'zem': 316, 'pieņema': 10532, 'nebē': 10976, 'mīlu': 1352, 'questioning': 2337, 'nice': 442, 'tickets': 5205, 'gluda': 7960, 'run': 1932, 'veseļojies': 8098, 'cars': 362, 'nauda': 3242, 'divatā': 4370, 'paskatījos': 722, 'nakts': 822, 'smiling': 10168, 'šeit': 561, 'glaudens': 7330, 'boards': 8059, 'tirgotavā': 9507, 'glasses': 1464, 'braucam': 1866, 'tādam': 5008, 'smilšu': 6224, 'zta': 8950, 'katru': 933, 'near': 1054, 'svilpoņa': 6807, 'such': 978, 'stīju': 5054, 'mējās': 10603, 'arrested': 2515, 'oo': 4649, 'atkāp': 10261, 'quay': 4347, 'leitnant': 4906, 'muļķīgi': 3270, 'none': 2657, 'poja': 10060, 'šķīstas': 9667, 'certainly': 1496, 'isonzo': 8524, 'jis': 571, 'siera': 2397, 'dzīve': 2230, 'šveicaru': 2966, 'wer': 3807, 'fac': 5145, 'umos': 5479, 'kaite': 3886, 'piekrī': 10969, 'miglaini': 9059, 'vientuļš': 3172, 'uzbēruma': 1766, 'piesēju': 9988, 'krāsni': 8025, 'nevarat': 4570, 'holes': 2648, 'vecu': 6629, 'talk': 394, 'staigā': 2985, 'uphill': 8225, 'rhone': 5576, 'fields': 1018, 'apme': 3634, 'wounded': 549, 'france': 3215, 'older': 2476, 'smieties': 5845, 'pay': 1425, 'neraizējies': 4746, 'pārpil': 6302, 'nemīlat': 7245, 'flashes': 5113, 'risti': 7254, 'klāja': 2973, 'dēt': 9739, 'ceļu': 320, 'salīdz': 7361, 'barus': 7426, 'encysted': 10502, 'sedza': 10906, 'sts': 1133, 'vijās': 3115, 'ketrinu': 591, 'elpas': 7288, 'ardievu': 1329, 'truly': 7290, 'mming': 10902, 'ined': 4869, 'way': 221, 'netēlojiet': 6814, 'pistol': 1271, 'kind': 2482, 'dismal': 7644, 'staigāja': 5822, 'draud': 6147, 'corr': 9823, 'čus': 9055, 'vie': 4281, 'y': 472, 'good': 112, 'collar': 2862, 'tfully': 7681, 'beigu': 8627, 'dežū': 8849, 'aps': 6300, 'channels': 5680, 'ker': 4901, 'uzmanību': 5967, 'enza': 10565, 'throat': 10388, 'positi': 8207, 'come': 132, 'nodomāju': 2049, 'pagādā': 4033, 'sienām': 4860, 'lasa': 5655, 'ratiem': 2351, 'defense': 7509, 'minerālūdeni': 10132, 'aizsūtīju': 4679, 'pil': 2283, 'lady': 1707, 'mīnēts': 8138, 'kuņģis': 8964, 'caruso': 9049, 'bīstam': 10613, 'stei': 4629, 'ciaou': 4393, 'mēģināsim': 10235, 'tādiem': 5556, 'saunders': 3369, 'skaidr': 8967, 'n': 285, 'skai': 3579, 'mīlam': 6650, 'tāds': 536, 'dum': 8887, 'remembered': 2818, 'vilnas': 8437, 'inner': 10940, 'drošā': 7802, 'locarno': 1761, 'nopiet': 5158, 'droš': 6399, 'kot': 3294, 'ated': 1993, 'winning': 7198, 'cerot': 8927, 'figūras': 5390, 'citādi': 1531, 'drēbēs': 10919, 'tina': 5496, 'flowing': 7075, 'pūst': 8087, 'prom': 564, 'nezini': 2974, 'nojumē': 6356, 'noņēmu': 7634, 'ard': 2759, 'wedding': 4287, 'kuru': 918, 'bainsicu': 3777, 'vez': 5132, 'char': 9382, 'ish': 8211, 'saprast': 3392, 'plush': 3934, 'mēnešiem': 7655, 'stāvs': 4482, 'mitrs': 10467, 'manu': 880, 'kapteiņiem': 9113, 'milli': 8063, 'bērns': 3348, 'dzer': 2589, 'frenci': 2261, 'saņēmu': 3469, 'do': 73, 'austrietis': 5227, 'him': 111, 'campen': 1049, 'madame': 6635, 'ieradies': 7244, 'spun': 5790, 'wheels': 1549, 'pieturēja': 3350, 'noma': 9023, 'lē': 1424, 'mustn': 1964, 'pur': 2688, 'sajust': 5029, 'bē': 1971, 'krē': 5314, 'cu': 1188, 'rushing': 9183, 'muitas': 7073, 'dziņu': 7161, 'telephone': 2499, 'stāstīja': 1748, 'ple': 3754, 'tirgus': 9871, 'matting': 4587, 'necēlu': 8567, 'saredzēju': 10222, 'izdarīt': 1944, 'iebraucām': 3922, 'īrāmies': 6903, 'eg': 8540, 'dzīvojam': 4435, 'neviena': 1483, 'brezents': 10205, 'prote': 10650, 'gate': 3404, 'mācītājam': 3387, 'ledai': 10166, 'darbo': 5721, 'lēja': 5855, 'marshes': 5817, 'league': 8867, 'made': 377, 'grow': 2342, 'administrator': 5254, 'īstais': 7329, 'solus': 9920, 'pasniedza': 3729, 'vienmērīgi': 6570, 'patients': 3312, 'deser': 10560, 'traucē': 8633, 'of': 24, 'mašīnas': 386, 'cold': 511, 'ser': 1219, 'chop': 8168, 'baterijas': 9614, 'slan': 8214, 'pul': 3802, 'māti': 3924, 'gaiši': 6204, 'holy': 8231, 'chil': 7027, 'atstāju': 3647, 'itāliešiem': 3733, 'rate': 7407, 'hel': 5143, 'notec': 8669, 'labuma': 9343, 'soļo': 3237, 'ood': 9473, 'dārzi': 3665, 'neatbildēju': 9653, 'lēni': 1328, 'plaster': 8535, 'rocks': 10030, 'cerības': 4016, 'apstājos': 3716, 'aizsliet': 8563, 'noziedznieks': 6437, 'guļus': 8351, 'pallanza': 2071, 'noskūpstī': 9786, 'bīsta': 7603, 'iespaidīgi': 7879, 'brit': 10263, 'otā': 3596, 'gaismā': 1790, 'enti': 7646, 'uzgājām': 8034, 'nights': 1956, 'sack': 6077, 'pamanīju': 5599, 'straw': 6279, 'trust': 7766, 'valesc': 10601, 'balta': 9146, 'sarūgtināta': 8953, 'beidz': 6485, 'test': 6047, 'darbī': 9452, 'ound': 8477, 'šad': 3669, 'edly': 6247, 'pagājis': 6824, 'realized': 2896, 'karājās': 4425, 'nozīmes': 5093, 'stumbri': 4978, 'boo': 9099, 'aiznesa': 9236, 'dzīvē': 10085, 'turēsimies': 9193, 'zemnieku': 5098, 'read': 585, 'svešķermeni': 9641, 'krāsns': 5874, 'dabūsim': 2053, 'cerams': 2700, 'fever': 5090, 'austriešiem': 2833, 'caurumu': 8844, 'leg': 895, 'atslē': 8511, 'iznāk': 5976, 'showed': 2000, 'sās': 2881, 'izju': 5189, 'nelaiž': 8561, 'vērts': 5765, 'domājat': 919, 'bowl': 5326, 'gus': 3085, 'prieka': 6713, 'šķīsti': 7091, 'ase': 7121, 'mit': 5929, 'staigātu': 8400, 'clos': 8712, 'izdarīts': 9535, 'shaved': 9593, 'notašķī': 10463, 'evidently': 5925, 'stood': 432, 'acis': 1164, 'augsta': 3136, 'jode': 7840, 'vasar': 8445, 'tuvo': 5456, 'atgrūda': 5495, 'viņam': 204, 'liel': 10773, 'skaista': 704, 'angliski': 2766, 'navy': 5997, 'ned': 6012, 'pa': 48, 'visi': 224, 'ty': 2496, 'dziļāk': 4592, 'pidgin': 9398, 'angļus': 5232, 'mākoņi': 4735, 'samaksāju': 2242, 'ziemsvētkiem': 5426, 'aprunāties': 6511, 'miņu': 7605, 'peduzzi': 8789, 'mūs': 344, 'teikt': 1778, 'neciešat': 10034, 'turēšu': 10130, 'course': 689, 'noau': 10834, 'accident': 5014, 'trības': 8586, 'vilinā': 9771, 'ital': 10658, 'sight': 776, 'palūko': 5507, 'pamodos': 1600, 'vēlās': 5898, 'satiki': 7401, 'des': 1859, 'nolika': 1489, 'gulēju': 766, 'free': 9224, 'words': 4122, 'manā': 1542, 'plo': 3740, 'apso': 10972, 'ached': 9858, 'glory': 6779, 'atļauju': 9180, 'ns': 787, 'alla': 10655, 'paēdīsim': 3227, 'geidžu': 7883, 'wonderful': 1160, 'stu': 691, 'nesiet': 3977, 'apsē': 4471, 'apple': 6433, 'sēžot': 6873, 'kāpsim': 9671, 'mount': 10702, 'matter': 639, 'ievainos': 7390, 'bezgala': 2224, 'till': 3492, 'satvēru': 10453, 'zemiska': 8070, 'sēž': 5774, 'tur': 157, 'gaiss': 3721, 'upuri': 8069, 'remember': 1185, 'mīlēšu': 5201, 'paaugstinās': 8915, 'gorīcijā': 3781, 'pastaigā': 6675, 'rude': 3586, 'redzēt': 746, 'austrijai': 5588, 'krodz': 10083, 'ž': 956, 'vagona': 2655, 'pārestību': 10362, 'šanos': 2729, 'redzot': 2107, 'centre': 4408, 'dabūs': 7315, 'mūļu': 7607, 'pleta': 10824, 'rain': 207, 'mirkli': 4495, 'kuši': 1683, 'upu': 8294, 'peace': 9643, 'apgalvo': 10312, 'swear': 6731, 'paņemt': 3208, 'ask': 977, 'arms': 1915, 'ēts': 4627, 'an': 131, 'žot': 9270, 'ierēdnis': 1503, 'šos': 854, 'plā': 3683, 'rup': 3880, 'ded': 2121, 'jautrs': 4066, 'complicated': 7448, 'cova': 3847, 'kli': 1891, 'iespēja': 7686, 'angliet': 10259, 'māk': 5195, 'žurnālā': 9752, 'patī': 8626, 'rained': 2016, 'pronounce': 8759, 'pota': 10571, 'bearers': 2681, 'glā': 3243, 'teno': 7576, 'und': 8061, 'atsūtījis': 6939, 'js': 6159, 'kaujā': 8149, 'virsnieks': 1427, 'step': 2073, 'socialists': 3421, 'brauciens': 4155, 'pirmīt': 4166, 'aizstāvē': 7034, 'paies': 7205, 'velk': 4748, 'snīja': 7627, 'dabūšot': 8421, 'dream': 8637, 'nest': 7776, 'victories': 3008, 'customs': 8311, 'bare': 923, 'melna': 4307, 'dziet': 4838, 'bartolomeo': 1590, 'sūcas': 7454, 'knowledge': 9253, 'ignored': 9712, 'cigarettes': 9867, 'raudzījos': 10136, 'kāt': 3945, 'dienu': 1092, 'pusdien': 4682, 'atro': 4004, 'sināt': 6305, 'elpa': 8244, 'izau': 8707, 'sanitārajā': 2942, 'platākas': 8405, 'wished': 2270, 'zināja': 6699, 'ever': 448, 'augstu': 2259, 'possible': 3712, 'tīšām': 8937, 'pus': 1338, 'order': 2096, 'tīr': 4514, 'meni': 6236, 'ās': 754, 'vīzas': 7251, 'nejutos': 7506, 'punkts': 8050, 'guar': 10882, 'uzsniga': 9480, 'skalā': 10086, 'twice': 2764, 'caring': 9080, 'wash': 2363, 'milimetru': 8858, 'strūklaka': 7977, 'easily': 2484, 'jāgādā': 7583, 'ņema': 10986, 'vēlējos': 3702, 'smoke': 3061, 'tinu': 6385, 'ķerties': 6187, 'gušas': 6461, 'ēķ': 8762, 'pagrab': 10750, 'dzel': 4776, 'dūmu': 7566, 'swal': 9587, 'izspruksim': 8373, 'gos': 4319, 'dārzu': 9212, 'when': 95, 'jackets': 9279, 'norietēja': 8166, 'rise': 9457, 'neko': 348, 'šajam': 9864, 'pillow': 3324, 'skar': 8695, 'saulī': 8884, 'pilnā': 10394, 'gribējis': 3314, 'door': 279, 'lejup': 1025, 'ļaužu': 10519, 'nometīs': 10152, 'skaidrs': 2703, 'iedeva': 6109, 'mācās': 8547, 'ambulances': 2824, 'jū': 2312, 'angļu': 793, 'stations': 4215, 'ked': 1660, 're': 106, 'ormaņa': 4282, 'shoes': 4611, 'matronly': 6064, 'laid': 2519, 'aiziesim': 4192, 'nogāzi': 5374, 'zibam': 8386, 'apprecēt': 10126, 'ģip': 6487, 'zob': 6896, 'frontei': 6505, 'šaudī': 6533, 'gadi': 6099, 'rītausmas': 10291, 'boks': 5589, 'labam': 7048, 'vairāki': 3765, 'redzami': 9032, 'ka': 39, 'gusi': 10947, 'uztraukties': 8145, 'enough': 721, 'juši': 1448, 'staff': 3697, 'star': 1279, 'jāsaka': 7141, 'līni': 4296, 'glāb': 7704, 'makaroniem': 8733, 'stipras': 8908, 'fērgusone': 699, 'nopirku': 6690, 'braukšot': 9583, 'šķērsām': 4487, 'turu': 9070, 'jādežurē': 9723, 'zelta': 4406, 'divas': 465, 'griežas': 4596, 'returned': 3528, 'minūtes': 4984, 'atteicās': 6442, 'seeing': 1533, 'piave': 10408, 'tīkami': 7574, 'brag': 4654, 'lasīju': 2028, 'damn': 3426, 'misis': 6040, 'monsieur': 3160, 'charge': 6289, 'ienācis': 6522, 'ota': 2155, 'evakuēt': 8345, 'clicking': 6561, 'pasnie': 8812, 'vien': 233, 'protu': 4655, 'tinā': 5583, 'ekipāžas': 5544, 'bron': 5444, 'apkārtni': 5899, 'sir': 1205, 'grī': 6230, 'moskītu': 6479, 'pārjuma': 8290, 'shelled': 8974, 'trī': 8975, 'mined': 9808, 'forceps': 4562, 'apra': 7478, 'krēs': 9763, 'kļuva': 711, 'stabiem': 9994, 'j': 651, 'režģ': 10124, 'korķu': 10357, 'aukstums': 10524, 'atbrauksiet': 8419, 'igno': 10549, 'izcīnī': 5847, 'balstī': 9389, 'appreciate': 5193, 'you': 17, 'slo': 9176, 'sejas': 4532, 'turpu': 6982, 'hair': 696, 'atgūlos': 3589, 'pūtī': 7932, 'socialist': 8284, 'spro': 8892, 'jš': 8572, 'pārāk': 452, 'eri': 6333, 'deal': 2846, 'hospitāļiem': 4715, 'novilku': 3500, 'pārbi': 5792, 'kumi': 6552, 'noziedz': 8461, 'inādams': 10409, 'wood': 2794, 'cēt': 5251, 'ris': 4216, 'vārī': 5301, 'decl': 10743, 'smooth': 1370, 'soļojām': 4588, 'tēr': 8181, 'downstairs': 2522, 'acī': 10583, 'negribēsi': 5642, 'legitimate': 5025, 'manager': 3165, 'augšā': 462, 'dams': 770, 'sendvičus': 6220, 'dāja': 4078, 'gribēju': 1574, 'atie': 9001, 'ēdis': 7176, 'rif': 10674, 'alike': 3022, 'atvaļinājumā': 3892, 'al': 575, 'nedēļas': 4237, 'ambulance': 1045, 'few': 1161, 'ielīdu': 5989, 'anglieti': 3844, 'zīmī': 7090, 'sievieti': 2947, 'especially': 3815, 'window': 323, 'iespaidu': 9565, 'meži': 7513, 'office': 4351, 'pulled': 533, 'šveicars': 645, 'velna': 3032, 'dām': 3447, 'paskatīties': 5226, 'piederēja': 6412, 'ija': 8725, 'pusei': 8748, 'pasauli': 10171, 'neatlaidīgi': 5841, 'grappa': 2226, 'daži': 1180, 'skau': 6262, 'verona': 4101, 'iekais': 8167, 'pierunā': 9500, 'gran': 1643, 'nobody': 1678, 'gray': 1007, 'minnesota': 7351, 'dz': 1504, 'sānu': 6834, 'high': 663, 'ni': 333, 'turin': 4988, 'brauktu': 6566, '.': 6, 'anglijas': 7116, 'uzsau': 7415, 'īja': 8125, 'ēdien': 6011, 'juta': 8483, 'apreibis': 8924, 'trap': 9034, 'floated': 10247, 'babies': 3012, 'stiepjamies': 8270, 'mēm': 6025, 'iem': 529, 'wars': 5466, 'bailes': 8443, 'lietu': 2420, 'meiča': 8591, 'drēg': 9453, 'kareivim': 10198, '-': 513, 'sameklēju': 8782, 'track': 1606, 'lēnām': 3409, 'pity': 8825, 'uzsauca': 4247, 'varēsiet': 4018, 'fall': 901, 'buy': 1909, 'sanitārais': 6619, 'klē': 7063, 'viņi': 216, 'vil': 1739, 'drop': 2481, 'iness': 5043, 'nestu': 7366, 'elderly': 8873, 'sūtīt': 5779, 'citiem': 1923, 'fe': 1579, 'āk': 4851, 'hay': 1155, 'aizmidzis': 9485, 'izstāstī': 6777, 'and': 12, 'operēju': 8074, 'stūres': 3151, 'ticat': 10379, 'visai': 2563, 'ness': 2595, 'ata': 9072, 'vague': 9315, 'apart': 4381, 'nejēdzība': 4184, 'šņā': 5177, 'līgu': 9744, 'ties': 437, 'retreat': 748, 'atvērtajām': 4445, 'mēnešus': 3004, 'seems': 8990, 'patronām': 5129, 'jumam': 10458, 'lielās': 3000, 'sāku': 1308, 'act': 3457, 'dienestā': 8466, 'pārmeta': 8435, 'cilvēci': 8648, 'raķetes': 9400, 'meda': 10867, 'klusēja': 5344, 'apstājās': 1455, 'paliku': 2161, 'aizveda': 2075, 'bat': 3668, 'šodien': 2814, 'apmācību': 8118, 'miņa': 8941, 'kalnus': 2105, 'pienāks': 4565, 'bonds': 3578, 'debes': 9363, 'apskatīju': 9998, 'izlasīt': 10096, 'atdeva': 4321, 'iebildu': 9288, 'patri': 7276, 'uzsita': 3118, 'klam': 10615, 'istabas': 1656, 'techn': 10561, 'sanitāri': 1725, 'izrau': 5641, 'noņēma': 5059, 'tuviniekiem': 6363, 'jauns': 4599, 'q': 10891, 'ieniem': 4429, 'attack': 578, 'reception': 9655, 'nese': 7769, 'šajā': 998, 'papurināja': 1812, 'āmies': 6425, 'ājās': 10974, 'paid': 1648, 'maz': 900, 'ieroču': 2534, 'ducis': 8263, 'embarrassedly': 9394, 'dārga': 8793, 'ievainojumi': 3817, 'villu': 4722, 'paskatī': 7997, 'biting': 7238, 'pocket': 1379, 'clas': 6211, 'rid': 4818, 'aizbrauca': 2212, 'oper': 2100, 'ut': 3021, 'comfortable': 2517, 'hillside': 6556, 'atkarībā': 4459, 'ierauga': 7024, 'gribējāt': 9451, 'sālītas': 7129, 'turējās': 3521, 'izvilku': 4938, 'braukšana': 5739, 'redzams': 2191, 'sasodīts': 9332, 'drawn': 3767, 'candle': 5250, 'save': 6022, 'puši': 7941, 'wn': 6255, 'citu': 681, 'rising': 3248, 'zvejnieku': 4675, 'slēpās': 5933, 'karu': 942, 'iesit': 6036, 'udinei': 3690, 'iron': 1979, 'vasarnīcas': 6085, 'šķērsoju': 7000, 'piedzirdīju': 7240, 'zemnīca': 7263, 'visit': 7158, 'handicap': 5001, 'ruts': 4414, 'šurp': 716, 'bet': 67, 'lai': 98, 'ņ': 1286, 'ēdams': 4410, 'skas': 4404, 'diena': 1193, 'pulkvedi': 4972, 'gt': 4035, 'pilieni': 4841, 'apsar': 7682, 'shot': 738, 'teica': 115, 'goddess': 10419, 'kopā': 329, 'neraizējieties': 7226, 'weather': 3814, 'poured': 1332, 'kastaņu': 3925, 'ļaunums': 8785, 'mūļi': 10237, 'skatos': 8951, 'mazus': 10322, 'anu': 10910, 'crazy': 795, 'speciā': 9633, 'ģērb': 8715, 'iegremdēju': 9649, 'br': 1607, 'kai': 1908, 'tū': 4014, 'dīsimies': 6607, 'izņēma': 1872, 'ātr': 4036, 'kill': 2755, 'laukumā': 7737, 'pēdā': 4502, 'comes': 1215, 'patiks': 2933, 'kafejnīcas': 6383, 'minds': 8356, 'šņa': 8798, 'būšot': 2260, 'inie': 6471, 'pamanī': 9387, 'posed': 9694, 'paslē': 6736, 'ensive': 10810, 'sty': 10998, 'asi': 2696, 'quarter': 3394, 'mugursoma': 5342, 'karabinie': 6453, 'gribējās': 1877, 'aizējies': 10992, 'breeches': 6043, 'pārtiku': 6948, 'izņēmu': 2672, 'viņas': 300, 'normāla': 7832, 'board': 2384, 'iee': 9803, 'ts': 290, 'apkal': 9529, 'pajuksim': 7223, 'noslaucīja': 3813, 'nolādē': 7156, 'guns': 725, 'st': 340, 'lapas': 2151, 'dent': 3025, 'tual': 9603, 'hospitāļus': 9832, 'putekļi': 2550, 'namā': 10704, 'tumu': 5070, 'rinse': 9109, 'nor': 2762, 'dubļus': 6745, 'doesn': 1008, 'pateica': 1771, 'patiktu': 4277, 'lim': 4658, 'augstienes': 6427, 'living': 6950, 'apvār': 6945, 'fērgusoni': 3223, 'rough': 2456, 'patikšanu': 9408, 'regularly': 5677, 'gondo': 7837, 'noņēmis': 7232, 'ways': 9939, 'uzbrukums': 1619, 'before': 275, 'netīr': 4158, 'iņā': 10732, 'anyway': 910, 'mežu': 5111, 'laimīgu': 5907, 'siltu': 6504, 'encyst': 6857, 'nogriezties': 5664, 'saknieb': 8156, 'ķi': 2958, 'dy': 3848, 'satisfactory': 10138, 'satum': 5475, 'boats': 6002, 'svil': 8124, 'lifts': 4612, 'many': 247, 'gunner': 4680, 'mājiņu': 9403, 'kait': 6483, 'ezera': 1241, 'sy': 10610, 'atnākt': 6098, 'līdze': 3325, 'virsnie': 10920, 'zūd': 6343, 'lēm': 2274, 'flowed': 9424, 'pudelīti': 10526, 'bries': 8708, 'plaši': 9303, 'izprot': 8777, 'pretī': 1028, 'vienīgais': 3175, 'shop': 1452, 'apmācās': 5348, 'izs': 6260, 'teces': 7516, 'pilsētai': 6097, 'asiņu': 8521, 'platform': 8773, 'virzī': 6000, 'gaismu': 1642, 'qui': 10819, 'viesnīcu': 1383, 'mīļ': 4315, 'biez': 2289, 'logā': 5140, 'nemanīju': 4290, 'stūrī': 3086, 'elpo': 4294, 'tikuši': 2887, 'foreles': 4329, 'jus': 10134, 'dessert': 8724, 'centās': 9872, 'warmed': 5076, 'ter': 1345, 'swi': 9150, 'iekārto': 6467, 'visus': 1245, 'gaidījām': 3799, 'savai': 8688, 'valoda': 8923, 'ēdamistabā': 3199, 'fin': 6345, 'nomet': 9420, 'infield': 8271, 'ieprasījās': 2910, 'puses': 1873, 'neuztrauc': 5064, 'long': 186, 'vajadzēs': 922, 'sēdējis': 6589, 'slepeni': 10313, 'tīkams': 10425, 'māsai': 4932, 'vičencas': 10248, 'town': 337, 'stūra': 2931, 'dakstiņu': 7906, 'except': 849, 'tractors': 6361, 'inventāru': 7360, 'migām': 8942, 'swim': 7793, 'die': 1990, 'kļuvu': 9310, 'player': 7771, 'gāk': 2617, 'visgarām': 4728, 'meičas': 1863, 'nolikt': 6063, 'atbrauciet': 9578, 'pakaļējā': 9077, 'spaghetti': 2529, 'iekšpuses': 9340, 'kādus': 3725, 'gro': 3094, 'lās': 6491, 'atņemsim': 8017, 'kloster': 8372, 'marmora': 4341, 'shut': 1072, 'gaidīja': 2760, 'slackers': 8377, 'uzlicis': 4169, 'faces': 5608, 'platām': 8608, 'carso': 2826, 'upi': 1628, 'piebrie': 9006, 'mīklai': 9179, 'vēra': 10633, 'dodas': 8006, 'toothbrush': 8194, 'slēģus': 8745, 'iele': 8453, 'laip': 8623, 'vicekonsu': 10688, 'lap': 3263, 'paliksim': 4455, 'dzīvo': 1749, 'iesākt': 4058, 'klusēju': 4883, 'ziet': 7043, 'laivas': 1626, 'atturī': 9132, 'fully': 4310, 'airlends': 6310, 'biedr': 8556, 'braukāju': 8516, 'tto': 10543, 'confusing': 6410, 'nākt': 3077, 'grab': 4687, 'cho': 4752, 'ashore': 10137, 'jieties': 6190, 'pamodāmies': 9835, 'handle': 3873, 'kalsnējs': 4423, 'vaiga': 5784, 'udinē': 3657, 'sānis': 2427, 'francisco': 4707, 'bagā': 6415, 'noskūpstīju': 2439, 'koman': 4337, 'ziju': 7720, 'liec': 10930, 'uztraucies': 9104, 'comm': 5438, 'bicycles': 5225, 'jāuz': 10641, 'ireland': 4501, 'shame': 6274, 'magazines': 7526, 'teātr': 9762, 'visam': 9986, 'bronzas': 9654, 'satraukums': 7996, 'ja': 82, 'cel': 1466, 'dība': 10441, 'kristie': 4876, 'always': 278, 'savā': 989, 'mestr': 10574, 'otiem': 6042, 'ēda': 2004, 'ino': 3871, 'apēdu': 6217, 'pieskārās': 4304, 'manai': 10007, 'sli': 1783, 'bārdas': 4010, 'gaba': 10292, 'coura': 10673, 'backing': 10404, 'austrieši': 694, 'dažas': 967, 'maita': 8202, 'izsalcis': 4323, 'zēnam': 7208, 'iero': 7701, 'mess': 943, 'protected': 4178, 'apģērb': 5893, 'nebija': 234, 'gurniem': 9131, 'fal': 6171, 'nešauj': 7619, 'cha': 4667, 'valley': 1484, 'certain': 3202, 'garlai': 10841, 'served': 8346, 'aviators': 7924, 'vēlaties': 2452, 'piespieda': 5957, 'gāzma': 9242, 'month': 10014, 'ināt': 2178, 'ray': 4053, 'pan': 3573, 'piekļāvu': 6621, 'abandoned': 3904, 'paspiedām': 8286, 'nopir': 3563, 'novērsās': 8826, 'precējušies': 4017, 'salikti': 8970, 'opposite': 1841, 'pazīstamus': 7705, 'paspēlēja': 9907, 'bed': 179, 'cheer': 3832, 'mestres': 5578, 'māt': 10589, 'dievie': 10874, 'mazo': 2300, 'kailo': 8264, 'anthony': 2889, 'vienam': 2156, 'sties': 1762, 'aizdo': 4578, 'jību': 6536, 'atstāja': 4472, 'nepie': 1344, 'zils': 6715, 'cilvēku': 3680, 'kafija': 6723, 'lat': 4302, 'rītu': 5825, 'woman': 771, 'papīriem': 7026, 'nogāzēs': 7553, 'tra': 1171, 'dās': 1199, 'swollen': 8989, 'tiek': 3804, 'eas': 10649, 'palocī': 10860, '@-@': 63, 'nīcās': 9705, 'sald': 3991, 'young': 991, 'uznāca': 3104, 'iekārt': 7379, 'adr': 10728, 'vietām': 3894, 'wounds': 1998, 'netālu': 1801, 'skatījāmies': 2185, 'vajā': 5860, 'ardievas': 6792, 'cap': 838, 'rasa': 9479, 'vienas': 6353, 'vin': 5537, 'carabinieri': 1397, 'gue': 10814, 'sienu': 2702, 'gākos': 9701, 'italian': 378, 'bucket': 4966, 'rakstīšu': 3384, 'man': 41, 'dū': 2542, 'abus': 4453, 'kalibra': 4571, 'mēģinājis': 5121, 'ievainotie': 5713, 'patīkami': 1746, 'platformas': 6718, 'thermometer': 5617, 'turi': 6066, 'mīnmetējs': 6729, 'beisbolists': 7258, 'bar': 580, 'paddock': 5217, 'ievārī': 8726, 'karstumā': 9130, 'puisi': 10066, 'engine': 1924, 'kabatā': 3313, 'trav': 8532, 'baļķa': 10117, 'kustēt': 6774, 'nekustēja': 10122, 'kon': 2046, 'hipodro': 8232, 'ciemo': 10173, 'lieutenant': 887, 'beig': 5056, 'lokomotīve': 3810, 'decorations': 5011, 'rakstīts': 5639, 'logus': 7878, 'lieti': 3512, 'brāļamei': 8058, 'chew': 10383, 'kdama': 10536, 'bordo': 7617, 'pārliecināti': 7265, 'rious': 10684, 'pagalmā': 2848, 'gaidīs': 7749, 'mēte': 8023, 'galvenā': 2911, 'tīm': 7291, 'četras': 3201, 'pagaidīju': 7165, 'forehead': 2797, 'izturējies': 7206, 'nēsā': 4638, 'veikalu': 6906, 'gribēsiet': 8283, 'ik': 3247, 'breaks': 6562, 'virpuļoja': 10012, 'kļūsiet': 9062, 'atspiedos': 10204, 'šķīv': 10700, 'piecēlos': 1881, 'operated': 3337, 'cēlās': 2939, 'lauza': 9067, 'galds': 6816, 'fur': 5793, 'apsēdāmies': 2060, 'izvan': 7894, 'veikali': 5065, 'policijā': 9806, 'valorous': 9748, 'freskas': 10223, 'saprot': 10941, 'smil': 10917, 'ziņ': 5278, 'spoguļiem': 8021, 'era': 10707, 'vēders': 7669, 'lūkojos': 4858, 'laivā': 2137, 'taisni': 1838, 'vajag': 2513, 'virsot': 9397, 'zīd': 10265, 'mīļā': 1547, 'stari': 6325, 'thee': 9094, 'vidukli': 9413, 'strauji': 5258, 'somebody': 1968, 'uzkāpām': 6571, 'smu': 8954, 'varo': 4710, 'dziļā': 6178, 'jautrāks': 7352, 'quot': 7, 'jauki': 788, 'krēslā': 3459, 'stigai': 10009, 'atnā': 2941, 'barber': 2680, 'redzējām': 2080, 'jautājumu': 9976, 'pirksti': 7714, 'red': 752, 'sēde': 10714, 'dzirdēju': 1076, 'antitetanusu': 9214, 'neatstā': 5392, 'nurses': 1302, 'nokārtošu': 7919, 'tādus': 6655, 'evaku': 8618, 'dīgi': 9598, 'package': 2583, 'tikt': 971, 'šovakar': 1978, 'capsule': 5215, 'klus': 2749, 'advance': 4354, 'paš': 5609, 'mierināja': 7762, 'steer': 7994, 'nestāstiet': 8026, 'fisherman': 8874, 'misti': 9437, 'pierimis': 9989, 'suff': 10675, 'tie': 209, 'dire': 8605, 'mīlēsiet': 9371, 'reizes': 1949, 'lielu': 1558, 'clothes': 1128, 'varēšu': 3135, 'šs': 4549, 'gudrī': 7580, 'kavē': 7168, 'commenced': 2358, 'lūku': 5163, 'bļo': 10772, 'blank': 7825, 'stiga': 8280, 'even': 507, 'muti': 3327, 'miesas': 8619, 'diez': 803, 'kartupeļus': 8980, 'vietas': 1031, 'look': 397, 'sweet': 827, 'varot': 4533, 'grūda': 10741, 'jaundice': 1498, 'nesapratīs': 10026, 'guard': 1972, 'bērni': 4809, 'zvanījām': 8104, 'ējāmies': 2545, 'nomo': 10555, 'nekādā': 6294, 'debesis': 3038, 'suppose': 1015, 'held': 366, 'izkravā': 5523, 'b': 260, 'savējo': 6269, 'liku': 3266, 'piemir': 7089, 'salau': 6018, 'saliktas': 8738, 'za': 1258, 'miera': 9997, 'ēr': 1593, 'mam': 3430, 'athe': 10213, 'balls': 7481, 'iesprau': 9888, 'nikns': 10243, 'rādījās': 10638, 'uzsā': 8312, 'šauro': 2761, 'italians': 734, 'kaulos': 5387, 'izgrieza': 5769, 'like': 121, 'hurry': 2304, 'saprotat': 3289, 'virsniekus': 6137, 'baidī': 6631, 'cause': 9942, 'nolēmis': 6486, 'inging': 8413, 'pordenonē': 8674, 'formas': 5082, 'da': 772, 'kness': 6525, 'aizstiepās': 5870, 'seemed': 596, 'nevienas': 7457, 'vectēva': 7557, 'tough': 7811, 'agreed': 7966, 'mainījuši': 9105, 'gribētu': 2443, 'camions': 6587, 'forbidden': 7025, 'sapratām': 8079, 'cano': 10686, 'itin': 1545, 'rūts': 10407, 'nesu': 3168, 'sāpes': 2219, 'diņu': 6164, 'ievēro': 3687, 'nošķinda': 6911, 'vadī': 9626, 'respe': 10985, 'peri': 10886, 'nebēdājiet': 6463, 'vajadzīgs': 1987, 'stretches': 10486, 'uzrakst': 7428, 'atvaļinājumu': 3166, 'sacīkst': 10709, 'itālijā': 2252, 'nesaprotu': 3389, 'noteikti': 1197, 'spr': 4636, 'miss': 270, 'hospitals': 1870, 'comp': 2717, 'gear': 6679, 'jār': 6846, 'sāc': 7339, 'šās': 6015, 'franci': 10826, 'dear': 1299, 'plato': 2695, 'mani': 114, 'uzņemšu': 9265, 'laikā': 1522, 'support': 9894, 'spoguļos': 7907, 'henry': 2538, 'paskatīsimies': 5696, 'či': 6254, 'bandāžu': 5505, 'comforted': 7629, 'zemē': 1614, 'tādā': 3842, 'redziet': 2509, 'klusa': 6999, 'galvenais': 4538, 'nerādījās': 7502, 'vaļā': 674, 'piepūles': 9110, 'cirt': 10330, 'jum': 8977, 'fell': 2170, 'salaulāsimies': 4569, 'drīz': 444, 'nervoz': 7440, '<eos>': 2, 'sievietes': 4665, 'ņemta': 8366, 'expecting': 9512, 'padarīt': 7698, 'officer': 897, 'kādas': 947, 'goods': 9439, 'our': 280, 'dieni': 9061, 'sky': 1858, 'bis': 3526, 'between': 556, 'brīnišķīgi': 861, 'gavuzzi': 2728, 'delicately': 8682, 'mēteli': 9366, 'wo': 10789, 'nai': 2748, 'katrā': 1835, 'villas': 1610, 'caur': 1157, 'dzert': 1975, 'driveway': 3117, 'zaudējusi': 10337, 'nti': 7836, 'cafes': 9642, 'ksto': 10892, 'skrie': 6500, 'macaroni': 4503, 'austriešu': 1091, 'vent': 8734, 'vidū': 2430, 'braucāt': 10333, 'strange': 1634, 'tem': 8077, '@@': 8, 'ēdamu': 8396, 'whipped': 4252, 'granā': 10533, 'tran': 5309, 'nonāvē': 9586, 'points': 3653, 'nebaidī': 5068, 'labāku': 8334, 'ieietu': 10123, 'strūkla': 10887, 'mazajā': 6160, 'du': 466, 'ēdot': 7635, 'understand': 1078, 'teris': 3646, 'sēžas': 4601, 'dan': 9075, 'tājiem': 3898, 'bs': 2616, 'jāat': 4915, 'nurse': 1026, 'kstēja': 4199, 'dubļaina': 4422, 'garīdz': 9015, 'sāpīgi': 5404, 'redzēsim': 5752, 'parūpēšos': 6540, 'heal': 10609, 'pār': 202, 'apaļ': 8579, 'weeks': 2685, 'plū': 10112, 'ical': 2852, 'nedrīkstu': 9885, 'spilvena': 8411, 'mark': 7371, 'izturējās': 4126, 'drew': 4439, 'piesardzīgiem': 7874, 'heat': 6685, 'ceļmalā': 8843, 'veda': 809, 'girl': 341, 'brītiņa': 4327, 'racks': 7427, 'ieties': 4945, 'negājāt': 8764, 'aizkavē': 9443, 'them': 87, 'kāj': 8408, 'waving': 8891, 'woke': 1021, 'atkāpjamies': 8053, 'nezina': 4593, 'apped': 10654, 'true': 1699, 'medaļām': 6992, 't': 27, 'atvēr': 3158, 'katra': 3659, 'atvērt': 9133, 'šoferis': 3970, 'cal': 5533, 'nokār': 5546, 've': 192, 'brīdis': 6937, 'sali': 9931, 'pavasarī': 4510, 'screa': 10798, 'purpose': 4289, 'pen': 9157, 'six': 1415, 'skatās': 5674, 'races': 3557, 'nekā': 310, 'place': 297, 'cinzano': 6007, 'aizmigšu': 10084, 'neapprec': 9174, 'lies': 5950, 'some': 143, 'gādā': 5363, 'scared': 3069, 'kļūtu': 5600, 'lamp': 9068, 'uzskrullētām': 9600, 'veikalā': 9175, 'kie': 9596, 'ble': 5333, 'ienaidnieka': 8162, 'di': 421, 'atļau': 4034, 'greiz': 10468, 'art': 3604, 'tēvu': 6772, 'pavado': 10128, 'nodded': 2282, 'samaksāšu': 5050, 'jumta': 4962, 'klusums': 6218, 'pakāp': 7243, 'pakal': 4061, 'rags': 10194, 'pusēs': 3565, 'nenotika': 6676, 'grū': 3185, 'dzīvi': 8790, 'gabriele': 1904, 'diviem': 2257, 'heavily': 3006, 'stingr': 6374, 'sarka': 1618, 'nepaju': 7112, 'suflē': 10016, 'piedā': 10611, 'et': 1751, 'vācie': 5560, 'im': 6584, 'velosipē': 10975, 'nenāk': 8368, 'cry': 3868, 'vermouth': 1295, 'darījāt': 7770, 'jusies': 2955, 'lik': 1633, 'orma': 10624, 'ov': 10756, 'dāva': 10775, 'ared': 9863, 'killed': 844, 'ot': 542, 'tāji': 4415, 'duļķai': 6752, 'oom': 6972, 'palasīt': 10396, 'hanging': 10474, 'trokš': 6914, 'nolēmu': 6078, 'rakstus': 8574, 'smagi': 1926, 'uzvaras': 2605, 'grew': 4288, 'pavē': 5203, 'netei': 6733, 'strezā': 6138, 'bul': 6494, 'kampena': 1224, 'cad': 8215, 'sēdāmies': 4407, 'zobus': 9820, 'ul': 1201, 'amerikāņi': 8367, 'darīs': 5803, 'shook': 626, 'nuisance': 8037, 'umu': 1416, 'ds': 1426, 'septītajā': 6910, 'dārgais': 2573, 'uni': 10931, 'rods': 6451, 'names': 3280, 'noisy': 8834, 'jaunumu': 8872, 'sveces': 9946, 'nost': 1127, 'meal': 2786, 'mīlestības': 8691, 'jos': 669, 'visa': 1312, 'della': 9685, 'biedrs': 6162, 'dies': 3129, 'hos': 9670, 'steidzās': 4832, 'cleopatra': 9145, 'džapalaks': 7752, 'piektais': 8258, 'glabāju': 7340, 'drusku': 1361, 'lūkoju': 10163, 'glai': 10406, 'atšķirība': 6517, 'stāv': 2110, 'meklēt': 6581, 'cienu': 10421, 'kamaniņas': 5748, 'py': 10793, 'turp': 3470, 'staigāt': 2419, 'kampe': 7395, 'elevator': 1275, 'cilvēkiem': 3196, 'apšaudīt': 9101, 'farms': 9532, 'cīnījos': 9621, 'apmetnis': 5646, 'vību': 7419, 'nepavisam': 4798, 'knee': 718, 'mest': 4231, 'gribēja': 6119, 'thers': 5672, 'pļāpāju': 9810, 'nošauj': 10170, 'heard': 353, 'ft': 5694, 'nome': 6677, 'satumsis': 6285, 'kājgal': 10542, 'spraucās': 7624, 'bāla': 7131, 'cepures': 1775, 'face': 422, 'vienīgā': 8543, 'iv': 2163, 'noska': 4957, 'liecās': 10342, 'zvaigz': 10494, 'krūku': 5977, 'sita': 9756, 'kļūt': 2593, 'told': 572, 'miru': 6044, 'cerēt': 10249, 'iešņukstējās': 10334, 'lots': 3691, 'vārdā': 5828, 'trying': 2153, 'veco': 1843, 'sūtīs': 4224, 'dressings': 3479, 'norau': 5525, 'mākslu': 9862, 'gadu': 10020, 'viļņojās': 8545, 'spē': 1280, 'zēn': 5854, 'houses': 1083, 'gger': 7708, 'apiece': 3483, 'blue': 3138, 'zvans': 7484, 'ejot': 2044, 'nasty': 9392, 'parātu': 9789, 'cas': 4657, 'swung': 3776, 'however': 5829, 'bērna': 7449, 'jādomā': 10324, 'tch': 10903, 'krouvels': 2256, 'ee': 3834, 'māsu': 1837, 'stīvs': 4540, 'impossible': 2682, 'nerunājiet': 9722, 'clean': 832, 'sen': 1138, 'amerikānis': 2203, 'brūci': 8672, 'seven': 3635, 'iegriezās': 5022, 'elder': 9624, 'picked': 1430, 'brigata': 6966, 'gaidījusi': 9967, 'sms': 7248, 'atmo': 6134, 'aizvaino': 7866, 'noskal': 8014, 'ci': 594, 'mū': 3007, 'zini': 4706, 'ņē': 8663, 'given': 3511, 'duty': 1461, 'atelpas': 9405, 'zei': 10964, 'bastards': 8705, 'kurām': 3826, 'madžore': 8881, 'atskrū': 10254, 'ceptus': 10435, 'stāva': 4816, 'pūlējies': 10852, 'nākšu': 2938, 'nelielu': 3843, 'tveic': 9933, 'busy': 2768, 'pagrieziena': 10436, 'vakars': 4295, 'apples': 8318, 'maizes': 4274, 'dīto': 8508, 'his': 93, 'drink': 252, 'pierim': 7637, 'laidelējas': 6795, 'riots': 7838, 'pasniedz': 6681, 'jail': 4579, 'miglu': 9696, 'tieši': 924, 'normal': 6717, 'ceļa': 315, 'bārddzini': 5033, 'iesnaudos': 8163, 'rokturiem': 8045, 'for': 66, 'cup': 2921, 'nereā': 8636, 'left': 374, 'ziņas': 2810, 'palīdzi': 9234, 'nekaitēs': 6136, 'saus': 9003, 'hell': 983, 'pastāstīja': 6314, 'lietutiņš': 3656, 'bezjēdzī': 5755, 'šķīvi': 5760, 'jās': 467, 'thought': 274, 'ļ': 1555, 'jāt': 1834, 'pareizi': 3507, 'samir': 7135, 'lus': 7403, 'jami': 9185, 'viena': 765, 'syphilis': 4264, 'out': 61, 'cen': 4751, 'diem': 6240, 'nelik': 9585, 'aprūpējusi': 9684, 'niecības': 9857, 'lā': 1082, 'kāpēc': 339, 'ads': 10667, 'cits': 1568, 'atbraukuši': 6105, 'iekū': 7076, 'shining': 4585, 'turēties': 5084, 'vju': 8581, 'love': 296, 'maybe': 433, 'me': 42, 'slapped': 3221, 'tnē': 6180, 'katram': 2581, 'vermutu': 2699, 'dabūsi': 6150, 'vēstuli': 8756, 'diens': 9043, 'starta': 7327, 'kamaniņām': 2961, 'nogriezās': 2313, 'nozuda': 6559, 'tgadu': 9159, 'ziemeļu': 10267, 'piecas': 3099, 'trūkst': 5666, 'roman': 9056, 'police': 2091, 'vēsas': 5676, 'nopratinā': 4397, 'goat': 5162, 'groggy': 5844, 'tieksmes': 7784, 'artilērijas': 3333, 'dziedāt': 2118, 'trīssimt': 5710, 'traffic': 2969, 'noskr': 8859, 'pasūtījām': 10489, 'izlauzušies': 5103, 'vilso': 7081, 'ktu': 2770, 'itālie': 8502, 'march': 8992, 'pateic': 9721, 'apmetnī': 7707, 'musettes': 4577, 'tumsa': 2066, 'neredz': 8772, 'experi': 5441, 'breathed': 7974, 'rico': 10925, 'malas': 2787, 'muddy': 1669, 'itālija': 6423, 'ējies': 4213, 'sage': 10823, 'pietiek': 2663, 'stos': 5920, 'korķi': 3980, 'jel': 6266, 'farther': 7099, 'aizmirst': 4652, 'dēlu': 10114, 'galdā': 8537, 'pāriet': 3143, 'bellows': 5782, 'pateikšu': 6122, 'pitcher': 7649, 'af': 5176, 'death': 3685, 'purp': 10895, 'pali': 4822, 'xx': 963, 'sievas': 6071, 'along': 200, 'laimīgām': 7122, 'stepped': 2021, 'ots': 1630, 'nokrist': 9385, 'virsnieku': 1405, 'pastaigāties': 3675, 'vīram': 7468, 'cri': 9903, 'darb': 4039, 'gūstam': 7969, 'mazās': 8788, 'milan': 697, 'ejam': 3356, 'baby': 407, 'glu': 9674, 'šaura': 2459, 'americans': 4348, 'strīdi': 8397, 'mīlas': 5941, 'reize': 8391, 'bloody': 2736, 'gabalu': 1671, 'pulkstenis': 2584, 'izsi': 9186, 'skatī': 3381, 'panie': 10742, 'cīnī': 10215, 'sanitārā': 2402, 'rindu': 5470, 'mazi': 6586, 'gāzās': 10280, 'by': 148, 'sīka': 7846, 'draņķ': 8276, 'stinks': 8932, 'iemigu': 2323, 'saklau': 9458, 'smaržo': 7144, 'atsevišķi': 9661, 'enc': 5689, 'ku': 628, 'neņēma': 7538, 'vilkās': 2097, 'laimīgi': 1666, 'paša': 2467, 'where': 133, 'šādā': 5420, 'fairly': 7487, 'pacēlis': 8172, 'ken': 10771, 'saku': 1788, 'liņus': 7857, 'sensa': 10676, 'sacīju': 187, 'ant': 1703, 'peasants': 2340, 'klau': 5513, 'ils': 6232, 'gribat': 999, 'mad': 6639, 'katr': 9411, 'spieda': 9880, 'maksā': 2405, 'manīju': 7040, 'iedob': 7756, 'atau': 5852, 'dara': 2596, 'tter': 6272, 'vakaram': 5127, 'move': 1085, 'galvenajam': 8046, 'abas': 741, '3': 2043, 'krodziņā': 8957, 'cleared': 10262, 'sliem': 7139, 'ving': 3101, 'nelīst': 8822, 'protams': 733, 'boat': 515, 'tal': 2331, 'ņai': 5366, 'lied': 3959, 'tilts': 1324, 'bring': 532, 'jumiem': 3564, 'concierge': 5562, 'feelings': 7402, 'šot': 2258, 'ation': 1270, 'šķīdo': 6938, 'tumbler': 6897, 'ētas': 6947, 'palie': 6214, 'atnesa': 1348, 'ore': 2820, 'pieīros': 7119, 'aizbraucis': 4830, 'edgar': 8216, 'saārdīta': 7520, 'tālumā': 3561, 'negrib': 3877, 'iesti': 7174, 'nezināju': 1689, 'nēm': 3475, 'rested': 3879, 'seem': 3978, 'iespējami': 6460, 'nel': 4773, 'rains': 6229, 'aizsedza': 8327, 'celiņa': 8930, 'pāre': 10701, 'int': 7017, 'tovakar': 7456, 'kravā': 9646, 'pieskāriens': 10317, 'šveicar': 10651, 'cent': 4089, 'ināšanās': 4925, 'pagai': 6452, 'gravel': 4446, 'stiet': 10967, 'tavs': 5810, 'serious': 2778, 'sniegā': 7358, 'los': 10699, 'kantor': 4817, 'nezināt': 2669, 'turēdams': 7133, 'precēties': 7286, 'afternoon': 937, 'gtas': 9851, 'dini': 10719, 'sienas': 1435, 'sanāks': 10492, 'pools': 8869, 'troks': 6174, 'inoša': 9551, 'pame': 2210, 'flasks': 7465, 'šus': 3632, 'puikas': 7584, 'karsta': 2904, 'tiltam': 3039, 'francūzis': 5913, 'aero': 7618, 'circles': 8514, 'sung': 9690, 'paraustīja': 7735, 'noskaņoja': 9700, 'mēbe': 9792, 'bir': 3719, 'wine': 342, 'mēness': 2109, 'ay': 3087, 'stock': 6672, 'atz': 4253, 'velosipēdistu': 7313, 'paņem': 9102, 'bārdu': 2273, 'vicenza': 10013, 'argued': 7104, 'followed': 1868, 'beards': 6797, 'pamēģināt': 4280, 'condu': 6863, 'pārmest': 8766, 'not': 37, 'ratā': 4335, 'commen': 8185, 'leather': 1754, 'liņa': 7332, 'slīdēja': 1916, 'lic': 6946, 'hit': 1557, 'telephoned': 9609, 'fērdži': 1406, 'sprādziens': 4267, 'pret': 282, 'ths': 3794, 'zinu': 409, 'sion': 5077, 'simonss': 2160, 'kuma': 4604, 'uma': 2320, 'frenchman': 9892, 'fru': 7652, 'ļu': 1977, 'against': 490, 'arestēs': 3451, 'domin': 8084, 'vi': 494, 'svarīgi': 3701, 'mandeles': 5032, 'several': 1351, 'dreadful': 3075, 'krustu': 7051, 'ievainojums': 10256, 'aizbraukt': 1793, 'ieraudzīt': 5735, 'sidewalk': 6161, 'zinā': 2861, 'chugging': 7596, 'tēlojos': 7961, 'nut': 9064, 'brezenta': 2082, 'laiks': 1247, 'blašķes': 4568, 'dialect': 4651, 'mud': 1910, 'powder': 8732, 'fitted': 7336, 'noguris': 775, 'tab': 10000, 'godam': 8771, 'domāja': 3188, 'ib': 7137, 'riskēt': 4974, 'piec': 4242, 'vīnus': 5157, 'nosēdos': 5861, 'visām': 3116, 'apnicis': 4047, 'eating': 1664, 'miņas': 9544, 'dzē': 2599, 'negaidījām': 9855, 'dzī': 1898, 'knife': 4594, 'noskūpstītu': 10093, 'watch': 951, 'ledu': 2316, 'sev': 757, 'happening': 4069, 'pagaida': 10177, 'tukša': 2214, 'palan': 5118, 'kurš': 700, 'divi': 614, 'ņēmāt': 10863, 'plat': 4090, 'cām': 3282, 'ese': 7872, 'kalna': 1391, 'nozīmēja': 5697, 'jānogriežas': 9373, 'lāgiem': 10028, 'ppy': 6557, 'dzirdētu': 9963, 'acy': 7272, 'uznest': 7824, 'kareivi': 6264, 'mīlestību': 8649, 'may': 1346, 'doors': 2112, 'cie': 1110, 'lūdza': 5580, 'skatījās': 836, 'kaktā': 5630, 'nocietinā': 9036, 'rakstī': 10119, 'nolaidens': 9881, 'mber': 10884, 'šauteni': 6329, 'souff': 8394, 'scala': 3225, 'drudzis': 7812, 'simmons': 1602, 'aiziešu': 4733, 'šitāds': 8853, 'savu': 631, 'pude': 4104, 'karavīri': 5346, 'ieraugot': 6142, 'šķita': 2305, 'neaizietu': 8729, 'pieskār': 10692, 'piekto': 5478, 'weren': 2525, 'tiltu': 1991, 'zvaigznītēm': 8347, 'sevis': 7414, 'gulējām': 3066, 'ffi': 10822, 'līnijās': 9098, 'ārā': 219, 'dārza': 3973, 'nākšot': 4227, 'passing': 1773, 'vēsu': 3397, 'nelāgi': 4953, 'ceļus': 9221, 'norunāts': 3100, 'baz': 6216, 'krūšutēli': 6775, 'mīlat': 4961, 'uzvar': 2575, 'soda': 1885, 'neti': 4941, 'completely': 6714, 'galvu': 389, 'wall': 679, 'cita': 1765, 'šampanieti': 2869, 'tēja': 5323, 'atvediet': 6563, 'gūsi': 7893, 'nesaki': 9687, 'kļuvuši': 9818, 'eat': 599, 'tni': 4171, 'meitenes': 1167, 'skaidro': 5202, 'caps': 6267, 'foreļu': 10154, 'tai': 557, 'seju': 1456, 'kruķiem': 2380, 'women': 2461, 'pogu': 3607, 'vēro': 3791, 'paskaidro': 4154, 'cēlāmies': 10605, 'gun': 1523, 'ķirurga': 8267, 'ch': 1246, 'ook': 10656, 'svār': 9780, 'milk': 6624, 'siens': 7234, 'vīnstī': 9196, 'mask': 2216, 'sanitāru': 5687, 'atspie': 4308, 'rupjš': 5422, 'carriages': 7320, 'tību': 9779, 'ely': 3155, 'karso': 2858, 'dressing': 899, 'dibe': 10712, 'pu': 1388, 'parādījās': 3367, 'pasa': 9324, 'grāvi': 7981, 'her': 102, 'spēju': 9052, 'kšanai': 5063, 'bottle': 473, 'labas': 2186, 'go': 62, 'bārklija': 1151, 'questioners': 8076, 'divīzi': 10663, 'šokolādes': 5569, 'straumē': 9486, 'tavām': 4164, 'zaudēt': 5923, 'regiments': 9554, 'forest': 1743, 'uzbrucējs': 5108, 'dubļiem': 9897, 'puskrēsla': 5949, 'palātā': 6658, 'smie': 5987, 'quiet': 1159, 'strādā': 2501, 'easier': 3509, 'ful': 4324, 'likšos': 9260, 'fond': 9652, 'thank': 671, 'viņus': 985, 'jumus': 3644, 'sanitāro': 10375, 'write': 1396, 'ezerā': 2403, 'german': 1839, 'rakst': 6670, '&@@': 9699, 'japāņi': 7257, 'raise': 10005, 'last': 1272, 'know': 118, 'cīgs': 2894, 'paci': 6493, 'siņa': 10307, 'sprāgstot': 7015, 'neither': 7430, 'pilēja': 4719, 'aizs': 10612, 'sh': 1488, 'sauc': 2366, 'šies': 8830, 'xxx': 1108, 'pieci': 3205, 'uzkalnā': 10473, 'nevarot': 4468, 'jušies': 1305, 'logi': 3902, 'klaudz': 7936, 'turēju': 2232, 'zvaigznes': 4965, 'lampu': 9980, 'tukš': 6340, 'vor': 9845, 'ņemtu': 3760, 'pārtul': 10787, 'walk': 673, 'varējuši': 8685, 'gājusi': 4986, 'awful': 4240, 'cēla': 1994, 'uz': 28, 'slējās': 2329, 'strādājis': 8301, 'russia': 9202, 'šveiciešu': 4701, 'dodiet': 1911, 'lot': 1796, 'palancu': 4331, 'atmostoties': 7036, 'vam': 10904, 'rokām': 1526, 'draņķī': 8952, 'skūpstī': 10912, 'tumš': 8495, 'brīvu': 7888, 'neiespējami': 10037, 'līdzās': 1925, 'iebāzu': 6366, 'apsējus': 3365, 'patch': 5686, 'punkta': 2678, 'damās': 8735, 'main': 958, 'robeža': 8522, 'dusk': 4055, 'šļa': 10751, 'sof': 6830, 'tukšās': 10061, 'lipī': 6411, 'uzbrukumam': 7385, 'tuv': 7687, 'pockets': 9376, 'padoties': 5085, 'vēlies': 2466, 'phonograph': 6251, 'ļaudis': 9168, 'iemes': 9577, 'si': 363, 'fla': 5877, 'dienā': 2631, 'ls': 1000, 'lord': 4645, 'lea': 3339, 'vām': 1724, 'grap': 7237, 'īkšķ': 8643, 'soles': 6390, 'dže': 8036, 'baseball': 9350, 'pagriezienā': 5574, 'palieku': 4850, 'manierīgi': 6838, 'well': 309, 'uous': 10431, 'sangabrielu': 4806, 'uzau': 5886, 'nesakiet': 6725, 'apšau': 3631, 'riņķ': 6654, 'nākamajā': 3130, 'sametās': 8176, 'pleasant': 1117, 'chee': 4176, 'nokļuvām': 4980, 'als': 4624, 'saņēmāt': 5164, 'realize': 1735, 'nogā': 3120, 'x': 446, 'iekār': 5398, 'cre': 4361, 'boksu': 7964, 'cietu': 7064, 'aptvert': 5329, 'skrū': 7498, 'nu': 177, 'būsi': 2228, 'packed': 2291, 'tly': 3268, 'meat': 2350, 'viņpus': 2578, 'svaigs': 7677, 'kungs': 9556, 'nevarēja': 1366, 'darba': 2928, 'redzējusi': 5733, 'griezos': 10955, 'apbalvo': 10303, 'sch': 8611, 'ējās': 3213, 'vienos': 5062, 'wives': 9805, 'lielā': 1240, 'atvēru': 2842, 'derēja': 4378, 'nepieciešams': 5114, 'ģi': 9706, 'federico': 2929, 'kailos': 8995, 'maks': 6576, 'sake': 3949, 'sīkumi': 4002, 'desu': 8871, 'dievs': 2069, 'labāk': 456, 'ķēr': 7828, 'i': 11, 'sprieda': 6029, 'viski': 5703, 'dokumentiem': 8686, 'tepat': 1080, 'sarunājās': 4560, 'vēzieniem': 9138, 'nelie': 2392, 'vidu': 2349, 'coat': 1315, 'smashed': 2146, 'mierī': 4258, 'architecture': 7343, 'duši': 3059, 'battery': 4413, 'ģēr': 4079, 'ants': 6183, 'atraka': 6741, 'uka': 10164, 'sar': 2167, 'lika': 3629, 'pagaidi': 8598, 'piemī': 10284, 'small': 516, 'vel': 1675, 'stri': 3597, 'padsmit': 4696, 'bārkliju': 1518, 'valentini': 3386, 'vējam': 4442, 'žokeji': 5863, 'twenty': 2113, 'pava': 9005, 'ceļojumā': 8262, 'motoru': 5174, 'zemes': 2255, 'būsim': 1899, 'vinnēju': 7443, 'joke': 1679, 'jāno': 4844, 'redz': 2173, 'auklu': 1953, 'gaunt': 8815, 'nejūties': 6379, 'slēpo': 4795, 'apšaudīs': 8607, 'vo': 1930, 'plivinājās': 7087, 'brigade': 2716, 'doctor': 458, 'often': 3541, 'vārdam': 5224, 'scum': 8237, 'fifteen': 2628, 'nekāda': 8670, 'called': 1401, 'ielika': 2478, 'domās': 5892, 'transport': 9267, 'asked': 176, 'stairs': 1101, 'batal': 10554, 'bira': 3917, 'katrs': 1942, 'iesmē': 9381, 'ner': 2140, 'slipping': 9797, 'fērguso': 10815, 'keep': 666, '...': 953, 'square': 1637, 'labot': 9379, 'melno': 8794, 'four': 857, 'nik': 10868, 'used': 1677, 'mazgāšu': 6759, 'izra': 10206, 'pirmā': 4551, 'zirgu': 1195, 'stockyards': 9291, 'dējs': 7544, 'aturally': 7447, 'mežam': 9301, 'braukāja': 7431, 'postenī': 4691, 'kratīja': 5596, 'sifiliss': 6667, 'nogriezīs': 6768, 'pelnī': 6767, 'kumiem': 4544, 'directly': 9170, 'co': 928, 'nostā': 3194, 'astoņ': 8321, 'muļķi': 4676, 'ezer': 8703, 'pūlēdamies': 10319, 'brauciet': 3710, 'laini': 10680, 'pirkstu': 4909, 'majors': 372, 'atpakaļgaitā': 6860, 'italy': 1441, 'priecājos': 3499, 'willow': 6439, 'sis': 4159, 'vilu': 6859, 'gets': 6930, 'stacijas': 1165, 'auto': 3899, 'nepazī': 7922, 'ievainoto': 3436, 'sakārtot': 6518, 'kstī': 8247, 'klusiņām': 3951, 'stopped': 349, 'tranšejām': 7717, 'impressive': 7563, 'brukas': 8566, 'šādi': 8913, 'vēlreiz': 1038, 'kareiv': 10224, 'somme': 8028, 'riteņiem': 3388, 'pusēm': 3491, 'turpinā': 4921, 'liela': 768, 'brīžiem': 5671, 'majam': 5985, 'wrong': 4345, 'chain': 5873, 'pūti': 9402, 'patei': 4614, 'jo': 265, 'mantība': 8316, 'veiksmīga': 9449, 'ziņa': 9776, 'parā': 10078, 'braši': 5805, 'roktur': 5637, 'refle': 6754, 'kre': 5104, 'titian': 8711, 'pitched': 10475, 'arhite': 10898, 'nogādā': 7256, 'atsper': 7829, 'norī': 7944, 'villages': 4031, 'iededzis': 8241, 'maziem': 9953, 'nedrīkstētu': 10229, 'mašīna': 769, 'mē': 1005, 'raudāja': 1473, 'sē': 1973, 'naktskre': 6057, 'fd': 6115, 'suspicious': 5233, 'thinking': 932, 'ced': 5991, 'drops': 6309, 'saskatāms': 7305, 'put': 191, 'gau': 4433, 'pointed': 1615, 'smī': 4424, 'sagaidīt': 8616, 'mūž': 10687, 'vanni': 8106, 'mornings': 10165, 'vedīšot': 9118, 'ju': 293, 'pat': 357, 'skaists': 2267, 'ķirurgs': 4193, 'paši': 1402, 'sēta': 5660, 'laimīga': 2292, 'self': 2447, 'sūta': 5904, 'punktiem': 6144, 'gāzmaskā': 5912, 'izšķir': 6167, 'uztraukt': 7472, 'manner': 8158, 'iztiksiet': 8296, 'ticētu': 10053, 'verandā': 10146, 'lower': 10499, 'appreci': 10990, 'jāsatiekas': 7848, 'upju': 8426, 'safe': 3035, 'omulīgi': 5128, 'frontes': 1764, 'pamatīgu': 9114, 'kustējās': 5194, 'troops': 745, 'līdzīgi': 4236, 'izrēķinā': 8701, 'mīlē': 6320, 'braucot': 1763, 'its': 2276, 'nails': 8702, 'apstājas': 9675, 'woo': 10072, 'numb': 10935, 'garden': 1350, 'katedrāles': 5448, 'krēslus': 8994, 'vida': 5377, 'stiepās': 3464, 'piekra': 8357, 'turklāt': 3438, 'longer': 3896, 'šovasar': 3531, 'bandages': 3393, 'ārzemnieks': 9388, 'redzi': 1573, 'sarunu': 5534, 'šogad': 6567, 'notir': 10640, 'starme': 9879, 'orā': 10994, 'le': 469, 'ic': 1696, 'jutos': 874, 'ināja': 1962, 'noteica': 356, 'wind': 569, 'vīri': 2463, 'ējo': 4350, 'gads': 4834, 'sveic': 3746, 'fen': 5611, 'auga': 2856, 'doma': 6017, 'aptveres': 7845, 'prāta': 4582, 'itālijas': 5131, 'neder': 3034, 'basi': 5185, 'sent': 913, 'gribas': 2064, 'pelēka': 4013, 'dīju': 2600, 'vēderu': 5610, 'sasodīti': 5905, 'skaidru': 7376, 'serv': 7884, 'vēlu': 2670, 'pel': 4191, 'double': 6288, 'iela': 9981, 'atbildēja': 2265, 'surface': 9665, 'apģērbos': 5880, 'attaisī': 10770, 'īsi': 4054, 'camies': 7005, 'atnesu': 6697, 'zaudē': 10883, 'uzrāp': 5541, 'apnikusi': 7322, 'fishing': 4713, 'pults': 5219, 'pas': 2480, 'gadī': 2937, 'skata': 4052, 'izgāja': 1670, 'buckled': 6225, 'zuši': 6750, 'crutches': 2704, 'deguns': 6046, 'paplā': 6510, 'izrob': 7761, 'flattened': 8897, 'ieslīgst': 9741, 'plecu': 2271, 'varoņdarbu': 6901, 'itself': 4878, 'svaiga': 10282, 'guļam': 9160, 'dumu': 10397, 'attention': 5705, 'rež': 10586, 'piecēlās': 1192, 'gulēt': 1550, 'somu': 5662, 'apron': 8786, 'carpe': 8353, 'ievainoja': 3915, 'ē': 560, 'jūs': 65, 'short': 1237, 'ļā': 4225, 'laipna': 5411, 'hog': 7442, 'jāatgriežas': 8379, 'inājām': 4318, 'izēdā': 7108, 'sargkareivis': 9502, 'tu': 57, 'news': 1875, 'istabu': 1342, 'gaidī': 5981, 'zobe': 7235, '5': 2892, 'say': 264, 'vestibilu': 7949, 'tenente': 158, 'neredzēšu': 10156, 'nebiju': 774, 'iedomājies': 5549, 'zīs': 10268, 'kustēdamies': 8803, 'snapped': 5024, 'zari': 3707, 'pieskarties': 9120, 'šana': 896, 'days': 1103, 'bel': 5310, 'četrus': 6195, 'vizināties': 7326, 'catherine': 116, 'nepacēla': 9672, 'tic': 6334, 'purvi': 8326, 'parī': 9754, 'galdam': 9901, 'parunāt': 6205, 'gr': 1797, 'discus': 9393, 'ounce': 9902, 'pants': 9369, 'highest': 7269, 'vuši': 3517, 'garšas': 5864, 'starp': 756, 'ienaid': 10926, 'rāvās': 10274, 'attur': 9164, 'sanitārs': 2355, 'tanus': 8049, 'war': 196, 'žu': 1543, 'ēju': 1060, 'iebilda': 6244, 'mento': 10592, 'bridžā': 7555, 'dzidr': 3935, 'brālis': 8111, 'strong': 3097, 'latin': 5494, 'izmeta': 9819, 'shelling': 2898, 'proclamations': 8801, 'curtains': 7691, 'around': 307, 'mending': 8820, 'aptvēris': 7504, 'atsūtīja': 4727, 'unifor': 5567, 'karam': 2825, 'law': 4543, 'pameta': 5490, 'mia': 4346, 'cilvēka': 8760, 'pilnu': 1840, 'stīja': 3334, 'redzu': 2965, 'rīts': 6839, 'spā': 9280, 'uzbērumā': 7163, 'fri': 9830, 'snieg': 2343, 'skr': 2269, 'zaudēšu': 10300, 'tribīnēm': 10353, 'pozīcijām': 3128, 'nag': 4556, 'sheets': 2512, 'ations': 3621, 'vakaros': 3997, ':': 435, 'raudzī': 4790, 'oak': 7462, 'squ': 5922, 'electri': 10921, 'rib': 6103, 'slas': 8552, 'sirdspukstus': 9765, 'platā': 3336, 'medī': 2977, 'piebrauca': 3446, 'karavīru': 2065, 'vienīgi': 1382, 'izmaksa': 3772, 'paciņu': 4743, 'until': 438, 'kummel': 4475, 'gāju': 489, 'piacenza': 6416, 'saki': 1709, 'troll': 7380, 'brindisi': 7656, 'forefinger': 8464, 'franku': 8468, 'nāves': 9293, 'vilkos': 9333, 'nojauta': 9478, 'nupat': 2877, 'štāba': 1907, 'perhaps': 935, 'šķēr': 3316, 'kusi': 3322, 'šķembas': 3642, 'trout': 4714, 'diezgan': 826, 'fifty': 2325, 'dealing': 9561, 'dīt': 6835, 'veronas': 10308, 'jūsu': 434, 'fer': 5099, 'segas': 9849, '/': 588, 'iešu': 862, 'middle': 4813, 'jušās': 6421, 'motioned': 9481, 'down': 78, 'viesnīca': 2712, 'nieks': 7863, 'palika': 1644, 'grāviens': 9766, 'sakāvi': 2953, 'ņe': 7134, 'taču': 246, 'stove': 3224, 'nepaēdīsim': 7463, 'samanīju': 9516, 'kurp': 8622, 'ieteicis': 8135, 'punktu': 3753, 'uzjautrināja': 10091, 'dīvai': 6360, 'iņu': 10399, 'tas': 75, 'vīrietim': 7795, 'niekam': 5531, 'renā': 9629, 'apklusa': 3079, 'izņēmuma': 7200, 'atrastos': 5775, 'pamanīja': 7542, 'carabiniere': 2537, 'kar': 1495, 'lead': 10258, 'pri': 3304, 'parasti': 1431, 'netic': 3504, 'hartz': 7856, 'breast': 9876, 'nestrī': 10776, 'drown': 5506, 'wouldn': 593, 'trucks': 1609, 'sāpēm': 5239, 'zema': 6638, 'nogāzes': 9245, 'togad': 10118, 'pats': 263, 'standing': 719, 'piegāju': 1236, 'dvēse': 6812, 'nošautu': 10479, 'nezināja': 6110, 'jums': 119, 'pordeno': 5858, 'stām': 10008, 'aukst': 2235, 'dokumentus': 4219, 'mī': 2095, 'ķerieties': 8518, 'nezvanī': 9066, 'ry': 10314, 'big': 276, 'apmetni': 3261, 'usted': 6628, 'uzskatīja': 9612, 'guliet': 7534, 'copper': 10283, '9': 2540, 'gultai': 2244, 'load': 3468, 'nie': 1486, 'trešo': 6443, 'māsas': 2143, 'laugh': 6603, 'ielejas': 4542, 'apakškreklā': 8255, 'crowded': 3544, 'already': 2475, 'sandwiches': 2998, 'līši': 7495, 'th': 1030, 'nezinu': 401, 'ķieģeļi': 7853, 'atgriezīšos': 10369, 'ezeru': 1134, 'jumu': 3119, 'šķērsoja': 7308, 'misters': 9750, 'terraced': 8389, 'tumšs': 1249, 'differ': 5632, 'holster': 2434, 'mokas': 5856, 'priekšnamā': 9503, 'astride': 7667, 'dying': 9534, 'scrotum': 9985, 'starmešu': 7259, 'olu': 8741, 'vero': 8985, 'aizkust': 5582, 'probably': 676, 'jūtu': 3437, 'trousers': 3540, 'priecā': 5242, 'beigām': 3428, 'karabinieriem': 3275, 'manus': 7508, 'aned': 8948, 'darbā': 4388, 'quest': 10914, 'svēto': 5702, 'blades': 7444, 'kāpnēm': 1257, 'otr': 5520, 'ep': 6398, 'tālāk': 331, 'vajadzētu': 1421, 'undressing': 9087, 'esiet': 4470, 'crack': 1681, 'juties': 7755, 'jocīgi': 3320, 'salve': 10231, 'pusi': 553, 'lis': 2076, 'grūti': 1631, 'karo': 3292, 'plē': 4097, 'plecus': 4985, 'stampas': 5848, 'blasphe': 9698, 'ār': 3433, 'zemnieki': 3663, 'pašam': 1882, 'larger': 6818, 'cough': 5797, '<unk>': 0, 'obligation': 8638, 'use': 1760, 'dar': 3401, 'plūda': 7294, 'believe': 405, 'kissed': 907, 'apmet': 4920, 'redzēju': 388, 'sliktāk': 6208, 'gās': 6367, 'padomu': 6553, 'fox': 8678, 'biljarda': 4874, 'pjačencā': 9097, 'piani': 150, 'starpība': 9154, 'pārgāja': 10089, 'skrej': 10349, 'whether': 1742, 'fiata': 7346, 'miegai': 8754, 'dīšu': 2734, 'air': 966, 'skvē': 10302, 'vagonu': 4048, 'gh': 3484, 'park': 2590, 'mēģināt': 5914, 'blonde': 6684, 'gymnasium': 8816, 'ices': 9487, 'alongside': 9638, 'sār': 8030, 'rētu': 5317, 'zaļas': 9548, 'pala': 2721, 'ha': 720, 'done': 884, 'kalns': 6905, 'ēj': 2610, 'šāviņi': 7006, 'atbraucāt': 7792, 'off': 178, 'sold': 6474, 'kārtīgi': 2375, 'šķē': 9782, 'ābolus': 7357, 'bench': 3431, 'ievainota': 8587, 'admired': 8285, 'naples': 7410, 'taut': 9422, 'mainiet': 8931, 'turieni': 4473, 'shower': 6419, 'draudz': 6874, 'zuda': 10746, 'mašīnā': 868, 'smo': 9650, 'nomazgāties': 5484, 'ately': 10839, 'jārunā': 10400, 'splendid': 784, 'surgeon': 1789, 'alus': 3298, 'smag': 7728, 'procentī': 10759, 'dienās': 5421, 'vestibilā': 4789, 'ņemiet': 2179, 'jāzina': 4123, 'basins': 10480, 'sve': 2307, 'neapolē': 10276, 'ēdī': 3295, 'durvīs': 5820, 'instantly': 6722, 'grēdām': 5171, 'pieder': 2957, 'sapratu': 1487, 'vienai': 5593, 'autus': 4729, 'serve': 7283, 'asciut': 8463, 'vā': 1149, 'miegam': 6082, 'laternas': 8253, 'dzeru': 8882, 'aizvestu': 9683, 'vakarā': 2793, 'sastapt': 2972, 'brūces': 8075, 'jiem': 1433, 'plūdusi': 6941, 'others': 706, 'complete': 5992, 'getting': 995, 'successful': 3560, 'jaunu': 3731, 'cident': 10695, 'painful': 6213, 'parties': 6488, 'bab': 10646, 'šim': 1695, 'ļoti': 138, 'spend': 7271, 'above': 798, 'teas': 5838, 'god': 817, 'on': 31, 'ņemt': 2779, 'whore': 5701, 'sapra': 9640, 'salik': 10498, 'sataustīju': 8235, 'pe': 1519, 'gaismas': 3142, 'ki': 1012, 'plavas': 3238, 'thirsty': 8472, 'diemžēl': 6991, 'tram': 8935, 'nekur': 2015, 'pieklājīgi': 4581, 'rifle': 2361, 'sai': 2418, 'cenzdamies': 7625, 'prātīgs': 2993, 'viss': 283, 'kampenai': 8560, 'touching': 8945, 'kust': 3375, 'iedzēris': 9623, 'nepa': 1001, 'stīties': 8621, 'freshly': 5376, 'being': 743, 'ments': 6376, 'vilcienu': 3043, 'uzmanīgi': 4005, 'izskats': 4326, 'iebā': 5725, 'seja': 1255, 'pure': 6497, 'simt': 1691, 'gie': 3291, 'slapju': 6501, 'dūmi': 6732, 'neno': 2133, 'icle': 7999, 'la': 359, 'šķir': 4507, 'saprotiet': 9606, 'itch': 9045, 'that': 34, 'mirdz': 8062, 'komo': 4779, 'deva': 3422, 'sasukāju': 10269, 'padarīšanu': 10471, 'izmest': 10332, 'kumo': 10576, 'necks': 9166, 'says': 2999, 'gs': 804, 'guess': 2839, 'atbildēju': 2876, 'saņemt': 5340, 'atstāj': 6445, 'rāp': 6657, 'les': 1050, 'atnest': 5389, 'ev': 4595, 'benches': 2511, 'ork': 10622, 'sēdus': 5122, 'runāja': 1362, 'savus': 4849, 'mājiņas': 9559, 'sci': 10558, 'mājās': 1285, 'clips': 7019, 'meas': 9972, 'apprec': 4380, 'nez': 4522, 'ārpus': 4606, 'atsūtīt': 9733, 'kļūstam': 10340, 'augstā': 4607, 'paturēju': 6829, 'sānceļiem': 8861, 'touched': 1946, 'mu': 503, 'winter': 800, 'places': 1852, 'els': 4084, 'fresh': 4085, 'bow': 4994, 'slēdze': 7570, 'ņēmusi': 9951, 'positions': 8944, 'show': 1479, 'tautas': 8492, 'svešķerme': 9497, 'uniformās': 5564, 'dārz': 4622, 'came': 109, 'scar': 2893, 'gas': 882, 'jauku': 4394, 'excellent': 3219, 'zinātu': 6580, 'mājai': 4372, 'stot': 6296, 'spēj': 7469, 'likely': 8482, 'naktis': 2172, 'clou': 8865, 'malai': 9775, 'beigts': 3345, 'dažu': 5889, 'kalnā': 5956, 'droša': 5058, 'braukšu': 2782, 'zt': 6283, 'izskatos': 3307, 'really': 299, 'ienīst': 7760, 'sauss': 4528, 'gino': 1914, 'laikrakstu': 8341, 'stor': 10949, 'sēdēdams': 6706, 'airiem': 6875, 'iežogoto': 9261, 'nobraucām': 3986, 'izveda': 4912, 'nosaukumiem': 5649, 'wisdom': 3254, 'language': 5859, 'dienvidos': 6238, 'labvakar': 8259, 'čuh': 4949, 'neraudu': 5021, 'rich': 6111, 'passini': 1089, 'klavieru': 6843, 'mention': 6001, 'nejautā': 8236, 'redzējuši': 9681, 'vienī': 3909, 'nīgi': 9968, 'kādi': 4276, 'bank': 819, 'stingra': 9914, 'varnished': 9861, 'ards': 10569, 'hi': 2311, 'saņēma': 3414, 'pietei': 8246, 'pilsētā': 917, 'bl': 3770, 'nesīs': 10135, 'streets': 2546, 'novec': 10341, 'angliete': 5331, 'kaskas': 1588, 'kauls': 6341, 'varen': 6523, 'kdamies': 7203, 'brī': 1575, 'mugursomu': 4023, 'skre': 10944, 'later': 1047, 'klājas': 1561, 'anarchist': 4440, 'hole': 5926, 'perfectly': 8177, 'gorīcijas': 8365, 'vedēju': 8683, 'dienām': 3236, 'apjē': 6045, 'termometru': 6083, 'uzsaucu': 6096, 'missed': 3780, 'jušas': 3082, 'mouth': 2365, 'najā': 3622, 'kopts': 7012, 'nolaisties': 8875, 'nemīli': 9961, 'otram': 2264, 'key': 3534, 'tobogganing': 9308, 'paņemsim': 10245, 'dau': 5515, 'galda': 690, 'barberu': 5665, 'bas': 2006, 'stands': 7418, 'autumn': 7556, 'rubbed': 9749, 'sekoja': 5086, 'ets': 10889, 'pui': 3390, 'seen': 835, 'timber': 2406, 'gre': 4770, 'spriedumu': 6805, 'looking': 291, 'virs': 678, 'slējos': 6730, 'tied': 3200, 'ceļi': 3023, 'ņemšu': 2422, 'mām': 4256, 'dzis': 4412, 'dē': 1529, 'quarters': 7241, 'corriere': 8765, 'o': 226, 'valodā': 6395, 'prātīgi': 4669, 'lūpām': 5692, 'uzbrukuma': 9843, 'brāz': 4877, 'cork': 3706, 'runājiet': 6964, 'čau': 7939, 'dežūras': 8753, 'nav': 96, 'tumsā': 763, 'jēdzī': 10730, 'dol': 10951, 'muļķis': 4539, 'aizsargāja': 6436, 'brauksiet': 4724, 'iez': 9415, 'rāvis': 8103, 'tle': 5974, 'nearly': 1053, 'malkas': 9172, 'captain': 539, 'nolādētās': 9787, 'pasaule': 4558, 'liras': 2743, 'tuvojāmies': 4626, 'exa': 6226, 'nished': 10683, 'vēlēšanās': 3063, 'pavasaris': 3290, 'nī': 912, 'vislabāk': 6168, 'twigs': 7159, 'carbines': 7630, 'knows': 2376, 'smēķē': 7374, 'vaļējā': 5698, 'itāliešus': 5036, 'sticky': 9292, 'citur': 9346, 'raz': 10212, 'varoni': 10251, 'pavasara': 5241, 'spread': 2184, 'skal': 6521, 'restaurants': 7909, 'pamodināju': 6665, 'formalities': 8650, 'kūlis': 8814, 'kāzām': 10401, 'mājām': 1623, 'monte': 3030, 'nevar': 459, 'ians': 4534, 'how': 141, 'pelēki': 8799, 'neaizbraucu': 7789, 'iesau': 5606, 'bijis': 576, 'pasniedzos': 4698, 'iešot': 3594, 'attacking': 7331, 'izviet': 6565, 'preziden': 10355, 'francija': 10377, 'leng': 10659, 'anglo': 7147, 'kurā': 1720, 'kafej': 10971, 'dī': 1554, 'distance': 5881, 'lētu': 9915, 'brass': 3766, 'jūties': 2042, 'apzinos': 7483, 'šoferi': 2030, 'trie': 2527, 'stati': 9574, 'sangabrielas': 3566, 'jāmies': 1333, 'head': 284, 'driving': 4804, 'īpaš': 9738, 'mūžu': 9769, 'vienkārši': 3592, 'your': 160, 'slīdējām': 5197, 'pazuda': 3239, 'nās': 1620, 'arestēt': 5604, 'spur': 9927, 'vērojām': 1929, 'ziņkārīgi': 7914, 'awake': 1478, 'laka': 6124, 'klusu': 2117, 'crouched': 10097, 'sast': 10551, 'majora': 4821, 'spirg': 9660, 'iedzertu': 8806, 'aplūkot': 9757, 'ing': 480, 'saiti': 8027, 'japanese': 6953, 'neapšaubāmi': 9421, 'nevajadzēs': 7003, 'understood': 2503, 'mež': 4835, 'saārdīts': 6382, 'sākušies': 9847, 'flo': 10405, 'rēgojās': 4320, 'runāju': 3861, 'brešā': 5657, 'piesūkušies': 8371, 'sni': 3890, 'those': 602, 'atšķī': 7929, 'unsuccessful': 8486, 'daudziem': 6653, 'permanent': 7467, 'bārklijas': 2308, 'iepa': 6893, 'dusi': 5519, 'othello': 8331, 'fight': 2249, 'skotiju': 9342, 'patlaban': 1390, 'bor': 5963, 'aizvest': 10051, 'camion': 5388, 'ktos': 6549, 'nogaidīju': 6223, 'ktor': 9974, 'station': 486, 'uzval': 10959, 'heads': 3284, 'noār': 7729, 'šāvienu': 8667, 'rarely': 8067, 'uguns': 2753, 'negribēju': 3736, 'līt': 3662, 'zirgi': 2115, 'aizmugures': 10075, 'ery': 10829, 'country': 440, 'tiklīdz': 615, 'drosmīgais': 7890, 'bļodā': 5286, 'cleaned': 6719, 'slim': 7817, 'tus': 2205, 'nāka': 3455, 'baiļu': 6868, 'doctors': 1611, 'sixteen': 9790, 'rip': 5257, 'simply': 5324, 'closer': 2730, 'dārzā': 1921, 'lose': 3790, 'pierādī': 9729, 'atvadī': 4317, 'bērniem': 7917, 'wants': 1777, 'vs': 8403, 'cape': 1380, 'part': 2357, 'no': 26, 'tuvojamies': 3883, 'kri': 4421, 'siluetus': 3606, 'iera': 2078, 'hal': 5252, 'tou': 8512, 'ggy': 8578, 'apiet': 8863, 'prā': 6608, 'saka': 1468, 'bie': 3852, 'midzināja': 7892, 'ņēmos': 7989, 'hoo': 6604, 'kājas': 682, 'interested': 10299, 'slapjo': 8886, 'aizvedīšu': 7639, 'tika': 2530, 'tiku': 3981, 'sām': 10225, 'divdesmit': 2359, 'rak': 9704, 'ziņo': 10812, 'puiši': 4693, 'izredžu': 6757, 'stayed': 1428, 'pusdienas': 1294, 'pētīt': 5476, 'darbojas': 9188, 'apmācī': 8714, 'asking': 3361, 'neejiet': 7037, 'bataljo': 9490, 'flew': 8562, 'business': 2742, 'spring': 1354, 'vilciens': 1534, 'practising': 7384, 'jaukā': 3730, 'makšķeri': 6446, 'sommas': 7947, 'opened': 534, 'daļu': 7693, 'tev': 174, 'centos': 5491, 'years': 1713, 'over': 135, 'noli': 10172, 'narrow': 1033, 'citus': 5433, 'nospriedām': 9753, 'pārgājām': 4497, 'super': 4257, 'dep': 9147, 'tēvoča': 7021, 'lū': 4120, 'oes': 10748, 'kās': 3992, 'atzī': 5172, 'steeply': 4360, 'am': 237, 'zīdkoki': 8261, 'boots': 1070, 'gaidīt': 2018, 'dus': 3567, 'cija': 4135, 'seek': 7523, 'bedr': 7065, 'sasodītais': 10074, 'satin': 6033, 'cerību': 5216, 'skatījies': 9021, 'aced': 10158, 'ous': 2425, 'vējos': 8728, 'divās': 10211, 'šorīt': 4113, 'jānogaida': 8568, 'kilome': 5952, 'aizslēgtas': 7184, 'pratinā': 5625, 'stiem': 4137, 'suku': 7084, 'izteica': 8248, 'saules': 1341, 'kreisajā': 3761, 'brā': 7273, 'rokturi': 9241, 'upper': 7093, 'nāksi': 6141, 'whorehouse': 6727, 'izde': 4426, 'pieteikties': 8904, 'kustība': 10031, 'adventures': 10032, 'šķiet': 1378, 'vienā': 1298, 'seržan': 10885, 'mustaches': 3885, 'ming': 3556, 'power': 9341, 'krīt': 2781, 'pavēle': 6118, 'best': 1567, 'dabūjām': 5356, 'rear': 4170, 'itālieti': 6918, 'bariņā': 8328, 'daļ': 9028, 'oblig': 10275, 'jānotur': 10373, 'barman': 783, 'pati': 1177, 'plain': 875, 'ea': 9255, 'atvaļinājuma': 7643, 'ciets': 6401, 'think': 180, 'mīļš': 2719, 'klie': 9727, 'katedrā': 9783, 'gaidīju': 2868, 'vine': 5540, 'plate': 3045, 'atslīga': 6912, 'they': 33, 'citāds': 5958, 'atlicis': 7587, 'dly': 10693, 'varēja': 1009, 'ložmetēju': 4211, 'unt': 10690, 'coffee': 969, 'neeksistē': 9076, 'ro': 710, 'viskiju': 2951, 'temperature': 3161, 'con': 837, 'redzē': 3696, 'arrest': 1831, 'vain': 8946, 'pagriezos': 5801, 'ied': 9774, 'stījās': 10785, 'brought': 447, 'handed': 1146, 'diene': 10661, 'pakāpe': 3020, 'bacchus': 2927, '.@@': 3694, 'salu': 7172, 'attractive': 3613, 'mechanics': 2653, 'box': 1374, 'kupejā': 3821, 'paticis': 7166, 'nenoslī': 9594, 'amies': 3410, 'nīca': 9533, 'vietiņa': 9711, 'recommend': 6135, 'candles': 10161, 'gudrība': 3233, 'galdiem': 6974, 'pinched': 9918, 'sieties': 2574, 'asinsspie': 7355, 'welcome': 8893, 'kļūšu': 2735, 'tobacco': 2883, 'drū': 5020, 'dolāru': 10505, 'nebildu': 6338, 'sell': 4758, 'turē': 7916, 'pamatīgi': 3605, 'sikspār': 9588, 'iegrū': 5493, 'īsiem': 7386, 'teach': 9870, 'guši': 4910, 'fisher': 10621, 'coward': 7391, 'cli': 3682, 'sākas': 7054, 'šanās': 6301, 'gadus': 2679, 'pārliec': 6318, 'vecie': 6303, 'baļķiem': 9893, 'palocījās': 4967, 'jokot': 5147, 'lau': 1795, 'strādāt': 7900, 'paņemšu': 5814, 'debesīm': 5614, 'garo': 6023, 'germany': 10151, 'happens': 3889, 'ashamed': 5184, 'zām': 10238, 'p': 210, 'rāpāmies': 4717, 'briesmu': 7896, 'meaning': 7709, 'droši': 659, 'vieni': 2731, 'kāp': 6547, 'neiet': 5048, 'balti': 5656, 'vēju': 8433, 'from': 117, 'group': 3461, 'dienvidiem': 3378, 'jīgi': 5670, 'honor': 6177, 'veca': 4689, 'liver': 4944, 'cirkšņiem': 10216, 'brīnišķīga': 1017, 'spoguli': 6299, 'rock': 5375, 'tiska': 8792, 'pl': 9103, 'seržanti': 2582, 'šāvienus': 4793, 'grozī': 7455, 'blī': 7819, 'tecē': 10630, 'šoferus': 5559, 'ēšanās': 7045, 'zēs': 4756, 'izslējās': 4764, 'vīn': 10668, 'nokļūt': 4987, 'disliked': 7262, 'haven': 525, 'šanai': 3240, 'hers': 6908, 'bū': 3823, 'cīgu': 7589, 'tears': 8081, 'ģērbties': 8827, 'grūtāk': 4705, 'žū': 8539, 'bur': 2220, 'labprāt': 1475, 'viesnīcai': 7408, 'vētra': 2885, 'mākoņiem': 2989, 'novā': 6984, 'oil': 4376, 'pistols': 9923, 'sirmiem': 6512, 'trūka': 4427, 'gaiteni': 1646, 'senti': 7657, 'push': 4843, 'nervi': 8380, 'tikpat': 1226, 'proce': 9807, 'everywhere': 2566, 'kazu': 7477, 'dāju': 7809, 'balkonu': 6825, 'highway': 10010, 'ziemeļamerikas': 10027, 'četr': 8526, 'hurrying': 6506, 'iežogojuma': 5160, 'dzīvosim': 4144, 'pielijusi': 9284, 'morrow': 1179, 'cista': 4305, 'sorts': 6809, 'moju': 8640, 'ra': 735, 'cilvēks': 1277, 'dzi': 2023, 'kafijas': 2295, 'regre': 8509, 'iesmējās': 9460, 'sargi': 9018, 'tily': 8916, 'pasini': 965, 'izdzērām': 2913, 'slow': 4006, 'supposed': 2535, 'šļāca': 9330, 'skās': 9673, 'tornis': 6820, 'jābūt': 1988, 'garāmgāj': 7713, 'synovial': 8199, 'mineral': 9816, 'pils': 10437, 'dažreiz': 563, 'puffs': 10305, 'to': 15, 'napoleons': 7765, 'happily': 3179, 'which': 954, 'noskaņojums': 5035, 'mēli': 6661, 'kādā': 1661, 'ian': 5439, 'pirmais': 1499, 'saulē': 5798, 'iestiga': 6551, 'lielas': 2324, 'ējušās': 10018, 'krituši': 7070, 'technical': 9017, 'nebraukšu': 8129, 'rockets': 8910, 'piesie': 3995, 'obviously': 6746, 'dinātu': 10794, 'sniedza': 2460, 'ējušas': 4681, 'ķērām': 7870, 'wet': 376, 'sekām': 8337, 'velosipēdi': 10875, 'thousand': 1825, 'mēģiniet': 9482, 'glāzīti': 10509, 'lying': 1098, 'umen': 7880, 'must': 396, 'ji': 820, 'aizvērti': 9251, 'lietoja': 8406, 'priecīgs': 3574, 'ziema': 3745, 'removing': 8559, 'manījis': 10450, 'ratus': 4802, 'rauj': 5097, 'irs': 10735, 'jai': 1830, 'kaporeto': 5690, 'ļauj': 10623, 'faith': 5198, 'samaksā': 10189, 'g': 266, 'frescoes': 8589, 'pretty': 833, 'woodcutters': 5060, 'brigāde': 7636, 'sudden': 5120, 'piet': 8877, 'ienāk': 3695, 'bitches': 7349, 'hurts': 9768, 'parkam': 6784, 'waiter': 1740, 'gali': 7676, 'attālinājās': 8011, 'ēnā': 3700, 'unk': 10803, '0': 3144, 'ck': 2193, 'ējusies': 3972, 'upset': 4931, 'civiliz': 7162, 'ādu': 9277, 'vērt': 10546, 'padusē': 6606, 'sirdīgs': 10073, '-@@': 10327, 'nostādīja': 4316, 'degli': 7736, 'glorious': 9636, 'nakt': 10936, 'vilcienā': 3603, 'lāties': 7558, 'can': 128, 'other': 173, 'čabināja': 7275, 'hey': 6614, 'somehow': 8460, 'uzdzēru': 9375, 'then': 90, 'hospital': 343, 'january': 6882, 'nosvī': 8720, 'tība': 6080, 'ac': 1450, 'patīka': 5293, 'veselī': 5982, 'nejau': 3897, 'veida': 7783, 'aleju': 4684, 'radinieki': 10129, 'draft': 3525, 'sacīt': 4948, 'devās': 4959, 'carriage': 574, 'žoga': 4254, 'neaizmirsīšu': 8478, 'menis': 7298, 'offensive': 1804, 'ķer': 4555, 'lokarno': 1758, 'grāma': 6185, 'lan': 5106, 'pince': 8182, 'stay': 439, 'pagriezās': 2062, 'mai': 2025, 'stipra': 6600, 'affectionate': 9815, 'piedodiet': 2477, 'ūsām': 4736, 'nekādu': 2505, 'av': 5173, 'darīju': 5384, 'slikts': 6253, 'fle': 9519, 'ļļiem': 10559, 'īstu': 7293, 'fronti': 1327, 'bea': 9038, 'vinnēja': 9566, 'tik': 146, 'sun': 785, 'jumā': 5019, 'eļ': 8228, 'inds': 9949, 'straume': 3095, 'nekust': 10100, 'vieglus': 8035, 'locekļ': 7255, 'kakla': 10411, 'diet': 1747, 'explained': 4720, 'hunting': 3929, 'dzelzceļa': 1476, 'gondolu': 9613, 'proprietor': 7773, 'branches': 2029, 'izdzē': 10872, 'department': 10191, 'bija': 29, 'nošāvu': 6527, 'strī': 9318, 'wife': 877, 'izvē': 9331, 'atvaļinājums': 6207, 'vaļ': 3014, 'ātrāk': 3845, 'medi': 5700, 'simies': 1235, 'dza': 2408, 'parunāties': 5153, 'giem': 6642, 'pārredzēt': 7221, 'matt': 7904, 'žā': 5675, 'penny': 8431, 'ģenerā': 7082, 'punktus': 4597, 'ņoja': 9669, 'bowls': 10426, 'racing': 2645, 'avoided': 5682, 'prisoner': 3893, 'nepūl': 7579, 'vis': 703, 'sea': 3465, 'perona': 5146, 'zābakus': 5334, 'krūšu': 6558, 'likās': 524, 'beaten': 3727, 'opera': 6962, 'ceased': 7303, 'division': 5661, 'kļūsti': 3982, 'lidotu': 4003, 'tren': 10818, 'stresa': 2302, 'keeping': 2715, 'aiz': 122, 'spinner': 6377, 'world': 1685, 'zābaku': 10099, 'ened': 3152, 'ky': 3798, 'šu': 288, 'ieejas': 7912, 'viva': 8418, 'patīkams': 6166, 'gudri': 6428, 'sāks': 4753, 'sapie': 10593, 'pienākusi': 9252, 'paēst': 1832, 'redzējāt': 3963, 'large': 3553, 'sagrau': 4202, 'cooked': 1274, 'vara': 4363, 'muši': 5269, 'austriju': 9156, 'strain': 9784, 'hospitāli': 1191, 'campanile': 4990, 'shoved': 3277, 'atsūtīšu': 3309, 'akcentu': 8958, 'mirror': 3343, 'lama': 10553, 'vīzi': 10825, 'sīs': 3732, 'rādītāja': 10960, 'pievien': 10207, 'joku': 3440, 'laukā': 852, 'blūzes': 9567, 'tiec': 5345, 'čincano': 5503, 'klāj': 6146, 'nothing': 259, 'signor': 981, 'dugout': 2007, 'gulējāt': 9948, 'hun': 2609, 'vienu': 443, 'fran': 2290, 'garīdznieku': 8160, 'ietis': 10908, 'led': 780, 'pēkšņi': 1284, 'tiesa': 4040, 'cloud': 5167, 'septi': 5846, 'lielāku': 8361, 'sail': 8817, 'cilvēki': 1330, 'sastapu': 3088, 'vokere': 6172, 'pazīsta': 9602, 'jamās': 10958, 'neliela': 4143, 'hour': 4656, 'ripped': 8249, 'cutting': 7730, 'through': 203, 'ready': 2020, 'find': 701, 'iles': 5783, 'pienāca': 1833, 'klin': 4929, 'slap': 6184, 'kan': 4364, 'zdams': 9148, 'ens': 2426, 'nenošaus': 9227, 'tell': 236, 'dažām': 5282, 'vienības': 3450, 'bei': 3860, 'smējās': 915, 'mīgs': 4373, 'ledus': 4068, 'october': 4620, 'hard': 424, 'wing': 5353, 'ienīda': 5397, 'pavērot': 9798, 'ējušies': 8019, 'smejamies': 10309, 'šajos': 10487, 'vienalga': 1131, 'grāfs': 2488, 'nelai': 4871, 'guļu': 4952, 'ži': 7394, 'apr': 8498, 'archite': 10927, 'cietum': 10865, 'vigor': 8631, 'apstājusies': 5471, 'tops': 3518, 'veika': 8401, 'mācījās': 6449, 'mach': 10753, 'tajā': 1046, 'mei': 4868, 'leaves': 1585, 'bread': 3171, 'ronas': 5178, 'mounted': 5603, 'precējies': 3147, 'ating': 6250, 'zdamies': 6350, 'matronu': 6902, 'summer': 1041, 'rotā': 5756, 'all': 51, 'allowed': 10455, 'beard': 1372, 'medals': 4102, 'nolik': 2976, 'boxing': 3332, 'get': 105, 'passed': 680, 'domājot': 4094, 'novilka': 5401, 'iestrē': 6590, 'people': 322, 'almost': 778, 'salie': 6811, 'vēl': 92, 'british': 1064, 'store': 7033, 'stand': 1221, 'gotten': 2200, 'bāra': 3417, 'cigare': 7609, 'segu': 3677, 'lūkojās': 9455, 'celiet': 4334, 'job': 4447, 'stiprs': 2636, 'virsotni': 9605, 'smaga': 4260, 'sleeping': 3408, 'šautenēm': 3667, 'aplika': 4474, 'dušas': 5746, 'sākšu': 5786, 'silhouettes': 4688, 'drūmas': 7297, 'iemesls': 6539, 'domātu': 7490, 'sprukās': 8564, 'ten': 891, 'redzēsi': 8641, 'bīstamas': 8781, 'teeth': 3583, 'atbrauks': 9409, 'nekam': 5015, 'quie': 5998, 'ēkas': 6424, 'patriotic': 8230, 'ator': 9044, 'vingr': 9506, 'sare': 5416, 'pamāju': 3809, 'voice': 5016, 'ticīga': 7281, 'gara': 1701, 'atņēma': 9563, 'evening': 1203, 'redzēts': 8229, 'uzlab': 10077, 'ks': 381, 'debesīs': 10109, 'sabiedr': 6034, 'sola': 3018, 'tēju': 6592, 'ķir': 6970, 'd': 172, 'glass': 400, 'tēvs': 974, 'divus': 2011, 'piestāv': 6738, 'did': 100, 'polite': 4923, 'speaking': 4476, 'zvana': 3619, 'lēs': 3863, 'cra': 4338, 'ņem': 1582, 'wherever': 4245, 'bore': 6710, 'dub': 7567, 'pot': 6770, 'lock': 7801, 'takas': 9181, 'degvielu': 9476, 'sānie': 10677, 'apsēsties': 3317, 'vieno': 6316, 'beidzās': 6687, 'ģimenēm': 9999, 'cās': 7146, 'handikapu': 3953, 'putting': 4457, 'skatienu': 4477, 'kumā': 9391, 'lucky': 4881, 'rang': 2036, 'major': 305, 'kop': 5983, 'nogriezti': 6381, 'chart': 8662, 'vārds': 1055, 'consul': 5986, 'lagū': 6219, 'dest': 8998, 'kls': 4127, 'slē': 4417, 'šveici': 5500, 'jumi': 9630, 'mēģ': 10907, 'aizslietņus': 8064, 'change': 3856, 'baidījos': 3406, 'bateri': 7072, 'grambās': 7368, 'rack': 5762, 'better': 268, 'venēcijas': 8210, 'vienās': 8390, 'tiksiet': 10496, 'zil': 10548, 'taka': 5055, 'twisted': 5866, 'noklā': 7069, 'avo': 7807, 'ditches': 5768, 'apkārtne': 4496, 'čeku': 3910, 'impression': 5497, 'taisnība': 3210, 'noviet': 7111, 'daudzas': 7785, 'turpinās': 10062, 'kat': 5412, 'nestrīdēsimies': 7979, 'saunderss': 6990, 'zel': 10942, 'kap': 5747, 'salāpīs': 9353, 'tikties': 6004, 'mācītāju': 1207, 'miles': 8852, 'ēdu': 3568, 'grena': 9311, 'glītas': 9666, 'klis': 2683, 'chewed': 5936, 'stāvē': 6009, 'izkāpt': 6384, 'pilsētas': 1465, 'mās': 3187, 'domādams': 4480, 'os': 471, 'bļauj': 5425, 'ameriku': 5771, 'garage': 8132, 'zvaigznītes': 4807, 'gaili': 6554, 'pateicāt': 9231, 'loses': 9547, 'taisās': 10045, 'bri': 3076, 'nonsense': 2457, 'kritis': 5125, 'šāvu': 5509, 'right': 124, 'turējos': 1996, 'formā': 3370, 'dēj': 6053, 'nesis': 5645, 'dzie': 3651, 'personā': 9189, 'biņu': 9827, 'biļetes': 5179, 'bieži': 2468, 'manera': 1202, 'stī': 2240, 'tiktu': 2815, 'dze': 2005, 'neiešu': 2771, 'forty': 5115, 'āks': 5834, 'almonds': 6832, 'spent': 6871, 'hot': 807, 'zarnas': 6965, 'sievu': 8113, 'ell': 8851, 'virzījās': 1976, 'iedomāties': 3090, 'aprei': 7096, 'sastrīdēsieties': 7510, 'napoleonam': 6400, 'svē': 4963, 'smoked': 6726, 'forgive': 8393, 'majoru': 3920, 'novēlu': 9890, 'obligācijas': 10139, 'cool': 1357, 'room': 198, 'tīšu': 8603, 'faithful': 6326, 'ragavas': 6373, 'capracotta': 7185, 'amerika': 7470, 'operating': 7842, 'tomā': 8274, 'spēcī': 9834, 'pāries': 5379, 'dzeram': 3600, 'atkāpties': 3805, 'spēcīgi': 9543, 'ashes': 6535, 'tevi': 269, 'pielēja': 1913, 'lam': 2873, 'skaist': 3678, 'fingers': 1849, 'noģērb': 8829, 'tādas': 1381, 'soļoju': 4379, 'cos': 3449, 'āķēja': 9911, 'lowered': 5292, 'dzīvojamās': 8639, 'šampanieša': 9158, 'karuzo': 8015, 'sajukumu': 9656, 'kamēr': 332, 'pistole': 3514, 'loos': 5196, 'marija': 6883, 'vasaru': 4075, 'puskrēslā': 7284, 'atte': 8681, 'thro': 6989, 'meklējis': 10289, 'grandfather': 5300, 'gludi': 6484, 'pagalam': 1627, 'āt': 8575, 'iede': 4924, 'siet': 764, 'aizlai': 6472, 'rac': 7471, 'lidojam': 9720, 'ložmetēj': 7437, 'tunnel': 5607, 'sla': 5868, 'nodevība': 6847, 'ietvarā': 7098, 'cannot': 1214, 'father': 821, 'vēsāks': 3272, 'breathing': 4284, 'kiss': 1856, 'cināja': 2352, 'cimdiem': 9327, 'ow': 10606, 'saredzēt': 3462, 'nogādājām': 9406, 'glazed': 10057, 'cepurēm': 8939, 'steadily': 2319, 'uzņems': 7833, 'vēdera': 2980, 'slimniekus': 4286, 'apprecēties': 2567, 'rucksack': 2838, 'bad': 402, 'aring': 3933, 'ieņemtu': 6282, 'lielākus': 10273, 'ciema': 10983, 'balss': 4872, 'ķiem': 7421, 'atšķīra': 8934, 'scalp': 5130, 'neprot': 8218, 'trīs': 383, 'atnesīs': 8809, 'pastaigājāmies': 6960, 'finish': 2547, 'saārdī': 10476, 'tīri': 2485, 'vajadzība': 7721, 'izskatījies': 10518, 'neģēli': 7992, 'cep': 8903, 'paspieda': 5736, 'uden': 10999, 'svītru': 5313, 'čiem': 5902, 'games': 6199, 'velc': 10534, 'politely': 9377, 'ejā': 5483, 'shi': 5057, 'daylight': 1562, 'ieveda': 6773, 'slie': 4292, 'drosmī': 9591, 'ieni': 2103, 'velti': 3789, 'ajām': 5133, 'antoniju': 5246, 'koks': 8839, 'tukšas': 4173, 'zirgus': 3835, 'unbuttoned': 9537, 'sel': 8469, 'ists': 5650, 'ristus': 8580, 'istab': 6734, 'vairs': 214, 'ges': 10253, 'dzelte': 3900, 'otrajās': 6967, 'sakust': 10568, 'found': 876, 'basin': 2347, 'tām': 535, 'dž': 3496, 'tajiem': 5316, 'sapieru': 8187, 'warm': 1129, 'piepeši': 7674, 'jaunāka': 6923, 'skatīdamās': 7685, 'unreal': 8416, 'stiepuši': 9570, 'floti': 8448, 'nogriez': 9595, 'became': 5355, 'ievainotais': 6130, 'uli': 6884, 'grass': 6215, 'whose': 9952, 'toboggan': 3149, 'lidoja': 4403, 'paths': 4174, 'dzerties': 6286, 'brillēm': 6335, 'ig': 6764, 'border': 6815, 'nākamais': 7577, 'radītu': 8122, 'necessary': 3602, 'visu': 258, 'dienas': 949, 'pro': 1231, 'tava': 1741, 'īstā': 4152, 'pictu': 10879, 'cies': 4836, 'atnāks': 6833, 'never': 218, 'palē': 7253, 'jam': 648, 'uniforma': 5078, 'mazajai': 7031, 'operācijas': 6889, 'puttee': 7778, 'spēli': 7561, 'kār': 2003, 'enriko': 4285, 'nojumes': 5896, 'whe': 10836, 'literally': 7287, 'vagons': 7309, 'ans': 4866, 'bedrēs': 10040, 'pp': 7409, 'pleasure': 3757, 'rokka': 5210, 'dressed': 1655, 'so': 107, 'celis': 4261, 'nailed': 9215, 'sometimes': 406, 'dos': 1652, 'feeling': 889, 'beigas': 902, 'tais': 2139, 'least': 5831, 'tti': 7035, 'breathe': 7724, 'ūdens': 567, 'ca': 729, 'cheery': 8857, 'pienācām': 9444, 'resting': 8325, 'need': 997, 'izgājām': 1668, 'ej': 1733, 'exactly': 3044, 'wheel': 2627, 'fill': 4056, 'trešās': 6724, 'dināt': 7615, 'tusies': 8198, 'cried': 2549, '2': 1535, 'swee': 4494, 'uzska': 8128, 'rat': 10796, 'bainsicas': 2930, 'kādam': 2676, 'vērās': 10033, 'loģiski': 8310, 'expected': 1745, 'ormanim': 2500, 'pado': 9358, 'needed': 3402, 'jumtu': 9368, 'dirty': 1578, 'roofs': 1887, 'fronte': 3645, 'break': 2677, 'terrible': 3027, 'jamies': 8947, '<sep>': 3, 'nīgu': 10304, 'rituli': 5789, 'pases': 3011, 'tress': 9125, 'jūtas': 2614, 'sou': 10573, 'pain': 1589, 'palīdzēt': 3608, 'vienpadsmit': 6280, 'grieza': 6330, 'wide': 1702, 'kaujas': 2739, 'brīdi': 842, 'šis': 646, 'ieraudzījām': 1319, 'vēroja': 6496, 'sešus': 3173, 'privately': 9029, 'mot': 9412, 'kara': 643, 'pistoles': 9860, 'zir': 10698, 'bārda': 5394, 'once': 635, 'loves': 5051, 'punk': 5191, 'aizmir': 10644, 'olas': 7052, 'healthy': 2651, 'mater': 10311, 'dru': 5960, 'mazais': 457, 'neļāva': 7962, 'sacīja': 94, 'upe': 2152, 'brauc': 1090, 'salā': 5074, 'rakstīja': 6712, 'ashing': 6524, 'ievērojamu': 10120, 'rāmies': 10671, 'klausieties': 3074, 'hau': 10635, 'tune': 10025, 'nestuvēs': 4523, 'abpus': 6555, 'nabaga': 2656, 'kad': 91, 'ed': 468, 'karavīrs': 1900, 'mācītāj': 3288, 'papīri': 5423, 'sausage': 5938, 'play': 1059, 'piedzir': 8763, 'palieciet': 5247, 'neliels': 8767, 'plump': 9380, 'nokāpu': 7228, 'onto': 1002, 'gada': 2950, 'communic': 10382, 'ības': 5667, 'wasn': 782, 'custom': 2908, 'mehāniķi': 3714, 'yodelling': 8256, 'gļēvulis': 9895, 'sūtīšot': 10148, 'minū': 10681, 'sagrauto': 8288, 'tiesību': 7292, 'licis': 4229, 'kalnu': 559, 'viņai': 412, 'lieliski': 1322, 'starting': 2568, 'mus': 7016, 'oktobrī': 7181, 'pavadīt': 4907, 'ielām': 2830, '<pad>': 1, 'palik': 9599, 'sinovi': 10184, 'stun': 5581, 'beidzies': 5039, 'luge': 1494, 'undressed': 6125, 'vienībā': 6826, 'bandaged': 8142, 'careful': 2724, 'cases': 8899, 'lietussargs': 7356, 'badly': 1538, 'screamed': 10226, 'straight': 1318, 'ieēdu': 9359, 'panākumi': 10071, 'lin': 8000, 'george': 2817, 'tējas': 5419, 'lon': 7799, 'sēdē': 8119, 'apseg': 10896, 'pacientu': 8161, 'au': 500, 'prie': 2441, 'uguni': 4109, 'umi': 2147, 'virzījāmies': 5927, 'nenāca': 8324, 'nets': 9921, 'majā': 10552, 'rome': 1395, 'airēju': 1449, 'uzzinā': 3510, 'sniegs': 830, 'briesmīga': 4441, 'ying': 5328, 'pelē': 8500, 'klāstīt': 9263, 'whi': 6502, 'viens': 277, 'pordenone': 3073, 'raudzījās': 7066, 'ielej': 8896, 'jautā': 3502, 'beginning': 3456, 'ieēst': 7377, 'dažiem': 4026, 'drosm': 10575, 'grāmata': 10535, 'izrunā': 8072, 'lode': 5026, 'promoted': 8110, 'wa': 2142, 'izstiepjas': 7975, 'karot': 1903, 'grand': 806, 'tāpēc': 398, 'iespie': 8359, 'nolemts': 6743, 'vest': 3610, 'pulkam': 6831, 'kro': 7474, 'iegājām': 1985, 'temperat': 10848, 'vēlāk': 894, 'labi': 162, 'ciešami': 10043, 'clothing': 4141, 'ignorant': 8471, 'īgas': 8710, 'pac': 8226, 'iebāza': 7270, 'šitā': 10864, 'bonello': 164, 'sprau': 4456, 'kļūs': 10451, 'gen': 3191, 'mostly': 4755, 'glāba': 7722, 'feather': 9697, 'baļķis': 6572, 'flask': 10065, 'dažus': 2187, 'kes': 4251, 'aicinā': 8458, 'ities': 10230, 'iecir': 9601, 'antonijs': 3698, 'drēbes': 2225, 'mēģinā': 8565, 'aprakstī': 9361, 'times': 1541, 'nos': 1560, 'apstājāmies': 2045, 'iestājās': 4955, 'ciematā': 9010, 'most': 1715, 'anza': 7196, 'ķieģeļcepļa': 4718, 'sho': 5023, 'papē': 8860, 'temperatures': 10389, 'dzeriet': 7787, 'vietā': 792, 'sensation': 8584, 'wines': 3593, 'via': 3212, 'notikdams': 7412, 'ceļmalas': 6748, 'zināt': 865, 'gusts': 9883, 'cog': 10913, 'talked': 1340, 'brīdī': 3713, 'patient': 2237, 'ceļā': 1407, 'flau': 5305, 'cards': 5414, 'negribu': 885, 'manuprāt': 4032, 'virzienā': 5764, 'slapja': 9399, 'sam': 9824, 'tikām': 3875, 'bijuši': 2758, 'oja': 8350, 'uzspridzināts': 8986, 'looked': 120, 'plī': 4805, 'atver': 6545, 'pale': 8065, 'izcelt': 6827, 'engineers': 4973, 'feels': 9450, 'kājām': 986, 'šveicaram': 6237, 'chute': 9728, 'rindā': 8490, 'let': 222, 'smalkmaizīšu': 10079, 'turienes': 8476, 'into': 188, 'waking': 3857, 'frontē': 1034, 'aizsoļoja': 6601, 'blēņas': 3103, 'skum': 5181, 'iekškabatā': 8191, 'leitnan': 10618, 'laist': 4610, 'iedabūt': 7984, 'cir': 2640, 'neredzēs': 7388, 'seržanta': 8001, 'brokastīm': 1577, 'taupī': 10384, 'reading': 3681, 'breath': 4788, 'negribētos': 5393, 'apvalkos': 9509, 'teikšu': 4762, 'karabinieris': 5186, 'šķērsojām': 9194, 'gage': 988, 'pārzinis': 9197, 'spēlē': 2812, 'nakti': 675, 'pistoli': 2454, 'pās': 6758, 'nogurusi': 1880, 'cheap': 9505, 'listened': 2377, 'seat': 715, 'ace': 2654, 'oda': 3169, 'ain': 3796, 'nākamo': 4096, 'poor': 1905, 'chest': 3950, 'beidzot': 858, 'trīsdesmit': 2396, 'kādām': 3093, 'bī': 3994, 'izbrau': 4359, 'ez': 4723, 'lieli': 3162, 'iedzērām': 3442, 'lejā': 420, 'pavisam': 403, 'atklāta': 4458, 'piedurkni': 5031, 'swimming': 5832, 'formalitātes': 7839, 'neuztrau': 8388, 'ile': 8671, 'īri': 8679, 'sarkanā': 8999, 'mēšu': 9404, 'flu': 5872, 'piedāvāju': 9531, 'raisīt': 8529, 'sardzi': 10472, 'fo': 3246, 'gulšņus': 9111, 'šoferim': 4546, 'iekļuvuši': 9362, 'barā': 7568, 'gāz': 8845, 'atrisa': 7436, 'pārtikas': 10293, 'pacēlās': 3137, 'saluted': 4861, 'tavu': 1572, 'ciju': 3052, 'veicas': 4734, 'civi': 8599, 'arm': 660, 'vecāks': 10417, 'tilta': 1260, 'tikko': 1721, 'bārā': 2926, 'both': 436, 'lepnas': 5636, 'uzšu': 8530, 'brāļi': 9048, 'šīm': 5772, 'zaļ': 6997, 'ilgi': 479, 'steep': 3323, 'vilciena': 3127, 'playing': 2783, 'canal': 3358, 'soldiers': 1941, 'jutu': 670, 'losing': 3452, 'ounded': 6577, 'divritenis': 9928, 'dzīvos': 10580, 'otāji': 7978, 'apbrīnojami': 4937, 'novembra': 3998, 'offic': 10703, 'atrodas': 1692, 'only': 231, 'sliktas': 5350, 'wanted': 429, 'wop': 5598, 'himself': 2094, 'hello': 6375, 'thick': 2158, 'es': 19, 'apmesties': 3109, 'shaw': 10244, 'šau': 1268, 'gone': 358, 'bit': 1472, 'automašīnas': 6201, 'stāvam': 9471, 'ziemeļiem': 1820, 'crow': 10689, 'citas': 1099, 'uzlika': 3084, 'noise': 2344, 'mazgā': 5498, 'stalled': 3174, 'ķī': 3285, 'iespīdēja': 5668, 'skār': 5688, 'ar': 35, 'konjaka': 869, 'vietu': 1410, 'hedges': 7260, 'sitas': 10050, 'wh': 9702, 'means': 10531, 'žē': 4186, 'akme': 9271, 'dr': 1967, 'sider': 8227, 'roka': 2469, 'mulsi': 4243, 'doties': 1965, 'nokau': 7392, 'sort': 2569, 'rau': 2775, 'aimo': 321, 'wearing': 5647, 'malaria': 6422, 'lunch': 1454, 'sēdekļa': 2131, 'cted': 2948, 'baļķi': 2803, 'otro': 6696, 'dining': 6154, 'damas': 6591, 'sadi': 7219, 'cathedral': 2697, 'vicekonsuls': 6196, 'gudroju': 7201, 'vines': 3490, 'putekļ': 7899, 'lietū': 595, 'mis': 253, 'zemnīcā': 3424, 'varbūt': 227, 'um': 1654, 'states': 3940, 'šķī': 2348, 'miegā': 5261, 'court': 5554, 'pamēģināsim': 5821, 'official': 1273, 'garu': 2611, 'ctor': 5833, 'vīra': 8665, 'sanitāros': 9300, 'satvēra': 9917, 'briesmas': 4190, 'nosūtī': 4956, 'ding': 2315, 'kšķ': 3395, 'stundām': 4401, 'lieliem': 5220, 'meitenei': 6503, 'satiku': 7173, 'ieklausījās': 7830, 'ieliet': 7921, 'krouve': 8039, 'sveci': 10209, 'pagaidiet': 8597, 'pelēkās': 8644, 'beyond': 475, 'pīteņu': 5570, 'disgraceful': 7742, 'ler': 8625, 'nekad': 318, 'gūstā': 3267, 'nestuvēm': 3498, 'draugiem': 6716, 'couple': 2370, 'līdzenumā': 2659, 'sp': 1730, 'letes': 2667, 'inn': 4062, 'ģenerālim': 8501, 'mestre': 2641, 'sānceļu': 9051, 'var': 354, 'izdarī': 4098, 'noliecos': 9355, 'jānovieto': 9969, 'filthy': 8080, 'citi': 2442, 'šajiem': 5075, 'themselves': 6932, 'katedrāle': 10260, 'forth': 5291, 'pass': 1597, 'pasēm': 8289, 'izlī': 3803, 'bought': 2002, 'seržants': 3131, 'impressed': 5238, 'piešķir': 6021, 'pract': 7164, 'rādītājpirkstu': 8706, 'adv': 10395, 'ļoja': 10572, 'otajām': 10979, 'līdzīga': 9216, 'pēc': 159, 'dokumen': 5148, 'metāmies': 5044, 'lapa': 8044, 'vairā': 8554, 'ratos': 2597, 'beigtos': 8475, 'fizioterapijas': 10002, 'diferenciāli': 10157, '4': 4808, 'lieliskas': 5296, 'nedarīšu': 8221, 'biju': 248, 'brokastis': 1176, 'mašīnu': 737, 'ielikts': 10363, 'nosaitēta': 10159, 'wi': 3654, 'iegriezos': 3403, 'false': 5706, 'lūpas': 2843, 'ēdama': 9466, 'edges': 7053, 'ložmetēji': 7233, 'nepatikšanu': 6674, 'izniru': 9163, 'vii': 2390, 'bright': 2646, 'id': 3535, 'otie': 7519, 'blo': 9922, 'karei': 10470, 'sāpēja': 2710, 'joks': 8473, 'kst': 3252, 'sākām': 2108, 'columns': 6359, 'cik': 228, 'sno': 7148, 'what': 97, 'professor': 8634, 'pārsējus': 8962, 'liktu': 3921, 'šan': 10590, 'piepla': 6369, 'atgriezies': 2090, 'plac': 10858, 'frightened': 4488, 'atcer': 5717, 'apo': 10588, 'journey': 9136, 'upē': 4151, 'gabalus': 10001, 'simon': 6193, 'american': 505, 'lid': 6544, 'kāps': 8093, 'myself': 739, 'floor': 573, 'bombardment': 2504, 'bitch': 3276, 'uzstā': 4448, 'nodzerties': 6780, 'facing': 7491, 'kāpu': 10682, 'abām': 1123, 'iekams': 1800, 'mīļie': 6031, 'ņēmās': 3971, 'usty': 10954, 'too': 163, 'esot': 450, 'protat': 5327, 'neizdodas': 9993, 'izskaidrot': 4576, 'augumā': 8988, 'acīm': 1139, 'ādi': 6265, 'nokri': 5457, 'defeat': 5930, 'skapis': 6898, 'ledge': 10932, 'strau': 2619, 'caught': 3293, 'tribīnes': 10522, 'rītiem': 3709, 'ļāvos': 9575, 'sirdība': 7758, 'ārst': 4299, 'pavadīja': 10491, 'nepatikšanas': 2548, 'ors': 6006, 'dzīgi': 9483, 'saderēt': 9467, 'izrādī': 9027, 'borromées': 9207, 'laughing': 2416, 'italia': 2809, 'kuram': 9372, 'mig': 9632, ')': 1369, 'apsēdos': 1854, 'pakār': 4080, 'loti': 6243, 'ditch': 4001, 'mier': 7047, 'ieklausījos': 6387, 'ejiet': 1813, 'notīrīt': 7154, 'minesotas': 7751, 'ziņojumu': 8309, 'boy': 387, '6': 4772, 'exhilaration': 8338, 'wagons': 9178, 'pi': 779, 'wait': 1014, 'ļaut': 6441, 'sheet': 4670, 'kušās': 8293, 'ited': 6058, 'teicu': 147, 'piesardzī': 8818, 'kurās': 9719, 'delicate': 4511, 'zemnīcu': 8273, 'novilks': 9501, 'painted': 7774, 'gorizia': 1983, 'radiator': 3993, 'meitenēm': 4311, 'bigger': 6508, 'armiju': 3463, 'nodomājuši': 9788, 'vy': 9978, 'sunken': 10110, 'briesmīgi': 1178, 'apjo': 10106, 'mācītāja': 10183, 'drunk': 881, 'devāmies': 1029, 'kaska': 4553, 'dusies': 5279, 'ejai': 10264, 'electric': 7153, 'locekļiem': 8909, 'ievainots': 1532, 'slee': 5047, 'noturēt': 3351, 'sagā': 10744, 'enty': 10784, 'dīvains': 9906, 'istabā': 404, 'pla': 2899, 'bomb': 5061, 'tātad': 1467, 'kalnup': 4222, 'ļāva': 6245, 'klausuli': 8808, 'glabā': 3281, 'īgs': 3524, 'hands': 695, 'dināju': 5882, 'sacel': 5592, 'anaesthetic': 7113, 'nightgown': 5116, 'darbs': 9935, 'mehāni': 10351, 'sled': 9083, 'posteņiem': 4438, 'ou': 4786, 'mantas': 2668, 'sieva': 1010, 'sporta': 5720, 'orch': 6844, 'velka': 7954, 'vienpadsmi': 8465, 'virsniekiem': 1384, 'inoši': 6112, 'henrijs': 9975, 'pārvaldnieks': 4847, 'nas': 828, 'different': 1584, 'dīga': 5304, 'apgal': 10938, 'eness': 4631, 'mazliet': 540, 'zib': 3638, 'difficult': 4273, 'ches': 5651, 'grāfu': 6242, 'sakal': 5538, 'sociālisti': 4188, 'vājš': 7375, 'mēģināju': 948, 'cerēju': 2620, 'spožu': 9732, 'ī': 464, 'ms': 1182, 'gur': 5040, 'nonā': 5073, 'fellow': 3078, 'potā': 7316, 'ielēju': 5266, 'palūkoties': 5568, 'manage': 8307, 'putināja': 9217, 'booth': 7987, 'zer': 10752, 'atkārtoja': 6515, 'nokar': 6791, 'kopē': 5297, 'gonorrhea': 5728, 'ieleja': 4025, 'lift': 4537, 'ārkārtīgi': 2799, 'atsevišķ': 5245, 'dzirdēja': 6194, 'wness': 7132, 'augumu': 7712, 'mana': 570, 'a': 18, 'ieraudzīju': 586, 'tīrs': 2498, 'paē': 10678, 'operā': 9620, 'sani': 10831, 'ļau': 2054, 'šķembu': 6819, 'varēsim': 4982, 'drosmīga': 5843, 'pitsbur': 6789, 'aukstasinīgi': 6909, 'tāfelīti': 4554, 'aizņemt': 9668, 'fat': 3572, 'uzrā': 10842, 'tabaku': 3570, 'ķirurgam': 7350, 'sīvas': 9542, 'ārsta': 3549, 'pit': 9143, 'grē': 5996, 'mir': 1514, 'uzskatī': 8146, 'atrodamies': 4750, 'damned': 2613, 'sakāt': 6413, 'privātdrēbēs': 7282, 'atzvil': 10350, 'rist': 10729, 'noprasīja': 3533, 'rentgena': 4768, 'ons': 1869, 'nolēmām': 7378, 'tight': 2296, 'skalu': 8922, 'interest': 2959, 'lejpus': 6994, 'tiesu': 7590, 'majoram': 9689, 'dzes': 5361, 'hope': 906, 'pulks': 4642, 'chan': 4898, 'uzzinājām': 8308, 'yourself': 1587, 'laipns': 1842, 'kādu': 418, 'nospiedu': 10103, 'ņiem': 1403, 'dakter': 2789, 'wil': 9877, 'galv': 5626, 'turn': 1183, 'kafejnīcā': 3472, 'trauks': 6940, 'hurt': 946, 'izdarīji': 9716, 'threw': 3855, 'otu': 2332, 'hospitālim': 8804, 'apmierināts': 2737, 'runājis': 10447, 'līdz': 230, 'lielisks': 2268, 'piedzīvojis': 4976, 'wal': 3546, 'aizmigu': 3467, 'green': 1698, 'ends': 6688, 'iti': 7362, 'tādu': 724, 'padeva': 4892, 'karavā': 8751, 'effici': 8042, 'unwrapped': 8919, 'virsas': 9401, 'dugouts': 9518, 'gļēvu': 10637, 'iedzert': 2093, 'soto': 5948, 'answer': 4775, 'still': 355, 'earth': 3443, 'skriešanās': 4889, '7': 9314, 'pretim': 6492, 'dvēsele': 4712, 'bags': 1175, 'cast': 5605, 'tī': 1088, 'ējas': 4754, 'makaronus': 6175, 'iemīlējies': 5552, 'kiem': 1794, 'mīļi': 5359, 'examined': 6358, 'daļā': 7835, 'pli': 8698, 'beigsies': 2455, 'ēti': 7446, 'bains': 4862, 'nelikās': 3938, 'liels': 938, 'spīdīgo': 6753, 'nēsāju': 7759, 'sēdeklī': 2935, 'sagrautajai': 7575, 'running': 1995, 'new': 662, 'dabūtu': 4344, 'prātī': 5042, 'glāzes': 1640, 'sta': 892, 'mājā': 2052, 'reti': 3720, 'sacīkstēm': 3146, 'izbeidz': 2774, 'ct': 1638, 'search': 3784, 'pasakiet': 3176, 'balkona': 3106, 'šais': 5878, 'dabūjāt': 6091, 'kājā': 6357, 'hero': 9964, 'lived': 1228, 'kianti': 6499, 'gaišiem': 10516, 'iedegusi': 10457, 'nesējs': 9799, 'tam': 350, 'plenty': 1359, 'sī': 1364, 'matiem': 2652, 'konjaks': 3264, 'bo': 1598, 'prātu': 4867, 'zar': 10445, 'translated': 6575, 'prātīga': 9250, 'shelter': 3824, 'peldēja': 8415, 'occasionally': 8557, 'kārto': 6323, 'mednieks': 5459, 'sunlight': 1753, 'vajadzīga': 5590, 'prieku': 2671, 'lire': 957, 'rūpīgi': 5066, 'ajiem': 6891, 'cks': 3303, 'smacīgi': 7869, 'posteni': 5489, 'aizdzī': 8224, 'japalac': 4077, 'disgr': 8414, 'sighted': 9122, 'kne': 5069, 'mutes': 5890, 'cand': 9128, 'nevēlaties': 3192, 'climate': 10182, 'cormons': 10121, 'telpā': 1802, '\\\\': 10562, 'sildī': 6735, 'aties': 3124, 'krau': 4050, 'nazi': 4527, 'atslēgu': 6041, 'iegrozī': 6088, 'klai': 7494, 'aizvēr': 4508, 'sakiet': 4661, 'draw': 8164, 'feris': 8484, 'redzēsiet': 7192, 'archway': 4464, 'armoire': 2900, 'cl': 6252, 'drosmīgs': 4939, 'malās': 6623, 'šādu': 8041, 'want': 144, 'dodos': 9264, 'angli': 10811, 'uzvarēja': 4163, 'mā': 655, 'biji': 1815, 'lūko': 7908, 'cetur': 7882, 'zeme': 1156, 'under': 232, 'kties': 6434, 'kartupeļu': 3029, 'noslī': 5754, 'uzbēr': 10797, 'ciemā': 7517, 'strips': 5522, 'grabi': 6469, 'pilsētiņu': 9884, 'skatījos': 1334, 'nerunāju': 6404, 'nekādas': 1672, 'mugurā': 2428, 'ieņemt': 3299, 'greznā': 7933, 'ārstiem': 8109, 'stab': 8744, 'nepatīku': 9423, 'nosau': 8984, 'andar': 10544, 'nijā': 6640, 'comb': 10783, 'hasn': 5417, 'došu': 3739, 'niecīga': 6391, 'pazū': 6877, 'krei': 10820, 'manī': 2099, 'remind': 5290, 'nogriezt': 6107, 'somas': 1116, 'kum': 4660, 'skūpstīt': 7814, 'mundrāks': 10478, 'nus': 4405, 'tooth': 10853, 'atspiedušies': 10011, 'blew': 1867, 'goda': 4148, 'driver': 755, 'pakaļgalu': 7423, 'vecā': 2335, 'blūzi': 8449, 'po': 911, 'salted': 8933, 'tajai': 10963, 'temperatūra': 2248, 'raining': 936, 'allaž': 2823, 'turēja': 2048, 'sagādāt': 9357, 'vē': 908, 'ārpusē': 7585, 'dā': 976, 'chianti': 5403, 'cē': 4954, 'gged': 9954, 'coldly': 5633, 'lietas': 5124, 'žurnālus': 10459, 'paka': 4741, 'amerikāņu': 1096, 'tiņa': 9472, 'se': 544, 'born': 3558, 'ought': 620, 'atveda': 3329, 'palāta': 7480, 'played': 6531, 'jaun': 9891, 'information': 10087, 'ably': 10092, 'braukšanas': 5234, 'pressed': 5235, 'skaļi': 7514, 'sm': 2374, 'jautājums': 3571, 'gandrīz': 496, 'noskatīties': 6450, 'izklausās': 10104, 'kalniem': 1356, 'pazī': 2635, 'sucking': 7937, 'whisper': 9289, 'uzņēm': 10918, 'šāva': 2301, 'flap': 7554, 'uzlē': 10488, 'smaidīja': 1335, 'nedzeru': 8757, 'līdzi': 395, 'stāvoklis': 2822, 'krastam': 3795, 'cieties': 8252, 'embankment': 1142, 'stūri': 5699, 'izdzēru': 2272, 'eyes': 831, 'toreiz': 2132, 'karaspēka': 2686, 'būšu': 931, ';@@': 3862, 'palikt': 1233, 'drukns': 5094, 'edge': 1287, 'udines': 3480, 'salāpī': 6548, 'stick': 2393, 'saved': 4769, 'cing': 8749, 'ial': 7321, 'izbeigsim': 9839, 'vilka': 1896, 'pārsēja': 7458, 'uzliesmojums': 7039, 'rindām': 6489, 'otas': 4391, 'celmi': 5884, 'pleas': 10973, 'drēb': 7710, 'spar': 7972, 'stāstīt': 4469, 'uniformu': 7009, 'žur': 8452, 'paciest': 8489, 'pušies': 10737, 'frontier': 4390, 'zemajiem': 5028, 'nam': 6364, 'skaistas': 3311, 'tikšu': 8100, 'vārda': 1992, 'savādi': 6691, 'patau': 6094, 'nekādās': 8542, 'vec': 2017, 'pontontiltu': 9257, 'kliedz': 10510, 'manas': 903, 'baltas': 5091, 'kuriem': 5281, 'takes': 7611, 'loving': 5386, 'izskatījās': 382, 'leaving': 5295, 'spīdīga': 10162, 'atpogāju': 9321, 'medicīnisko': 8885, 'hear': 760, 'zināju': 1363, 'ick': 3328, 'klausies': 3806, 'stāvus': 5271, 'che': 6331, 'stat': 3684, 'upturned': 4063, 'signs': 10456, 'nolūkā': 9396, 'tīgāks': 7095, 'sports': 6284, 'instead': 2720, 'religious': 5315, 'pidž': 7088, 'od': 7612, 'cord': 3833, 'sarkano': 9886, 'piespiedu': 10101, 'lielgabali': 3797, 'vienkāršāk': 10250, 'gam': 2322, 'dziedāšu': 6987, 'great': 491, 'oni': 10255, 'nācija': 10360, 'uzdien': 9435, 'mat': 3625, 'vērā': 6810, 'pastaigāsim': 9693, 'varēšot': 5406, 'doub': 6407, 'clo': 6788, 'atņemt': 8536, 'tourniquet': 10430, 'canvas': 1115, 'stuck': 3042, 'broka': 10705, 'boys': 1963, 'ciematu': 4278, 'pastaigāt': 6481, 'vir': 2389, 'nesīšu': 4692, 'gai': 1808, 'trim': 2022, 'knocked': 2675, 'ene': 6808, 'aizklā': 9856, 'ņems': 10905, 'kalpot': 9755, 'angry': 2604, 'malām': 3150, 'daudz': 171, 'aizvil': 5096, 'kanāla': 6234, 'prātā': 1481, 'naktīs': 2684, 'mājup': 2863, 'ma': 373, 'iegāz': 6955, 'sekoju': 8661, 'ilgu': 10190, 'sacīkstes': 3548, 'piezvanī': 7599, 'cart': 6627, 'smēķēja': 5017, 'rows': 4083, 'trīsreiz': 9184, 'pirksts': 7528, 'mazas': 2718, 'sajutu': 2533, 'ears': 5800, 'ālais': 8700, 'izsau': 6936, 'pamodināšu': 8835, 'hall': 815, 'skatīdamies': 2409, 'uzaug': 8479, 'apli': 9348, 'dīsies': 4575, 'pēdēj': 10946, 'else': 598, 'chuh': 4266, 'llo': 10897, 'līda': 9137, 'putekļus': 5180, 'nepazinu': 9211, 'matadatas': 6198, 'gū': 3513, 'using': 4244, 'izlasīju': 5102, 'wilson': 7540, 'centr': 8348, 'tēt': 9955, 'žokejs': 9772, 'laikam': 346, 'unless': 2250, 'hotels': 3545, 'defin': 6271, 'apgalvojumu': 8602, 'tāju': 9153, 'labo': 2586, 'backward': 8314, 'bezjēdzīga': 7902, 'pārguris': 10179, 'stregu': 10423, 'mērci': 6084, 'ieģe': 10607, 'vijas': 10627, 'brīdim': 3750, 'bum': 8201, 'oties': 1653, 'kartupe': 10720, 'aded': 10736, 'projectile': 8184, 'ēšanu': 8956, 'paliktu': 5255, 'šam': 7149, 'lija': 1037, 'tiešām': 773, 'ieraudzīja': 4839, 'would': 80, 'cā': 2539, 'cīņas': 2954, 'mixed': 5619, 'lūgšu': 7085, 'separate': 8677, 'dāmies': 10599, 'talking': 993, 'tion': 3241, 'mustache': 2821, 'vēt': 6035, 'sak': 8592, 'varētu': 335, 'ospedale': 2001, 'jealous': 4234, 'dic': 9134, 'she': 64, 'listen': 2188, 'virsniekam': 9549, 'sānielā': 6454, 'mping': 6069, 'sniega': 3590, 'delightful': 8339, 'mirdzēja': 6643, 'ēdīsim': 5325, 'pajuks': 5088, 'tukšo': 5530, 'jāiz': 10055, 'sāksies': 1570, 'malā': 1168, 'iegāja': 2072, 'pad': 10541, 'nolē': 10939, 'dates': 5007, 'pārstā': 5901, 'varēju': 1933, 'neatbildēja': 6246, 'smē': 5072, 'dži': 10747, 'kleopatru': 9262, 'nodarī': 8856, 'sakār': 8147, 'nopietns': 5229, 'norādī': 9564, 'separ': 10816, 'palicis': 2057, 'ienā': 5738, 'dollars': 6530, 'viskija': 3616, 'ieraudzī': 5139, 'baidīties': 7230, 'rokas': 812, 'sneaking': 7638, 'viceconsul': 6143, 'mie': 2707, 'ship': 7983, 'lielāka': 2828, 'loved': 1429, 'dienvi': 7895, 'log': 8810, 'kau': 2026, 'dzersiet': 10144, 'metā': 10721, 'interes': 4483, 'maid': 5940, 'fs': 7820, 'atpūties': 7572, 'preci': 7209, 'stipr': 5811, 'hospitāļi': 5994, 'joprojām': 2181, 'como': 4621, 'forget': 1722, 'pilsētiņa': 4992, 'brīnum': 3958, 'with': 43, 'medical': 2101, 'suņi': 7967, 'swept': 10029, 'rag': 10890, 'iegrūdis': 7261, 'zvanī': 8719, 'champ': 10981, 'eju': 5635, 'strīd': 8121, 'tīra': 2867, 'vajadzīgi': 4535, 'pagal': 9904, 'dim': 10297, 'galīgi': 6538, 'nošāvis': 6513, 'klubā': 5046, 'mīkst': 4297, 'izvilka': 5443, 'ijas': 6664, 'bombardēšana': 5939, 'nevajadzēja': 6995, 'varējāt': 7191, 'vasarā': 7645, 'mechan': 9616, 'spēlēja': 8666, 'barn': 2369, 'sastrēgums': 8996, 'bi': 847, 'guļ': 2531, 'slimības': 7679, 'interesanti': 1958, 'itā': 5006, 'konfiscēta': 10145, 'gi': 1097, 'agrāk': 1376, 'mitra': 7622, 'kolonnā': 3217, 'mortar': 4073, 'laime': 4935, 'niece': 7225, 'zemenēm': 9129, 'kāju': 1398, 'lidmašīnas': 7193, 'dušās': 8693, 'brauksim': 1132, 'ps': 2555, 'paredzē': 8052, 'izkļūt': 9266, 'caporetto': 4885, 'garlaicīgi': 9276, 'bran': 10809, 'aizvijas': 10495, 'dāvanām': 9539, 'klājās': 3527, 'smiled': 545, 'tīkli': 6845, 'neatradu': 8800, 'waiting': 2299, 'vei': 1716, 'pacēla': 1126, 'mister': 3400, 'seržantiem': 6637, 'mīlēju': 4505, 'grožus': 7222, 'nevarētu': 1480, 'ceļam': 1663, 'jutī': 3300, 'līnijas': 4418, 'crossed': 975, 'atvedīšu': 6766, 'gultu': 3532, 'lieliska': 5869, 'ēdienu': 7210, 'dēls': 4865, 'apklusis': 8791, 'stir': 7543, 'stīm': 10854, 'rokās': 1897, 'anc': 7963, 'sweating': 4362, 'ikviens': 6861, 'apjautājās': 10133, 'dod': 2334, 'teiksmīgas': 10525, 'anxious': 4249, 'below': 867, 'jaunā': 5302, 'awfully': 727, 'rowed': 1065, 'iemin': 5565, 'prefers': 6958, 'sabozies': 7552, 'vu': 1393, 'seko': 6347, 'colonello': 9493, 'button': 2920, 'pēcpusdienās': 4309, 'metis': 8302, 'aymo': 368, 'stipri': 859, 'properly': 8183, 'helmet': 4105, 'sie': 4737, 'grefijs': 2209, 'piano': 3851, 'criminal': 5837, 'food': 2310, 'dziļ': 3245, 'cepuri': 1583, 'paturēja': 6836, 'grade': 8576, 'paja': 7659, 'medicīnas': 8115, 'runājām': 3488, 'ill': 4564, 'klausī': 5405, 'met': 1066, 'panā': 3278, 'vesela': 7699, 'rēķ': 10481, 'sajū': 5107, 'upstairs': 1947, 'wee': 10614, 'nogriezāmies': 2864, 'drīkst': 4167, 'zemi': 1501, 'virtuve': 7898, 'spirdz': 8938, 'posteņa': 9736, 'ai': 582, 'jūtaties': 2231, 'kapteiņa': 8493, 'slapjiem': 7285, 'road': 134, 'slī': 2055, 'leaned': 2106, 'smile': 8148, 'question': 2251, 'nijas': 8596, 'tobr': 10672, 'pāta': 5823, 'trunks': 6067, 'meet': 2792, 'nedomāt': 4690, 'pēdas': 2309, 'vācu': 2594, 'gaiteņa': 4241, 'pasaukt': 6291, 'līs': 6583, 'neesot': 1617, 'krū': 1726, 'join': 5781, 'noņem': 8653, 'dziļa': 9054, 'kreisa': 9940, 'viem': 10398, 'pārējos': 6081, 'leaning': 6929, 'ting': 1470, 'būtu': 193, 'salīdzinājumā': 7535, 'nācis': 4434, 'ninety': 7803, 'ņemot': 7295, 'kārtots': 5545, 'pēdām': 6927, 'mountains': 330, 'nopelniem': 8558, 'ugunsgrē': 7123, 'lost': 1148, 'employment': 10346, 'lasted': 8541, 'yellow': 3783, 'pittsburg': 7746, 'anybody': 2169, 'ab': 1252, 'neredzē': 8730, 'plec': 10945, 'rīt': 1062, 'bā': 1321, 'feel': 303, 'mb': 2983, 'cy': 3379, 'balto': 5307, 'sadzina': 7411, 'hung': 1937, 'cirtu': 5458, 'shoe': 5013, 'desk': 3901, 'gena': 8440, 'vējš': 668, 'pirmajām': 7400, 'apos': 14, 'aizbrauksim': 6615, 'nebēdā': 9592, 'nori': 2934, 'viņām': 3366, 'saņems': 7887, 'kādreiz': 731, 'nezaimo': 8007, 'make': 312, 'ināju': 5381, 'nomierinā': 9848, 'laucīja': 10708, 'atskanēja': 3660, 'paziņa': 7628, 'nē': 129, 'fence': 4201, 'paper': 1145, 'slaida': 4672, 'iesitu': 7029, 'juma': 4382, 'tr': 2413, 'līdzenumam': 5867, 'courtyard': 2912, 'gentler': 9796, 'ice': 1269, 'mag': 5719, 'neaizmirstiet': 8344, 'gal': 3581, 'faint': 6104, 'ietu': 1616, 'novieto': 6087, 'training': 5045, 'were': 36, 'five': 736, 'ritenis': 10838, 'piedurknēm': 4700, 'mīksta': 6332, 'person': 3501, 'fire': 1293, 'jat': 2373, 'dial': 7083, 'birst': 7881, 'ziņā': 1256, 'izlīda': 5575, 'neizsakāmi': 7976, 'success': 3771, 'ņi': 1323, 'dip': 8139, 'otrās': 2673, 'ment': 2777, 'field': 853, 'scotch': 3126, 'fix': 4129, 'ēdamtelpā': 4189, 'sko': 6447, 'reizē': 2149, 'dienvidpuses': 7827, 'shirt': 1895, 'koda': 5109, 'apņēma': 5726, 'extra': 9243, 'darī': 3416, 'ierēd': 6348, 'nedrīkstam': 5262, 'pastāstiet': 3916, 'wake': 1512, 'c': 302, 'fragments': 5151, 'stooped': 6455, 'citation': 6892, 'karavīrus': 8144, 'speak': 3015, 'spēlēsim': 4891, 'nepametīšu': 8752, 'jauna': 1490, 'ūdenim': 5288, 'tērp': 8470, 'nepietika': 9115, 'izkāpa': 2038, 'third': 1755, 'džordž': 9226, 'bearded': 10004, 'ši': 962, 'bottom': 4228, 'numur': 9294, 'iling': 8320, 'če': 3226, 'bakha': 6024, 'zupu': 4398, 'ceturtā': 10063, 'sha': 2807, 'spēlēt': 4030, 'trunk': 3425, 'articulation': 4996, 'domāts': 8257, 'vērot': 5451, 'cauru': 8632, 'nozie': 10808, 'nejū': 7417, 'brīnišķīgs': 3715, 'austrian': 1075, 'stake': 6840, 'sandbags': 9488, 'ia': 2741, 'dīgu': 9991, 'midnight': 6475, 'whites': 8004, 'ge': 2239, 'palaida': 6050, 'sleep': 327, 'ion': 8332, 'toskā': 8376, 'ieslī': 7216, 'greizsirdīgs': 8491, 'friendly': 9850, 'gulēšana': 10058, 'larks': 10160, 'saprotu': 2014, 'gruve': 8071, 'gājāt': 7479, 'dipped': 4463, 'pabāzu': 5482, 'mashers': 5678, 'plaukstu': 6534, 'kazbārdiņu': 6876, 'iziešu': 9523, 'discipline': 10241, 'kt': 1143, 'produ': 10440, 'čūska': 3782, 'artilērija': 4328, 'dīšos': 6354, 'circ': 6420, 'vieta': 2473, 'henrij': 3220, 'rs': 2497, 'dinner': 1187, 'tis': 1787, 'nā': 487, 'cost': 5450, 'pēcpusdienā': 4506, 'stump': 7950, 'uncle': 5455, 'walks': 8485, 'grefi': 10957, 'mets': 10966, 'meklē': 3419, 'manis': 714, 'kāda': 612, 'koka': 1592, 'pī': 1710, 'pavērās': 2841, 'england': 4760, 'goes': 3108, 'gadā': 9573, 'greffi': 1785, 'sān': 7661, 'maggiore': 1079, 'wengen': 8797, 'roads': 990, 'pupiņas': 9238, 'oned': 3444, 'smas': 8510, 'pieres': 4160, 'liet': 2832, 'ary': 3774, 'hundred': 810, 'džordžs': 3376, 'pamācī': 8758, 'flood': 6051, 'izslaucīja': 9322, 'izlai': 4395, 'soli': 2318, 'has': 568, 'žņaugu': 7910, 'because': 272, 'tīrā': 7092, 'railway': 1113, 'teikts': 9244, 'sergeants': 1984, 'desmi': 10210, 'much': 190, 'loku': 6108, 'saucu': 9008, 'burvī': 9740, 'rode': 3741, 'apstā': 4293, 'gy': 6032, 'care': 921, 'kāpām': 5311, 'kuras': 3536, 'ienesa': 2421, 'augu': 6129, 'sasniedzām': 7080, 'rose': 3203, 'ffe': 7413, 'lietussarga': 8131, 'atlaist': 9000, 'caurskati': 7304, 'karsts': 4852, 'hang': 4207, 'saint': 2102, 'sa': 142, 'smagajām': 8976, 'celi': 1571, 'dziļas': 6191, 'belt': 6328, 'germans': 786, 'tosca': 6785, 'asar': 5004, 'piesargieties': 6796, 'ceru': 2532, 'apturēja': 2932, 'jutās': 4460, 'ēšu': 3344, 'mūsu': 292, 'money': 629, 'aizrau': 8936, 'māsa': 1095, 'noskūpsti': 4598, 'panācām': 9882, 'screw': 10869, 'slāpē': 7683, 'zā': 2886, 'ceļasoma': 9071, 'dežur': 4833, 'palūkojos': 1952, 'ienei': 6926, 'gaļa': 5123, 'steig': 10880, 'nesagādā': 8134, 'vēlas': 2464, 'thin': 898, 'fre': 2206, 'cheese': 1114, 'vingrošanas': 9691, 'sword': 9278, 'swiss': 2175, 'treatments': 4853, 'brother': 3374, 'repeated': 7968, 'brīvs': 8240, 'izonco': 8821, 'organiz': 8920, 'iesēdāmies': 9836, 'laikraksti': 7692, 'otrajām': 4466, 'clearly': 3550, 'gani': 6466, 'vers': 8383, 'franči': 6598, 'zvanu': 5763, 'bell': 2164, 'žēlo': 4763, 'rossa': 3003, 'puse': 8673, 'palūgt': 9662, 'stern': 2010, 'marble': 4233, 'kilometres': 5089, 'maģ': 9804, 'svētais': 2906, 'kti': 4221, 'records': 10059, 'marry': 1851, 'apstājušies': 7143, 'akmens': 1081, 'peduci': 9936, 'thr': 5536, 'tāda': 587, 'america': 1828, 'mīlēt': 2992, 'nebaidos': 3984, 'unloaded': 6651, 'itted': 10734, 'nedrīkst': 1400, 'jautr': 9446, 'body': 2551, 'nesaprot': 7130, 'zaudējuši': 5654, 'dug': 2492, 'stāvot': 4512, 'furn': 7058, 'citam': 10201, 'pienākumu': 8269, 'nelabums': 8660, 'sveiks': 5959, 'fastened': 5207, 'gadītos': 10439, 'apsargāja': 6393, 'lielākoties': 9647, 'mīļais': 208, 'fel': 8614, 'noslē': 5400, 'lu': 583, 'montrē': 952, 'sagriezu': 9141, 'raustījās': 7665, 'saju': 8251, 'ieiešu': 5330, 'train': 653, 'otrpus': 1999, 'happen': 2222, 'nozīmē': 2336, 'landed': 5391, 'otrā': 1106, 'priekš': 1647, 'trauki': 6881, 'iebī': 9965, 'lozan': 4591, 'tos': 271, 'pavirzīties': 10202, 'izgriezu': 5973, 'vecais': 4009, 'ticiet': 5460, 'tības': 3068, 'geor': 8441, 'silti': 4071, 'lows': 6737, 'english': 501, 'nekas': 460, 'sanitārajām': 4428, 'pietiekami': 4524, 'sailed': 9004, 'te': 145, 'stripes': 5320, 'sasodī': 7353, 'nesapratu': 3818, 'nīc': 9837, 'salika': 6921, 'piegājām': 3140, 'tor': 3724, 'derētu': 2012, 'ho': 1013, 'turpināsies': 3139, 'fm': 5427, 'ran': 879, 'nolēmuši': 5935, 'sejā': 2598, 'stacijai': 6170, 'stūr': 7871, 'beam': 9869, 'away': 197, 'rudeni': 7489, 'deny': 7529, 'stā': 1190, 'ņas': 4444, 'respected': 9222, 'differential': 5555, 'pārlie': 8299, 'starts': 4819, 'nevēlētos': 9365, 'chips': 9417, 'dzīv': 3693, 'stew': 4301, 'vaja': 10608, 'itāliski': 1105, 'isola': 5840, 'game': 1694, 'saskandinājām': 10321, 'tried': 762, 'sārtas': 5757, 'kareivis': 3037, 'army': 633, 'ie': 156, 'soldier': 790, 'cer': 1736, 'dd': 5885, 'iekulties': 9162, 'stone': 658, 'dubļos': 2962, 'market': 8047, 'pārējie': 4110, 'daļām': 4396, 'metos': 9742, 'stretched': 5879, 'tiksimies': 7138, 'jātnieka': 7935, 'klās': 8422, 'learn': 2394, 'ģ': 4119, 'krāsa': 6944, 'priekšā': 992, 'brave': 1438, 'piezvanīju': 6885, 'cting': 10141, 'atgriezās': 1738, 'šķi': 3250, 'izšāva': 10015, 'kriet': 6769, 'strīdas': 6448, 'uzvilka': 4686, 'prove': 9528, 'li': 306, 'perfe': 10670, 'atstāti': 8506, 'atskatījos': 7988, 'ach': 8721, 'lancet': 9905, 'shoot': 1516, 'niem': 2367, 'hand': 314, 'skrēja': 1824, 'champagne': 2647, 'brau': 2111, 'domāt': 3628, 'dio': 3983, 'raizēties': 4997, 'astoņām': 7581, 'jāiztīra': 7810, 'underneath': 8051, 'izola': 9813, 'simpler': 9384, 'beams': 10361, 'izstiepa': 6968, 'kra': 3235, 'courage': 5480, 'nepatīk': 3206, 'apsolī': 9107, 'reins': 10143, 'jockeys': 10228, 'smējos': 10054, 'āru': 10716, 'gultas': 547, 'pieklā': 10761, 'rietu': 5276, 'mean': 860, 'bone': 9432, 'lips': 3703, 'tūksto': 10765, 'truck': 3001, 'mary': 10180, 'klausījāmies': 4059, 'vēlējās': 9764, 'meyers': 1451, 'dzeltenā': 3505, 'mašīnai': 6464, 'holding': 791, 'leitnantam': 7445, 'laipni': 3184, 'mul': 5761, 'turīnas': 7057, 'kšoja': 8032, 'cooler': 9135, 'kopī': 9966, 'rādītāj': 10722, 'herco': 8774, 'projām': 601, 'pamata': 8031, 'round': 4740, 'restaurant': 6943, 'īgi': 4172, 'sāka': 621, 'neskatījās': 5364, 'armijas': 3575, 'lira': 2744, 'explain': 7107, 'pastāstīju': 3134, 'paze': 7716, 'atceries': 6907, 'u': 244, 'atnesiet': 2870, 'mums': 140, 'cheerful': 1806, 'tenor': 9192, 'level': 2508, 'trieste': 7267, 'tā': 76, 'shouldn': 2625, 'virtuvē': 5516, 'early': 893, 'rudens': 4826, 'depends': 5839, 'noputējuši': 7711, 'sāp': 1957, 'koties': 8101, 'sudrabu': 10336, 'ators': 10791, 'miglā': 2995, 'crowell': 1417, 'papī': 6858, 'kas': 81, 'rudenī': 4500, 'žņaudzās': 8832, 'enjoy': 8212, 'kor': 3913, 'ired': 7396, 'tajam': 6602, 'spilled': 3611, 'rope': 7849, 'vans': 7791, 'poli': 8209, 'jams': 3595, 'fast': 934, 'rinaldo': 3040, 'sega': 5212, 'lighted': 4205, 'stāvējām': 1901, 'dubļains': 5249, 'joined': 7696, 'sarkanu': 10046, 'though': 777, 'bru': 2382, 'roof': 2526, 'tired': 399, 'atnesīšu': 2387, 'sati': 3585, 'āri': 5369, 'stru': 5079, 'stundā': 5818, 'late': 1093, 'slava': 6062, 'kļ': 6435, 'lidotāji': 7764, 'amas': 8152, 'ok': 8590, 'dziedā': 3773, 'neraudiet': 9025, 'sevišķa': 10107, 'dzidrs': 5975, 'atgā': 10713, 'meloju': 7671, 'mazu': 3615, 'remove': 7600, 'milano': 8097, 'ģenerālis': 8481, 'cemetery': 7733, 'atcerējos': 2431, 'van': 485, 'paver': 8043, 'taku': 9085, 'darīsim': 9761, 'ināts': 3649, 'foo': 10550, 'būs': 194, 'brīža': 1150, 'ņujorkas': 7050, 'kļuvis': 2327, 'nodomājis': 10239, 'darling': 201, 'state': 9938, 'slapjš': 2866, 'piespiest': 9718, 'stiprākas': 9024, 'inā': 1662, 'līga': 7202, 'vely': 6711, 'ziemas': 1300, 'falling': 1144, 'ically': 2294, 'lasīt': 1886, 'coag': 8787, 'žurnā': 10777, 'brauca': 1043, 'easy': 2523, 'tuvi': 10625, 'ix': 2297, 'tumšo': 5638, 'tting': 8912, 'izgāju': 3577, 'nim': 2891, 'chin': 4922, 'liftā': 5970, 'dg': 4020, 'austria': 3216, 'gru': 3262, 'nopietni': 3966, 'domājis': 3016, 'pardon': 5995, 'karavīriem': 8193, 'grib': 1266, 'billiards': 4517, 'svieda': 5175, 'žus': 9200, 'paziņas': 3053, 'nevaru': 1310, 'cab': 3588, 'mans': 808, 'drūmi': 9530, 'skaisti': 1422, 'jēga': 8694, 'pārliecinājos': 7473, 'ses': 2074, 'mil': 3906, 'ap': 161, 'cut': 502, 'karaspēks': 2689, 'kr': 2723, 'stīs': 6954, 'sacrifice': 8136, 'tells': 8444, 'empty': 702, 'segts': 6765, 'ried': 9840, 'pieklauvēja': 8550, 'zobens': 10285, 'tēs': 10779, 'noliecās': 2541, 'ily': 5499, 'stables': 10433, 'galdiņa': 2180, 'shout': 8582, 'house': 499, 'pagriez': 3319, 'gaisā': 1500, 'ine': 2643, 'dien': 2750, 'going': 170, 'sobbed': 3383, 'sang': 10374, 'butch': 7772, 'took': 243, 'stacijā': 2494, 'grīdu': 6417, 'gām': 3114, 'gul': 1888, 'ur': 1521, 'aizsardzības': 5211, 'length': 10197, 'šiem': 2067, 'vēja': 3787, 'vas': 3413, 'stitū': 9846, 'bikšu': 4999, 'jumtiem': 2218, 'saskatīt': 1482, 'vakar': 3788, 'lodge': 9866, 'uzdod': 6928, 'ūdenskri': 10508, 'atlaidās': 7744, 'inflicted': 3756, 'slope': 8659, 'open': 470, 'guardia': 7246, 'sman': 9492, 'matus': 1254, 'dēja': 3181, 'worth': 4037, 'lielais': 4384, 'restorā': 4873, ',': 9, 'samak': 7450, 'īkšķi': 4864, 'kts': 3759, 'rezerves': 9281, 'garām': 345, 'atkāpšanās': 1225, 'are': 77, 'jābrauc': 1948, 'ped': 2050, 'garšļaukus': 6978, 'hearts': 9167, 'buildings': 5492, 'viņu': 167, 'ķimelis': 6440, 'sounded': 7647, 'ātrumu': 10042, 'rot': 10873, 'sarkans': 6429, 'kārtoja': 10754, 'plan': 3907, 'maria': 4114, 'gaļu': 4721, 'gadīties': 7815, 'motors': 9628, 'entrance': 3836, 'izmirku': 6402, 'vērtēju': 9812, 'trapped': 5931, 'glau': 7521, 'saklausī': 7925, 'affec': 10738, 'mechanotherapy': 7805, 'fred': 4509, 'taisī': 3936, 'plāties': 10991, 'nestrīdamies': 8503, 'puslīdz': 8864, 'dievam': 3477, 'ga': 408, 'fir': 9878, 'rie': 2162, 'ajā': 3874, 'pieli': 4117, 'ām': 497, 'braucu': 2009, 'apau': 8008, 'likt': 2991, 'bilda': 10916, 'curred': 8811, 'jādara': 10464, 'bijām': 453, 'velvē': 10335, 'had': 47, 'bump': 2303, 'asti': 7002, 'cane': 7505, 'lieciet': 3054, 'fil': 2871, 'divām': 3163, 'ripo': 7347, 'vientuļi': 5154, 'pāris': 4882, 'nespēj': 10338, 'nejēdzī': 10647, 'bending': 8239, 'piled': 6281, 'dzērām': 2544, 'izdzēra': 6644, 'tad': 72, 'pontoon': 4548, 'aiznest': 6673, 'alle': 10339, 'zinājis': 9958, 'ieradīsies': 3859, 'čābiski': 3943, 'armija': 1845, 'secondary': 10246, 'vasaras': 7743, 'kumam': 10871, 'ielija': 9273, 'aizmirsu': 4263, 'leave': 413, 'river': 304, 'sāk': 4235, 'low': 972, 'kārtot': 5447, 'darītu': 4590, 'gribējām': 8319, 'gabalā': 9208, 'mētelis': 10380, 'mierīgs': 5969, 'kolonna': 2401, 'hedge': 2752, 'vairākus': 3107, 'gatavo': 4958, 'stikla': 6228, 'atveseļošanās': 8918, 'tājs': 2592, 'past': 950, 'izstiepu': 6339, 'norietējusi': 8107, 'denied': 9275, 'color': 2399, 'lo': 526, 'worked': 1253, 'gals': 6132, 'apcelt': 7680, 'griezties': 8538, 'tūdaļ': 4088, 'aptveri': 9199, 'asciutta': 9959, 'bēr': 10348, 'ību': 10996, 'feldš': 9299, 'vakariņām': 10214, 'meita': 9383, 'sarkanais': 7723, 'citreiz': 10017, 'ēst': 1058, 'ru': 495, 'full': 1061, 'usies': 2521, 'muguru': 4272, 'ate': 647, 'viļņu': 5601, 'worry': 781, 'riebī': 8291, 'vēroju': 625, 'horse': 1227, 'krāsu': 4161, 'colonel': 2126, 'ure': 5365, 'fied': 7550, 'tajām': 10387, 'sū': 7264, 'spe': 10685, 'jāmeklē': 7595, 'sending': 8949, 'sotto': 7114, 'reizi': 1469, 'devout': 3434, 'stly': 10507, 'mer': 3481, 'evviva': 9326, 'res': 1412, 'letter': 4797, 'krēsl': 8130, 'biedra': 7049, 'gūlos': 10828, 'iegriežas': 5370, 'pavar': 9996, 'artillery': 2559, 'latī': 6720, 'ielu': 1566, 'romu': 2986, 'gars': 5955, 'justice': 6755, 'compartment': 2757, 'foreigner': 6276, 'ziemeļos': 2266, 'gulē': 2435, 'attrac': 8159, 'ņo': 3005, 'tiņu': 9584, 'dew': 8805, 'izmirkuši': 5808, 'šīs': 1492, 'grezna': 7067, 'dzelzceļu': 7800, 'bodily': 7813, 'gultām': 5737, 'iņa': 2277, 'neteica': 2944, 'vald': 7973, 'pļā': 7318, 'ņēm': 9031, 'sēdināt': 9562, 'sociāli': 9887, 'ours': 10024, 'anarh': 10048, 'paslēpot': 10278, 'kādr': 10629, 'ong': 10877, 'confuse': 5806, 'lemts': 7105, 'sanitārās': 2129, 'younger': 4563, '&': 5, 'again': 229, 'reached': 1711, 'carrying': 2381, 'pūlī': 9469, 'kapteinis': 712, 'tipped': 4100, 'preču': 3209, 'svī': 5903, 'ff': 10977, 'iegū': 6231, 'par': 79, 'sastap': 7013, 'vispatīka': 9219, 'uzcienā': 8866, 'sc': 2780, 'lāpst': 9912, 'degu': 10881, 'ferguson': 521, 'vizuli': 8186, 'city': 8342, 'pieces': 2241, 'īpašnieks': 8870, 'row': 1109, 'veikli': 6894, 'dzīvosiet': 9463, 'stas': 1586, 'mēģinājām': 4739, 'uzsmai': 6698, 'imagine': 6073, 'sēs': 9037, 'nejēga': 5034, 'daļas': 3062, 'but': 50, 'pēdējā': 2580, 'parādīt': 4870, 'nesajē': 8220, 'mple': 9206, 'criminals': 7654, 'frost': 3704, 'skat': 5944, 'luino': 2432, 'ted': 1181, 'vēstule': 5182, 'zirga': 5965, 'nebaidies': 8926, 'try': 518, 'san': 816, 'sera': 4942, 'malu': 1360, 'las': 2190, 'belonged': 5486, 'kurus': 5708, 'padzī': 9223, ';': 4, 'tukšumu': 8306, 'gult': 8082, 'atklāto': 9364, 'lietussargu': 955, 'word': 1432, 'siena': 2444, 'piece': 2462, 'redzat': 2606, 'dakš': 9030, 'sansiro': 9474, 'dieties': 5972, 'pašlaik': 2615, 'explanation': 5437, 'apmetušās': 5917, 'fiat': 7497, 'quality': 8024, 'brezentu': 2924, 'putekļiem': 7398, 'accepted': 8375, 'fif': 8880, 'nākam': 3065, 'iced': 9791, 'kolonnai': 10080, 'acumirklī': 8369, 'acu': 2733, 'malku': 2433, 'kāpiet': 7606, 'sniegu': 2706, 'uzskrullētās': 8054, 'hunted': 8497, 'bār': 7597, 'slīpi': 6048, 'nonāks': 7614, 'izdarīja': 5407, 'lux': 10023, 'horvāti': 5206, 'gaiņāt': 9960, 'mies': 1705, 'dzīvot': 2234, 'consci': 4589, 'uzkavē': 5321, 'ējiet': 6468, 'nespēju': 2940, 'plava': 2450, 'īstenībā': 3643, 'mine': 1906, 'anarhists': 6102, 'maksts': 10219, 'sadabūšu': 10378, 'vare': 8033, 'vago': 10067, 'māja': 2790, 'pirms': 606, 'apsēdās': 1365, 'līkumu': 4529, 'kun': 4829, 'local': 6117, 'borromees': 10461, 'beer': 1819, 'tāl': 5542, 'atpūtusies': 10521, 'sharp': 2922, 'dīts': 5137, 'explosion': 6975, 'soul': 10310, 'darīsiet': 10537, 'slower': 9743, 'gentleman': 9065, 'pateicos': 4831, 'rai': 6297, 'detachment': 10448, 'iii': 2088, 'vēst': 8018, 'mules': 3614, 'cauri': 610, 'nogāju': 7559, 'tāpat': 528, 'point': 1239, 'bedroom': 5740, 'leja': 7816, 'kāpt': 3942, 'forward': 1186, 'blon': 6848, 'ģē': 4314, 'izrāvās': 8533, 'milānā': 1069, 'gorīciju': 6625, 'roo': 10856, 'paņēma': 1336, 'rakstīt': 5442, 'reiz': 916, 'tūr': 7747, 'drīzāk': 2195, 'ztu': 4635, 'sabre': 7389, 'walker': 4250, 'aku': 7782, 'dibenā': 4936, 'nolau': 4343, 'pastumt': 7518, 'screen': 3554, 'salieca': 5988, 'slējušies': 8940, 'šveices': 4674, 'aizlieg': 6315, 'nevienam': 2857, 'sperot': 10497, 'less': 1960, 'sper': 10547, 'laukumam': 10287, 'vannas': 2751, 'parādīja': 2474, 'trench': 3279, 'refu': 7207, 'statīva': 7938, 'awhile': 2946, 'stumps': 6519, 'lifted': 1770, 'sajūsmā': 6749, 'ienaidnieks': 7788, 'telefona': 8213, 'viņa': 69, 'real': 2514, 'waved': 1718, 'dozen': 9307, 'otrs': 687, 'ska': 818, 'brown': 1447, 'lāča': 8272, 'toties': 1599, 'hopeless': 8303, 'hours': 2278, 'gan': 182, 'clearing': 4633, 'nevarējām': 3926, 'vējā': 3905, 'ren': 4269, 'pāri': 189, 'bufetniece': 10298, 'aizkar': 10915, 'lei': 3652, 'footed': 8747, 'uzrādītāja': 5518, 'pasted': 9618, 'darīt': 926, 'motor': 1141, 'dzēm': 10272, 'biļetenu': 6919, 'rē': 5695, 'rel': 4449, 'ņoju': 7247, 'dosimies': 7142, 'galvas': 2491, 'otru': 637, 'izveidojusies': 9634, 'skrā': 9937, 'sākās': 1690, 'izsū': 10094, 'nepamo': 10116, 'pudele': 3542, 'griezās': 2795, 'meijer': 7598, 'fog': 3828, 'ķezā': 2666, 'jauks': 1420, 'reach': 5432, 'novērtēt': 6278, 'aizrakstījis': 7738, 'sēdēja': 581, 'pilsēta': 1537, 'tukšu': 4220, 'position': 6013, 'atradāmies': 6611, 'mati': 1649, 'apgriezos': 7218, 'lajām': 7393, 'trijos': 7592, 'nelaimē': 3125, 'niski': 3349, 'vaicā': 7768, 'ridges': 9057, 'vaigus': 9419, 'surprise': 8647, 'loose': 3769, 'stigu': 5240, 'known': 3207, 'niez': 5586, 'distur': 10617, 'piedod': 4340, 'corporal': 7808, 'neredzat': 6925, 'joslas': 7319, 'virsotnes': 3786, 'saņem': 7345, 'nose': 1954, 'north': 823, 'gribu': 905, 'dzird': 4038, 'jāpaliek': 5621, 'neesam': 2665, 'ūs': 8073, 'radiators': 10279, 'puff': 10850, 'sanitār': 10948, 'uzņēmumus': 4217, 'mly': 5155, 'grēdas': 5510, 'amerikā': 2429, 'nemanīja': 6915, 'opinion': 9204, 'visādiem': 9390, 'unn': 8384, 'visapkārt': 4916, 'neatlai': 10723, 'paziņu': 6277, 'pārde': 10767, 'jamā': 10934, 'palai': 4099, 'stre': 7539, 'napoleon': 2971, 'avīzi': 3840, 'bil': 4060, 'spoži': 7001, 'eggs': 6617, 'paldies': 590, 'kup': 9859, 'kurieni': 1154, 'pudeles': 618, 'purināja': 10725, 'iegriezāmies': 4491, 'pārbau': 2565, 'stiep': 4911, 'šveicara': 4352, 'tips': 6389, 'dzirdams': 5100, 'pagalmam': 7527, 'apmētā': 8002, 'tak': 8689, 'iestā': 9009, 'pir': 1857, 'strup': 5463, 'stiepa': 4375, 'kais': 3688, 'custo': 10763, 'brothers': 4183, 'paklā': 9908, 'smal': 10469, 'pārklāta': 9615, 'ence': 3872, 'salas': 6426, 'bārkli': 8398, 'insulted': 8717, 'tagad': 175, 'cigareti': 6394, 'fish': 3599, 'sunim': 7211, 'nums': 10628, 'working': 1493, 'tramva': 6270, 'tw': 3705, 'izskatās': 1779, 'day': 364, 'spageti': 2756, 'iesi': 6744, 'ii': 1847, 'gaida': 6721, 'depen': 8412, 'nomir': 9714, 'kapteini': 9900, 'crou': 10997, 'nebēdāju': 7745, 'legs': 805, 'izturies': 7806, 'kā': 49, 'vēsa': 3937, 'uzbruka': 10192, 'itālieši': 960, 'ainā': 10727, 'dama': 2767, 'catch': 3234, 'sodas': 4782, 'nieku': 3846, 'tēm': 3019, 'vīna': 607, 'daž': 9896, 'komi': 7008, 'skaidrot': 8731, 'shadows': 10500, 'taken': 846, 'saskatīju': 2356, 'atcerieties': 5628, 'vieglāk': 2134, 'captured': 3539, 'skaistu': 4888, 'building': 6578, 'gordini': 684, 'beautifully': 3941, 'asin': 6931, 'malāriju': 9020, 'atkāpjas': 5395, 'tvei': 9459, 'm': 86, 'sit': 1704, 'vaicāja': 1918, 'pail': 7424, 'saskatī': 9825, 'netiku': 7673, 'eddy': 10418, 'bus': 10845, 'sheltered': 6786, 'stē': 10901, 'ezermalu': 4179, 'kta': 4481, 'king': 1137, 'viesnīcas': 1569, 'sasald': 6813, 'nopratināja': 7852, 'sportam': 6520, 'kampaņā': 9692, 'aizbrau': 8143, 'cellar': 4325, 'brū': 3764, 'šāviņš': 4045, 'kus': 1817, 'lapsu': 7541, 'nerunāšu': 3816, 'savienotajām': 7571, 'nevajag': 664, 'zz': 3664, 'izjū': 6849, 'šausmīgi': 7664, 'līdzē': 8824, 'palīdzību': 7734, 'sieru': 2199, 'their': 245, 'cat': 1204, 'zinis': 4991, 'bērnu': 2714, 'very': 71, 'ceļ': 2424, 'ēt': 1510, 'dzēru': 2964, 'nepār': 3865, 'uzbru': 4087, 'smoking': 4238, 'hollow': 5597, 'pasūtī': 7610, 'ķēju': 4365, 'permission': 7097, 'bile': 5117, 'trāpīju': 8925, 'sendvi': 9351, 'sastrēg': 10718, 'lie': 566, 'dresser': 4964, 'visiem': 840, 'apakš': 6541, 'drinking': 3503, 'satrau': 5990, 'sons': 7631, 'kal': 3418, 'len': 3439, 'pulling': 5312, 'ras': 5796, 'salaulā': 7249, 'apmē': 10460, 'pama': 10597, 'zodu': 4383, 'beds': 2446, 'swiftly': 3580, 'gaitu': 7094, 'windows': 1174, 'stāvēja': 430, 'civilian': 2994, 'sviedros': 5002, 'sastin': 5230, 'apkakli': 5579, 'alcoholism': 6977, 'aizvien': 1959, 'somewhere': 2275, 'friziere': 3274, 'sagriez': 8531, 'izstā': 8837, 'learned': 3407, 'labākais': 7383, 'nīcas': 9370, 'īsts': 3623, 'ien': 5501, 'pasaulē': 9395, 'māte': 7167, 'jūtat': 9093, 'zobiem': 10465, 'valsts': 5436, 'pagaidām': 3050, 'victory': 3734, 'pja': 5709, 'inājumi': 5778, 'slimnīcas': 8723, 'ēja': 1317, 'soon': 848, 'christ': 1682, 'slimnieki': 3718, 'nogal': 4493, 'nošaus': 7531, 'šļakstīja': 8770, 'galvā': 1307, 'pavadījām': 8322, 'this': 152, 'whole': 1303, 'pirkstus': 4051, 'dievbi': 10982, 'busts': 6072, 'iegriez': 10220, 'vienmēr': 352, 'augšu': 2915, 'neprātīga': 3747, 'palūgtu': 8268, 'one': 84, 'valdīja': 6106, 'celties': 4993, 'kārtas': 5383, 'dota': 8499, 'copy': 5222, 'pieliku': 7798, 'cheered': 8907, 'clear': 855, 'aiziet': 2438, 'pirkst': 3080, 'lepojies': 8174, 'lobī': 7493, 'dziļi': 4745, 'augš': 4927, 'pēcpusdienu': 6014, 'ciešāk': 8527, 'izvei': 6079, 'wiser': 8265, 'papīru': 6227, 'lāses': 4801, 'protect': 6705, 'dier': 7602, 'mašīni': 9285, 'brūnā': 5622, 'fu': 5474, 'bodies': 3355, 'bandage': 7372, 'dding': 9979, 'žier': 8813, 'cirstu': 9663, 'hunter': 9686, 'kārtībā': 2196, 'mākonis': 3520, 'drēgnums': 7364, 'asleep': 1196, 'vārtiem': 7897, 'villa': 686, 'same': 742, 'krastu': 641, 'nevajadzētu': 2602, 'nearer': 8520, 'runāt': 1040, 'fallen': 8847, 'sti': 1184, 'maniem': 5566, 'sanitāram': 8740, 'stroked': 8819, 'valdz': 10514, 'atceros': 2286, 'emilio': 4600, 'ring': 3519, 'brīd': 5306, 'aizkļūt': 6728, 'blowing': 2493, 'palaga': 8120, 'pagājusi': 8978, 'klu': 5265, 'airis': 10320, 'šofer': 10764, 'crawled': 7145, 'kļūsim': 8450, 'silly': 1339, 'uncomfortable': 4742, 'taisīt': 4904, 'matu': 7127, 'succession': 8140, 'notice': 3506, 'ētu': 5294, 'lasījis': 6707, 'haired': 5468, 'bārmenis': 940, 'krā': 1757, 'pakalna': 5558, 'sanitārajiem': 3928, 'sakauti': 4356, 'dzēriens': 5624, 'cavalry': 5679, 'cimdus': 10393, 'tripped': 9913, 'vainojama': 9058, 'ering': 4108, 'special': 3738, 'neesi': 939, 'atk': 8504, 'pretinieka': 7821, 'atradās': 1107, 'norīkojumus': 6899, 'nevarēs': 7348, 'līst': 2412, 'months': 1218, 'wise': 2451, 'sīks': 4349, 'trus': 7110, 'sleeve': 2618, 'cīga': 4641, 'tici': 7748, 'lēnāk': 6352, 'tiesības': 7790, 'karaspē': 8336, 'īt': 10662, 'šoreiz': 7794, 'ago': 10830, 'railroad': 6019, 'grabbed': 8796, 'call': 1565, 'paņēmu': 1657, 'šauteņu': 7632, 'jūta': 9123, 'laika': 1170, 'zoba': 7731, 'sauca': 2123, 'mākoņus': 5187, 'galam': 6959, 'ketrina': 149, 'plainly': 9249, 'broke': 3932, 'iņām': 6202, 'veiksmīgi': 9360, 'smelled': 2138, 'šauj': 4210, 'puisēnu': 8352, 'fizioterapiju': 5200, 'vaļas': 5535, 'curve': 9865, 'r': 380, 'marching': 3478, 'viesnī': 10626, 'accent': 9272, 'struc': 9644, 'bli': 10653, 'ļaudams': 8960, 'neuztraucos': 10344, 'fl': 2487, 'hate': 5910, 'tray': 6405, 'ben': 8188, 'īga': 4908, 'dežurēja': 8987, 'dig': 9430, 'ceļgala': 9011, 'bijušas': 4140, 'kšot': 8991, 'posteņus': 6016, 'defe': 9571, 'brickyard': 3315, 'ksi': 3661, 'ēdamies': 9328, 'jē': 4825, 'rin': 9982, 'citām': 3908, 'vests': 6934, 'apmēram': 2572, 'pārēj': 6971, 'bag': 2254, 'hat': 1230, 'boxes': 5809, 'vēderā': 7061, 'nerunā': 2603, 'nokāpām': 7620, 'bu': 851, 'akst': 9290, 'tile': 6985, 'likos': 7485, 'rieta': 5945, 'niecī': 10806, 'kaut': 151, 'moving': 1100, 'izpil': 5396, 'padomāju': 7757, 'ķe': 2917, 'declare': 4131, 'šai': 1884, 'flat': 1120, 'uzņēmumu': 10392, 'quickly': 1928, 'priekšējā': 9414, 'tiena': 8048, 'viņiem': 454, 'ējis': 1404, 'vaicāju': 1497, 'units': 8569, 'sic': 8624, 'pārsiešanas': 1052, 'ēdām': 3253, 'been': 137, 'ashed': 4995, 'now': 136, 'teicāt': 5830, 'slēpjas': 8651, 'listening': 10428, 'signorino': 4845, 'skatu': 6573, 'shots': 2577, 'nākuši': 10483, 'jūdzi': 4586, 'brītiņu': 2197, 'gribam': 2040, 'turēdamies': 6457, 'brem': 7311, 'jāguļ': 5824, 'šaurs': 5000, 'iņas': 6669, 'kurienes': 4960, '1': 878, 'vieglprātīgi': 6865, 'lov': 10900, '?': 16, 'here': 166, 'aren': 973, 'ķ': 2798, 'galerijā': 5009, 'dažādas': 4708, 'saspēlēt': 7862, 'form': 6092, 'audzī': 5704, 'chamois': 5658, 'cul': 6856, 'cock': 5707, 'staciju': 6988, 'table': 530, 'zēja': 5473, 'š': 692, 'nāk': 883, 'pieri': 4968, 'režģiem': 8963, 'bak': 7990, 'tūras': 6140, 'finding': 9550, 'deserted': 3641, 'pārsteigumu': 7695, 'fired': 2027, 'dzeršu': 4828, 'darīts': 3895, 'walked': 360, 'spalvas': 7310, 'something': 267, 'ormani': 4518, 'nokļuvu': 5788, 'makes': 1347, 'sto': 2562, 'ējusi': 4029, 'apsedza': 7525, 'vēru': 9731, 'op': 8094, 'francijā': 4399, 'decided': 2890, 'pos': 6652, 'pārvēr': 9909, 'studying': 4313, 'dull': 1816, 'shooting': 9190, 'backs': 5244, 'jostas': 7648, 'since': 4526, 'wonder': 3222, 'nekādi': 3113, 'rūsgani': 6579, 'suppos': 10837, 'nonācu': 8343, 'krietnu': 4177, 'motorlaivu': 9962, 'sevi': 1803, 'laikrakstus': 2560, 'tent': 4940, 'ich': 8965, 'galiem': 6542, 'pilso': 8993, 'ēna': 10181, 'restorānā': 6993, 'corks': 6295, 'skāņš': 9708, 'tiksim': 5954, 'cī': 1508, 'ghts': 4983, 'ējus': 9040, 'picturesque': 8335, 'šas': 2192, 'pazu': 10200, 'uzvaru': 3405, 'viesnīcā': 1729, 'vakaru': 1943, 'meijeram': 3954, 'orders': 3485, 'gatavs': 7420, 'street': 509, 'pamazām': 3195, 'pilns': 5285, 'meadows': 6060, 'gludo': 7004, 'officers': 498, 'pajūgi': 8150, 'asinis': 2213, 'palīdzēšu': 8841, 'melnais': 10281, 'ugun': 10557, 'zve': 10619, 'nedomāju': 1044, 'izlē': 9468, 'pagriezies': 9724, 'parādās': 10416, 'pr': 5349, 'sagādāšu': 9039, 'ušies': 5472, 'closed': 1883, 'manēra': 1232, 'silver': 1708, 'jutīsies': 6182, 'apsēdies': 8083, 'galotnēm': 9520, 'nevediet': 8399, 'iekārta': 5791, 'nākamās': 7662, 'iņš': 3098, 'please': 474, 'meža': 2788, 'piecpadsmit': 2879, 'rūpē': 10802, 'ush': 10758, 'runājās': 10782, 'aldo': 4541, 'paugur': 4981, 'thanks': 2144, 'nepamanī': 9407, 'att': 6209, 'ved': 1267, 'vice': 4840, 'tro': 2996, 'brick': 3321, 'īsti': 1087, 'kabatas': 1591, 'particularly': 7103, 'smadzenes': 8329, 'upei': 3655, 'gajām': 9378, 'tri': 2520, 'taisījos': 10347, 'niņu': 10855, 'aizsardzī': 10961, 'ārsts': 603, 'jauno': 6700, 'villā': 5335, 'balts': 7777, 'iekšā': 600, 'iled': 4218, 'zīmi': 4761, 'at': 40, 'viet': 10679, 'viņš': 38, 'coins': 10270, 'ļiem': 2245, 'klusā': 8981, 'consu': 10859, 'sprāga': 2763, 'kū': 3338, 'draugu': 5887, 'divu': 6431, 'dināja': 4731, 'guļa': 10833, 'iesim': 732, 'iedomājos': 2918, 'krēsli': 8921, 'nomask': 8914, 'milānu': 2847, 'smaka': 5343, 'karalis': 5067, 'dezer': 7124, 'platu': 9240, 'pelēks': 7086, 'hospitālis': 3091, 'satumsa': 6186, 'nespēja': 6127, 'underwear': 7993, 'izkļuvām': 9182, 'bijusi': 2411, 'udini': 5767, 'apsegta': 8601, 'dīti': 6532, 'neiz': 1261, 'sadales': 6616, 'ža': 9313, 'unā': 8737, 'wish': 619, 'jutāmies': 3357, 'scre': 4181, 'mor': 4678, 'prašņāja': 7911, 'klieg': 9781, 'otello': 9213, 'ourselves': 9081, 'šosejas': 9793, 'bainsicā': 8895, 'shly': 10866, 'piedū': 7118, 'ce': 1353, 'straightened': 3640, 'work': 850, 'liekas': 1130, 'airēt': 3214, 'tajās': 8784, 'apbalvošanai': 9508, 'onal': 6176, 'exc': 4283, 'pārsējiem': 8127, 'mas': 1687, 'sirds': 3342, 'aizbraucām': 8387, 'orange': 9680, 'ietves': 5267, 'il': 829, 'club': 5435, 'braucām': 726, 'daru': 3552, 'mušas': 4969, 'trauku': 6703, 'sikspārnis': 6037, 'grefijam': 9581, 'loaded': 2489, 'žo': 3164, 'mistake': 4411, 'ēkām': 9337, 'tick': 10710, 'ū': 1605, 'airus': 2223, 'potatoes': 4358, 'kitchen': 2284, 'anglietes': 4677, 'pārliecību': 8901, 'note': 1641, 'sted': 4774, 'šķū': 6365, 'shall': 7551, 'dzen': 8447, 'iespraucās': 10217, 'nokārto': 6308, 'koki': 2371, 'enrico': 4703, 'pazinu': 9434, 'tables': 6456, 'vem': 10933, 'locī': 2629, 'sala': 9256, 'rei': 3081, 'vilkties': 8238, 'augstāk': 2174, 'beg': 6052, 'class': 6444, 'atnes': 3411, '*': 2362, 'ļaunāk': 4437, 'service': 9527, 'vienkār': 10188, 'hills': 1727, 'abās': 3186, 'flatter': 4367, 'skrēju': 5524, 'dievu': 4132, 'siksnām': 8378, 'oars': 1515, 'snake': 3482, 'šaubos': 10434, 'sarkanvīna': 7732, 'jām': 683, 'tumša': 3269, 'klints': 7324, 'hook': 8697, 'izska': 3537, 'stragglers': 5449, 'umus': 6258, 'pushed': 1564, 'atgādināja': 5548, 'ys': 3968, 'home': 642, 'stam': 4111, 'skaņa': 6380, 'corner': 1622, 'apakšu': 10528, 'svie': 3398, 'chemical': 7190, 'south': 1442, 'ormanī': 3286, 'it': 20, 'chapter': 492, 'kusies': 6693, 'sījās': 7564, 'sapratī': 8983, 'laidās': 6156, 'federiko': 2705, 'ones': 2145, 'bent': 1980, 'pavirzī': 9074, 'wire': 9316, 'mēnesī': 10372, 'received': 10021, 'recogniz': 10922, 'nedē': 6799, 'abiem': 1940, 'bārdai': 5727, 'pointing': 7565, 'pagriezu': 4416, 'runājāmies': 4895, 'arranged': 5652, 'prat': 5284, 'declared': 6480, 'justos': 8114, 'saddle': 8488, 'traukā': 9283, 'apkalpoja': 5485, 'avīzē': 3650, 'laukus': 9658, 'nevienu': 1314, 'stāsti': 3858, 'seg': 3944, 'šīgi': 10501, 'rušies': 9035, 'laukam': 4616, 'without': 767, 'friends': 1491, 'sākumā': 2176, 'usually': 2385, 'mind': 758, 'dieva': 2553, 'notiktu': 4208, 'dialektā': 6304, 'nedomā': 6709, 'boksa': 7586, 'šo': 365, 'saviem': 4785, 'neierauga': 8349, 'damp': 8883, 'swir': 9971, 'collas': 7578, 'apkakles': 8451, 'kic': 10577, 'stiffened': 10301, 'dried': 3156, 'sainīšus': 9515, 'vermuta': 2722, 'ēji': 2674, 'kājgalī': 8179, 'ticis': 4783, 'we': 23, 'esat': 239, 'krita': 1320, 'shadow': 2084, 'braced': 6920, 'dzīvojām': 3360, 'kļūstu': 8889, 'nation': 10504, 'apskatīt': 3396, 'plau': 3762, 'gariem': 8583, 'sucked': 9345, 'singing': 3211, 'kājās': 2207, 'zābakos': 8795, 'jāgaida': 5900, 'spor': 4091, 'hardly': 3412, 'otrajā': 10186, 'itāliešu': 909, 'vīns': 2051, 'snie': 3454, 'un': 13, 'together': 512, 'savējie': 7512, 'become': 1889, 'bitter': 6879, 'steps': 4147, 'pielijuši': 8029, 'shallow': 9306, 'dark': 249, 'slopes': 9510, 'dak': 7078, 'bombar': 10366, 'sēd': 3154, 'manām': 7719, 'vietējās': 9947, 'lem': 10768, 'virsū': 841, 'iespējams': 1539, 'dinā': 6509, 'ievainojumiem': 4112, 'nām': 2975, 'tel': 4436, 'ies': 537, 'bronze': 6133, 'čikāgas': 9726, 'nesaprat': 10530, 'skur': 5204, 'dzirdējusi': 7623, 'uzmekl': 10503, 'patro': 10632, 'went': 74, 'fighting': 984, 'ievērojis': 6312, 'ruin': 9475, 'beigt': 8254, 'ne': 60, 'nedomāsim': 4145, 'va': 584, 'sport': 1355, 'ļas': 4855, 'prasa': 5816, 'piekrītu': 9334, 'enjoyed': 6560, 'sur': 9210, 'virgins': 6173, 'bai': 2919, 'eleven': 4271, 'flying': 4312, 'lāga': 2634, 'stāstu': 7187, 'lay': 441, 'bla': 2849, 'pinceti': 9987, 'further': 2229, 'hauled': 5253, 'alkoholu': 8692, 'atstāt': 2632, 'taviem': 8292, 'ride': 1409, 'draugi': 2637, 'ņā': 2831, 'joking': 9925, 'seržantu': 5691, 'terri': 10286, 'ats': 9822, 'spējīgs': 10111, 'galve': 10331, 'heavy': 2194, 'brigādes': 6010, 'riekst': 7901, 'lēju': 6221, 'sudraba': 1879, 'tūkstoši': 4049, 'visur': 2612, 'conceited': 3335, 'ieplūda': 4668, 'mēģinātu': 5563, 'paslēp': 6139, 'fi': 1389, 'karstums': 6414, 'knew': 317, 'sma': 2816, 'dabūšu': 3051, 'atgādinātu': 6313, 'dai': 2791, 'nosēdās': 6933, 'balstu': 7753, 'slims': 8250, 'burvīga': 2486, 'yes': 155, 'laimīgs': 1706, 'tunic': 2819, 'floorwalkers': 6890, 'negribas': 1768, 'jēlas': 8457, 'neticu': 1311, 'dzīvotu': 6059, 'nolaida': 8779, 'stisimo': 8862, 'ātri': 871, 'pleciem': 1283, 'mašī': 10540, 'ssin': 8423, 'šrapne': 4232, 'nāciju': 7032, 'uzbērumu': 2903, 'breaking': 8392, 'augštecē': 3990, 'skaidra': 8313, 'kūtsaugša': 9438, 'pārmocījies': 6761, 'tēvam': 8585, 'tīrajos': 9151, 'slapjas': 3801, 'slimī': 8123, 'ger': 3341, 'div': 3523, 'corkscrew': 4815, 'queen': 9568, 'aizgājis': 10466, 'tikas': 10726, 'rodas': 4081, 'bal': 1358, 'angļiem': 10196, 'tāja': 3445, 'wild': 8180, 'spēsim': 7367, 'mainī': 8628, 'tagliamento': 2804, 'sloku': 6039, 'iedevu': 1950, 'punktā': 3190, 'mīlētu': 6370, 'izveido': 7843, 'nobeig': 8089, 'ieķēros': 9078, 'apstādī': 9536, 'apšaude': 8434, 'f': 334, 'galeri': 4485, '_': 6626, 'nākamgad': 5003, 'izgaist': 8333, 'vese': 6543, 'soliem': 4385, 'pasaki': 2472, 'meri': 8494, 'šaurā': 9677, 'vairākas': 3876, 'swallows': 6594, 'deserved': 6867, 'svītr': 10199, 'ējāties': 10515, 'plaiks': 8003, 'ag': 1581, 'sāniem': 2784, 'istaba': 1375, 'tīgi': 5012, 'telpa': 9489, 'nību': 7779, 'began': 2524, 'slimnieku': 3064, 'gākais': 6093, 'spic': 9521, 'sacī': 4454, 'operation': 4000, 'captains': 4519, 'suddenly': 1306, 'floors': 4643, 'nāvi': 7891, 'brandy': 834, 'condition': 5248, 'patted': 1850, 'kokus': 3296, 'ļauni': 6179, 'dens': 8105, 'erno': 9499, 'barkley': 514, 'varu': 759, 'avīzes': 3157, 'top': 914, 'apciemot': 4115, 'tomēr': 240, 'pinumā': 5681, 'smalkjū': 7854, 'atgādina': 6152, 'norīko': 8652, 'miesa': 10236, 'uzvalks': 7335, 'stiff': 2081, 'roma': 3049, 'stās': 5751, 'pilnas': 9329, 'koku': 1436, 'postī': 10539, 'pull': 5467, 'dust': 1951, 'ūsas': 3748, 'size': 6633, 'side': 206, 'sasi': 6065, 'brauks': 2398, 'general': 3598, 'pīteņi': 10328, 'pretended': 7786, 'vilktas': 7851, 'dējām': 5358, 'kno': 7663, 'staigājām': 8742, 'pierādīt': 9637, 'dzina': 4194, 'č': 2851, 'riteņus': 4504, 'kareivjiem': 4702, 'sūtī': 4303, 'morning': 426, 'deep': 2068, 'ā': 324, 'umā': 2623, 'grozīja': 5041, 'mirklī': 5275, 'piespie': 5477, 'ticēt': 6593, 'stool': 10356, 'tikai': 126, 'vecs': 1912, 'ināta': 4520, 'grāfam': 7126, 'written': 3976, 'programmu': 8833, 'garumā': 5256, 'everything': 708, 'carefully': 2552, 'der': 2189, 'any': 154, 'brains': 6372, 'deeply': 9802, 'jākaro': 6212, 'industrial': 10414, 'ieeja': 7953, 'trešā': 5857, 'canals': 6851, 'nespē': 10766, 'saru': 10813, 'dzīs': 6689, 'bez': 347, 'nine': 5584, 'loud': 4914, 'pielie': 3618, 'rindai': 7077, 'savās': 5488, 'gala': 3947, 'glāzi': 644, 'ināti': 6546, 'vēj': 10731, 'ielā': 9454, 'kaprakotā': 9082, 'wear': 1809, 'jāairē': 4662, 'plats': 6049, 'viii': 2410, 'gari': 3473, 'dubļai': 5161, 'embarrassed': 5919, 'zēni': 3432, 'kumosu': 7948, 'excited': 3671, 'half': 1071, 'gurna': 9112, 'nolādēto': 10167, 'ložmetējnieks': 3373, 'noticis': 1309, 'stars': 1728, 'smago': 5629, 'vainoja': 7940, 'nelabi': 6900, 'vāciešiem': 3145, 'zaļi': 6636, 'deviņdesmit': 5119, 'izgulē': 6853, 'zilas': 8696, 'aptur': 7150, 'hur': 10857, 'nodarboties': 2125, 'ciemats': 6806, 'pārstājis': 3331, 'parūpē': 5557, 'palīdzēja': 5743, 'miz': 6233, 'dīšot': 7042, 'ulate': 7180, 'spogulī': 5152, 'ainās': 7582, 'šahu': 7359, 'putekļu': 8878, 'dzirdu': 9973, 'isles': 8102, 'dur': 6430, 'runāts': 5644, 'karš': 506, 'velns': 2124, 'shore': 616, 'kārt': 3148, 'spēka': 4639, 'šķiltavas': 6145, 'papliķēju': 7333, 'hungry': 1024, 'atbraucis': 3630, 'pretzels': 7183, 'mulsinā': 8282, 'knowing': 9050, 'zinot': 4572, 'saslim': 9429, 'jies': 698, 'iztikt': 9579, 'chance': 4650, 'stopping': 5434, 'pasacīju': 6747, 'nāca': 548, 'mūžīgi': 4634, 'capes': 9220, 'jocīga': 8943, 'nācām': 8170, 'car': 301, 'spilvenu': 5382, 'apturēt': 10233, 'vehicles': 2588, 'patriots': 4566, 'progress': 9983, 'policija': 9557, 'šķaidī': 9747, 'far': 550, 'ojās': 5135, 'gūst': 8196, 'šie': 1505, 'tumsu': 7296, 'fountain': 6210, 'mar': 1036, 'lifta': 4732, 'block': 5594, 'stakes': 9610, 'dis': 1163, 'hips': 7117, 'āda': 5532, 'pasūtīju': 7289, 'grīdā': 5724, 'slīdēt': 7867, 'kums': 3891, 'nemitīgi': 5352, 'kārbiņas': 8315, 'plīša': 9809, 'brūni': 5587, 'otavas': 10381, 'folded': 5853, 'viltī': 6701, 'zen': 10805, 'drāzos': 9555, 'ticiā': 8664, 'dropping': 7369, 'baidījās': 9990, 'vesels': 2058, 'sieviešu': 9758, 'zināms': 3825, 'opening': 4934, 'meta': 3231, 'vilku': 8657, 'sneakiness': 9929, 'quieter': 4212, 'jaunais': 6095, 'skats': 8459, 'otē': 8570, 'melnojam': 10232, 'yard': 5932, 'gigg': 8305, 'nonākt': 10477, 'taljamento': 2638, 'veselību': 2776, 'krist': 10893, 'jāpa': 2383, 'ņam': 9053, 'atpū': 5487, 'exer': 7855, 'nogur': 8528, 'ērti': 2483, 'umbrella': 979, 'samirkusi': 5865, 'kl': 2528, 'wrung': 7325, 'runājat': 4694, 'kšķi': 8057, 'latr': 8769, 'alone': 622, 'ss': 3183, 'atradu': 4291, 'column': 1206, 'crossing': 2243, 'softly': 4950, 'ņš': 2479, 'ļo': 4197, 'nes': 888, 'jūras': 3838, 'skatieties': 4246, 'blushed': 5906, 'intelligent': 7593, 'vajadzēja': 707, 'vecas': 7604, 'deni': 10937, 'barbera': 4781, 'teicis': 3013, 'viesnīc': 10795, 'abruci': 1966, 'chair': 1635, 'mutuļoja': 8402, 'stream': 2414, 'gā': 661, 'rāvos': 9582, 'binā': 2981, 'šejienes': 3258, 'uzvarē': 4738, 'teņi': 8629, 'bandag': 10715, 'tramvaja': 8775, 'pie': 54, 'sprie': 2692, 'trešajā': 9431, 'priecāsies': 9445, 'kāpj': 4095, 'aina': 4648, 'ņu': 1158, 'bathroom': 2880, 'pasaulei': 6983, 'mbar': 10585, 'lifting': 5362, 'cked': 2280, 'don': 70, 'kalnos': 866, 'draugs': 1023, 'slapji': 5166, 'sardze': 5819, 'labrīt': 6599, 'atzīšanas': 7439, 'naglas': 9495, 'ņēma': 10984, 'bail': 2802, 'nokrita': 8281, 'daudzi': 1673, 'mazgājamā': 5842, 'vispār': 3009, 'mīli': 2601, 'pētīja': 10386, 'izdotos': 8900, 'bos': 10277, 'papīra': 6148, 'likuma': 10019, 'medal': 2874, 'numuru': 9645, 'sanfrancisko': 4584, 'vēm': 9717, 'nieki': 2201, 'laimi': 4716, 'ateju': 10052, 'leading': 4157, 'beat': 6113, 'dness': 10113, 'didn': 609, 'tukšs': 3371, 'durvju': 7522, 'leitnants': 1608, 'ūdeņos': 4823, 'gāku': 6595, 'gatin': 7317, 'nenotiek': 8736, 'dāmai': 9710, 'smagās': 5979, 'mugur': 3888, 'atpūtos': 9730, 'grez': 10844, 'sākt': 7337, 'maksti': 3429, 'pašiem': 2516, 'men': 351, 'pudeli': 650, 'aug': 2238, 'lielo': 4951, 'eno': 10846, 'have': 53, 'uzsmaidīju': 7044, 'vienreiz': 8297, 'tuvu': 1276, 'little': 169, 'coming': 336, 'šķīra': 5424, 'tālinā': 10950, 'sameklēt': 9235, 'darīšu': 3591, 'airi': 2626, 'furious': 6327, 'alu': 2556, 'rīkojās': 8323, 'inājis': 6478, 'braucamais': 9092, 'practical': 9745, 'nevainī': 10294, 'steidz': 4322, 'passport': 4357, 'nei': 4072, 'augsti': 8409, 'nedabū': 8195, 'ars': 6620, 'gluži': 1938, 'might': 476, 'karā': 1625, 'kām': 1368, 'pieliju': 5547, 'notei': 4499, 'troksnis': 6649, 'lūzumu': 8571, 'scotland': 5836, 'dripping': 3717, 'l': 235, 'pavēru': 5298, 'cheeks': 8020, 'airē': 3391, 'grenadieri': 9526, 'thir': 7106, 'del': 2171, 'causes': 9930, 'ers': 1019, 'fic': 3903, 'nots': 7951, 'stra': 10821, 'pārliecināts': 2032, 'unhooked': 8165, 'zālē': 5741, 'rubble': 5005, 'present': 6850, 'krēsla': 1811, 'ping': 2502, 'sat': 256, 'austriešus': 5199, 'līdzenuma': 6056, 'tušas': 8573, 'rooms': 4028, 'throw': 2031, 'recognize': 7060, 'ienir': 7861, 'sku': 2658, 'shy': 9854, 'darāt': 3627, 'porter': 519, 'mājas': 1520, 'water': 308, 'hold': 723, 'citā': 8525, 'kail': 4726, 'aizla': 8655, 'čukst': 8594, 'lūkojiet': 10076, 'mēs': 45, 'child': 2660, 'bikses': 3105, 'wore': 843, 'elle': 8055, 'telling': 6038, 'nepara': 5126, 'fools': 5999, 'coverlet': 8056, 'pašus': 4230, 'rati': 1414, 'cividale': 8022, 'vība': 10545, 'rob': 10878, 'comfor': 5683, 'steidzu': 5105, 'dāt': 2346, 'atkorķēja': 10098, 'name': 1004, 'lonely': 2561, 'named': 3423, 'virtuvi': 4971, 'aizņem': 5715, 'stāvā': 7923, 'ārstam': 5415, 'skūpstot': 7668, 'nevarēju': 1752, 'neietu': 9470, 'šķem': 10980, 'noslaucīju': 4369, 'notur': 3058, 'goodby': 8085, 'pilna': 8969, 'somā': 4452, 'ēšos': 6612, 'sap': 5673, 'laucī': 10757, 'beating': 5659, 'difference': 1313, 'ģikti': 8427, 'sakravā': 5616, 'ture': 6476, 'viesmīlis': 1717, 'ķert': 7062, 'pārlūko': 7252, 'sava': 2769, 'iedarbī': 8157, 'mac': 3458, 'pārcelties': 7215, 'salka': 9247, 'give': 627, 'rinaldi': 125, 'drinks': 6550, 'naudu': 904, 'gribēsi': 5190, 'ingly': 5527, 'ketrinas': 1810, 'village': 1981, 'front': 281, 'vieg': 3637, 'climb': 4513, 'precēts': 7109, 'ņainā': 7797, 'grūtī': 8330, 'spainītī': 10452, 'ņos': 5277, 'ļās': 9589, 'plaka': 3538, 'papildspēki': 9297, 'ba': 657, 'jauni': 5835, 'granatieri': 6054, 'things': 371, 'piere': 7155, 'loan': 8364, 'kareivji': 5714, 'shell': 1453, 'zaros': 7341, 'mazāk': 4165, 'āboliem': 10038, 'ateists': 10444, 'veikal': 10493, 'apprecē': 10792, 'chicago': 8474, 'exciting': 3529, 'aizkarus': 8680, 'logs': 2059, 'ast': 3244, 'palikuši': 2047, 'number': 2227, 'domā': 638, 'ther': 3230, 'melns': 3820, 'ko': 83, 'ausmas': 4711, 'afternoons': 6200, 'turpināt': 9821, 'useful': 8979, 'ejat': 5511, 'sliedes': 3260, 'night': 168, 'interesē': 6537, 'brokastīs': 8555, 'naktī': 541, 'veiks': 7011, 'president': 9440, 'hitter': 6781, 'pistolei': 7594, 'klausos': 9354, 'nāks': 1443, 'chateau': 6895, 'cru': 10847, 'kaiti': 2379, 'gadiem': 4803, 'cilvēkus': 5336, 'braukuši': 3743, 'nama': 5693, 'piespiež': 8879, 'atkal': 199, 'papliķēja': 4498, 'viņā': 2326, 'ir': 44, 'guards': 2905, 'tuvumā': 5663, 'noskū': 8363, 'gging': 10523, 'ta': 251, 'visādas': 8713, 'eight': 4918, 'machinegunner': 8823, 'uzsmaidīja': 2120, 'bra': 3096, 'biļe': 9477, 'mazā': 1974, 'redzama': 5785, 'ak': 1073, 'absolutely': 8505, 'grāvji': 10449, 'uzpūtīgs': 3460, 'iedzer': 3960, 'nocēla': 6980, 'ciet': 1262, 'pārprat': 6794, 'up': 59, 'organized': 6495, 'blown': 3822, 'paklājs': 6998, 'separated': 3609, 'jāpie': 7915, 'liecinieks': 4156, 'paliek': 1712, 'atspī': 5504, 'nomira': 6126, 'sw': 6275, 'beside': 477, 'shoulders': 1893, 'bēdīgs': 3123, 'vienādi': 4917, 'ezeram': 6663, 'slud': 6739, 'broken': 1513, 'neiesi': 7266, 'skaties': 9785, 'važo': 5648, 'ance': 3827, 'outside': 273, 'krāsnī': 6248, 'atradīšu': 7323, 'ienī': 10666, 'makaroni': 6837, 'crowd': 6668, 'imp': 2923, 'my': 68, 'aizmugurē': 2978, 'roll': 9838, 'drā': 9868, 'h': 455, 'suffer': 9258, 'noteicu': 2773, 'mo': 484, 'watched': 493, 'rāvusies': 7328, 'blood': 1848, 'tērauda': 2854, 'pārbrauksiet': 6742, 'each': 504, 'negribat': 3229, 'happ': 5150, 'oļu': 5897, 'jānopērk': 7023, 'wave': 8189, 'kla': 1373, 'sašūpojās': 6880, 'riebīgi': 9100, 'zivis': 6646, 'nic': 9456, 'ative': 5794, 'arcade': 9514, 'dzīvojamā': 10142, 'alcoho': 10595, 'vīru': 3122, 'ēšot': 9418, 'branch': 8635, 'drūzmējās': 9336, 'vicekonsulu': 6976, 'lūzums': 9695, 'nudien': 3723, 'nebūšot': 10446, 'pase': 5378, 'īk': 8223, 'sos': 10733, 'ob': 2987, 'rota': 6188, 'bridge': 367, '..': 9117, 'brindizi': 8519, 'kul': 4430, 'neejam': 6692, 'figure': 6872, 'nemanījām': 5446, 'laukiem': 3927, 'pēr': 5318, 'if': 110, 'radīts': 4136, 'ums': 1437, 'colored': 10127, 'cis': 1423, 'pins': 5978, 'stūma': 9012, 'jība': 10036, 'family': 1502, 'drausmīgs': 7865, 'shrapnel': 4076, 'children': 4646, 'ist': 1408, 'pērk': 10582, 'carry': 2157, 'tuvojās': 2907, 'cartridges': 5577, 'plauka': 9248, 'biķer': 10064, 'ielas': 1385, 'ugunis': 2391, 'hite': 7998, 'ent': 1220, 'vakara': 7334, 'bility': 10462, 'slippery': 8588, 'septītā': 8112, 'avīzēm': 7700, 'aizmirsis': 4377, 'belz': 8802, 'mūra': 2608, 'nība': 5787, 'jaukas': 7739, 'piedurknes': 5685, 'liru': 1297, 'robe': 9088, 'ight': 4799, 'mēģināja': 6969, 'mitr': 10804, 'gulēja': 1057, 'disappointed': 9298, 'dīsim': 5095, 'nemaz': 419, 'de': 558, 'woodcock': 5156, 'telefonu': 8656, 'izgulēsimies': 9657, 'tracks': 1927, 'will': 89, 'mulberry': 4125, 'bersaglieri': 2633, 'kreisi': 4103, 'ietvaros': 8968, 'aizdedzināja': 9842, 'heroic': 4970, 'maizītes': 6588, 'viļņiem': 8300, 'laiku': 693, 'aizvā': 9916, 'tavi': 5461, 'lausanne': 4082, 'četri': 2168, 'nomi': 7100, 'ously': 3487, 'lielajā': 3676, 'palīdzēju': 6490, 'labad': 6613, 'vietai': 7500, 'lab': 2114, 'atgriezties': 3273, 'trāpī': 4659, 'able': 980, 'waves': 6609, 's': 32, 'pin': 4092, 'riveder': 4615, 'griež': 4021, 'fergy': 1281, 'līdzīgs': 4374, 'lamatās': 4196, 'griezu': 4209, 'birthday': 5615, 'mācī': 8116, 'perso': 10598, 'četrstūrai': 8855, 'enemy': 3626, 'v': 411, 'sasalu': 5514, 'lielgabalus': 3326, 'dred': 10620, 'krasta': 1553, 'pagrabā': 5561, 'spa': 5862, 'cepure': 3072, 'laimīgais': 6630, 'cros': 7157, 'greatly': 8507, 'pašām': 9853, 'šņukst': 10639, 'čū': 10567, 'vācieši': 1051, 'sies': 1022, 'degunā': 7889, 'strawberries': 6290, 'marsh': 9201, 'ienāca': 554, 'laughed': 797, 'braukt': 415, 'dead': 750, 'pleased': 3476, 'ball': 4116, 'nodrebēja': 4139, 'izsalkusi': 3952, 'minutes': 4149, 'sniegotās': 6597, 'trūcīgi': 8676, 'ācijas': 10318, 'pping': 3742, 'lights': 886, 'moment': 3808, 'tādi': 1477, 'stāsta': 5243, 'sevišķas': 8549, 'drive': 1982, 'jādzīvo': 9604, 'guļamistabā': 7277, 'baterija': 6680, 'gra': 2024, 'dievbijīgs': 5452, 'forgot': 8446, 'dotos': 6438, 'shal': 10581, 'pamest': 7702, 'izcēla': 3024, 'numurs': 5526, 'tikāt': 5813, 'iespaids': 7429, 'cenšos': 9139, 'tes': 1006, 'gatingens': 10187, 'sader': 10642, 'action': 6317, 'geidža': 970, 'arhitek': 8117, 'dzēris': 3779, 'liņu': 6189, 'rādī': 8704, 'mel': 1552, 'gaite': 9801, 'k': 294, 'ārsti': 4777, 'gently': 5465, 'kāds': 238, 'sprauslā': 7280, 'brush': 1016, 'gribētos': 1680, 'svinības': 8761, 'neesmu': 483, 'movement': 4262, 'mon': 3648, 'elpu': 4420, 'nevēlies': 10266, 'aplūko': 10631, 'satraukuma': 7459, 'ranges': 8462, 'vari': 2967, 'mutē': 2622, 'englishman': 4811, 'drafts': 10490, 'diezin': 3939, 'atklātā': 6704, 'attaisīju': 7660, 'atlaidos': 4008, 'apni': 4402, 'nāku': 7822, 'lles': 7399, 'jūtamies': 7796, 'mama': 4022, 'ūde': 10367, 'eaten': 3306, 'helmets': 1791, 'supper': 2591, 'portfeli': 6564, 'jāiet': 652, 'melo': 7199, 'foreign': 3768, 'close': 527, 'plu': 5934, 'nopirkt': 2557, 'riding': 2306, 'šanu': 1524, 'ksiet': 2437, 'ered': 3453, 'vīrieti': 6678, 'noraustījās': 9302, 'būtībā': 9427, 'dievieti': 9540, 'atvērtu': 3946, 'conver': 7204, 'either': 2263, 'tim': 10899, 'sisters': 5921, 'operēt': 6074, 'dot': 1544, 'bridgehead': 8009, 'noaugu': 6986, 'metu': 9233, 'sēdēju': 1846, 'ielēja': 3102, 'ļa': 1068, 'pakaļgalā': 4153, 'kura': 1862, 'nāciet': 6473, 'kses': 10739, 'mi': 461, 'palī': 4214, 'izurb': 9945, 'gludas': 8997, 'christian': 8040, 'atri': 9428, 'stable': 10195, 'nelija': 4093, 'negribi': 3347, 'toboggans': 5718, 'neck': 1459, 'cerēsim': 5289, 'kicking': 5732, 'drīkstu': 6708, 'džapala': 8846, 'blēdīšanās': 9119, 'brīnišķī': 10952, 'blanket': 2865, 'ļavas': 7666, 'cēlu': 3722, 'the': 10, 'probe': 7858, 'prātīgāk': 3354, 'snow': 445, 'soup': 2698, 'ham': 10390, 'carpet': 5585, 'iestājies': 9580, 'zemā': 9522, 'watching': 2035, 'kušas': 3159, 'grēdu': 5928, 'argu': 10989, 'negribējās': 3887, 'med': 1684, 'besides': 2465, 'foreno': 8828, 'tās': 183, 'rās': 5136, 'ketrinai': 1326, 'lined': 3132, 'aizsūtī': 6801, 'zvēr': 4012, 'medaļas': 5454, 'making': 1814, 'meijers': 2368, 'ārpuses': 9108, 'kupla': 9735, 'ici': 10325, 'sēžam': 3969, 'skram': 9889, 'desmit': 1325, 'ite': 2725, 'vaigiem': 7178, 'tanned': 7503, 'audzē': 4887, 'ally': 3071, 'ūdenī': 2085, 'pine': 6121, 'breeze': 3318, 'nevari': 2661, 'ber': 2122, 'uniforms': 4613, 'flies': 5080, 'kš': 7970, 'cīru': 7370, 'posts': 3182, 'rāv': 8175, 'tiņš': 8438, 'letters': 5092, 'ieminējās': 7453, 'iz': 139, 'patriot': 4812, 'offered': 4854, 'ceturkšņa': 8277, 'thumb': 2701, 'walking': 1140, 'ķis': 3364, 'svēta': 5385, 'klausījos': 4353, 'ines': 6307, 'cor': 1936, 'ri': 431, 'mugura': 4057, 'angle': 6396, 'cro': 2754, 'health': 9016, 'papers': 384, 'stop': 538, 'sme': 9161, 'buttons': 9305, 'nelielā': 9611, 'disturb': 10169, 'zaudējis': 3346, 'deri': 10929, 'lieties': 5308, 'tirgota': 9944, 'redzēšanos': 1209, 'stai': 5961, 'ridge': 1969, 'otra': 1935, 'kāpa': 6686, 'also': 1734, 'apkārt': 713, 'noti': 4074, 'šķ': 2829, 'equipment': 6828, 'zu': 1636, 'mieru': 2925, 'stretchers': 4279, 'pienā': 2083, 'dzeltens': 7740, 'aizka': 8593, 'sakustējās': 3624, 'christmas': 5231, 'smai': 3193, 'īros': 3785, 'nok': 9800, 'ļos': 3385, 'spo': 2691, 'bushes': 10150, 'mācītājs': 416, 'pulku': 6823, 'stuffy': 9296, 'plaša': 2963, 'fun': 1264, 'land': 4479, 'dienesta': 3965, 'mundr': 4695, 'ējiem': 4368, 'pagā': 9416, 'acles': 6854, 'ticī': 7214, 'seš': 9498, 'apšaus': 8205, 'pray': 8604, 'bruka': 10306, 'ceļiem': 2690, 'sezonā': 10068, 'smēla': 7152, 'sniga': 6346, 'samiegojies': 10295, 'galdiņu': 8577, 'piebraucām': 9229, 'šķīvja': 6249, 'xed': 8848, 'slimojusi': 9295, 'svētums': 7781, 'asto': 10694, 'aprunā': 6641, 'uzrāpušies': 7706, 'vārdu': 2061, 'bainsizza': 1540, 'covered': 1289, 'cattle': 8902, 'e': 212, 'val': 1094, 'send': 944, 'dār': 3620, 'porch': 6981, 'izdevās': 4530, 'cību': 6913, 'farmhouse': 1782, 'gavuci': 2579, 'sound': 3497, 'nošāva': 3775, 'ēties': 7338, 'izglī': 8385, 'got': 213, 'mountain': 531, 'austrians': 592, 'blēdī': 10924, 'nolie': 2808, 'akmeņiem': 3867, 'huņņi': 7804, 'palīdz': 10358, 'oti': 1759, 'three': 287, 'pilsētu': 1387, 'religion': 5777, 'neuzticas': 7530, 'nego': 8612, 'slimnie': 9002, 'slept': 1781, '8': 3359, 'atkarīgs': 8551, 'pavadī': 2338, 'hu': 4857, 'garas': 6388, 'policijas': 7299, 'armies': 7102, 'arched': 8060, 'udine': 1048, 'iedarbināja': 5731, 'kāršu': 7678, 'klausīties': 8888, 'pipe': 9517, 'patrioti': 6916, 'grambas': 9619, 'ierasties': 5010, 'mps': 5943, 'iezie': 9237, 'pievakarē': 3031, 'bārdainais': 6089, 'bēdīgi': 9957, 'wooden': 2378, 'rolled': 7056, 'iekš': 4625, 'fll': 6507, 'aptvēru': 7279, 'trip': 2458, 'sau': 1291, 'rails': 3198, 'ciest': 3962, 'dēļu': 9344, 'pievēr': 3576, 'value': 4275, 'gluds': 4187, 'nedusmo': 5946, 'mīgi': 8955, 'swe': 10115, 'ietina': 4879, 'neredzēju': 5268, 'kopš': 2772, 'sensible': 6008, 'overhead': 8432, 'vasara': 4531, 'first': 338, 'grieziet': 7548, 'strega': 8982, 'kšu': 2859, 'avārija': 9829, 'nogājām': 7725, 'faced': 2970, 'uzs': 6114, 'saliecās': 10415, 'nībā': 10563, 'riteņi': 2490, 'envelopes': 5373, 'smidzināt': 3830, 'divreiz': 4521, 'garšoja': 4884, 'atgriezos': 2092, 'changed': 3869, 'varam': 2056, 'ona': 6120, 'nur': 10660, 'pusdienām': 4903, 'ze': 1821, 'veselu': 3639, 'billiard': 4824, 'zobi': 5149, 'chocolate': 6459, 'herself': 5408, 'agr': 6782, 'neat': 2119, 'novietojām': 9442, 'nais': 9679, 'nelā': 10956, 'lovely': 328, 'rakstu': 5337, 'piedzēries': 6568, 'everybody': 1032, 'tar': 9572, 'trees': 325, 'breakfast': 890, 'zo': 3793, 'lūz': 10566, 'kļāvu': 10697, 'tres': 10706, 'iedomā': 4124, 'iebrauca': 8544, 'ad': 1445, 'flute': 6116, 'french': 2236, 'sasildī': 6751, 'wed': 5968, 'grāmatas': 7194, 'teicām': 9546, 'pē': 1263, 'bļodas': 10147, 'raiz': 10965, 'drowned': 5299, 'sargkareivi': 10022, 'palūgšu': 5551, 'storm': 2449, 'balkons': 8420, 'honored': 8370, 'explosive': 6392, 'current': 3679, 'why': 326, 'patiešām': 747, 'zēm': 7965, '18': 7931, 'stis': 9323, 'pā': 4106, 'climbed': 1208, 'soft': 2507, 'tiski': 9682, 'tiny': 5766, 'thanked': 6942, 'vēls': 4046, 'divīzijas': 3305, 'showing': 7690, 'piebildu': 8739, 'pamo': 3251, 'lietus': 390, 'gardens': 3670, 'gabaliņu': 2285, 'touch': 1931, 'mīļa': 5354, 'lauzītā': 10221, 'coats': 6855, 'ieslīdēja': 10403, 'eng': 7120, 'vīrs': 982, 'nogāzē': 3121, 'nopircis': 8496, 'sakau': 8234, 'gaisma': 2019, 'nomazgājos': 6131, 'notika': 1210, 'nestuves': 1798, 'ienu': 2811, 'pastāstīšu': 4118, 'whenever': 6477, 'muļķības': 4150, 'nobi': 7268, 'kalni': 1194, 'ram': 4842, 'dabūsiet': 4897, 'cilvē': 7405, 'mek': 9777, 'atstā': 2182, 'saceltos': 9026, 'atgrieztos': 7128, 'pārdevēja': 6864, 'prāts': 6957, 'ķeblīša': 8780, 'keeps': 6647, 'nostāk': 9121, 'augšup': 3819, 'meitās': 6192, 'fērgusonei': 4947, 'piepū': 9464, 'uzrakstī': 4913, 'questioned': 2204, 'be': 55, 'garšo': 3112, 'rādās': 8424, 'kamo': 5627, 'cieši': 1135, 'garlic': 9367, 'agre': 10987, 'sevišķi': 2008, 'netting': 8840, 'jardus': 6151, 'ītu': 9436, 'across': 255, 'proper': 10749, 'more': 241, 'lāgā': 8654, 'viļķ': 6783, 'slid': 7451, 'saplē': 6235, 'pratīs': 8173, 'strādāja': 3197, 'married': 523, 'dusty': 3177, 'tukši': 4041, 'hated': 4619, 'nebūs': 717, 'ass': 4419, 'light': 375, 'mierinā': 4787, 'pretend': 4640, 'otos': 5263, 'dress': 6003, 'kūtī': 7823, 'kūtsaugšu': 8768, 'čukstēja': 10345, 'konjaku': 1686, 'moved': 1119, 'sneak': 7010, 'lasī': 4490, 'strē': 2990, 'mēģinās': 6061, 'mēģina': 4432, 'skūpstīju': 4561, 'dēli': 7041, 'īsta': 2330, 'pra': 4930, 'vairākiem': 7441, 'palū': 10669, 'llen': 10769, 'honest': 9814, 'makst': 10876, 'gulta': 1676, 'ēnu': 3441, 'aizri': 5259, 'cr': 5613, 'pour': 9627, 'he': 30, 'oiled': 7038, 'tall': 1457, 'drusciņ': 5183, 'forgotten': 9282, 'chess': 3812, 'gāks': 3864, 'parāva': 4134, 'worse': 1471, 'torn': 6028, 'heart': 5758, 'aizse': 4146, 'sliktā': 5165, 'military': 3363, 'dzirdat': 8410, 'drosmīgi': 9943, 'families': 9992, 'reizēm': 1799, 'cross': 1111, 'meičām': 4875, 'was': 21, 'līdzenums': 5367, 'frenča': 4027, 'je': 3919, 'vispirms': 863, 'māju': 1892, 'iegriezies': 5521, 'ķēries': 7071, 'angliju': 7945, 'segliem': 7344, 'apprecēšu': 7971, 'nami': 8455, 'samie': 10888, 'smagā': 6241, 'lasu': 9309, 'rings': 3989, 'jug': 6386, 'wires': 5875, 'turpināties': 4142, 'klusi': 5618, 'tūkstošiem': 9513, 'grau': 7488, 'bb': 7365, 'labs': 740, 'life': 1039, 'redzējis': 1878, 'laikrakst': 9875, 'afterward': 964, 'rinin': 3948, 'noslāp': 10511, 'musett': 10691, 'sakāve': 5908, 'visas': 929, 'piekritu': 8430, 'nosmējās': 8242, 'ielaida': 9553, 'beigušās': 9590, 'brisago': 6605, 'pick': 3735, 'pulkste': 10786, 'metās': 2037, 'horses': 1074, 'aizsūtīšu': 4019, 'kauli': 6922, 'savien': 7212, 'soļus': 2895, 'adresi': 4905, 'saule': 1458, 'gais': 4330, 'solid': 3975, 'slā': 7650, 'noprat': 5795, 'izbraucām': 8287, 'simo': 7943, 'spieķi': 8684, 'šņukstēja': 5780, 'hospitāļa': 1189, 'kam': 996, 'inned': 10740, 'attaisīja': 4800, 'slēpju': 7959, 'gentle': 2997, 'pre': 1603, 'wondered': 2709, 'shone': 2293, 'blā': 4975, 'strokes': 5144, 'varē': 9274, 'ces': 4557, 'mirrors': 2104, 'looks': 6068, 'deaths': 8876, 'combination': 9569, 'hotel': 481, 'neaudzē': 7653, 'bāli': 9778, 'vīnu': 1278, 'iekāpa': 2914, 'sevišķ': 7763, 'sešas': 7905, 'counted': 5112, 'tevis': 1786, 'shaped': 4603, 'piemērota': 9496, 'win': 1223, 'dzu': 3612, 'gata': 4180, 'ducked': 5431, 'gri': 8137, 'artilē': 8395, 'miem': 2518, 'pieskāros': 6482, 'neejat': 9089, 'dažkārt': 4168, 'pelēcīgi': 8304, 'taisnā': 4162, 'vineyards': 4226, 'tulznās': 7560, 'atstājis': 6702, 'ciào': 5038, 'aploksnēs': 6771, 'pamāja': 1509, 'paris': 9356, 'vagonā': 4515, 'com': 3930, 'tuši': 4133, 'noticed': 3036, 'kļu': 6660, 'izdzirdēju': 5745, 'en': 613, 'preparations': 7689, 'range': 8971, 'manzoni': 3178, 'ķē': 2960, 'ieteiktu': 9795, 'dami': 1559, 'sharply': 9191, 'kšķēt': 8523, 'stundas': 3427, 'kept': 677, 'pasacīja': 7229, 'matic': 8374, 'kaprāli': 10427, 'brescia': 5303, 'girls': 385, 'grima': 5319, 'vēlēsies': 3056, 'stumbenu': 6355, 'uzmo': 10326, 'lauku': 2321, 'pēdējo': 2872, 'november': 4332, 'sick': 1118, 'palancas': 8095, 'vol': 8099, 'brushing': 9060, 'crying': 1460, 'another': 311, 'sāksim': 5141, 'atrada': 3033, 'sle': 7300, 'rest': 1251, 'migla': 2135, 'ket': 1337, 'pārtulkoju': 7767, 'bild': 10323, 'tīrumiem': 3494, 'kormon': 10047, 'thing': 488, 'pretīgs': 7847, 'manam': 5909, 'otras': 3382, 'eiz': 7537, 'drivers': 1172, 'finally': 1166, 'skaidri': 2281, 'puisis': 2536, 'minute': 1343, 'rolls': 3912, 'šaujamais': 9426, 'lighter': 3918, 'disable': 7101, 'lasīja': 8154, 'turēji': 8929, 'see': 99, 'metāla': 1367, 'ux': 10570, 'alko': 8010, 'stretcher': 811, 'settled': 3530, 'iemācī': 5962, 'bārddzinis': 8068, 'jockey': 6645, 'picture': 9149, 'should': 295, 'skotiete': 4644, 'every': 543, 'laivu': 814, 'passports': 2800, 'patiesi': 3048, 'report': 2148, 'pārtrauc': 5237, 'shoulder': 930, 'tikmēr': 3555, 'žogu': 4461, 'piebilda': 5773, 'could': 103, 'ējuši': 6336, 'sāktos': 6878, 'ceptas': 7750, 'meitene': 1853, 'furgo': 8428, 'baumas': 7958, 'paņems': 8750, 'adjutant': 8467, 'kailu': 9142, 'māsām': 9195, 'voju': 7956, 'tūlīt': 522, 'pavement': 10044, 'gudrs': 3988, 'baidās': 10364, 'ēstu': 10432, 'friz': 10564, 'finger': 1986, 'kaptei': 10648, 'gout': 8243, 'stuff': 10843, 'liked': 1292, 'cien': 5802, 'truss': 5049, 'vārdi': 3884, 'isn': 508, 'kauna': 6206, 'uniform': 1439, 'zas': 3987, 'svai': 6886, 'bawdy': 7312, 'uzlai': 7918, 'slowly': 1003, 'valkāja': 4928, 'uzzināju': 7640, 'ye': 5087, 'neuz': 2834, 'logiem': 3089, 'notikt': 8096, 'piņas': 6432, 'dropped': 2141, 'freight': 3474, 'pārtrau': 5264, 'jumped': 10003, 'kociņa': 10482, 'kur': 123, 'church': 6293, 'pamēģināšu': 7055, 'hospitālī': 987, 'ieprie': 5770, 'nogādāsiet': 6817, 'lēdij': 8534, 'dzelteno': 2423, 'usi': 1136, 'kovā': 5850, 'pres': 4387, 'dzīvsudraba': 7492, 'dzās': 9352, 'pulkā': 7435, 'grīdas': 1162, 'poste': 10652, 'ina': 1693, 'nākot': 4042, 'neklausieties': 8548, 'flash': 2644, 'potato': 3633, 'doorway': 5759, 'ceļasomas': 3562, 'pārstās': 9410, 'mestrē': 10176, 'bine': 10711, 'tiem': 451, 'notirpušas': 6917, 'cāt': 4759, 'ējāt': 5623, 'tuneli': 8126, 'ša': 1419, 'biedri': 8595, 'pieciem': 2576, 'atra': 2070, 'er': 410, 'frozen': 4138, 'na': 417, 'atsūtiet': 7549, 'locked': 2711, 'aplūkoju': 10354, 'griez': 4609, 'friend': 1067, 'pirmo': 3180, 'luggage': 8718, 'izkāpām': 8013, 'spēlējāt': 8755, 'in': 22, 'puns': 6149, 'arvien': 1238, 'neiedzertu': 9304, 'ķirurgu': 9607, 'sirdī': 4389, 'strands': 6956, 'nesi': 10193, 'vies': 10665, 'lielgabalu': 2585, 'jēgas': 4067, 'spoguļi': 5750, 'apsēd': 6322, 'vējs': 7022, 'newspaper': 9934, 'sure': 730, 'tīt': 9090, 'noble': 6101, 'rocca': 4989, 'nekļūst': 6787, 'salaulāties': 8658, 'magaz': 10788, 'time': 181, 'šm': 7020, 'kumu': 4355, 'masons': 7875, 'damies': 1719, 'medaļu': 2165, 'mist': 2279, 'drove': 856, 'behind': 562, 'inter': 3057, 'skatienam': 6070, 'smaržoja': 4919, 'colo': 7621, 'dzīves': 4666, 'age': 3522, 'laba': 1282, 'sīvu': 10240, 'aizsūtīs': 5815, 'stāstī': 4007, 'pārzine': 9826, 'dzīvoja': 3153, 'having': 1485, 'raudāt': 7175, 'notiek': 1211, 'pasēdēju': 9759, 'started': 286, 'progra': 10643, 'samērā': 9218, 'dējusi': 10827, 'atteicu': 2726, 'karaļa': 6418, 'metal': 1750, 'ex': 1222, 'aparāts': 10257, 'nolai': 2840, 'izbraukt': 9817, 'saņēmis': 4223, 'nīcu': 7927, 'piedzimis': 8260, 'rupture': 7834, 'upes': 632, 'll': 85, 'lines': 2033, 'virgin': 5409, 'z': 555, 'pārdeva': 9155, 'kurai': 4248, 'ēm': 1511, 'priest': 254, 'ves': 2813, 'shing': 4478, 'saproti': 4899, 'ausīm': 5192, 'kļūst': 2221, 'sakar': 5481, 'iemīlēties': 10140, 'ziemeļ': 10506, 'year': 845, 'gultā': 414, 'trenēties': 9703, 'sā': 749, 'slimnieks': 7877, 'apburoša': 3974, 'scare': 4583, 'gaidījis': 7213, 'visdrošāk': 9651, 'neplāties': 7059, 'vēss': 4298, 'jau': 113, 'paklausī': 5287, 'ņa': 1546, 'ierados': 6935, 'treason': 10006, 'priekšau': 8298, 'somewhat': 9770, 'domas': 2159, 'lielgabaliem': 4431, 'piesardzīgi': 8778, 'ven': 2836, 'viļ': 10755, 'paskatījies': 9494, 'sabiezēja': 9079, 'nomainī': 8108, 'reason': 2564, 'māko': 6671, 'splend': 7532, 'noprotams': 9760, 'sagata': 10343, 'cilā': 7913, 'lej': 8646, 'nelaime': 6153, 'iņ': 4617, 'lit': 6128, 'roku': 289, 'tuvāk': 1290, 'apnicīgs': 7859, 'celī': 7955, 'vientulī': 6682, 'saprata': 6800, 'paskatījās': 813, 'garā': 1997, 'hallway': 6163, 'apģērbties': 9715, 'mugursomā': 6683, 'sapratis': 10203, 'bicycle': 7775, 'whiskey': 1394, 'oh': 369, 'apšaubu': 6866, 'atgriezī': 10208, 'atšķir': 10774, 'naudas': 1894, 'numbers': 4206, 'divisions': 5272, 'gādāsim': 7381, 'sportu': 2150, 'drank': 705, 'ratu': 2453, 'tranše': 6666, 'nomodā': 2339, 'felt': 298, 'montreux': 927, 'een': 8716, 'envelope': 7903, 'pārskai': 9126, 'atklā': 7115, 'nedomāja': 9984, 'start': 688, 'baltā': 2952, 'atve': 2386, 'sprādzēju': 10069, 'zābaki': 1744, 'oc': 5428, 'aknas': 8966, 'undid': 4647, 'kanā': 3569, 'trau': 3636, 'ü': 10962, 'neie': 1169, 'dev': 4663, 'ceļš': 482, 'noskūpstīja': 2943, 'backed': 4820, 'umb': 10596, 'gajiem': 10178, 'biļete': 10587, 'spīdī': 3778, 'pulkus': 7416, 'siks': 6632, 'ttered': 10442, 'neskatījos': 5712, 'slēpot': 6659, 'salmu': 3800, 'atgriezusies': 9525, 'nevaram': 3689, 'sist': 9831, 'ched': 2470, 'māsīca': 8279, 'ņām': 5888, 'mp': 1528, 'yards': 3850, 'neizdevās': 5332, 'ketrin': 6086, 'ieķēries': 8133, 'convalescent': 4979, 'toward': 393, 'jāsa': 3829, 'iejautājās': 3985, 'klām': 6263, 'traks': 4371, 'dzīvojis': 7588, 'elsdama': 7697, 'gadās': 3744, 'aizkavēt': 5188, 'tobrīd': 5827, 'kasta': 6344, 'braucis': 9254, 'gājām': 605, 'mazs': 2624, 'parlor': 8645, 'ēsim': 4725, 'džentlme': 9664, 'dušo': 7404, 'izsalkumu': 9919, 'ear': 2882, 'lām': 6239, 'ly': 1639, 'ūpja': 7562, 'saunder': 6963, 'ksim': 2945, 'carried': 1020, 'iedzēru': 2077, 'ēs': 2738, 'strez': 7569, 'kopa': 7818, 'unpleasant': 10371, 'rifles': 2835, 'wishes': 4130, 'uzrakstīšu': 7601, 'nogriežas': 6888, 'farmhouses': 8687, 'štābā': 9709, 'rūp': 9977, 'mely': 10485, 'kast': 4926, 'sakaru': 8436, 'stro': 10359, 'gaitā': 8690, 'who': 205, 'rus': 7363, 'ieeju': 9232, 'ļautu': 7885, 'cloth': 2855, 'vī': 1121, 'neesat': 1244, 'tums': 9205, 'klausījās': 4198, 'likts': 7496, 'anglis': 1823, 'aploks': 5742, 'kundze': 8208, 'šļu': 6368, 'cur': 2510, 'atne': 5462, 'auksts': 1411, 'izkāpu': 1517, 'chestnut': 3287, 'dra': 4664, 'ierāvis': 9558, 'filled': 1444, 'wr': 10953, 'piebā': 3837, 'izspie': 5371, 'alliaz': 4024, 'norāva': 8961, 'drošs': 10153, 'cigarette': 4086, 'auska': 8295, 'degunu': 7850, 'ruši': 6516, 'pārējiem': 9622, 'zarus': 1876, 'rowing': 1697, 'mežā': 5274, 'telpu': 7860, 'apstātos': 9898, 'taste': 3257, 'slimo': 4886, 'colle': 7672, 'belly': 10102, 'battle': 4306, 'ity': 4747, 'vēlos': 2902, 'pasauciet': 10056, 'parka': 10529, 'pes': 2988, 'golden': 7688, 'canteens': 6862, 'šņ': 6306, 'ezers': 1934, 'ieleju': 6324, 'jor': 8642, 'sounds': 4943, 'dēļ': 1792, 'izkaro': 9349, 'arest': 3751, 'dzelzs': 5052, 'priecājās': 6259, 'ēnai': 7928, 'veikala': 6349, 'apliku': 9116, 'jātiek': 4128, 'bronza': 7387, 'floating': 9124, 'zīmīti': 9433, 'iting': 10817, 'šūpojās': 5937, 'padsmi': 10412, 'oar': 2543, 'šurpu': 9046, 'emp': 5270, 'pagāju': 5347, 'ieņēma': 7957, 'uguņu': 10271, 'story': 3046, 'el': 799, 'tronu': 10760, 'shouted': 3055, 'murm': 9844, 'pusies': 10835, 'lodziņu': 9552, 'bļodu': 4859, 'ģimenes': 4792, 'brāļiem': 7499, 'pašai': 4697, 'ievainotas': 8038, 'aplicis': 6292, 'ievainotajiem': 3508, 'saw': 185, 'saviebās': 7703, 'fool': 3070, 'mak': 4632, 'fit': 4185, 'rap': 6979, 'pavēlē': 5723, 'evacuated': 9995, 'island': 2888, 'orm': 6740, 'ahead': 391, 'rokā': 1147, 'šā': 1536, 'nations': 4043, 'rī': 1688, 'zēniem': 5236, 'sk': 1658, 'druk': 9504, 'mājiņā': 8086, 'disg': 7160, 'sign': 2630, 'noskatījās': 5528, 'lowing': 10780, 'dry': 1507, 'šaut': 3228, 'rītā': 9950, 'dread': 10861, 'tālu': 636, 'ielai': 3017, 'ktas': 10909, 'cou': 9140, 'nevis': 2694, 'inis': 10174, 'jūtos': 1595, 'danger': 2298, 'during': 5517, 'clicked': 9465, 'dzir': 3495, 'uzvara': 8973, 'sparīgi': 9625, 'krietns': 10041, 'aprunājos': 4977, 'muguras': 1769, 'pozīcijās': 5228, 'patīkama': 4467, 'zariem': 6203, 'biķeri': 8362, 'tūkstošus': 9441, 'asha': 10657, 'lūdzu': 427, 'yed': 7633, 'whom': 7658, 'jāsāk': 7613, 'tail': 6123, 'sacred': 4757, 'piecdesmit': 2436, 'rīta': 640, 'neļau': 4780, 'līgs': 4856, 'ster': 5209, 'esi': 211, 'viesmīli': 6778, 'elektriskā': 8894, 'nodarbošanās': 9751, 'beidza': 7826, 'canteen': 3547, 'slēģ': 10943, 'jūdzes': 4333, 'džā': 9209, 'ceturt': 10970, 'sliedēm': 1212, 'decorated': 6321, 'unc': 5410, 'ormanis': 9794, 'clouded': 8546, 'muļķ': 3811, 'than': 392, 'savas': 1259, 'vio': 8727, 'vielām': 9144, 'vēlētos': 2571, 'vīnogulāji': 9447, 'žēl': 4893, 'grenadier': 10402, 'mui': 6762, ',@@': 10988, 'loga': 920, 'chairs': 3420, 'negribēja': 3466, 'nelaimes': 7844, 'books': 8776, 'rindas': 6169, 'paēdām': 6100, 'elastī': 8204, 'slotiņu': 9177, 'pontontiltam': 10329, 'pusdienās': 6622, 'krī': 4766, 'peniju': 7930, 'ws': 3792, 'likti': 5826, 'nū': 9033, 'thirty': 3060, 'bezdelīgas': 4484, 'manners': 10234, 'papīrus': 2317, 'plecs': 8178, 'lepo': 5529, 'šām': 5221, 'salocī': 8928, 'nesa': 565, 'tei': 1827, 'screened': 3964, 'mosquito': 5572, 'dzīvoju': 3448, 'pudur': 6596, 'yet': 961, 'strezu': 5083, 'drup': 7608, 'šaute': 10807, 'pakustēties': 9678, 'žults': 9086, 'parkā': 6273, 'valodu': 7926, '(': 1418, 'atsi': 4784, 'spogu': 7684, 'moon': 2079, 'zī': 1371, 'mother': 2177, 'krietni': 1807, 'aizslē': 3297, 'pamodinās': 6155, 'virsnieki': 1304, '!': 56, 'dri': 2901, 'thigh': 5595, '307': 6924, 'atvairīt': 7591, 'radies': 8088, 'son': 1629, 'est': 2215, 'pack': 3092, 'pasmaidīja': 1462, 'gaļas': 8275, 'neprotu': 5372, 'stus': 5993, 'cavour': 3955, 'ver': 1250, 'waited': 1855, 'ceiling': 6869, 'augstajā': 7886, 'spul': 8429, 'steidzāmies': 8868, 'inās': 3083, 'dežurants': 2747, 'smells': 9047, 'pagājām': 4673, 'pū': 2039, 'jēzu': 10316, 'sievietēm': 10429, 'fourth': 10484, 'īm': 10790, 'pilnīgi': 3380, 'turning': 6020, 'jā': 104, 'sal': 839, 'robežai': 2554, 'iegāju': 2570, 'ust': 2445, 'palūkojies': 8222, 'sorry': 1152, 'krasts': 4492, 'clock': 1104, 'ieslēg': 9335, 'lūkojāmies': 5722, 'usa': 3666, 'amerikānieti': 7545, 'taba': 9873, 'neaušojies': 9874, 'drosme': 9899, 'ders': 10422, 'ļus': 1890, 'live': 873, 'frizētavā': 4255, 'grie': 4547, 'zau': 8854, 'rādīdams': 9091, 'unch': 10840, 'spēle': 4443, 'skapī': 8838, 'ļojos': 8606, 'finan': 8360, 'helped': 3758, 'prasī': 6656, 'kuri': 5729, 'shriek': 9841, 'ini': 1871, 'tin': 1596, 'ste': 2364, 'iepretī': 3167, 'kills': 5341, 'stāvu': 5951, 'carts': 1624, 'steel': 1723, 'kreisā': 7046, 'baiting': 9688, 'brezen': 10968, 'wound': 2845, 'vairāk': 577, 'rīko': 3956, 'leju': 3979, 'nogrozīja': 3471, 'old': 370, 'bersaljeri': 3878, 'ort': 7179, 'šveic': 7694, 'taking': 1650, 'lauki': 2984, 'drizzle': 6887, 'smoothly': 2558, 'izstiep': 3362, 'amount': 3601, 'kādiem': 5849, 'zina': 2471, 'counter': 3515, 'audzēt': 5744, 'as': 88, 'drīkstam': 6760, 'bināju': 8850, 'piens': 9635, 'lampas': 4366, 'izpostī': 5550, 'straumi': 10296, 'liftu': 4837, 'šaha': 7433, 'slāpa': 8917, 'slung': 6841, 'izpleta': 9597, 'varēs': 2740, 'smel': 7868, 'bullet': 8354, 'pašas': 2968, 'beigās': 4574, 'plātīties': 8197, 'balcony': 1784, 'rā': 1920, 'ģērbos': 4810, 'trolling': 9165, 'auksti': 4998, 'bās': 5749, 'sienā': 2587, 'dro': 4392, 'gribi': 1818, 'walls': 2130, 'kabinetā': 7242, 'amerikāniski': 5851, 'ļi': 1173, 'ieteicās': 5418, 'tasted': 8417, 'steigas': 9319, 'divsimt': 2388, 'hemorrhage': 6951, 'although': 2417, 'atcerēties': 2884, 'savām': 3617, 'machine': 1399, 'tru': 5440, 'suit': 6803, 'dzimšanas': 4451, 'vāt': 4765, 'fragile': 7227, 'bagāžas': 8722, 'birds': 9725, 'brissago': 5753, 'ins': 2098, 'griezt': 3189, 'ietecēja': 9096, 'nokļu': 10578, 'makš': 10781, 'sas': 5368, 'lī': 744, 'vilkt': 3111, 'kaklam': 8613, 'platmali': 9541, 'atnākšu': 4602, 'tul': 6870, 'zvanīšu': 9659, 'pirmās': 3283, 'meant': 2353, 'nojau': 7018, 'pirmajā': 2875, 'bau': 5380, 'couldn': 1125, 'piecēlāmies': 9007, 'sodu': 3218, 'galā': 941, 'izdzert': 5360, 'while': 242, 'guli': 6165, 'glāzē': 3559, 'fluid': 9524, 'pieteiks': 7438, 'vedu': 6821, 'gudrot': 7864, 'meiteni': 2154, 'augst': 7397, 'choked': 9127, 'iegādā': 10454, 'virpu': 10745, 'mierīgi': 2687, 'kaili': 2727, 'lēna': 5351, 'ke': 2765, 'sl': 4605, 'romā': 3377, 'back': 101, 'swords': 9941, 'iekšas': 9811, 'biljardu': 9970, 'dzirdēt': 2853, 'pusē': 665, 'or': 184, 'kos': 2732, 'skapja': 5653, 'zobu': 5964, 'brīva': 5916, 'saģērb': 6569, 'ģīmi': 8609, 'ievainoti': 8783, 'zemāk': 4259, 'kers': 7670, 'two': 165, 'vilc': 4203, 'reliģi': 5918, 'kreiso': 6409, 'harca': 7982, 'soil': 10049, 'apmā': 9560, 'ang': 4121, 'ietei': 4848, 'vai': 52, 'zilganu': 9014, 'tongue': 5891, 'giovanni': 7169, 'kājnieku': 8381, 'valstīm': 9320, 'satraukta': 9737, 'apakšve': 9932, 'paaugst': 10862, 'noliku': 2086, 'staļļiem': 9269, 'četrdesmit': 5684, 'gn': 6408, 'next': 709, 'died': 2713, 'jusi': 1301, 'pajautāju': 2639, 'mēneši': 4730, 'nedraudēja': 5169, 'paņēmis': 5631, 'ieliku': 6470, 'trouble': 825, 'per': 1601, 'pressure': 7195, 'sing': 959, 'nesdams': 7425, 'spīdēja': 2166, 'glī': 8016, 'bassi': 5883, 'paēduši': 8278, 'klimats': 8905, 'dabū': 5357, 'neredzēja': 7434, 'itālietis': 1805, 'raudā': 9259, 'arh': 10636, 'there': 46, 'pped': 3067, 'krekla': 3041, 'mala': 7250, 'para': 2850, 'rādīja': 1377, 'paul': 7727, 'grieznes': 8078, 'zinām': 4550, 'cīgi': 3543, 'būt': 517, 'sazini': 7726, 'pūtīs': 8425, 'clists': 7373, 'runā': 1027, 'palīdzu': 9386, 'mile': 2746, 'blašķi': 3749, 'pašā': 1112, 'numuriem': 7876, 'palikām': 9095, 'cousin': 7302, 'jauka': 1056, 'laiva': 2246, 'regiment': 1621, 'uzliku': 2827, 'radī': 4200, 'does': 649, 'apa': 4637, 'hernia': 6822, 'fought': 5924, 'plaukstas': 4749, 'žandar': 8404, 'fam': 10928, 'inside': 510, 'apturēju': 5214, 'būsiet': 2087, 'bijāt': 2013, 'aizgāju': 2128, 'dzirdējis': 2909, 'goddam': 5947, 'cafe': 2495, 'operate': 5984, 'atļauts': 8217, 'patika': 1970, 'vārtus': 9063, 'nenāc': 10368, 'gu': 667, 'worn': 5966, 'jaukais': 7028, 'džino': 1530, 'iemidzis': 7274, 'parauj': 5734, 'zes': 10604, 'uzticīga': 9734, 'sister': 2116, 'piek': 7475, 'just': 220, 'sses': 5876, 'idea': 2916, 'smell': 2198, 'vār': 1737, 'rāvu': 6662, 'nekustējās': 7641, 'gave': 751, 'virssu': 7177, 'gabalos': 5053, 'vismaz': 1551, 'ents': 10584, 'path': 2262, 'nokniebu': 9317, 'civil': 4065, 'count': 1667, 'rū': 4846, 'holer': 8090, 'parādī': 4709, 'ilgojies': 8092, 'granātu': 3831, 'nēja': 3841, 'keys': 6618, 'sniedzās': 5399, 'izmaksās': 8600, 'fracture': 4863, 'somām': 4268, 'rinda': 8407, 'durvis': 624, 'ieju': 10634, 'apmetums': 7007, 'lake': 319, 'priekšu': 423, 'viegli': 1440, 'klauvēja': 5027, 'grā': 6257, 'sēdēt': 6462, 'pārpūlējies': 10227, 'gar': 262, 'vās': 3914, 'turēt': 5213, 'agri': 1392, 'foot': 945, 'tīruma': 10288, 'capri': 1989, 'kšan': 7197, 'dzimtajā': 7068}\n"
     ]
    }
   ],
   "source": [
    "vocab_dict = tokenizer.get_vocab(with_added_tokens=False)\n",
    "print(\"ACTUAL VOCAB SIZE =\", len(vocab_dict))\n",
    "print(vocab_dict)"
   ]
  },
  {
   "cell_type": "code",
   "execution_count": 19,
   "id": "wcc2v_fHe81_",
   "metadata": {
    "id": "wcc2v_fHe81_"
   },
   "outputs": [],
   "source": [
    "with open(f'{HEMINGWAY_DATA}/hemingway.lv.BPE.txt', 'r') as f:\n",
    "    text_input = f.read()\n",
    "\n",
    "with open(f'{HEMINGWAY_DATA}/hemingway.en.BPE.txt', 'r') as f:\n",
    "    text_output = f.read()"
   ]
  },
  {
   "cell_type": "markdown",
   "id": "PAHdOeNhYJ8v",
   "metadata": {
    "id": "PAHdOeNhYJ8v"
   },
   "source": [
    "#MinGPT"
   ]
  },
  {
   "cell_type": "code",
   "execution_count": 20,
   "id": "OcFt-zMBfqDt",
   "metadata": {
    "id": "OcFt-zMBfqDt"
   },
   "outputs": [],
   "source": [
    "import random\n",
    "import numpy as np\n",
    "import torch\n",
    "import torch.nn as nn\n",
    "from torch.nn import functional as F\n",
    "\n",
    "def set_seed(seed):\n",
    "    random.seed(seed)\n",
    "    np.random.seed(seed)\n",
    "    torch.manual_seed(seed)\n",
    "    torch.cuda.manual_seed_all(seed)\n",
    "\n",
    "def top_k_logits(logits, k):\n",
    "    v, ix = torch.topk(logits, k)\n",
    "    out = logits.clone()\n",
    "    out[out < v[:, [-1]]] = -float('Inf')\n",
    "    return out\n",
    "\n",
    "def calculate_attention_token(attention, top_k, model):\n",
    "    logits = model.head(attention)\n",
    "    logits = logits[:, -1, :]\n",
    "    logits = top_k_logits(logits, top_k)\n",
    "\n",
    "    probs = F.softmax(logits)\n",
    "\n",
    "    _, ix = torch.topk(probs, k=1, dim=-1)\n",
    "    ix = torch.multinomial(probs, num_samples=top_k)\n",
    "\n",
    "    return ix[0]\n",
    "\n",
    "\n",
    "@torch.no_grad()\n",
    "def sample(model, x, steps, temperature=1.0, sample=False, top_k=None, output_attention=False):\n",
    "    \"\"\"\n",
    "    take a conditioning sequence of indices in x (of shape (b,t)) and predict the next token in\n",
    "    the sequence, feeding the predictions back into the model each time. Clearly the sampling\n",
    "    has quadratic complexity unlike an RNN that is only linear, and has a finite context window\n",
    "    of block_size, unlike an RNN that has an infinite context window.\n",
    "    \"\"\"\n",
    "    block_size = model.get_block_size()\n",
    "    model.eval()\n",
    "    attention_state = [[] for _ in model.blocks]\n",
    "\n",
    "    for k in range(steps):\n",
    "        x_cond = x if x.size(1) <= block_size else x[:, -block_size:] # crop context if needed\n",
    "        logits, _ = model(x_cond)\n",
    "        # pluck the logits at the final step and scale by temperature\n",
    "        logits = logits[:, -1, :] / temperature\n",
    "        # optionally crop probabilities to only the top k options\n",
    "        if top_k is not None:\n",
    "            logits = top_k_logits(logits, top_k)\n",
    "        # apply softmax to convert to probabilities\n",
    "        probs = F.softmax(logits, dim=-1)\n",
    "        # sample from the distribution or take the most likely\n",
    "        if sample:\n",
    "            ix = torch.multinomial(probs, num_samples=1)\n",
    "        else:\n",
    "            _, ix = torch.topk(probs, k=1, dim=-1)\n",
    "\n",
    "        if output_attention:\n",
    "            b, t = x.size()\n",
    "\n",
    "            for block_id in range(len(model.blocks)):\n",
    "                att = model.blocks[block_id].attn.att\n",
    "                attention_state[block_id].append(att)\n",
    "\n",
    "        # append to the sequence and continue\n",
    "        x = torch.cat((x, ix), dim=1)\n",
    "\n",
    "    if output_attention:\n",
    "        return x, attention_state\n",
    "\n",
    "    return x\n"
   ]
  },
  {
   "cell_type": "code",
   "execution_count": 21,
   "id": "cZGEd6UCfeou",
   "metadata": {
    "id": "cZGEd6UCfeou"
   },
   "outputs": [],
   "source": [
    "\"\"\"\n",
    "GPT model:\n",
    "- the initial stem consists of a combination of token encoding and a positional encoding\n",
    "- the meat of it is a uniform sequence of Transformer blocks\n",
    "    - each Transformer is a sequential combination of a 1-hidden-layer MLP block and a self-attention block\n",
    "    - all blocks feed into a central residual pathway similar to resnets\n",
    "- the final decoder is a linear projection into a vanilla Softmax classifier\n",
    "\"\"\"\n",
    "\n",
    "import math\n",
    "import logging\n",
    "\n",
    "import torch\n",
    "import torch.nn as nn\n",
    "from torch.nn import functional as F\n",
    "\n",
    "logger = logging.getLogger(__name__)\n",
    "\n",
    "class GPTConfig:\n",
    "    \"\"\" base GPT config, params common to all GPT versions \"\"\"\n",
    "    embd_pdrop = 0.1\n",
    "    resid_pdrop = 0.1\n",
    "    attn_pdrop = 0.1\n",
    "\n",
    "    def __init__(self, vocab_size, block_size, **kwargs):\n",
    "        self.vocab_size = vocab_size\n",
    "        self.block_size = block_size\n",
    "        for k,v in kwargs.items():\n",
    "            setattr(self, k, v)\n",
    "\n",
    "class GPT1Config(GPTConfig):\n",
    "    \"\"\" GPT-1 like network roughly 125M params \"\"\"\n",
    "    n_layer = 12\n",
    "    n_head = 12\n",
    "    n_embd = 768\n",
    "\n",
    "class CausalSelfAttention(nn.Module):\n",
    "    \"\"\"\n",
    "    A vanilla multi-head masked self-attention layer with a projection at the end.\n",
    "    It is possible to use torch.nn.MultiheadAttention here but I am including an\n",
    "    explicit implementation here to show that there is nothing too scary here.\n",
    "    \"\"\"\n",
    "\n",
    "    def __init__(self, config):\n",
    "        super().__init__()\n",
    "        assert config.n_embd % config.n_head == 0\n",
    "        # key, query, value projections for all heads\n",
    "        self.key = nn.Linear(config.n_embd, config.n_embd)\n",
    "        self.query = nn.Linear(config.n_embd, config.n_embd)\n",
    "        self.value = nn.Linear(config.n_embd, config.n_embd)\n",
    "        # regularization\n",
    "        self.attn_drop = nn.Dropout(config.attn_pdrop)\n",
    "        self.resid_drop = nn.Dropout(config.resid_pdrop)\n",
    "        # output projection\n",
    "        self.proj = nn.Linear(config.n_embd, config.n_embd)\n",
    "        # causal mask to ensure that attention is only applied to the left in the input sequence\n",
    "        self.register_buffer(\"mask\", torch.tril(torch.ones(config.block_size, config.block_size))\n",
    "                                     .view(1, 1, config.block_size, config.block_size))\n",
    "        self.n_head = config.n_head\n",
    "        self.att = None\n",
    "\n",
    "    def forward(self, x, layer_past=None):\n",
    "        B, T, C = x.size()\n",
    "\n",
    "        # calculate query, key, values for all heads in batch and move head forward to be the batch dim\n",
    "        k = self.key(x).view(B, T, self.n_head, C // self.n_head).transpose(1, 2) # (B, nh, T, hs)\n",
    "        q = self.query(x).view(B, T, self.n_head, C // self.n_head).transpose(1, 2) # (B, nh, T, hs)\n",
    "        v = self.value(x).view(B, T, self.n_head, C // self.n_head).transpose(1, 2) # (B, nh, T, hs)\n",
    "\n",
    "        # causal self-attention; Self-attend: (B, nh, T, hs) x (B, nh, hs, T) -> (B, nh, T, T)\n",
    "        att = (q @ k.transpose(-2, -1)) * (1.0 / math.sqrt(k.size(-1)))\n",
    "        att = att.masked_fill(self.mask[:,:,:T,:T] == 0, float('-inf'))\n",
    "        att = F.softmax(att, dim=-1)\n",
    "        att = self.attn_drop(att)\n",
    "        y = att @ v # (B, nh, T, T) x (B, nh, T, hs) -> (B, nh, T, hs)\n",
    "        y = y.transpose(1, 2).contiguous().view(B, T, C) # re-assemble all head outputs side by side\n",
    "\n",
    "        # output projection\n",
    "        y = self.resid_drop(self.proj(y))\n",
    "\n",
    "        self.att = att\n",
    "\n",
    "        return y\n",
    "\n",
    "class Block(nn.Module):\n",
    "    \"\"\" an unassuming Transformer block \"\"\"\n",
    "\n",
    "    def __init__(self, config):\n",
    "        super().__init__()\n",
    "        self.ln1 = nn.LayerNorm(config.n_embd)\n",
    "        self.ln2 = nn.LayerNorm(config.n_embd)\n",
    "        self.attn = CausalSelfAttention(config)\n",
    "        self.mlp = nn.Sequential(\n",
    "            nn.Linear(config.n_embd, 4 * config.n_embd),\n",
    "            nn.GELU(),\n",
    "            nn.Linear(4 * config.n_embd, config.n_embd),\n",
    "            nn.Dropout(config.resid_pdrop),\n",
    "        )\n",
    "\n",
    "    def forward(self, x):\n",
    "        x = x + self.attn(self.ln1(x))\n",
    "        x = x + self.mlp(self.ln2(x))\n",
    "        return x\n",
    "\n",
    "class GPT(nn.Module):\n",
    "    \"\"\"  the full GPT language model, with a context size of block_size \"\"\"\n",
    "\n",
    "    def __init__(self, config):\n",
    "        super().__init__()\n",
    "\n",
    "        # input embedding stem\n",
    "        self.tok_emb = nn.Embedding(config.vocab_size, config.n_embd)\n",
    "        self.pos_emb = nn.Parameter(torch.zeros(1, config.block_size, config.n_embd))\n",
    "        self.drop = nn.Dropout(config.embd_pdrop)\n",
    "        # transformer\n",
    "        self.blocks = nn.Sequential(*[Block(config) for _ in range(config.n_layer)])\n",
    "        # decoder head\n",
    "        self.ln_f = nn.LayerNorm(config.n_embd)\n",
    "        self.head = nn.Linear(config.n_embd, config.vocab_size, bias=False)\n",
    "\n",
    "        self.block_size = config.block_size\n",
    "        self.apply(self._init_weights)\n",
    "\n",
    "        logger.info(\"number of parameters: %e\", sum(p.numel() for p in self.parameters()))\n",
    "\n",
    "    def get_block_size(self):\n",
    "        return self.block_size\n",
    "\n",
    "    def _init_weights(self, module):\n",
    "        if isinstance(module, (nn.Linear, nn.Embedding)):\n",
    "            module.weight.data.normal_(mean=0.0, std=0.02)\n",
    "            if isinstance(module, nn.Linear) and module.bias is not None:\n",
    "                module.bias.data.zero_()\n",
    "        elif isinstance(module, nn.LayerNorm):\n",
    "            module.bias.data.zero_()\n",
    "            module.weight.data.fill_(1.0)\n",
    "\n",
    "    def configure_optimizers(self, train_config):\n",
    "        \"\"\"\n",
    "        This long function is unfortunately doing something very simple and is being very defensive:\n",
    "        We are separating out all parameters of the model into two buckets: those that will experience\n",
    "        weight decay for regularization and those that won't (biases, and layernorm/embedding weights).\n",
    "        We are then returning the PyTorch optimizer object.\n",
    "        \"\"\"\n",
    "\n",
    "        # separate out all parameters to those that will and won't experience regularizing weight decay\n",
    "        decay = set()\n",
    "        no_decay = set()\n",
    "        whitelist_weight_modules = (torch.nn.Linear, )\n",
    "        blacklist_weight_modules = (torch.nn.LayerNorm, torch.nn.Embedding)\n",
    "        for mn, m in self.named_modules():\n",
    "            for pn, p in m.named_parameters():\n",
    "                fpn = '%s.%s' % (mn, pn) if mn else pn # full param name\n",
    "\n",
    "                if pn.endswith('bias'):\n",
    "                    # all biases will not be decayed\n",
    "                    no_decay.add(fpn)\n",
    "                elif pn.endswith('weight') and isinstance(m, whitelist_weight_modules):\n",
    "                    # weights of whitelist modules will be weight decayed\n",
    "                    decay.add(fpn)\n",
    "                elif pn.endswith('weight') and isinstance(m, blacklist_weight_modules):\n",
    "                    # weights of blacklist modules will NOT be weight decayed\n",
    "                    no_decay.add(fpn)\n",
    "\n",
    "        # special case the position embedding parameter in the root GPT module as not decayed\n",
    "        no_decay.add('pos_emb')\n",
    "\n",
    "        # validate that we considered every parameter\n",
    "        param_dict = {pn: p for pn, p in self.named_parameters()}\n",
    "        inter_params = decay & no_decay\n",
    "        union_params = decay | no_decay\n",
    "        assert len(inter_params) == 0, \"parameters %s made it into both decay/no_decay sets!\" % (str(inter_params), )\n",
    "        assert len(param_dict.keys() - union_params) == 0, \"parameters %s were not separated into either decay/no_decay set!\" \\\n",
    "                                                    % (str(param_dict.keys() - union_params), )\n",
    "\n",
    "        # create the pytorch optimizer object\n",
    "        optim_groups = [\n",
    "            {\"params\": [param_dict[pn] for pn in sorted(list(decay))], \"weight_decay\": train_config.weight_decay},\n",
    "            {\"params\": [param_dict[pn] for pn in sorted(list(no_decay))], \"weight_decay\": 0.0},\n",
    "        ]\n",
    "        optimizer = torch.optim.AdamW(optim_groups, lr=train_config.learning_rate, betas=train_config.betas)\n",
    "        return optimizer\n",
    "\n",
    "    def forward(self, idx, targets=None):\n",
    "        b, t = idx.size()\n",
    "        assert t <= self.block_size, \"Cannot forward, model block size is exhausted.\"\n",
    "\n",
    "        # forward the GPT model\n",
    "        token_embeddings = self.tok_emb(idx) # each index maps to a (learnable) vector\n",
    "        position_embeddings = self.pos_emb[:, :t, :] # each position maps to a (learnable) vector\n",
    "        x = self.drop(token_embeddings + position_embeddings)\n",
    "        x = self.blocks(x)\n",
    "        x = self.ln_f(x)\n",
    "        logits = self.head(x)\n",
    "\n",
    "        # if we are given some desired targets also calculate the loss\n",
    "        loss = None\n",
    "        if targets is not None:\n",
    "            loss = F.cross_entropy(logits.view(-1, logits.size(-1)), targets.view(-1))\n",
    "\n",
    "        return logits, loss\n"
   ]
  },
  {
   "cell_type": "code",
   "execution_count": 22,
   "id": "0s5SO83OXVK6",
   "metadata": {
    "id": "0s5SO83OXVK6"
   },
   "outputs": [],
   "source": [
    "\"\"\"\n",
    "Simple training loop; Boilerplate that could apply to any arbitrary neural network,\n",
    "so nothing in this file really has anything to do with GPT specifically.\n",
    "\"\"\"\n",
    "\n",
    "import sacrebleu\n",
    "import math\n",
    "import logging\n",
    "from random import choice\n",
    "\n",
    "from tqdm import tqdm\n",
    "import numpy as np\n",
    "\n",
    "import torch\n",
    "import torch.optim as optim\n",
    "from torch.optim.lr_scheduler import LambdaLR\n",
    "from torch.utils.data.dataloader import DataLoader\n",
    "\n",
    "logger = logging.getLogger(__name__)\n",
    "\n",
    "def clean_tokens(sentence):\n",
    "    return sentence.replace('@@ ', '').replace(' @', '').replace('@ ', '')\n",
    "\n",
    "class TrainerConfig:\n",
    "    # optimization parameters\n",
    "    max_epochs = 10\n",
    "    batch_size = 64\n",
    "    learning_rate = 3e-4\n",
    "    betas = (0.9, 0.95)\n",
    "    grad_norm_clip = 1.0\n",
    "    weight_decay = 0.1 # only applied on matmul weights\n",
    "    # learning rate decay params: linear warmup followed by cosine decay to 10% of original\n",
    "    lr_decay = False\n",
    "    warmup_tokens = 375e6 # these two numbers come from the GPT-3 paper, but may not be good defaults elsewhere\n",
    "    final_tokens = 260e9 # (at what point we reach 10% of original LR)\n",
    "    # checkpoint settings\n",
    "    ckpt_path = None\n",
    "    num_workers = 0 # for DataLoader\n",
    "\n",
    "    def __init__(self, **kwargs):\n",
    "        for k,v in kwargs.items():\n",
    "            setattr(self, k, v)\n",
    "\n",
    "class Trainer:\n",
    "\n",
    "    def __init__(self, model, train_dataset, test_dataset, valid_dataset, config):\n",
    "        self.model = model\n",
    "        self.train_dataset = train_dataset\n",
    "        self.test_dataset = test_dataset\n",
    "        self.valid_dataset = valid_dataset\n",
    "        self.config = config\n",
    "\n",
    "        # take over whatever gpus are on the system\n",
    "        self.device = 'cpu'\n",
    "        if torch.cuda.is_available():\n",
    "            self.device = torch.cuda.current_device()\n",
    "            self.model = torch.nn.DataParallel(self.model).to(self.device)\n",
    "\n",
    "    def save_checkpoint(self, postfix=''):\n",
    "        # DataParallel wrappers keep raw model object in .module attribute\n",
    "        raw_model = self.model.module if hasattr(self.model, \"module\") else self.model\n",
    "        checkpoint_path = self.config.ckpt_path + postfix + '.pt'\n",
    "        logger.info(\"saving %s\", checkpoint_path)\n",
    "        torch.save(raw_model.state_dict(), checkpoint_path)\n",
    "\n",
    "    def train(self):\n",
    "        model, config = self.model, self.config\n",
    "        raw_model = model.module if hasattr(self.model, \"module\") else model\n",
    "        optimizer = raw_model.configure_optimizers(config)\n",
    "\n",
    "        def run_epoch(split):\n",
    "            is_train = split == 'train'\n",
    "            model.train(is_train)\n",
    "            data = self.train_dataset\n",
    "            if split == 'test':\n",
    "                data = self.test_dataset\n",
    "            elif split == 'valid':\n",
    "                data = self.valid_dataset\n",
    "                model.eval()\n",
    "            loader = DataLoader(data, shuffle=True, pin_memory=True,\n",
    "                                batch_size=config.batch_size,\n",
    "                                num_workers=config.num_workers)\n",
    "\n",
    "            losses = []\n",
    "            pbar = tqdm(enumerate(loader), total=len(loader)) if is_train else enumerate(loader)\n",
    "            logits_total = None\n",
    "            x_total = None\n",
    "            y_total = None\n",
    "            for it, (x, y) in pbar:\n",
    "\n",
    "                # place data on the correct device\n",
    "                x = x.to(self.device)\n",
    "                y = y.to(self.device)\n",
    "\n",
    "                # forward the model\n",
    "                with torch.set_grad_enabled(is_train):\n",
    "                    logits, loss = model(x, y)\n",
    "                    loss = loss.mean() # collapse all losses if they are scattered on multiple gpus\n",
    "                    losses.append(loss.item())\n",
    "                    if split == 'valid':\n",
    "                        if logits_total is None:\n",
    "                            logits_total = logits\n",
    "                            x_total = x\n",
    "                            y_total = y\n",
    "                        else:\n",
    "                            logits_total = torch.cat((logits_total, logits), dim=0)\n",
    "                            x_total = torch.cat((x_total, x), dim=0)\n",
    "                            y_total = torch.cat((y_total, y), dim=0)\n",
    "                        \n",
    "\n",
    "                if is_train:\n",
    "                    # backprop and update the parameters\n",
    "                    model.zero_grad()\n",
    "                    loss.backward()\n",
    "                    torch.nn.utils.clip_grad_norm_(model.parameters(), config.grad_norm_clip)\n",
    "                    optimizer.step()\n",
    "\n",
    "                    # decay the learning rate based on our progress\n",
    "                    if config.lr_decay:\n",
    "                        self.tokens += (y >= 0).sum() # number of tokens processed this step (i.e. label is not -100)\n",
    "                        if self.tokens < config.warmup_tokens:\n",
    "                            # linear warmup\n",
    "                            lr_mult = float(self.tokens) / float(max(1, config.warmup_tokens))\n",
    "                        else:\n",
    "                            # cosine learning rate decay\n",
    "                            progress = float(self.tokens - config.warmup_tokens) / float(max(1, config.final_tokens - config.warmup_tokens))\n",
    "                            lr_mult = max(0.1, 0.5 * (1.0 + math.cos(math.pi * progress)))\n",
    "                        lr = config.learning_rate * lr_mult\n",
    "                        for param_group in optimizer.param_groups:\n",
    "                            param_group['lr'] = lr\n",
    "                    else:\n",
    "                        lr = config.learning_rate\n",
    "\n",
    "                    # report progress\n",
    "                    pbar.set_description(f\"epoch {epoch+1} iter {it}: train loss {loss.item():.5f}. mean loss: {float(np.mean(losses)):.5f}. lr {lr:e}\")\n",
    "\n",
    "            if split == 'train':\n",
    "                train_loss = float(np.mean(losses))\n",
    "                print(f\"train loss: {train_loss}\")\n",
    "                return train_loss\n",
    "\n",
    "            if split == 'test':\n",
    "                test_loss = float(np.mean(losses))\n",
    "                print(f\"test loss: {test_loss}\")\n",
    "                return test_loss\n",
    "\n",
    "            if split == 'valid':\n",
    "                test_loss = float(np.mean(losses))\n",
    "                print(f\"valid loss: {test_loss}\")\n",
    "\n",
    "                eval_results = []\n",
    "                translation_results = []\n",
    "                context_list = []\n",
    "\n",
    "                for idx in range(len(logits_total)):\n",
    "                    intent = (x_total[idx] == valid_dataset.tokenizer_input.encode(['<eos>'])[0]).nonzero(as_tuple=True)[0][0]\n",
    "\n",
    "                    probs = F.softmax(logits_total[idx], dim=-1)\n",
    "                    # sample from the distribution or take the most likely\n",
    "                    _, predicted = torch.topk(probs, k=1, dim=-1)\n",
    "                    context = clean_tokens(data.tokenizer_input.decode(x_total[idx][:intent - 1], True))\n",
    "                    completion = clean_tokens(data.tokenizer_output.decode(predicted[intent:], True))\n",
    "                    real = clean_tokens(data.tokenizer_output.decode(y_total[idx][intent:], True))\n",
    "\n",
    "                    context_list.append(context)\n",
    "                    translation_results.append(completion)\n",
    "                    eval_results.append(real)\n",
    "                \n",
    "                with open('valid.txt', 'w') as f:\n",
    "                    f.write(\"\\n\".join(translation_results))\n",
    "\n",
    "                with open('eval.txt', 'w') as f:\n",
    "                    f.write(\"\\n\".join(eval_results))\n",
    "\n",
    "                with open('context.txt', 'w') as f:\n",
    "                    f.write(\"\\n\".join(context_list))\n",
    "\n",
    "\n",
    "                !cat valid.txt | mosesdecoder/scripts/tokenizer/detokenizer.perl -l lv > valid.detok.txt\n",
    "                !cat eval.txt | mosesdecoder/scripts/tokenizer/detokenizer.perl -l lv > eval.detok.txt\n",
    "                !cat context.txt | mosesdecoder/scripts/tokenizer/detokenizer.perl -l lv > context.detok.txt\n",
    "\n",
    "                with open('eval.detok.txt', 'r') as f:\n",
    "                    eval_results = [l.strip() for l in f.readlines()]\n",
    "                with open('valid.detok.txt', 'r') as f:\n",
    "                    translation_results = [l.strip() for l in f.readlines()]\n",
    "                with open('context.detok.txt', 'r') as f:\n",
    "                    context_list = [l.strip() for l in f.readlines()]\n",
    "\n",
    "#                 idx = choice(range(len(context_list)))\n",
    "                valid_sentences = ['the driver wore a cap and his face was thin and very tanned.',\n",
    "                                   'outside it was getting dark.',\n",
    "                                   'the two girls were asleep.',\n",
    "                                   'I would like to have had the uniform off although I did not care much about the outward forms.',\n",
    "                                   'I watched the flashes on San Gabriele.',\n",
    "                                   'I asked.',\n",
    "                                   '\"no.']\n",
    "\n",
    "                idx_list = [i for i, sentence in enumerate(eval_results) if sentence in valid_sentences]\n",
    "                \n",
    "                for idx in idx_list:\n",
    "                    print(f'Input:            {context_list[idx]}')\n",
    "                    print(f'Predicted output: {translation_results[idx]}')\n",
    "                    print(f'Real output:      {eval_results[idx]}')\n",
    "                    print('--------------------------------------------------')\n",
    "\n",
    "                refs = [eval_results]\n",
    "                sys = translation_results\n",
    "                bleu = sacrebleu.corpus_bleu(sys, refs)\n",
    "                print(f'BLEU: {bleu.score}')\n",
    "                print('##############################################################')\n",
    "\n",
    "                return test_loss, bleu.score\n",
    "\n",
    "        train_loss_list = []\n",
    "        test_loss_list = []\n",
    "        valid_loss_list = []\n",
    "        valid_bleu_list = []\n",
    "        best_loss = float('inf')\n",
    "        self.tokens = 0 # counter used for learning rate decay\n",
    "        for epoch in range(config.max_epochs):\n",
    "\n",
    "            train_loss = run_epoch('train')\n",
    "            train_loss_list.append(train_loss)\n",
    "            if self.test_dataset is not None:\n",
    "                test_loss = run_epoch('test')\n",
    "                test_loss_list.append(test_loss)\n",
    "\n",
    "            if self.valid_dataset is not None:\n",
    "                valid_loss, bleu_score = run_epoch('valid')\n",
    "                valid_loss_list.append(valid_loss)\n",
    "                valid_bleu_list.append(bleu_score)\n",
    "\n",
    "            # supports early stopping based on the test loss, or just save always if no test set is provided\n",
    "            good_model = self.test_dataset is None or test_loss < best_loss\n",
    "            if self.config.ckpt_path is not None and good_model:\n",
    "                best_loss = test_loss\n",
    "                self.save_checkpoint(\"_best\")\n",
    "\n",
    "            if epoch % 10 == 0:\n",
    "                self.save_checkpoint(f\"_{epoch}\")\n",
    "\n",
    "            self.save_checkpoint(\"_last\")\n",
    "\n",
    "        return train_loss_list, test_loss_list, valid_loss_list, valid_bleu_list\n"
   ]
  },
  {
   "cell_type": "markdown",
   "id": "jKCnnx4-XTg1",
   "metadata": {
    "id": "jKCnnx4-XTg1"
   },
   "source": [
    "#Training"
   ]
  },
  {
   "cell_type": "code",
   "execution_count": 23,
   "id": "Ds0Rr1hrbRDq",
   "metadata": {
    "id": "Ds0Rr1hrbRDq"
   },
   "outputs": [],
   "source": [
    "\n",
    "class Tokenizer:\n",
    "    def __init__(self, data, vocab_size, vocab):\n",
    "        self.vocab_size = vocab_size\n",
    "        self.vocab = vocab\n",
    "        self.vocab_size = len(vocab)\n",
    "        if self.vocab_size != vocab_size:\n",
    "            logger.warn(f\"Tokenizer len(vocab) != vocab_size: {len(vocab)} {vocab_size}\")\n",
    "        print(f\"Tokenizer vocab_size={vocab_size} len(vocab)={len(vocab)}\")\n",
    "        self.stoi = {ch: i for i, ch in enumerate(self.vocab)}\n",
    "        self.itos = {i: ch for i, ch in enumerate(self.vocab)}\n",
    "    \n",
    "    def tokenize(self, data, block_size):\n",
    "        tokenized_text = data.split()\n",
    "        # Filter empty strings\n",
    "        tokenized_text = [x for x in tokenized_text if x]\n",
    "        result = []\n",
    "        for tokenized in tokenized_text:\n",
    "            # In case other single # found, replace them with <unk> special token, marking the element as unknown\n",
    "            if tokenized in self.vocab:\n",
    "                result.append(tokenized)\n",
    "            else:\n",
    "                logger.warn(f\"Tokenizer UNKNOWN TOKEN: |{tokenized}|\")\n",
    "                result.append('<unk>')\n",
    "\n",
    "        # in case the sentence is longer, than block_size, we trim the sentence\n",
    "        return result[:block_size]\n",
    "    \n",
    "    def encode(self, data):\n",
    "        return [self.stoi[s] for s in data]\n",
    "    \n",
    "    def decode(self, data, clean_paddings=False):\n",
    "        text = ' '.join([self.itos[int(i)] for i in data])\n",
    "\n",
    "        if not clean_paddings:\n",
    "            return text\n",
    "        return text.replace('<pad>', '').replace('  ', '')"
   ]
  },
  {
   "cell_type": "code",
   "execution_count": 24,
   "id": "advised-shelter",
   "metadata": {
    "id": "advised-shelter"
   },
   "outputs": [
    {
     "name": "stderr",
     "output_type": "stream",
     "text": [
      "<ipython-input-23-5713692e8b7a>:7: DeprecationWarning: The 'warn' method is deprecated, use 'warning' instead\n",
      "  logger.warn(f\"Tokenizer len(vocab) != vocab_size: {len(vocab)} {vocab_size}\")\n",
      "Tokenizer len(vocab) != vocab_size: 8646 5500\n",
      "Tokenizer len(vocab) != vocab_size: 4270 5500\n"
     ]
    },
    {
     "name": "stdout",
     "output_type": "stream",
     "text": [
      "Tokenizer vocab_size=5500 len(vocab)=8646\n",
      "Tokenizer vocab_size=5500 len(vocab)=4270\n"
     ]
    }
   ],
   "source": [
    "# vocab_size = 10000\n",
    "\n",
    "# vocab_input = None\n",
    "# if os.path.exists('vocab_input.pkl'):\n",
    "#     with open('vocab_input.pkl', 'rb') as f:\n",
    "#         vocab_input = pickle.load(f)\n",
    "        \n",
    "# vocab_output = None\n",
    "# if os.path.exists('vocab_output.pkl'):\n",
    "#     with open('vocab_output.pkl', 'rb') as f:\n",
    "#         vocab_output = pickle.load(f)\n",
    "\n",
    "# building vocabluary can take some time. ~5 minutes for 10_000 tokens for each tokenizer. \n",
    "tokenizer_input = Tokenizer(text_input, vocab_size, lv_vocab)\n",
    "tokenizer_output = Tokenizer(text_output, vocab_size, en_vocab)"
   ]
  },
  {
   "cell_type": "code",
   "execution_count": 25,
   "id": "7d8f6ac2-0118-4d55-99c0-a478bfa6fe27",
   "metadata": {
    "id": "7d8f6ac2-0118-4d55-99c0-a478bfa6fe27"
   },
   "outputs": [],
   "source": [
    "# with open('vocab_input.pkl', 'wb') as f:\n",
    "#     pickle.dump(tokenizer_input.vocab, f)\n",
    "\n",
    "# with open('vocab_output.pkl', 'wb') as f:\n",
    "#     pickle.dump(tokenizer_output.vocab, f)"
   ]
  },
  {
   "cell_type": "code",
   "execution_count": 26,
   "id": "78a18973",
   "metadata": {},
   "outputs": [
    {
     "name": "stdout",
     "output_type": "stream",
     "text": [
      "8812 8812\n"
     ]
    }
   ],
   "source": [
    "assert len(text_input.splitlines()) == len(text_output.splitlines()), \\\n",
    "   f\"{len(text_input.splitlines())} {len(text_output.splitlines())}\"\n",
    "assert len(text_lv.splitlines()) == len(text_en.splitlines())\n",
    "assert len(text_lv.splitlines()) == len(text_input.splitlines())\n",
    "line_idxs = list(range(len(text_input.splitlines())))\n",
    "random.shuffle(line_idxs)\n",
    "print(len(line_idxs), len(text_input.splitlines()))\n",
    "# print(line_idxs[:10], line_idxs[-10:])\n",
    "\n",
    "train_dataset_size = round(0.75 * len(line_idxs))\n",
    "test_dataset_size = round(0.15 * len(line_idxs))\n",
    "valid_dataset_size = round(0.1 * len(line_idxs))\n",
    "\n",
    "train_idxs = line_idxs[:train_dataset_size]\n",
    "test_idxs = line_idxs[train_dataset_size:train_dataset_size + test_dataset_size]\n",
    "valid_idxs = line_idxs[-valid_dataset_size:]\n",
    "\n",
    "assert len(train_idxs) + len(valid_idxs) + len(test_idxs) == len(line_idxs)\n",
    "assert set(line_idxs) == set(train_idxs) | set(valid_idxs) | set(test_idxs)"
   ]
  },
  {
   "cell_type": "code",
   "execution_count": 27,
   "id": "emotional-metadata",
   "metadata": {
    "id": "emotional-metadata"
   },
   "outputs": [],
   "source": [
    "# Shuffle texts by lines\n",
    "# texts = list(zip(text_output.splitlines(), text_input.splitlines()))\n",
    "# random.shuffle(texts)\n",
    "# output_texts, input_texts = zip(*texts)"
   ]
  },
  {
   "cell_type": "code",
   "execution_count": 28,
   "id": "floral-ridge",
   "metadata": {
    "id": "floral-ridge"
   },
   "outputs": [],
   "source": [
    "# Split texts into train, test and validation datasets\n",
    "# train_dataset_size = round(0.75 * len(output_texts))\n",
    "# test_dataset_size = round(0.15 * len(output_texts))\n",
    "# valid_dataset_size = round(0.1 * len(output_texts))\n",
    "\n",
    "# train_input = input_texts[:train_dataset_size]\n",
    "# test_input = input_texts[train_dataset_size:train_dataset_size + test_dataset_size]\n",
    "# valid_input = input_texts[-valid_dataset_size:]\n",
    "\n",
    "# train_output = output_texts[:train_dataset_size]\n",
    "# test_output = output_texts[train_dataset_size:train_dataset_size + test_dataset_size]\n",
    "# valid_output = output_texts[-valid_dataset_size:]\n",
    "\n",
    "def separate_lines(text, train_idxs, valid_idxs, test_idxs):\n",
    "    text_lines = text.splitlines()\n",
    "    train_lines = [text_lines[idx] for idx in train_idxs]\n",
    "    valid_lines = [text_lines[idx] for idx in valid_idxs]\n",
    "    test_lines = [text_lines[idx] for idx in test_idxs]\n",
    "    return train_lines, valid_lines, test_lines\n",
    "\n",
    "train_input, valid_input, test_input = separate_lines(text_input, train_idxs, valid_idxs, test_idxs)\n",
    "\n",
    "train_output, valid_output, test_output = separate_lines(text_output, train_idxs, valid_idxs, test_idxs)\n",
    "\n"
   ]
  },
  {
   "cell_type": "code",
   "execution_count": 29,
   "id": "a8e09380",
   "metadata": {},
   "outputs": [],
   "source": [
    "\n",
    "with open('data/hemingway/train.lv', 'w') as f:\n",
    "    f.write(\"\\n\".join(train_input))\n",
    "\n",
    "with open('data/hemingway/test.lv', 'w') as f:\n",
    "    f.write(\"\\n\".join(test_input))\n",
    "\n",
    "with open('data/hemingway/valid.lv', 'w') as f:\n",
    "    f.write(\"\\n\".join(valid_input))\n",
    "\n",
    "\n",
    "with open('data/hemingway/train.en', 'w') as f:\n",
    "    f.write(\"\\n\".join(train_output))\n",
    "\n",
    "with open('data/hemingway/test.en', 'w') as f:\n",
    "    f.write(\"\\n\".join(test_output))\n",
    "\n",
    "with open('data/hemingway/valid.en', 'w') as f:\n",
    "    f.write(\"\\n\".join(valid_output))\n"
   ]
  },
  {
   "cell_type": "code",
   "execution_count": 30,
   "id": "oZUwkrJeb0p4",
   "metadata": {
    "id": "oZUwkrJeb0p4"
   },
   "outputs": [],
   "source": [
    "from torch.utils.data import Dataset\n",
    "\n",
    "class WordDataset(Dataset):\n",
    "\n",
    "    def __init__(self, output_text, input_text, tokenizer_output, tokenizer_input, block_size):\n",
    "        self.tokenizer_output = tokenizer_output\n",
    "        self.tokenizer_input = tokenizer_input\n",
    "\n",
    "        self.block_size = block_size * 2 + 1\n",
    "        self.output_text = [tokenizer_output.tokenize(t, block_size) for t in output_text]\n",
    "        self.input_text = [tokenizer_input.tokenize(t, block_size) for t in input_text]\n",
    "\n",
    "    def __len__(self):\n",
    "        return len(self.output_text)\n",
    "\n",
    "    def __getitem__(self, idx):\n",
    "        \"\"\"\n",
    "        The idea is to get the input sentence\n",
    "        and translate it to output sentence (sentences could be on any language).\n",
    "\n",
    "        In the init method we already split a sentence into tokens and filled with spaces,\n",
    "        to have an equal sentence size. In this method we just encode the tokens to\n",
    "        ids (a list of numbers), and we're trying to map ids sequences\n",
    "        \"\"\"\n",
    "\n",
    "        tokenized_input_text = self.tokenizer_input.encode(self.input_text[idx])\n",
    "        tokenized_output_text = self.tokenizer_output.encode(self.output_text[idx])\n",
    "\n",
    "        dix = tokenized_input_text + self.tokenizer_output.encode(['<eos>']) + tokenized_output_text\n",
    "        if len(dix) < self.block_size:\n",
    "            dix += self.tokenizer_output.encode(['<pad>']) * (self.block_size - len(dix))\n",
    "\n",
    "        x = torch.tensor(dix[:-1], dtype=torch.long)\n",
    "        y = torch.tensor(dix[1:], dtype=torch.long)\n",
    "        y[:len(tokenized_input_text) - 1] = -100\n",
    "\n",
    "        return x, y"
   ]
  },
  {
   "cell_type": "code",
   "execution_count": 31,
   "id": "fitted-resident",
   "metadata": {
    "id": "fitted-resident"
   },
   "outputs": [],
   "source": [
    "block_size = 100  # the estimate how long lines the text could be (token count)\n",
    "\n",
    "train_dataset = WordDataset(train_output, train_input, tokenizer_output, tokenizer_input, block_size)\n",
    "test_dataset = WordDataset(test_output, test_input, tokenizer_output, tokenizer_input, block_size)\n",
    "valid_dataset = WordDataset(valid_output, valid_input, tokenizer_output, tokenizer_input, block_size)"
   ]
  },
  {
   "cell_type": "code",
   "execution_count": 32,
   "id": "ruled-astronomy",
   "metadata": {
    "id": "ruled-astronomy"
   },
   "outputs": [],
   "source": [
    "number_of_heads = 8\n",
    "number_of_layers = 6\n",
    "\n",
    "# from mingpt.model import GPT, GPTConfig\n",
    "embd_pdrop = 0.1\n",
    "resid_pdrop = 0.1\n",
    "attn_pdrop = 0.2\n",
    "\n",
    "max_vocab = max(tokenizer_input.vocab_size, tokenizer_output.vocab_size)\n",
    "mconf = GPTConfig(max_vocab, train_dataset.block_size,\n",
    "                  n_layer=number_of_layers, n_head=number_of_heads, n_embd=512,\n",
    "                  embd_pdrop=embd_pdrop, resid_pdrop=resid_pdrop, attn_pdrop=attn_pdrop)\n",
    "\n",
    "model = GPT(mconf)"
   ]
  },
  {
   "cell_type": "code",
   "execution_count": 33,
   "id": "bUgb5MxODXBc",
   "metadata": {
    "id": "bUgb5MxODXBc"
   },
   "outputs": [],
   "source": [
    "# from mingpt.trainer import Trainer, TrainerConfig\n",
    "\n",
    "tokens_per_epoch = len(train_dataset) * block_size\n",
    "train_epochs = 100\n",
    "\n",
    "# initialize a trainer instance and kick off training\n",
    "tconf = TrainerConfig(max_epochs=train_epochs, batch_size=128, learning_rate=3e-4,\n",
    "                      lr_decay=True, warmup_tokens=tokens_per_epoch, final_tokens=train_epochs*tokens_per_epoch,\n",
    "                      ckpt_path='minGPT-LV-EN-translator_model',\n",
    "                      num_workers=1, weight_decay=0.0001, betas=(0.9, 0.98))\n",
    "trainer = Trainer(model, train_dataset, test_dataset, valid_dataset, tconf)"
   ]
  },
  {
   "cell_type": "code",
   "execution_count": 34,
   "id": "JPH3nCe9JB63",
   "metadata": {
    "colab": {
     "base_uri": "https://localhost:8080/"
    },
    "id": "JPH3nCe9JB63",
    "outputId": "382f135d-e133-4e0b-9bb5-2f7b01269cf1"
   },
   "outputs": [
    {
     "name": "stdout",
     "output_type": "stream",
     "text": [
      "Parameters count: 27871744\n"
     ]
    }
   ],
   "source": [
    "param_count = sum([param.nelement() for param in model.parameters()])\n",
    "\n",
    "print(f'Parameters count: {param_count}')"
   ]
  },
  {
   "cell_type": "code",
   "execution_count": 35,
   "id": "VG17yBsSf3uc",
   "metadata": {
    "colab": {
     "base_uri": "https://localhost:8080/"
    },
    "id": "VG17yBsSf3uc",
    "outputId": "ca906c3a-1793-4ab9-84c3-3f6c5f59c37d"
   },
   "outputs": [
    {
     "name": "stderr",
     "output_type": "stream",
     "text": [
      "  0%|          | 0/52 [00:00<?, ?it/s]/home/guntis/anaconda3/envs/tw131/lib/python3.8/site-packages/torch/nn/parallel/_functions.py:64: UserWarning: Was asked to gather along dimension 0, but all input tensors were scalars; will instead unsqueeze and return a vector.\n",
      "  warnings.warn('Was asked to gather along dimension 0, but all '\n",
      "epoch 1 iter 51: train loss 0.31434. mean loss: 0.84448. lr 2.999380e-04: 100%|██████████| 52/52 [00:24<00:00,  2.14it/s]"
     ]
    },
    {
     "name": "stdout",
     "output_type": "stream",
     "text": [
      "train loss: 0.8444817839906766\n"
     ]
    },
    {
     "name": "stderr",
     "output_type": "stream",
     "text": [
      "\n"
     ]
    },
    {
     "name": "stdout",
     "output_type": "stream",
     "text": [
      "test loss: 0.32896859537471423\n"
     ]
    },
    {
     "ename": "RuntimeError",
     "evalue": "CUDA out of memory. Tried to allocate 4.95 GiB (GPU 0; 10.92 GiB total capacity; 5.37 GiB already allocated; 2.36 GiB free; 7.90 GiB reserved in total by PyTorch)",
     "output_type": "error",
     "traceback": [
      "\u001b[0;31m---------------------------------------------------------------------------\u001b[0m",
      "\u001b[0;31mRuntimeError\u001b[0m                              Traceback (most recent call last)",
      "\u001b[0;32m<ipython-input-35-5c3b86c963e7>\u001b[0m in \u001b[0;36m<module>\u001b[0;34m\u001b[0m\n\u001b[0;32m----> 1\u001b[0;31m \u001b[0mtrain_loss_list\u001b[0m\u001b[0;34m,\u001b[0m \u001b[0mtest_loss_list\u001b[0m\u001b[0;34m,\u001b[0m \u001b[0mvalid_loss_list\u001b[0m\u001b[0;34m,\u001b[0m \u001b[0mvalid_bleu_list\u001b[0m \u001b[0;34m=\u001b[0m \u001b[0mtrainer\u001b[0m\u001b[0;34m.\u001b[0m\u001b[0mtrain\u001b[0m\u001b[0;34m(\u001b[0m\u001b[0;34m)\u001b[0m\u001b[0;34m\u001b[0m\u001b[0;34m\u001b[0m\u001b[0m\n\u001b[0m",
      "\u001b[0;32m<ipython-input-22-6c10adb29157>\u001b[0m in \u001b[0;36mtrain\u001b[0;34m(self)\u001b[0m\n\u001b[1;32m    228\u001b[0m \u001b[0;34m\u001b[0m\u001b[0m\n\u001b[1;32m    229\u001b[0m             \u001b[0;32mif\u001b[0m \u001b[0mself\u001b[0m\u001b[0;34m.\u001b[0m\u001b[0mvalid_dataset\u001b[0m \u001b[0;32mis\u001b[0m \u001b[0;32mnot\u001b[0m \u001b[0;32mNone\u001b[0m\u001b[0;34m:\u001b[0m\u001b[0;34m\u001b[0m\u001b[0;34m\u001b[0m\u001b[0m\n\u001b[0;32m--> 230\u001b[0;31m                 \u001b[0mvalid_loss\u001b[0m\u001b[0;34m,\u001b[0m \u001b[0mbleu_score\u001b[0m \u001b[0;34m=\u001b[0m \u001b[0mrun_epoch\u001b[0m\u001b[0;34m(\u001b[0m\u001b[0;34m'valid'\u001b[0m\u001b[0;34m)\u001b[0m\u001b[0;34m\u001b[0m\u001b[0;34m\u001b[0m\u001b[0m\n\u001b[0m\u001b[1;32m    231\u001b[0m                 \u001b[0mvalid_loss_list\u001b[0m\u001b[0;34m.\u001b[0m\u001b[0mappend\u001b[0m\u001b[0;34m(\u001b[0m\u001b[0mvalid_loss\u001b[0m\u001b[0;34m)\u001b[0m\u001b[0;34m\u001b[0m\u001b[0;34m\u001b[0m\u001b[0m\n\u001b[1;32m    232\u001b[0m                 \u001b[0mvalid_bleu_list\u001b[0m\u001b[0;34m.\u001b[0m\u001b[0mappend\u001b[0m\u001b[0;34m(\u001b[0m\u001b[0mbleu_score\u001b[0m\u001b[0;34m)\u001b[0m\u001b[0;34m\u001b[0m\u001b[0;34m\u001b[0m\u001b[0m\n",
      "\u001b[0;32m<ipython-input-22-6c10adb29157>\u001b[0m in \u001b[0;36mrun_epoch\u001b[0;34m(split)\u001b[0m\n\u001b[1;32m    104\u001b[0m                             \u001b[0my_total\u001b[0m \u001b[0;34m=\u001b[0m \u001b[0my\u001b[0m\u001b[0;34m\u001b[0m\u001b[0;34m\u001b[0m\u001b[0m\n\u001b[1;32m    105\u001b[0m                         \u001b[0;32melse\u001b[0m\u001b[0;34m:\u001b[0m\u001b[0;34m\u001b[0m\u001b[0;34m\u001b[0m\u001b[0m\n\u001b[0;32m--> 106\u001b[0;31m                             \u001b[0mlogits_total\u001b[0m \u001b[0;34m=\u001b[0m \u001b[0mtorch\u001b[0m\u001b[0;34m.\u001b[0m\u001b[0mcat\u001b[0m\u001b[0;34m(\u001b[0m\u001b[0;34m(\u001b[0m\u001b[0mlogits_total\u001b[0m\u001b[0;34m,\u001b[0m \u001b[0mlogits\u001b[0m\u001b[0;34m)\u001b[0m\u001b[0;34m,\u001b[0m \u001b[0mdim\u001b[0m\u001b[0;34m=\u001b[0m\u001b[0;36m0\u001b[0m\u001b[0;34m)\u001b[0m\u001b[0;34m\u001b[0m\u001b[0;34m\u001b[0m\u001b[0m\n\u001b[0m\u001b[1;32m    107\u001b[0m                             \u001b[0mx_total\u001b[0m \u001b[0;34m=\u001b[0m \u001b[0mtorch\u001b[0m\u001b[0;34m.\u001b[0m\u001b[0mcat\u001b[0m\u001b[0;34m(\u001b[0m\u001b[0;34m(\u001b[0m\u001b[0mx_total\u001b[0m\u001b[0;34m,\u001b[0m \u001b[0mx\u001b[0m\u001b[0;34m)\u001b[0m\u001b[0;34m,\u001b[0m \u001b[0mdim\u001b[0m\u001b[0;34m=\u001b[0m\u001b[0;36m0\u001b[0m\u001b[0;34m)\u001b[0m\u001b[0;34m\u001b[0m\u001b[0;34m\u001b[0m\u001b[0m\n\u001b[1;32m    108\u001b[0m                             \u001b[0my_total\u001b[0m \u001b[0;34m=\u001b[0m \u001b[0mtorch\u001b[0m\u001b[0;34m.\u001b[0m\u001b[0mcat\u001b[0m\u001b[0;34m(\u001b[0m\u001b[0;34m(\u001b[0m\u001b[0my_total\u001b[0m\u001b[0;34m,\u001b[0m \u001b[0my\u001b[0m\u001b[0;34m)\u001b[0m\u001b[0;34m,\u001b[0m \u001b[0mdim\u001b[0m\u001b[0;34m=\u001b[0m\u001b[0;36m0\u001b[0m\u001b[0;34m)\u001b[0m\u001b[0;34m\u001b[0m\u001b[0;34m\u001b[0m\u001b[0m\n",
      "\u001b[0;31mRuntimeError\u001b[0m: CUDA out of memory. Tried to allocate 4.95 GiB (GPU 0; 10.92 GiB total capacity; 5.37 GiB already allocated; 2.36 GiB free; 7.90 GiB reserved in total by PyTorch)"
     ]
    }
   ],
   "source": [
    "train_loss_list, test_loss_list, valid_loss_list, valid_bleu_list = trainer.train()"
   ]
  },
  {
   "cell_type": "code",
   "execution_count": null,
   "id": "EHFUYpv8P9lr",
   "metadata": {
    "colab": {
     "base_uri": "https://localhost:8080/",
     "height": 621
    },
    "id": "EHFUYpv8P9lr",
    "outputId": "77da5c3a-eeaa-4132-abe1-2de95323a3e7"
   },
   "outputs": [],
   "source": [
    "epochs = range(len(test_loss_list))\n",
    "# plt.subplots(nrows=number_of_layers, ncols=number_of_heads, figsize=(30, 20))\n",
    "fig, axs = plt.subplots(nrows=4, ncols=1, figsize=(20, 10))\n",
    "axs[0].plot(epochs, train_loss_list)\n",
    "axs[0].set_title('Train loss')\n",
    "axs[0].set_xlabel('Epochs')\n",
    "axs[0].set_ylabel('Loss')\n",
    "\n",
    "axs[0].plot(epochs, test_loss_list)\n",
    "axs[0].set_title('Test loss')\n",
    "axs[0].set_xlabel('Epochs')\n",
    "axs[0].set_ylabel('Loss')\n",
    "\n",
    "axs[1].plot(epochs, valid_loss_list)\n",
    "axs[1].set_title('Validation loss')\n",
    "axs[1].set_xlabel('Epochs')\n",
    "axs[1].set_ylabel('Loss')\n",
    "\n",
    "axs[2].plot(epochs, valid_bleu_list)\n",
    "axs[2].set_title('Validation BLEU')\n",
    "axs[2].set_xlabel('Epochs')\n",
    "axs[2].set_ylabel('BLEU')\n",
    "\n",
    "plt.show()"
   ]
  },
  {
   "cell_type": "code",
   "execution_count": null,
   "id": "ae2c71d4",
   "metadata": {},
   "outputs": [],
   "source": [
    "plt.savefig(\"hemingway_losses.png\")\n"
   ]
  },
  {
   "cell_type": "markdown",
   "id": "1Og-0W-MtKoM",
   "metadata": {
    "id": "1Og-0W-MtKoM"
   },
   "source": [
    "#Evaluate"
   ]
  },
  {
   "cell_type": "code",
   "execution_count": null,
   "id": "d029ed9c-9170-435a-805f-416774999287",
   "metadata": {
    "colab": {
     "base_uri": "https://localhost:8080/"
    },
    "id": "d029ed9c-9170-435a-805f-416774999287",
    "outputId": "78ebc7df-beec-45fa-eddf-cc1829c07374"
   },
   "outputs": [],
   "source": [
    "checkpoint = torch.load('minGPT-LV-EN-translator_model.pt_best.pt')\n",
    "model.load_state_dict(checkpoint)"
   ]
  },
  {
   "cell_type": "code",
   "execution_count": null,
   "id": "61372081",
   "metadata": {},
   "outputs": [],
   "source": [
    "train_loss_list"
   ]
  },
  {
   "cell_type": "code",
   "execution_count": null,
   "id": "562ba75b",
   "metadata": {},
   "outputs": [],
   "source": [
    "with open('hemingway_train_loss.txt', 'w') as f:\n",
    "    f.write('\\n'.join([str(s) for s in train_loss_list]))\n"
   ]
  },
  {
   "cell_type": "code",
   "execution_count": null,
   "id": "afC6uEVGXIPL",
   "metadata": {
    "id": "afC6uEVGXIPL"
   },
   "outputs": [],
   "source": [
    "with open('hemingway_test_loss.txt', 'w') as f:\n",
    "    f.write('\\n'.join([str(s) for s in test_loss_list]))\n",
    "\n",
    "with open('hemingway_valid_loss.txt', 'w') as f:\n",
    "    f.write('\\n'.join([str(s) for s in valid_loss_list]))\n",
    "\n",
    "with open('hemingway_valid_blue.txt', 'w') as f:\n",
    "    f.write('\\n'.join([str(s) for s in valid_bleu_list]))"
   ]
  },
  {
   "cell_type": "code",
   "execution_count": null,
   "id": "greek-travel",
   "metadata": {
    "colab": {
     "base_uri": "https://localhost:8080/"
    },
    "id": "greek-travel",
    "outputId": "8b5ee427-7a71-46ab-e62c-a8730ac37bb8"
   },
   "outputs": [],
   "source": [
    "from random import choice\n",
    "\n",
    "for _ in range(5):\n",
    "    idx = choice(range(len(valid_output)))\n",
    "\n",
    "    context = valid_input[idx]\n",
    "    encoded_input = tokenizer_input.encode(tokenizer_input.tokenize(context, block_size))\n",
    "    x = torch.tensor(encoded_input, dtype=torch.long)[None,...].to(trainer.device)\n",
    "    y = sample(model, x, block_size, temperature=1.0, sample=False, top_k=10)[0]\n",
    "\n",
    "    intent = len(encoded_input) + 1\n",
    "\n",
    "    predicted = y[intent:]\n",
    "    completion = tokenizer_output.decode(predicted, True)\n",
    "    print(f'Input:            {context}')\n",
    "    print(f'Predicted output: {completion}')\n",
    "    print(f'Real output:      {valid_output[idx]}')\n",
    "    print('--------------------------------------------------')"
   ]
  },
  {
   "cell_type": "code",
   "execution_count": null,
   "id": "eF3lesDzM_UY",
   "metadata": {
    "colab": {
     "base_uri": "https://localhost:8080/"
    },
    "id": "eF3lesDzM_UY",
    "outputId": "8d15a610-69b9-47c9-c296-425e51f35e9f"
   },
   "outputs": [],
   "source": [
    "idx = choice(range(len(valid_output)))\n",
    "\n",
    "context = valid_input[idx]\n",
    "encoded_input = tokenizer_input.encode(tokenizer_input.tokenize(context, block_size))\n",
    "x = torch.tensor(encoded_input, dtype=torch.long)[None,...].to(trainer.device)\n",
    "y, attention_state = sample(model, x, block_size, temperature=1.0, sample=False, top_k=10, output_attention=True)\n",
    "\n",
    "intent = len(encoded_input) + 1\n",
    "\n",
    "predicted = y[0][intent:]\n",
    "completion = tokenizer_output.decode(predicted,)\n",
    "print(f'Input:            {context}')\n",
    "print(f'Predicted output: {completion}')\n",
    "print(f'Real output:      {valid_output[idx]}')\n",
    "print('--------------------------------------------------')\n"
   ]
  },
  {
   "cell_type": "code",
   "execution_count": null,
   "id": "1uY06xs7n5sx",
   "metadata": {
    "colab": {
     "base_uri": "https://localhost:8080/",
     "height": 878
    },
    "id": "1uY06xs7n5sx",
    "outputId": "0b2993a4-b919-41a6-e99e-d395cde20c1e"
   },
   "outputs": [],
   "source": [
    "fig, plots = plt.subplots(nrows=number_of_layers, ncols=number_of_heads, figsize=(30, 20))\n",
    "\n",
    "axis_text = tokenizer_input.decode(encoded_input, True).split()\n",
    "\n",
    "axis_text.append('<eos>')\n",
    "\n",
    "axis_text += tokenizer_input.decode(predicted, True).split()\n",
    "\n",
    "limit = len(axis_text)\n",
    "for bi in range(number_of_layers):\n",
    "    for hi in range(number_of_heads):\n",
    "        attetion_plot = torch.zeros(limit, limit)\n",
    "        for di in range(limit):\n",
    "            attetion_plot[:di, :di] = attention_state[bi][di][0,hi,:di,:di].data\n",
    "\n",
    "        ax = plots[bi][hi]\n",
    "        ax.matshow(attetion_plot.numpy(), cmap='bone')\n",
    "\n",
    "        # Set up axes\n",
    "        ax.set_xticklabels([''] + axis_text, rotation=90)\n",
    "        ax.set_yticklabels([''] + axis_text)\n",
    "\n",
    "        # Show label at every tick\n",
    "        ax.xaxis.set_major_locator(ticker.MultipleLocator(1))\n",
    "        ax.yaxis.set_major_locator(ticker.MultipleLocator(1))\n",
    "\n",
    "        # Set up a title\n",
    "        ax.set_title(f'Block {bi + 1} Head {hi + 1}', size=25, pad=30)\n",
    "        \n",
    "plt.show()"
   ]
  },
  {
   "cell_type": "code",
   "execution_count": null,
   "id": "CXFro4HhyE8D",
   "metadata": {
    "id": "CXFro4HhyE8D"
   },
   "outputs": [],
   "source": [
    "# In case the previous cell is not plotting anything, uncomment the code below and execute. After that, the plotting should be fine.\n",
    "# %matplotlib inline\n",
    "# import numpy as np\n",
    "# x = np.linspace(0, 10, 100)\n",
    "\n",
    "# fig = plt.figure()\n",
    "# plt.plot(x, np.sin(x), '-')\n",
    "# plt.plot(x, np.cos(x), '--');"
   ]
  },
  {
   "cell_type": "markdown",
   "id": "bxvZ1nVstR7j",
   "metadata": {
    "id": "bxvZ1nVstR7j"
   },
   "source": [
    "#Calculate BLEU"
   ]
  },
  {
   "cell_type": "code",
   "execution_count": null,
   "id": "JlVOSUDaNqaz",
   "metadata": {
    "id": "JlVOSUDaNqaz"
   },
   "outputs": [],
   "source": [
    "def clean_tokens(sentence):\n",
    "    return sentence.replace('@@ ', '').replace(' @', '').replace('@ ', '')"
   ]
  },
  {
   "cell_type": "code",
   "execution_count": null,
   "id": "4VAAvPyR4GMv",
   "metadata": {
    "id": "4VAAvPyR4GMv"
   },
   "outputs": [],
   "source": [
    "# from nltk.translate.bleu_score import sentence_bleu, SmoothingFunction\n",
    "\n",
    "# smooth = SmoothingFunction().method7\n",
    "\n",
    "translation_results = []\n",
    "eval_text = []\n",
    "bleu_results = []\n",
    "for idx, context in enumerate(valid_input):\n",
    "    encoded_input = tokenizer_input.encode(tokenizer_input.tokenize(context, block_size))\n",
    "    x = torch.tensor(encoded_input, dtype=torch.long)[None,...].to(trainer.device)\n",
    "    y = sample(model, x, block_size, temperature=1.0, sample=False, top_k=10)[0]\n",
    "\n",
    "    intent = len(encoded_input) + 1\n",
    "    predicted = y[intent:]\n",
    "    completion = clean_tokens(tokenizer_output.decode(predicted, True))\n",
    "    translation_results.append(completion)\n",
    "\n",
    "    eval = clean_tokens(valid_output[idx])\n",
    "    eval_text.append(eval)\n",
    "    # bleu = sentence_bleu([eval], completion, smoothing_function=smooth)\n",
    "    # bleu_results.append(bleu)\n",
    "\n",
    "# print(f\"Averare BLEU: {np.mean(bleu_results)}\")"
   ]
  },
  {
   "cell_type": "code",
   "execution_count": null,
   "id": "4xQ1sDwfWS9S",
   "metadata": {
    "id": "4xQ1sDwfWS9S"
   },
   "outputs": [],
   "source": [
    "with open('hemingway_valid.out', 'w') as f:\n",
    "    f.write(\"\\n\".join(translation_results))\n",
    "\n",
    "with open('hemingway_valid.ref', 'w') as f:\n",
    "    f.write(\"\\n\".join(eval_text))"
   ]
  },
  {
   "cell_type": "code",
   "execution_count": null,
   "id": "U8TILVBwWncc",
   "metadata": {
    "colab": {
     "base_uri": "https://localhost:8080/"
    },
    "id": "U8TILVBwWncc",
    "outputId": "771c5462-601d-4e6e-9c44-d1b99918df5f"
   },
   "outputs": [],
   "source": [
    "!perl mosesdecoder/scripts/generic/multi-bleu.perl hemingway_valid.ref < hemingway_valid.out"
   ]
  },
  {
   "cell_type": "code",
   "execution_count": null,
   "id": "L0ccdKVEi_51",
   "metadata": {
    "colab": {
     "base_uri": "https://localhost:8080/"
    },
    "id": "L0ccdKVEi_51",
    "outputId": "1325a0f7-bbc4-42ce-87c8-bdec30a82a37"
   },
   "outputs": [],
   "source": [
    "!cat hemingway_valid.out | mosesdecoder/scripts/tokenizer/detokenizer.perl -l lv > hemingway_valid.detok.out\n",
    "!cat hemingway_valid.ref | mosesdecoder/scripts/tokenizer/detokenizer.perl -l lv > hemingway_valid.detok.ref"
   ]
  },
  {
   "cell_type": "code",
   "execution_count": null,
   "id": "hZ_G2YbxgdnH",
   "metadata": {
    "colab": {
     "base_uri": "https://localhost:8080/"
    },
    "id": "hZ_G2YbxgdnH",
    "outputId": "16446218-4a72-4072-d04d-fad681783dc5"
   },
   "outputs": [],
   "source": [
    "#!pip install sacrebleu\n",
    "!pip show sacrebleu"
   ]
  },
  {
   "cell_type": "code",
   "execution_count": null,
   "id": "C7Z2dQh7gnq2",
   "metadata": {
    "colab": {
     "base_uri": "https://localhost:8080/"
    },
    "id": "C7Z2dQh7gnq2",
    "outputId": "8a4d34d6-f607-4067-ab6c-bb6abb6d70c1"
   },
   "outputs": [],
   "source": [
    "import sacrebleu\n",
    "\n",
    "with open('hemingway_valid.detok.ref', 'r') as f:\n",
    "    eval_ref = [l.strip() for l in f.readlines()]\n",
    "with open('hemingway_valid.detok.out', 'r') as f:\n",
    "    translation_results = [l.strip() for l in f.readlines()]\n",
    "\n",
    "refs = [eval_ref]\n",
    "sys = translation_results\n",
    "bleu = sacrebleu.corpus_bleu(sys, refs)\n",
    "print(bleu.score)"
   ]
  },
  {
   "cell_type": "markdown",
   "id": "q8b-0-iFkRRA",
   "metadata": {
    "id": "q8b-0-iFkRRA"
   },
   "source": [
    "#Interactive translator"
   ]
  },
  {
   "cell_type": "code",
   "execution_count": null,
   "id": "LHYXSA190x8G",
   "metadata": {
    "colab": {
     "base_uri": "https://localhost:8080/",
     "height": 1000
    },
    "id": "LHYXSA190x8G",
    "outputId": "75c2aeed-055e-4a30-b252-b1039a2b3fe0"
   },
   "outputs": [],
   "source": [
    "context = input(\"Enter your English text to translate: \")\n",
    "\n",
    "# Predict Latvian output\n",
    "encoded_input = tokenizer_input.encode(tokenizer_input.tokenize(context, block_size))\n",
    "x = torch.tensor(encoded_input, dtype=torch.long)[None,...].to(trainer.device)\n",
    "y, attention_state = sample(model, x, block_size, temperature=1.0, sample=False, top_k=10, output_attention=True)\n",
    "\n",
    "intent = len(encoded_input) + 1\n",
    "\n",
    "predicted = y[0][intent:]\n",
    "completion = tokenizer_output.decode(predicted, True)\n",
    "print(f'Input:            {context}')\n",
    "print(f'Predicted output: {completion}')\n",
    "\n",
    "\n",
    "# Plot attention\n",
    "fig, plots = plt.subplots(nrows=number_of_layers, ncols=number_of_heads, figsize=(30, 20))\n",
    "\n",
    "axis_text = tokenizer_input.decode(encoded_input, True).split()\n",
    "\n",
    "axis_text.append('<eos>')\n",
    "\n",
    "axis_text += tokenizer_input.decode(predicted, True).split()\n",
    "\n",
    "limit = len(axis_text)\n",
    "for bi in range(number_of_layers):\n",
    "    for hi in range(number_of_heads):\n",
    "        attetion_plot = torch.zeros(limit, limit)\n",
    "        for di in range(limit):\n",
    "            attetion_plot[:di, :di] = attention_state[bi][di][0,hi,:di,:di].data\n",
    "\n",
    "        ax = plots[bi][hi]\n",
    "        ax.matshow(attetion_plot.numpy(), cmap='bone')\n",
    "\n",
    "        # Set up axes\n",
    "        ax.set_xticklabels([''] + axis_text, rotation=90)\n",
    "        ax.set_yticklabels([''] + axis_text)\n",
    "\n",
    "        # Show label at every tick\n",
    "        ax.xaxis.set_major_locator(ticker.MultipleLocator(1))\n",
    "        ax.yaxis.set_major_locator(ticker.MultipleLocator(1))\n",
    "\n",
    "        # Set up a title\n",
    "        ax.set_title(f'Block {bi + 1} Head {hi + 1}', size=25, pad=30)\n",
    "        \n",
    "plt.show()"
   ]
  },
  {
   "cell_type": "code",
   "execution_count": null,
   "id": "68dbab04",
   "metadata": {},
   "outputs": [],
   "source": []
  }
 ],
 "metadata": {
  "accelerator": "GPU",
  "colab": {
   "collapsed_sections": [],
   "name": "with valid Proper packages minGPT EN-LV translator.ipynb",
   "provenance": []
  },
  "kernelspec": {
   "display_name": "Python 3",
   "language": "python",
   "name": "python3"
  },
  "language_info": {
   "codemirror_mode": {
    "name": "ipython",
    "version": 3
   },
   "file_extension": ".py",
   "mimetype": "text/x-python",
   "name": "python",
   "nbconvert_exporter": "python",
   "pygments_lexer": "ipython3",
   "version": "3.8.5"
  }
 },
 "nbformat": 4,
 "nbformat_minor": 5
}
