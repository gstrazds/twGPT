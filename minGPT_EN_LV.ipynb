{
 "cells": [
  {
   "cell_type": "code",
   "execution_count": 1,
   "id": "varying-atlas",
   "metadata": {
    "id": "varying-atlas"
   },
   "outputs": [],
   "source": [
    "%matplotlib inline\n",
    "import matplotlib.pyplot as plt\n",
    "plt.switch_backend('agg')\n",
    "import matplotlib.ticker as ticker\n",
    "\n",
    "import os\n",
    "import urllib\n",
    "import re\n",
    "import random\n",
    "import numpy as np\n",
    "import torch\n",
    "import torch.nn as nn\n",
    "from tqdm import tqdm\n",
    "import pickle\n",
    "from torch.nn import functional as F\n",
    "\n",
    "from collections import OrderedDict, Counter"
   ]
  },
  {
   "cell_type": "code",
   "execution_count": 5,
   "id": "ALC2-FQxnZ1l",
   "metadata": {
    "colab": {
     "base_uri": "https://localhost:8080/"
    },
    "id": "ALC2-FQxnZ1l",
    "outputId": "3e4d0bbd-8b0d-4b9d-884a-eb88c0d3c556"
   },
   "outputs": [
    {
     "name": "stdout",
     "output_type": "stream",
     "text": [
      "Name: sacrebleu\r\n",
      "Version: 1.5.1\r\n",
      "Summary: Hassle-free computation of shareable, comparable, and reproducible BLEU, chrF, and TER scores\r\n",
      "Home-page: https://github.com/mjpost/sacrebleu\r\n",
      "Author: Matt Post\r\n",
      "Author-email: post@cs.jhu.edu\r\n",
      "License: Apache License 2.0\r\n",
      "Location: /home/guntis/anaconda3/envs/tw131/lib/python3.8/site-packages\r\n",
      "Requires: portalocker\r\n",
      "Required-by: \r\n"
     ]
    }
   ],
   "source": [
    "#!pip install sacrebleu\n",
    "!pip show sacrebleu"
   ]
  },
  {
   "cell_type": "code",
   "execution_count": null,
   "id": "7A8WZUBGiyv7",
   "metadata": {
    "colab": {
     "base_uri": "https://localhost:8080/"
    },
    "id": "7A8WZUBGiyv7",
    "outputId": "cbe405e8-f665-4298-d4ae-44c533bf0711"
   },
   "outputs": [
    {
     "name": "stdout",
     "output_type": "stream",
     "text": [
      "Mounted at /content/drive\n"
     ]
    }
   ],
   "source": [
    "# from google.colab import drive\n",
    "# drive.mount('/content/drive')"
   ]
  },
  {
   "cell_type": "markdown",
   "id": "Ex11yfCVaueI",
   "metadata": {
    "id": "Ex11yfCVaueI"
   },
   "source": [
    "#Text preprocessing"
   ]
  },
  {
   "cell_type": "code",
   "execution_count": 4,
   "id": "bTfvBWhIaHTh",
   "metadata": {
    "colab": {
     "base_uri": "https://localhost:8080/"
    },
    "id": "bTfvBWhIaHTh",
    "outputId": "e75b4122-7e6e-4abc-827a-134aec8cf165"
   },
   "outputs": [
    {
     "name": "stdout",
     "output_type": "stream",
     "text": [
      "Name: subword-nmt\r\n",
      "Version: 0.3.7\r\n",
      "Summary: Unsupervised Word Segmentation for Neural Machine Translation and Text Generation\r\n",
      "Home-page: https://github.com/rsennrich/subword-nmt\r\n",
      "Author: Rico Sennrich\r\n",
      "Author-email: None\r\n",
      "License: MIT\r\n",
      "Location: /home/guntis/anaconda3/envs/tw131/lib/python3.8/site-packages\r\n",
      "Requires: \r\n",
      "Required-by: \r\n"
     ]
    }
   ],
   "source": [
    "#!pip install subword-nmt\n",
    "!pip show subword-nmt"
   ]
  },
  {
   "cell_type": "code",
   "execution_count": 6,
   "id": "historic-thermal",
   "metadata": {
    "id": "historic-thermal"
   },
   "outputs": [],
   "source": [
    "# Read Hemingway texts from URL. There are Hemingway's \"A Farewell to arms\"\n",
    "text_input = urllib.request.urlopen('http://www.ltn.lv/~guntis/translation_dataset/dataset_en_small.txt').read().decode(\"utf-8\", \"ignore\")\n",
    "text_output = urllib.request.urlopen('http://www.ltn.lv/~guntis/translation_dataset/dataset_lv_small.txt').read().decode(\"utf-8-sig\", \"ignore\")\n",
    "\n",
    "with open('hemingway.en.txt', 'w') as f:\n",
    "    f.write(text_input)\n",
    "\n",
    "with open('hemingway.lv.txt', 'w') as f:\n",
    "    f.write(text_output)"
   ]
  },
  {
   "cell_type": "code",
   "execution_count": 8,
   "id": "hzgEuTRkV4kK",
   "metadata": {
    "colab": {
     "base_uri": "https://localhost:8080/"
    },
    "id": "hzgEuTRkV4kK",
    "outputId": "6ac1bf6e-9a2a-4cf7-c6cc-e3c76ec72522"
   },
   "outputs": [
    {
     "name": "stdout",
     "output_type": "stream",
     "text": [
      "Cloning into 'mosesdecoder'...\n",
      "remote: Enumerating objects: 148070, done.\u001b[K\n",
      "remote: Counting objects: 100% (498/498), done.\u001b[K\n",
      "remote: Compressing objects: 100% (206/206), done.\u001b[K\n",
      "remote: Total 148070 (delta 315), reused 433 (delta 289), pack-reused 147572\u001b[K\n",
      "Receiving objects: 100% (148070/148070), 129.86 MiB | 21.70 MiB/s, done.\n",
      "Resolving deltas: 100% (114341/114341), done.\n"
     ]
    }
   ],
   "source": [
    "!git clone https://github.com/moses-smt/mosesdecoder.git"
   ]
  },
  {
   "cell_type": "code",
   "execution_count": 12,
   "id": "Z_qVpRZMGJDl",
   "metadata": {
    "colab": {
     "base_uri": "https://localhost:8080/"
    },
    "id": "Z_qVpRZMGJDl",
    "outputId": "d51d2bb1-1337-4e36-eb1f-28f67fdfbd29"
   },
   "outputs": [
    {
     "name": "stdout",
     "output_type": "stream",
     "text": [
      "Tokenizer Version 1.1\n",
      "Language: en\n",
      "Number of threads: 1\n",
      "Tokenizer Version 1.1\n",
      "Language: lv\n",
      "Number of threads: 1\n"
     ]
    }
   ],
   "source": [
    "# Normalize and tokenize texts\n",
    "\n",
    "!cat hemingway.en.txt | mosesdecoder/scripts/tokenizer/normalize-punctuation.perl -l en \\\n",
    "  | mosesdecoder/scripts/tokenizer/tokenizer.perl -a -l en > hemingway.en.tok.txt\n",
    "\n",
    "!cat hemingway.lv.txt | mosesdecoder/scripts/tokenizer/normalize-punctuation.perl -l lv \\\n",
    "  | mosesdecoder/scripts/tokenizer/tokenizer.perl -a -l lv > hemingway.lv.tok.txt"
   ]
  },
  {
   "cell_type": "code",
   "execution_count": 11,
   "id": "fe962766",
   "metadata": {
    "colab": {
     "base_uri": "https://localhost:8080/"
    },
    "id": "Z_qVpRZMGJDl",
    "outputId": "d51d2bb1-1337-4e36-eb1f-28f67fdfbd29"
   },
   "outputs": [
    {
     "name": "stdout",
     "output_type": "stream",
     "text": [
      "Tokenizer Version 1.1\n",
      "Language: en\n",
      "Number of threads: 1\n",
      "Tokenizer Version 1.1\n",
      "Language: lv\n",
      "Number of threads: 1\n"
     ]
    }
   ],
   "source": [
    "# # Normalize and tokenize texts\n",
    "\n",
    "# #!cat hemingway.en.txt | mosesdecoder/scripts/tokenizer/normalize-punctuation.perl -l en \\\n",
    "# !cat hemingway.en.txt \\\n",
    "#   | mosesdecoder/scripts/tokenizer/tokenizer.perl -a -l en > hemingway.en.tok.txt\n",
    "\n",
    "# # !cat hemingway.lv.txt | mosesdecoder/scripts/tokenizer/normalize-punctuation.perl -l lv \\\n",
    "# !cat hemingway.lv.txt \\\n",
    "#   | mosesdecoder/scripts/tokenizer/tokenizer.perl -a -l lv > hemingway.lv.tok.txt"
   ]
  },
  {
   "cell_type": "code",
   "execution_count": 15,
   "id": "YlDFOYvOIb2c",
   "metadata": {
    "id": "YlDFOYvOIb2c"
   },
   "outputs": [],
   "source": [
    "!mosesdecoder/scripts/recaser/train-truecaser.perl -corpus hemingway.en.tok.txt -model tc.en\n",
    "!mosesdecoder/scripts/recaser/train-truecaser.perl -corpus hemingway.lv.tok.txt -model tc.lv\n",
    "\n",
    "!mosesdecoder/scripts/recaser/truecase.perl -model tc.en < hemingway.en.tok.txt > hemingway.en.tc.txt\n",
    "!mosesdecoder/scripts/recaser/truecase.perl -model tc.lv < hemingway.lv.tok.txt > hemingway.lv.tc.txt"
   ]
  },
  {
   "cell_type": "code",
   "execution_count": 61,
   "id": "58b5c343",
   "metadata": {},
   "outputs": [
    {
     "name": "stdout",
     "output_type": "stream",
     "text": [
      "BPE_ops=10000 vocab_size=5500\r\n"
     ]
    }
   ],
   "source": [
    "num_bpe_merges = 10000\n",
    "vocab_size = 5500\n",
    "!echo BPE_ops=$num_bpe_merges vocab_size=$vocab_size"
   ]
  },
  {
   "cell_type": "code",
   "execution_count": 62,
   "id": "aiMbyzugbFZd",
   "metadata": {
    "id": "aiMbyzugbFZd"
   },
   "outputs": [
    {
     "name": "stdout",
     "output_type": "stream",
     "text": [
      "no pair has frequency >= 2. Stopping\n",
      "no pair has frequency >= 2. Stopping\n"
     ]
    }
   ],
   "source": [
    "# !subword-nmt learn-joint-bpe-and-vocab --input en.tc.txt lv.tc.txt -s 10000 -o tokens.txt --write-vocabulary token_freq.en.txt token_freq.lv.txt\n",
    "!subword-nmt learn-joint-bpe-and-vocab --input hemingway.en.tc.txt -s $num_bpe_merges -o tokens.en.txt --write-vocabulary token_freq.en.txt\n",
    "!subword-nmt learn-joint-bpe-and-vocab --input hemingway.lv.tc.txt -s $num_bpe_merges -o tokens.lv.txt --write-vocabulary token_freq.lv.txt"
   ]
  },
  {
   "cell_type": "code",
   "execution_count": 63,
   "id": "30_qUBkgSNG1",
   "metadata": {
    "id": "30_qUBkgSNG1"
   },
   "outputs": [],
   "source": [
    "def build_vocab(freq_file, vocab_size):\n",
    "    vocab = ['<eos>', '<unk>', '<pad>']\n",
    "    with open(freq_file, 'r') as f:\n",
    "        for line in f.readlines():\n",
    "            token, _ = line.split()\n",
    "            vocab.append(token)\n",
    "\n",
    "    return vocab[:vocab_size]\n",
    "\n",
    "en_vocab = build_vocab('token_freq.en.txt', vocab_size)\n",
    "lv_vocab = build_vocab('token_freq.lv.txt', vocab_size)\n",
    "\n",
    "with open('vocab.en.txt', 'w') as f:\n",
    "    for i, token in enumerate(en_vocab):\n",
    "        f.write(f\"{token} {i + 1} \\n\")\n",
    "\n",
    "with open('vocab.lv.txt', 'w') as f:\n",
    "    for i, token in enumerate(lv_vocab):\n",
    "        f.write(f\"{token} {i + 1} \\n\")"
   ]
  },
  {
   "cell_type": "code",
   "execution_count": 64,
   "id": "CtzY4LjYbSiJ",
   "metadata": {
    "id": "CtzY4LjYbSiJ"
   },
   "outputs": [],
   "source": [
    "!subword-nmt apply-bpe -c tokens.en.txt --vocabulary vocab.en.txt --vocabulary-threshold 1 < hemingway.en.tc.txt > hemingway.en.BPE.txt\n",
    "!subword-nmt apply-bpe -c tokens.lv.txt --vocabulary vocab.lv.txt --vocabulary-threshold 1 < hemingway.lv.tc.txt > hemingway.lv.BPE.txt"
   ]
  },
  {
   "cell_type": "code",
   "execution_count": 65,
   "id": "wcc2v_fHe81_",
   "metadata": {
    "id": "wcc2v_fHe81_"
   },
   "outputs": [],
   "source": [
    "with open('hemingway.lv.BPE.txt', 'r') as f:\n",
    "    text_input = f.read()\n",
    "\n",
    "with open('hemingway.en.BPE.txt', 'r') as f:\n",
    "    text_output = f.read()"
   ]
  },
  {
   "cell_type": "markdown",
   "id": "PAHdOeNhYJ8v",
   "metadata": {
    "id": "PAHdOeNhYJ8v"
   },
   "source": [
    "#MinGPT"
   ]
  },
  {
   "cell_type": "code",
   "execution_count": 66,
   "id": "OcFt-zMBfqDt",
   "metadata": {
    "id": "OcFt-zMBfqDt"
   },
   "outputs": [],
   "source": [
    "import random\n",
    "import numpy as np\n",
    "import torch\n",
    "import torch.nn as nn\n",
    "from torch.nn import functional as F\n",
    "\n",
    "def set_seed(seed):\n",
    "    random.seed(seed)\n",
    "    np.random.seed(seed)\n",
    "    torch.manual_seed(seed)\n",
    "    torch.cuda.manual_seed_all(seed)\n",
    "\n",
    "def top_k_logits(logits, k):\n",
    "    v, ix = torch.topk(logits, k)\n",
    "    out = logits.clone()\n",
    "    out[out < v[:, [-1]]] = -float('Inf')\n",
    "    return out\n",
    "\n",
    "def calculate_attention_token(attention, top_k, model):\n",
    "    logits = model.head(attention)\n",
    "    logits = logits[:, -1, :]\n",
    "    logits = top_k_logits(logits, top_k)\n",
    "\n",
    "    probs = F.softmax(logits)\n",
    "\n",
    "    _, ix = torch.topk(probs, k=1, dim=-1)\n",
    "    ix = torch.multinomial(probs, num_samples=top_k)\n",
    "\n",
    "    return ix[0]\n",
    "\n",
    "\n",
    "@torch.no_grad()\n",
    "def sample(model, x, steps, temperature=1.0, sample=False, top_k=None, output_attention=False):\n",
    "    \"\"\"\n",
    "    take a conditioning sequence of indices in x (of shape (b,t)) and predict the next token in\n",
    "    the sequence, feeding the predictions back into the model each time. Clearly the sampling\n",
    "    has quadratic complexity unlike an RNN that is only linear, and has a finite context window\n",
    "    of block_size, unlike an RNN that has an infinite context window.\n",
    "    \"\"\"\n",
    "    block_size = model.get_block_size()\n",
    "    model.eval()\n",
    "    attention_state = [[] for _ in model.blocks]\n",
    "\n",
    "    for k in range(steps):\n",
    "        x_cond = x if x.size(1) <= block_size else x[:, -block_size:] # crop context if needed\n",
    "        logits, _ = model(x_cond)\n",
    "        # pluck the logits at the final step and scale by temperature\n",
    "        logits = logits[:, -1, :] / temperature\n",
    "        # optionally crop probabilities to only the top k options\n",
    "        if top_k is not None:\n",
    "            logits = top_k_logits(logits, top_k)\n",
    "        # apply softmax to convert to probabilities\n",
    "        probs = F.softmax(logits, dim=-1)\n",
    "        # sample from the distribution or take the most likely\n",
    "        if sample:\n",
    "            ix = torch.multinomial(probs, num_samples=1)\n",
    "        else:\n",
    "            _, ix = torch.topk(probs, k=1, dim=-1)\n",
    "\n",
    "        if output_attention:\n",
    "            b, t = x.size()\n",
    "\n",
    "            for block_id in range(len(model.blocks)):\n",
    "                att = model.blocks[block_id].attn.att\n",
    "                attention_state[block_id].append(att)\n",
    "\n",
    "        # append to the sequence and continue\n",
    "        x = torch.cat((x, ix), dim=1)\n",
    "\n",
    "    if output_attention:\n",
    "        return x, attention_state\n",
    "\n",
    "    return x\n"
   ]
  },
  {
   "cell_type": "code",
   "execution_count": 67,
   "id": "cZGEd6UCfeou",
   "metadata": {
    "id": "cZGEd6UCfeou"
   },
   "outputs": [],
   "source": [
    "\"\"\"\n",
    "GPT model:\n",
    "- the initial stem consists of a combination of token encoding and a positional encoding\n",
    "- the meat of it is a uniform sequence of Transformer blocks\n",
    "    - each Transformer is a sequential combination of a 1-hidden-layer MLP block and a self-attention block\n",
    "    - all blocks feed into a central residual pathway similar to resnets\n",
    "- the final decoder is a linear projection into a vanilla Softmax classifier\n",
    "\"\"\"\n",
    "\n",
    "import math\n",
    "import logging\n",
    "\n",
    "import torch\n",
    "import torch.nn as nn\n",
    "from torch.nn import functional as F\n",
    "\n",
    "logger = logging.getLogger(__name__)\n",
    "\n",
    "class GPTConfig:\n",
    "    \"\"\" base GPT config, params common to all GPT versions \"\"\"\n",
    "    embd_pdrop = 0.1\n",
    "    resid_pdrop = 0.1\n",
    "    attn_pdrop = 0.1\n",
    "\n",
    "    def __init__(self, vocab_size, block_size, **kwargs):\n",
    "        self.vocab_size = vocab_size\n",
    "        self.block_size = block_size\n",
    "        for k,v in kwargs.items():\n",
    "            setattr(self, k, v)\n",
    "\n",
    "class GPT1Config(GPTConfig):\n",
    "    \"\"\" GPT-1 like network roughly 125M params \"\"\"\n",
    "    n_layer = 12\n",
    "    n_head = 12\n",
    "    n_embd = 768\n",
    "\n",
    "class CausalSelfAttention(nn.Module):\n",
    "    \"\"\"\n",
    "    A vanilla multi-head masked self-attention layer with a projection at the end.\n",
    "    It is possible to use torch.nn.MultiheadAttention here but I am including an\n",
    "    explicit implementation here to show that there is nothing too scary here.\n",
    "    \"\"\"\n",
    "\n",
    "    def __init__(self, config):\n",
    "        super().__init__()\n",
    "        assert config.n_embd % config.n_head == 0\n",
    "        # key, query, value projections for all heads\n",
    "        self.key = nn.Linear(config.n_embd, config.n_embd)\n",
    "        self.query = nn.Linear(config.n_embd, config.n_embd)\n",
    "        self.value = nn.Linear(config.n_embd, config.n_embd)\n",
    "        # regularization\n",
    "        self.attn_drop = nn.Dropout(config.attn_pdrop)\n",
    "        self.resid_drop = nn.Dropout(config.resid_pdrop)\n",
    "        # output projection\n",
    "        self.proj = nn.Linear(config.n_embd, config.n_embd)\n",
    "        # causal mask to ensure that attention is only applied to the left in the input sequence\n",
    "        self.register_buffer(\"mask\", torch.tril(torch.ones(config.block_size, config.block_size))\n",
    "                                     .view(1, 1, config.block_size, config.block_size))\n",
    "        self.n_head = config.n_head\n",
    "        self.att = None\n",
    "\n",
    "    def forward(self, x, layer_past=None):\n",
    "        B, T, C = x.size()\n",
    "\n",
    "        # calculate query, key, values for all heads in batch and move head forward to be the batch dim\n",
    "        k = self.key(x).view(B, T, self.n_head, C // self.n_head).transpose(1, 2) # (B, nh, T, hs)\n",
    "        q = self.query(x).view(B, T, self.n_head, C // self.n_head).transpose(1, 2) # (B, nh, T, hs)\n",
    "        v = self.value(x).view(B, T, self.n_head, C // self.n_head).transpose(1, 2) # (B, nh, T, hs)\n",
    "\n",
    "        # causal self-attention; Self-attend: (B, nh, T, hs) x (B, nh, hs, T) -> (B, nh, T, T)\n",
    "        att = (q @ k.transpose(-2, -1)) * (1.0 / math.sqrt(k.size(-1)))\n",
    "        att = att.masked_fill(self.mask[:,:,:T,:T] == 0, float('-inf'))\n",
    "        att = F.softmax(att, dim=-1)\n",
    "        att = self.attn_drop(att)\n",
    "        y = att @ v # (B, nh, T, T) x (B, nh, T, hs) -> (B, nh, T, hs)\n",
    "        y = y.transpose(1, 2).contiguous().view(B, T, C) # re-assemble all head outputs side by side\n",
    "\n",
    "        # output projection\n",
    "        y = self.resid_drop(self.proj(y))\n",
    "\n",
    "        self.att = att\n",
    "\n",
    "        return y\n",
    "\n",
    "class Block(nn.Module):\n",
    "    \"\"\" an unassuming Transformer block \"\"\"\n",
    "\n",
    "    def __init__(self, config):\n",
    "        super().__init__()\n",
    "        self.ln1 = nn.LayerNorm(config.n_embd)\n",
    "        self.ln2 = nn.LayerNorm(config.n_embd)\n",
    "        self.attn = CausalSelfAttention(config)\n",
    "        self.mlp = nn.Sequential(\n",
    "            nn.Linear(config.n_embd, 4 * config.n_embd),\n",
    "            nn.GELU(),\n",
    "            nn.Linear(4 * config.n_embd, config.n_embd),\n",
    "            nn.Dropout(config.resid_pdrop),\n",
    "        )\n",
    "\n",
    "    def forward(self, x):\n",
    "        x = x + self.attn(self.ln1(x))\n",
    "        x = x + self.mlp(self.ln2(x))\n",
    "        return x\n",
    "\n",
    "class GPT(nn.Module):\n",
    "    \"\"\"  the full GPT language model, with a context size of block_size \"\"\"\n",
    "\n",
    "    def __init__(self, config):\n",
    "        super().__init__()\n",
    "\n",
    "        # input embedding stem\n",
    "        self.tok_emb = nn.Embedding(config.vocab_size, config.n_embd)\n",
    "        self.pos_emb = nn.Parameter(torch.zeros(1, config.block_size, config.n_embd))\n",
    "        self.drop = nn.Dropout(config.embd_pdrop)\n",
    "        # transformer\n",
    "        self.blocks = nn.Sequential(*[Block(config) for _ in range(config.n_layer)])\n",
    "        # decoder head\n",
    "        self.ln_f = nn.LayerNorm(config.n_embd)\n",
    "        self.head = nn.Linear(config.n_embd, config.vocab_size, bias=False)\n",
    "\n",
    "        self.block_size = config.block_size\n",
    "        self.apply(self._init_weights)\n",
    "\n",
    "        logger.info(\"number of parameters: %e\", sum(p.numel() for p in self.parameters()))\n",
    "\n",
    "    def get_block_size(self):\n",
    "        return self.block_size\n",
    "\n",
    "    def _init_weights(self, module):\n",
    "        if isinstance(module, (nn.Linear, nn.Embedding)):\n",
    "            module.weight.data.normal_(mean=0.0, std=0.02)\n",
    "            if isinstance(module, nn.Linear) and module.bias is not None:\n",
    "                module.bias.data.zero_()\n",
    "        elif isinstance(module, nn.LayerNorm):\n",
    "            module.bias.data.zero_()\n",
    "            module.weight.data.fill_(1.0)\n",
    "\n",
    "    def configure_optimizers(self, train_config):\n",
    "        \"\"\"\n",
    "        This long function is unfortunately doing something very simple and is being very defensive:\n",
    "        We are separating out all parameters of the model into two buckets: those that will experience\n",
    "        weight decay for regularization and those that won't (biases, and layernorm/embedding weights).\n",
    "        We are then returning the PyTorch optimizer object.\n",
    "        \"\"\"\n",
    "\n",
    "        # separate out all parameters to those that will and won't experience regularizing weight decay\n",
    "        decay = set()\n",
    "        no_decay = set()\n",
    "        whitelist_weight_modules = (torch.nn.Linear, )\n",
    "        blacklist_weight_modules = (torch.nn.LayerNorm, torch.nn.Embedding)\n",
    "        for mn, m in self.named_modules():\n",
    "            for pn, p in m.named_parameters():\n",
    "                fpn = '%s.%s' % (mn, pn) if mn else pn # full param name\n",
    "\n",
    "                if pn.endswith('bias'):\n",
    "                    # all biases will not be decayed\n",
    "                    no_decay.add(fpn)\n",
    "                elif pn.endswith('weight') and isinstance(m, whitelist_weight_modules):\n",
    "                    # weights of whitelist modules will be weight decayed\n",
    "                    decay.add(fpn)\n",
    "                elif pn.endswith('weight') and isinstance(m, blacklist_weight_modules):\n",
    "                    # weights of blacklist modules will NOT be weight decayed\n",
    "                    no_decay.add(fpn)\n",
    "\n",
    "        # special case the position embedding parameter in the root GPT module as not decayed\n",
    "        no_decay.add('pos_emb')\n",
    "\n",
    "        # validate that we considered every parameter\n",
    "        param_dict = {pn: p for pn, p in self.named_parameters()}\n",
    "        inter_params = decay & no_decay\n",
    "        union_params = decay | no_decay\n",
    "        assert len(inter_params) == 0, \"parameters %s made it into both decay/no_decay sets!\" % (str(inter_params), )\n",
    "        assert len(param_dict.keys() - union_params) == 0, \"parameters %s were not separated into either decay/no_decay set!\" \\\n",
    "                                                    % (str(param_dict.keys() - union_params), )\n",
    "\n",
    "        # create the pytorch optimizer object\n",
    "        optim_groups = [\n",
    "            {\"params\": [param_dict[pn] for pn in sorted(list(decay))], \"weight_decay\": train_config.weight_decay},\n",
    "            {\"params\": [param_dict[pn] for pn in sorted(list(no_decay))], \"weight_decay\": 0.0},\n",
    "        ]\n",
    "        optimizer = torch.optim.AdamW(optim_groups, lr=train_config.learning_rate, betas=train_config.betas)\n",
    "        return optimizer\n",
    "\n",
    "    def forward(self, idx, targets=None):\n",
    "        b, t = idx.size()\n",
    "        assert t <= self.block_size, \"Cannot forward, model block size is exhausted.\"\n",
    "\n",
    "        # forward the GPT model\n",
    "        token_embeddings = self.tok_emb(idx) # each index maps to a (learnable) vector\n",
    "        position_embeddings = self.pos_emb[:, :t, :] # each position maps to a (learnable) vector\n",
    "        x = self.drop(token_embeddings + position_embeddings)\n",
    "        x = self.blocks(x)\n",
    "        x = self.ln_f(x)\n",
    "        logits = self.head(x)\n",
    "\n",
    "        # if we are given some desired targets also calculate the loss\n",
    "        loss = None\n",
    "        if targets is not None:\n",
    "            loss = F.cross_entropy(logits.view(-1, logits.size(-1)), targets.view(-1))\n",
    "\n",
    "        return logits, loss\n"
   ]
  },
  {
   "cell_type": "code",
   "execution_count": 68,
   "id": "0s5SO83OXVK6",
   "metadata": {
    "id": "0s5SO83OXVK6"
   },
   "outputs": [],
   "source": [
    "\"\"\"\n",
    "Simple training loop; Boilerplate that could apply to any arbitrary neural network,\n",
    "so nothing in this file really has anything to do with GPT specifically.\n",
    "\"\"\"\n",
    "\n",
    "import sacrebleu\n",
    "import math\n",
    "import logging\n",
    "from random import choice\n",
    "\n",
    "from tqdm import tqdm\n",
    "import numpy as np\n",
    "\n",
    "import torch\n",
    "import torch.optim as optim\n",
    "from torch.optim.lr_scheduler import LambdaLR\n",
    "from torch.utils.data.dataloader import DataLoader\n",
    "\n",
    "logger = logging.getLogger(__name__)\n",
    "\n",
    "def clean_tokens(sentence):\n",
    "    return sentence.replace('@@ ', '').replace(' @', '').replace('@ ', '')\n",
    "\n",
    "class TrainerConfig:\n",
    "    # optimization parameters\n",
    "    max_epochs = 10\n",
    "    batch_size = 64\n",
    "    learning_rate = 3e-4\n",
    "    betas = (0.9, 0.95)\n",
    "    grad_norm_clip = 1.0\n",
    "    weight_decay = 0.1 # only applied on matmul weights\n",
    "    # learning rate decay params: linear warmup followed by cosine decay to 10% of original\n",
    "    lr_decay = False\n",
    "    warmup_tokens = 375e6 # these two numbers come from the GPT-3 paper, but may not be good defaults elsewhere\n",
    "    final_tokens = 260e9 # (at what point we reach 10% of original LR)\n",
    "    # checkpoint settings\n",
    "    ckpt_path = None\n",
    "    num_workers = 0 # for DataLoader\n",
    "\n",
    "    def __init__(self, **kwargs):\n",
    "        for k,v in kwargs.items():\n",
    "            setattr(self, k, v)\n",
    "\n",
    "class Trainer:\n",
    "\n",
    "    def __init__(self, model, train_dataset, test_dataset, valid_dataset, config):\n",
    "        self.model = model\n",
    "        self.train_dataset = train_dataset\n",
    "        self.test_dataset = test_dataset\n",
    "        self.valid_dataset = valid_dataset\n",
    "        self.config = config\n",
    "\n",
    "        # take over whatever gpus are on the system\n",
    "        self.device = 'cpu'\n",
    "        if torch.cuda.is_available():\n",
    "            self.device = torch.cuda.current_device()\n",
    "            self.model = torch.nn.DataParallel(self.model).to(self.device)\n",
    "\n",
    "    def save_checkpoint(self):\n",
    "        # DataParallel wrappers keep raw model object in .module attribute\n",
    "        raw_model = self.model.module if hasattr(self.model, \"module\") else self.model\n",
    "        logger.info(\"saving %s\", self.config.ckpt_path)\n",
    "        torch.save(raw_model.state_dict(), self.config.ckpt_path)\n",
    "\n",
    "    def train(self):\n",
    "        model, config = self.model, self.config\n",
    "        raw_model = model.module if hasattr(self.model, \"module\") else model\n",
    "        optimizer = raw_model.configure_optimizers(config)\n",
    "\n",
    "        def run_epoch(split):\n",
    "            is_train = split == 'train'\n",
    "            model.train(is_train)\n",
    "            data = self.train_dataset\n",
    "            if split == 'test':\n",
    "                data = self.test_dataset\n",
    "            elif split == 'valid':\n",
    "                data = self.valid_dataset\n",
    "                model.eval()\n",
    "            loader = DataLoader(data, shuffle=True, pin_memory=True,\n",
    "                                batch_size=config.batch_size,\n",
    "                                num_workers=config.num_workers)\n",
    "\n",
    "            losses = []\n",
    "            pbar = tqdm(enumerate(loader), total=len(loader)) if is_train else enumerate(loader)\n",
    "            logits_total = None\n",
    "            x_total = None\n",
    "            y_total = None\n",
    "            for it, (x, y) in pbar:\n",
    "\n",
    "                # place data on the correct device\n",
    "                x = x.to(self.device)\n",
    "                y = y.to(self.device)\n",
    "\n",
    "                # forward the model\n",
    "                with torch.set_grad_enabled(is_train):\n",
    "                    logits, loss = model(x, y)\n",
    "                    loss = loss.mean() # collapse all losses if they are scattered on multiple gpus\n",
    "                    losses.append(loss.item())\n",
    "                    if split == 'valid':\n",
    "                        if logits_total is None:\n",
    "                            logits_total = logits\n",
    "                            x_total = x\n",
    "                            y_total = y\n",
    "                        else:\n",
    "                            logits_total = torch.cat((logits_total, logits), dim=0)\n",
    "                            x_total = torch.cat((x_total, x), dim=0)\n",
    "                            y_total = torch.cat((y_total, y), dim=0)\n",
    "                        \n",
    "\n",
    "                if is_train:\n",
    "                    # backprop and update the parameters\n",
    "                    model.zero_grad()\n",
    "                    loss.backward()\n",
    "                    torch.nn.utils.clip_grad_norm_(model.parameters(), config.grad_norm_clip)\n",
    "                    optimizer.step()\n",
    "\n",
    "                    # decay the learning rate based on our progress\n",
    "                    if config.lr_decay:\n",
    "                        self.tokens += (y >= 0).sum() # number of tokens processed this step (i.e. label is not -100)\n",
    "                        if self.tokens < config.warmup_tokens:\n",
    "                            # linear warmup\n",
    "                            lr_mult = float(self.tokens) / float(max(1, config.warmup_tokens))\n",
    "                        else:\n",
    "                            # cosine learning rate decay\n",
    "                            progress = float(self.tokens - config.warmup_tokens) / float(max(1, config.final_tokens - config.warmup_tokens))\n",
    "                            lr_mult = max(0.1, 0.5 * (1.0 + math.cos(math.pi * progress)))\n",
    "                        lr = config.learning_rate * lr_mult\n",
    "                        for param_group in optimizer.param_groups:\n",
    "                            param_group['lr'] = lr\n",
    "                    else:\n",
    "                        lr = config.learning_rate\n",
    "\n",
    "                    # report progress\n",
    "                    pbar.set_description(f\"epoch {epoch+1} iter {it}: train loss {loss.item():.5f}. mean loss: {float(np.mean(losses)):.5f}. lr {lr:e}\")\n",
    "\n",
    "            if split == 'test':\n",
    "                test_loss = float(np.mean(losses))\n",
    "                print(f\"test loss: {test_loss}\")\n",
    "                return test_loss\n",
    "\n",
    "            if split == 'valid':\n",
    "                test_loss = float(np.mean(losses))\n",
    "                print(f\"valid loss: {test_loss}\")\n",
    "\n",
    "                eval_results = []\n",
    "                translation_results = []\n",
    "                context_list = []\n",
    "\n",
    "                for idx in range(len(logits_total)):\n",
    "                    intent = (x_total[idx] == valid_dataset.tokenizer_input.encode(['<eos>'])[0]).nonzero(as_tuple=True)[0][0]\n",
    "\n",
    "                    probs = F.softmax(logits_total[idx], dim=-1)\n",
    "                    # sample from the distribution or take the most likely\n",
    "                    _, predicted = torch.topk(probs, k=1, dim=-1)\n",
    "                    context = clean_tokens(data.tokenizer_input.decode(x_total[idx][:intent - 1], True))\n",
    "                    completion = clean_tokens(data.tokenizer_output.decode(predicted[intent:], True))\n",
    "                    real = clean_tokens(data.tokenizer_output.decode(y_total[idx][intent:], True))\n",
    "\n",
    "                    context_list.append(context)\n",
    "                    translation_results.append(completion)\n",
    "                    eval_results.append(real)\n",
    "                \n",
    "                with open('valid.txt', 'w') as f:\n",
    "                    f.write(\"\\n\".join(translation_results))\n",
    "\n",
    "                with open('eval.txt', 'w') as f:\n",
    "                    f.write(\"\\n\".join(eval_results))\n",
    "\n",
    "                with open('context.txt', 'w') as f:\n",
    "                    f.write(\"\\n\".join(context_list))\n",
    "\n",
    "\n",
    "                !cat valid.txt | mosesdecoder/scripts/tokenizer/detokenizer.perl -l lv > valid.detok.txt\n",
    "                !cat eval.txt | mosesdecoder/scripts/tokenizer/detokenizer.perl -l lv > eval.detok.txt\n",
    "                !cat context.txt | mosesdecoder/scripts/tokenizer/detokenizer.perl -l lv > context.detok.txt\n",
    "\n",
    "                with open('eval.detok.txt', 'r') as f:\n",
    "                    eval_results = [l.strip() for l in f.readlines()]\n",
    "                with open('valid.detok.txt', 'r') as f:\n",
    "                    translation_results = [l.strip() for l in f.readlines()]\n",
    "                with open('context.detok.txt', 'r') as f:\n",
    "                    context_list = [l.strip() for l in f.readlines()]\n",
    "\n",
    "                idx = choice(range(len(context_list)))\n",
    "                \n",
    "                print(f'Input:            {context_list[idx]}')\n",
    "                print(f'Predicted output: {translation_results[idx]}')\n",
    "                print(f'Real output:      {eval_results[idx]}')\n",
    "\n",
    "                refs = [eval_results]\n",
    "                sys = translation_results\n",
    "                bleu = sacrebleu.corpus_bleu(sys, refs)\n",
    "                print(f'BLEU: {bleu.score}')\n",
    "                print('--------------------------------------------------')\n",
    "\n",
    "                return test_loss, bleu.score\n",
    "\n",
    "        test_loss_list = []\n",
    "        valid_loss_list = []\n",
    "        valid_bleu_list = []\n",
    "        best_loss = float('inf')\n",
    "        self.tokens = 0 # counter used for learning rate decay\n",
    "        for epoch in range(config.max_epochs):\n",
    "\n",
    "            run_epoch('train')\n",
    "            if self.test_dataset is not None:\n",
    "                test_loss = run_epoch('test')\n",
    "                test_loss_list.append(test_loss)\n",
    "\n",
    "            if self.valid_dataset is not None:\n",
    "                valid_loss, bleu_score = run_epoch('valid')\n",
    "                valid_loss_list.append(valid_loss)\n",
    "                valid_bleu_list.append(bleu_score)\n",
    "\n",
    "            # supports early stopping based on the test loss, or just save always if no test set is provided\n",
    "            good_model = self.test_dataset is None or test_loss < best_loss\n",
    "            if self.config.ckpt_path is not None and good_model:\n",
    "                best_loss = test_loss\n",
    "                self.save_checkpoint()\n",
    "\n",
    "        return test_loss_list, valid_loss_list, valid_bleu_list\n"
   ]
  },
  {
   "cell_type": "markdown",
   "id": "jKCnnx4-XTg1",
   "metadata": {
    "id": "jKCnnx4-XTg1"
   },
   "source": [
    "#Training"
   ]
  },
  {
   "cell_type": "code",
   "execution_count": 69,
   "id": "Ds0Rr1hrbRDq",
   "metadata": {
    "id": "Ds0Rr1hrbRDq"
   },
   "outputs": [],
   "source": [
    "\n",
    "class Tokenizer:\n",
    "    def __init__(self, data, vocab_size, vocab):\n",
    "        self.vocab_size = vocab_size\n",
    "        self.vocab = vocab\n",
    "\n",
    "        self.stoi = {ch: i for i, ch in enumerate(self.vocab)}\n",
    "        self.itos = {i: ch for i, ch in enumerate(self.vocab)}\n",
    "    \n",
    "    def tokenize(self, data, block_size):\n",
    "        tokenized_text = data.split()\n",
    "        # Filter empty strings\n",
    "        tokenized_text = [x for x in tokenized_text if x]\n",
    "        result = []\n",
    "        for tokenized in tokenized_text:\n",
    "            # In case other single # found, replace them with <unk> special token, marking the element as unknown\n",
    "            if tokenized in self.vocab:\n",
    "                result.append(tokenized)\n",
    "            else:\n",
    "                result.append('<unk>')\n",
    "\n",
    "        # in case the sentence is longer, than block_size, we trim the sentence\n",
    "        return result[:block_size]\n",
    "    \n",
    "    def encode(self, data):\n",
    "        return [self.stoi[s] for s in data]\n",
    "    \n",
    "    def decode(self, data, clean_paddings=False):\n",
    "        text = ' '.join([self.itos[int(i)] for i in data])\n",
    "\n",
    "        if not clean_paddings:\n",
    "            return text\n",
    "        return text.replace('<pad>', '').replace('  ', '')"
   ]
  },
  {
   "cell_type": "code",
   "execution_count": 70,
   "id": "advised-shelter",
   "metadata": {
    "id": "advised-shelter"
   },
   "outputs": [],
   "source": [
    "# vocab_size = 10000\n",
    "\n",
    "# vocab_input = None\n",
    "# if os.path.exists('vocab_input.pkl'):\n",
    "#     with open('vocab_input.pkl', 'rb') as f:\n",
    "#         vocab_input = pickle.load(f)\n",
    "        \n",
    "# vocab_output = None\n",
    "# if os.path.exists('vocab_output.pkl'):\n",
    "#     with open('vocab_output.pkl', 'rb') as f:\n",
    "#         vocab_output = pickle.load(f)\n",
    "\n",
    "# building vocabluary can take some time. ~5 minutes for 10_000 tokens for each tokenizer. \n",
    "tokenizer_input = Tokenizer(text_input, vocab_size, lv_vocab)\n",
    "tokenizer_output = Tokenizer(text_output, vocab_size, en_vocab)"
   ]
  },
  {
   "cell_type": "code",
   "execution_count": 71,
   "id": "7d8f6ac2-0118-4d55-99c0-a478bfa6fe27",
   "metadata": {
    "id": "7d8f6ac2-0118-4d55-99c0-a478bfa6fe27"
   },
   "outputs": [],
   "source": [
    "# with open('vocab_input.pkl', 'wb') as f:\n",
    "#     pickle.dump(tokenizer_input.vocab, f)\n",
    "\n",
    "# with open('vocab_output.pkl', 'wb') as f:\n",
    "#     pickle.dump(tokenizer_output.vocab, f)"
   ]
  },
  {
   "cell_type": "code",
   "execution_count": 72,
   "id": "emotional-metadata",
   "metadata": {
    "id": "emotional-metadata"
   },
   "outputs": [],
   "source": [
    "# Shuffle texts by lines\n",
    "texts = list(zip(text_output.splitlines(), text_input.splitlines()))\n",
    "random.shuffle(texts)\n",
    "\n",
    "text_output, text_input = zip(*texts)"
   ]
  },
  {
   "cell_type": "code",
   "execution_count": 73,
   "id": "floral-ridge",
   "metadata": {
    "id": "floral-ridge"
   },
   "outputs": [],
   "source": [
    "# Split texts into train, test and validation datasets\n",
    "train_dataset_size = round(0.85 * len(text_output))\n",
    "test_dataset_size = round(0.1 * len(text_output))\n",
    "valid_dataset_size = round(0.05 * len(text_output))\n",
    "\n",
    "train_input = text_input[:train_dataset_size]\n",
    "test_input = text_input[train_dataset_size:train_dataset_size + test_dataset_size]\n",
    "valid_input = text_input[-valid_dataset_size:]\n",
    "\n",
    "train_output = text_output[:train_dataset_size]\n",
    "test_output = text_output[train_dataset_size:train_dataset_size + test_dataset_size]\n",
    "valid_output = text_output[-valid_dataset_size:]\n"
   ]
  },
  {
   "cell_type": "code",
   "execution_count": 74,
   "id": "oZUwkrJeb0p4",
   "metadata": {
    "id": "oZUwkrJeb0p4"
   },
   "outputs": [],
   "source": [
    "from torch.utils.data import Dataset\n",
    "\n",
    "class WordDataset(Dataset):\n",
    "\n",
    "    def __init__(self, output_text, input_text, tokenizer_output, tokenizer_input, block_size):\n",
    "        self.tokenizer_output = tokenizer_output\n",
    "        self.tokenizer_input = tokenizer_input\n",
    "\n",
    "        self.block_size = block_size * 2 + 1\n",
    "        self.output_text = [tokenizer_output.tokenize(t, block_size) for t in output_text]\n",
    "        self.input_text = [tokenizer_input.tokenize(t, block_size) for t in input_text]\n",
    "\n",
    "    def __len__(self):\n",
    "        return len(self.output_text)\n",
    "\n",
    "    def __getitem__(self, idx):\n",
    "        \"\"\"\n",
    "        The idea is to get the input sentence\n",
    "        and translate it to output sentence (sentences could be on any language).\n",
    "\n",
    "        In the init method we already split a sentence into tokens and filled with spaces,\n",
    "        to have an equal sentence size. In this method we just encode the tokens to\n",
    "        ids (a list of numbers), and we're trying to map ids sequences\n",
    "        \"\"\"\n",
    "\n",
    "        tokenized_input_text = self.tokenizer_input.encode(self.input_text[idx])\n",
    "        tokenized_output_text = self.tokenizer_output.encode(self.output_text[idx])\n",
    "\n",
    "        dix = tokenized_input_text + self.tokenizer_output.encode(['<eos>']) + tokenized_output_text\n",
    "        if len(dix) < self.block_size:\n",
    "            dix += self.tokenizer_output.encode(['<pad>']) * (self.block_size - len(dix))\n",
    "\n",
    "        x = torch.tensor(dix[:-1], dtype=torch.long)\n",
    "        y = torch.tensor(dix[1:], dtype=torch.long)\n",
    "        y[:len(tokenized_input_text) - 1] = -100\n",
    "\n",
    "        return x, y"
   ]
  },
  {
   "cell_type": "code",
   "execution_count": 75,
   "id": "fitted-resident",
   "metadata": {
    "id": "fitted-resident"
   },
   "outputs": [],
   "source": [
    "block_size = 100  # the estimate how long lines the text could be (token count)\n",
    "\n",
    "train_dataset = WordDataset(train_output, train_input, tokenizer_output, tokenizer_input, block_size)\n",
    "test_dataset = WordDataset(test_output, test_input, tokenizer_output, tokenizer_input, block_size)\n",
    "valid_dataset = WordDataset(valid_output, valid_input, tokenizer_output, tokenizer_input, block_size)"
   ]
  },
  {
   "cell_type": "code",
   "execution_count": 76,
   "id": "ruled-astronomy",
   "metadata": {
    "id": "ruled-astronomy"
   },
   "outputs": [],
   "source": [
    "number_of_heads = 8\n",
    "number_of_layers = 6\n",
    "\n",
    "# from mingpt.model import GPT, GPTConfig\n",
    "mconf = GPTConfig(tokenizer_output.vocab_size, train_dataset.block_size,\n",
    "                  n_layer=number_of_layers, n_head=number_of_heads, n_embd=512)\n",
    "model = GPT(mconf)"
   ]
  },
  {
   "cell_type": "code",
   "execution_count": 77,
   "id": "bUgb5MxODXBc",
   "metadata": {
    "id": "bUgb5MxODXBc"
   },
   "outputs": [],
   "source": [
    "# from mingpt.trainer import Trainer, TrainerConfig\n",
    "\n",
    "tokens_per_epoch = len(train_dataset) * block_size\n",
    "train_epochs = 100\n",
    "\n",
    "# initialize a trainer instance and kick off training\n",
    "tconf = TrainerConfig(max_epochs=train_epochs, batch_size=128, learning_rate=3e-4,\n",
    "                      lr_decay=True, warmup_tokens=tokens_per_epoch, final_tokens=train_epochs*tokens_per_epoch,\n",
    "                      ckpt_path='minGPT-LV-EN-translator_model.pt',\n",
    "                      num_workers=1, weight_decay=0.0001, betas=(0.9, 0.98))\n",
    "trainer = Trainer(model, train_dataset, test_dataset, valid_dataset, tconf)"
   ]
  },
  {
   "cell_type": "code",
   "execution_count": 78,
   "id": "JPH3nCe9JB63",
   "metadata": {
    "colab": {
     "base_uri": "https://localhost:8080/"
    },
    "id": "JPH3nCe9JB63",
    "outputId": "382f135d-e133-4e0b-9bb5-2f7b01269cf1"
   },
   "outputs": [
    {
     "name": "stdout",
     "output_type": "stream",
     "text": [
      "Parameters count: 24650240\n"
     ]
    }
   ],
   "source": [
    "param_count = sum([param.nelement() for param in model.parameters()])\n",
    "\n",
    "print(f'Parameters count: {param_count}')"
   ]
  },
  {
   "cell_type": "code",
   "execution_count": 79,
   "id": "VG17yBsSf3uc",
   "metadata": {
    "colab": {
     "base_uri": "https://localhost:8080/"
    },
    "id": "VG17yBsSf3uc",
    "outputId": "ca906c3a-1793-4ab9-84c3-3f6c5f59c37d"
   },
   "outputs": [
    {
     "name": "stderr",
     "output_type": "stream",
     "text": [
      "epoch 1 iter 58: train loss 0.30184. mean loss: 0.72940. lr 2.999393e-04: 100%|██████████| 59/59 [00:23<00:00,  2.52it/s]\n"
     ]
    },
    {
     "name": "stdout",
     "output_type": "stream",
     "text": [
      "test loss: 0.3149911505835397\n",
      "valid loss: 0.35734643787145615\n",
      "Warning: No built-in rules for language lv.\n",
      "Detokenizer Version $Revision: 4134 $\n",
      "Language: lv\n",
      "Warning: No built-in rules for language lv.\n",
      "Detokenizer Version $Revision: 4134 $\n",
      "Language: lv\n",
      "Warning: No built-in rules for language lv.\n",
      "Detokenizer Version $Revision: 4134 $\n",
      "Language: lv\n",
      "Input:            \"nevaru iedomāties, ka man tā būtu jāguļ\n",
      "Predicted output: \"I.......\n",
      "Real output:      \"I can 't imagine lying like that.\n",
      "BLEU: 0.23039652353995288\n",
      "--------------------------------------------------\n"
     ]
    },
    {
     "name": "stderr",
     "output_type": "stream",
     "text": [
      "epoch 2 iter 58: train loss 0.24942. mean loss: 0.30499. lr 2.994109e-04: 100%|██████████| 59/59 [00:23<00:00,  2.50it/s]\n"
     ]
    },
    {
     "name": "stdout",
     "output_type": "stream",
     "text": [
      "test loss: 0.27204665541648865\n",
      "valid loss: 0.3055238425731659\n",
      "Warning: No built-in rules for language lv.\n",
      "Detokenizer Version $Revision: 4134 $\n",
      "Language: lv\n",
      "Warning: No built-in rules for language lv.\n",
      "Detokenizer Version $Revision: 4134 $\n",
      "Language: lv\n",
      "Warning: No built-in rules for language lv.\n",
      "Detokenizer Version $Revision: 4134 $\n",
      "Language: lv\n",
      "Input:            upes dibenu klāja oļi un akmeņi, saulē nožuvuši balti, un caurtecēs ūdens bija dzidrs un straujš, un zils\n",
      "Predicted output: the the road and the road and was and and the road and and the and the and the road the the the road. a. the.. the. the road.\n",
      "Real output:      in the bed of the river there were pebbles and boulders, dry and white in the sun, and the water was clear and swiftly moving and blue in the channels.\n",
      "BLEU: 3.4103353151194153\n",
      "--------------------------------------------------\n"
     ]
    },
    {
     "name": "stderr",
     "output_type": "stream",
     "text": [
      "epoch 3 iter 58: train loss 0.23493. mean loss: 0.26739. lr 2.983413e-04: 100%|██████████| 59/59 [00:23<00:00,  2.47it/s]\n"
     ]
    },
    {
     "name": "stdout",
     "output_type": "stream",
     "text": [
      "test loss: 0.2537184549229486\n",
      "valid loss: 0.28326554596424103\n",
      "Warning: No built-in rules for language lv.\n",
      "Detokenizer Version $Revision: 4134 $\n",
      "Language: lv\n",
      "Warning: No built-in rules for language lv.\n",
      "Detokenizer Version $Revision: 4134 $\n",
      "Language: lv\n",
      "Warning: No built-in rules for language lv.\n",
      "Detokenizer Version $Revision: 4134 $\n",
      "Language: lv\n",
      "Input:            \"vai neiedzersim?\n",
      "Predicted output: \"you you don be you little?\"\n",
      "Real output:      \"perhaps we should have a drink.\"\n",
      "BLEU: 4.404315840837544\n",
      "--------------------------------------------------\n"
     ]
    },
    {
     "name": "stderr",
     "output_type": "stream",
     "text": [
      "epoch 4 iter 58: train loss 0.25479. mean loss: 0.24561. lr 2.967344e-04: 100%|██████████| 59/59 [00:24<00:00,  2.40it/s]\n"
     ]
    },
    {
     "name": "stdout",
     "output_type": "stream",
     "text": [
      "test loss: 0.24290485680103302\n",
      "valid loss: 0.27639190107584\n",
      "Warning: No built-in rules for language lv.\n",
      "Detokenizer Version $Revision: 4134 $\n",
      "Language: lv\n",
      "Warning: No built-in rules for language lv.\n",
      "Detokenizer Version $Revision: 4134 $\n",
      "Language: lv\n",
      "Warning: No built-in rules for language lv.\n",
      "Detokenizer Version $Revision: 4134 $\n",
      "Language: lv\n",
      "Input:            kur mūs neviens nepazītu \"\n",
      "Predicted output: they to 're 't be.. \"\n",
      "Real output:      anywhere we don 't know people. \"\n",
      "BLEU: 5.460638667813124\n",
      "--------------------------------------------------\n"
     ]
    },
    {
     "name": "stderr",
     "output_type": "stream",
     "text": [
      "epoch 5 iter 58: train loss 0.17206. mean loss: 0.22636. lr 2.945960e-04: 100%|██████████| 59/59 [00:24<00:00,  2.46it/s]\n"
     ]
    },
    {
     "name": "stdout",
     "output_type": "stream",
     "text": [
      "test loss: 0.23375763424805232\n",
      "valid loss: 0.2700066566467285\n",
      "Warning: No built-in rules for language lv.\n",
      "Detokenizer Version $Revision: 4134 $\n",
      "Language: lv\n",
      "Warning: No built-in rules for language lv.\n",
      "Detokenizer Version $Revision: 4134 $\n",
      "Language: lv\n",
      "Warning: No built-in rules for language lv.\n",
      "Detokenizer Version $Revision: 4134 $\n",
      "Language: lv\n",
      "Input:            iemesls meklējams daudz dziļāk\n",
      "Predicted output: I was a-be. a.\n",
      "Real output:      there was more to it than that.\n",
      "BLEU: 7.147224700052678\n",
      "--------------------------------------------------\n"
     ]
    },
    {
     "name": "stderr",
     "output_type": "stream",
     "text": [
      "epoch 6 iter 58: train loss 0.23088. mean loss: 0.21062. lr 2.919339e-04: 100%|██████████| 59/59 [00:24<00:00,  2.43it/s]\n"
     ]
    },
    {
     "name": "stdout",
     "output_type": "stream",
     "text": [
      "test loss: 0.22963869358812058\n",
      "valid loss: 0.26865021884441376\n",
      "Warning: No built-in rules for language lv.\n",
      "Detokenizer Version $Revision: 4134 $\n",
      "Language: lv\n",
      "Warning: No built-in rules for language lv.\n",
      "Detokenizer Version $Revision: 4134 $\n",
      "Language: lv\n",
      "Warning: No built-in rules for language lv.\n",
      "Detokenizer Version $Revision: 4134 $\n",
      "Language: lv\n",
      "Input:            XXXV\n",
      "Predicted output: CHAPTER XXXX@@\n",
      "Real output:      CHAPTER XXXV\n",
      "BLEU: 8.014791348420054\n",
      "--------------------------------------------------\n"
     ]
    },
    {
     "name": "stderr",
     "output_type": "stream",
     "text": [
      "epoch 7 iter 58: train loss 0.18829. mean loss: 0.19442. lr 2.887576e-04: 100%|██████████| 59/59 [00:24<00:00,  2.36it/s]\n"
     ]
    },
    {
     "name": "stdout",
     "output_type": "stream",
     "text": [
      "test loss: 0.22720458039215632\n",
      "valid loss: 0.2609049528837204\n",
      "Warning: No built-in rules for language lv.\n",
      "Detokenizer Version $Revision: 4134 $\n",
      "Language: lv\n",
      "Warning: No built-in rules for language lv.\n",
      "Detokenizer Version $Revision: 4134 $\n",
      "Language: lv\n",
      "Warning: No built-in rules for language lv.\n",
      "Detokenizer Version $Revision: 4134 $\n",
      "Language: lv\n",
      "Input:            \"tagad, ja tu neesi man līdzās, jūtu tukšumu\"\n",
      "Predicted output: \"I I you don 't be me, 'm 't be fine, the man you\"\n",
      "Real output:      \"now if you aren 't with me I haven 't a thing in the world.\"\n",
      "BLEU: 8.025240984308844\n",
      "--------------------------------------------------\n"
     ]
    },
    {
     "name": "stderr",
     "output_type": "stream",
     "text": [
      "epoch 8 iter 58: train loss 0.20827. mean loss: 0.17982. lr 2.850787e-04: 100%|██████████| 59/59 [00:24<00:00,  2.40it/s]\n"
     ]
    },
    {
     "name": "stdout",
     "output_type": "stream",
     "text": [
      "test loss: 0.22690108844212123\n",
      "valid loss: 0.2660006210207939\n",
      "Warning: No built-in rules for language lv.\n",
      "Detokenizer Version $Revision: 4134 $\n",
      "Language: lv\n",
      "Warning: No built-in rules for language lv.\n",
      "Detokenizer Version $Revision: 4134 $\n",
      "Language: lv\n",
      "Warning: No built-in rules for language lv.\n",
      "Detokenizer Version $Revision: 4134 $\n",
      "Language: lv\n",
      "Input:            krāsnī jau sprēgāja uguns, un celties vēl negribējās, un mēs vērojām sniegputeni\n",
      "Predicted output: we went down the and the road and yand the road and we the car and up\n",
      "Real output:      we stayed in bed with the fire roaring in the stove and watched the snow fall.\n",
      "BLEU: 9.413163720469498\n",
      "--------------------------------------------------\n"
     ]
    },
    {
     "name": "stderr",
     "output_type": "stream",
     "text": [
      "epoch 9 iter 58: train loss 0.14551. mean loss: 0.16438. lr 2.809105e-04: 100%|██████████| 59/59 [00:24<00:00,  2.43it/s]\n"
     ]
    },
    {
     "name": "stdout",
     "output_type": "stream",
     "text": [
      "test loss: 0.22616978415421077\n",
      "valid loss: 0.25721387192606926\n",
      "Warning: No built-in rules for language lv.\n",
      "Detokenizer Version $Revision: 4134 $\n",
      "Language: lv\n",
      "Warning: No built-in rules for language lv.\n",
      "Detokenizer Version $Revision: 4134 $\n",
      "Language: lv\n",
      "Warning: No built-in rules for language lv.\n",
      "Detokenizer Version $Revision: 4134 $\n",
      "Language: lv\n",
      "Input:            kad vairs negāju uz kruķiem, mēs nevarējām staigāt kopā, jo ir nepiedienīgi māsai staigāt divatā ar slimnieku, kurš neizskatās pēc tāda, kam vajadzīgs pavadonis; tāpēc pēcpusdienās mēs bijām kopā\n",
      "Predicted output: when did not come the when on to for we could not the we we would going ina with a little of be with the inGabriele ininwe a little. we not come at we we could for. l. and you could going come. with the river.\n",
      "Real output:      they would not let us go out together when I was off crutches because it was unseemly for a nurse to be seen unchaperoned with a patient who did not look as though he needed attendance, so we were not together much in the afternoons.\n",
      "BLEU: 10.04336032292374\n",
      "--------------------------------------------------\n"
     ]
    },
    {
     "name": "stderr",
     "output_type": "stream",
     "text": [
      "epoch 10 iter 58: train loss 0.12635. mean loss: 0.14926. lr 2.762681e-04: 100%|██████████| 59/59 [00:24<00:00,  2.39it/s]\n"
     ]
    },
    {
     "name": "stdout",
     "output_type": "stream",
     "text": [
      "test loss: 0.2287924247128623\n",
      "valid loss: 0.2669055126607418\n",
      "Warning: No built-in rules for language lv.\n",
      "Detokenizer Version $Revision: 4134 $\n",
      "Language: lv\n",
      "Warning: No built-in rules for language lv.\n",
      "Detokenizer Version $Revision: 4134 $\n",
      "Language: lv\n",
      "Warning: No built-in rules for language lv.\n",
      "Detokenizer Version $Revision: 4134 $\n",
      "Language: lv\n",
      "Input:            Pārbaucām pāri upei, un es redzēju, ka ūdens bija stipri cēlies\n",
      "Predicted output: there could the trees, I saw the the was gone over country\n",
      "Real output:      we crossed the river and I saw that it was running high.\n",
      "BLEU: 10.373088588237126\n",
      "--------------------------------------------------\n"
     ]
    },
    {
     "name": "stderr",
     "output_type": "stream",
     "text": [
      "epoch 11 iter 58: train loss 0.10082. mean loss: 0.13527. lr 2.711683e-04: 100%|██████████| 59/59 [00:24<00:00,  2.40it/s]\n"
     ]
    },
    {
     "name": "stdout",
     "output_type": "stream",
     "text": [
      "test loss: 0.23083416053227016\n",
      "valid loss: 0.26096566766500473\n",
      "Warning: No built-in rules for language lv.\n",
      "Detokenizer Version $Revision: 4134 $\n",
      "Language: lv\n",
      "Warning: No built-in rules for language lv.\n",
      "Detokenizer Version $Revision: 4134 $\n",
      "Language: lv\n",
      "Warning: No built-in rules for language lv.\n",
      "Detokenizer Version $Revision: 4134 $\n",
      "Language: lv\n",
      "Input:            \"man šķiet, viņš ir miris\", es atbildēju\n",
      "Predicted output: \"I 's all, 'm.\" I said.\n",
      "Real output:      \"he 's dead I think,\" I said.\n",
      "BLEU: 10.455720686460992\n",
      "--------------------------------------------------\n"
     ]
    },
    {
     "name": "stderr",
     "output_type": "stream",
     "text": [
      "epoch 12 iter 58: train loss 0.15030. mean loss: 0.12179. lr 2.656296e-04: 100%|██████████| 59/59 [00:24<00:00,  2.41it/s]\n"
     ]
    },
    {
     "name": "stdout",
     "output_type": "stream",
     "text": [
      "test loss: 0.23501879402569362\n",
      "valid loss: 0.2747500166296959\n",
      "Warning: No built-in rules for language lv.\n",
      "Detokenizer Version $Revision: 4134 $\n",
      "Language: lv\n",
      "Warning: No built-in rules for language lv.\n",
      "Detokenizer Version $Revision: 4134 $\n",
      "Language: lv\n",
      "Warning: No built-in rules for language lv.\n",
      "Detokenizer Version $Revision: 4134 $\n",
      "Language: lv\n",
      "Input:            \"man jāiet\"\n",
      "Predicted output: \"I have to go.\"\n",
      "Real output:      \"I have to go.\"\n",
      "BLEU: 11.046511700730115\n",
      "--------------------------------------------------\n"
     ]
    },
    {
     "name": "stderr",
     "output_type": "stream",
     "text": [
      "epoch 13 iter 58: train loss 0.11091. mean loss: 0.10799. lr 2.596721e-04: 100%|██████████| 59/59 [00:24<00:00,  2.40it/s]\n"
     ]
    },
    {
     "name": "stdout",
     "output_type": "stream",
     "text": [
      "test loss: 0.24032043559210642\n",
      "valid loss: 0.289326798170805\n",
      "Warning: No built-in rules for language lv.\n",
      "Detokenizer Version $Revision: 4134 $\n",
      "Language: lv\n",
      "Warning: No built-in rules for language lv.\n",
      "Detokenizer Version $Revision: 4134 $\n",
      "Language: lv\n",
      "Warning: No built-in rules for language lv.\n",
      "Detokenizer Version $Revision: 4134 $\n",
      "Language: lv\n",
      "Input:            \"Vokere?\n",
      "Predicted output: \"where?\"\n",
      "Real output:      \"walker?\"\n",
      "BLEU: 11.465390226803855\n",
      "--------------------------------------------------\n"
     ]
    },
    {
     "name": "stderr",
     "output_type": "stream",
     "text": [
      "epoch 14 iter 58: train loss 0.09676. mean loss: 0.09615. lr 2.533173e-04: 100%|██████████| 59/59 [00:24<00:00,  2.38it/s]\n"
     ]
    },
    {
     "name": "stdout",
     "output_type": "stream",
     "text": [
      "test loss: 0.2445008967603956\n",
      "valid loss: 0.2894304543733597\n",
      "Warning: No built-in rules for language lv.\n",
      "Detokenizer Version $Revision: 4134 $\n",
      "Language: lv\n",
      "Warning: No built-in rules for language lv.\n",
      "Detokenizer Version $Revision: 4134 $\n",
      "Language: lv\n",
      "Warning: No built-in rules for language lv.\n",
      "Detokenizer Version $Revision: 4134 $\n",
      "Language: lv\n",
      "Input:            viņi jau bija aizvilkuši mani ceļa malā\n",
      "Predicted output: they had me to me road of. road..\n",
      "Real output:      they had me at the side of the road now.\n",
      "BLEU: 11.71953660701414\n",
      "--------------------------------------------------\n"
     ]
    },
    {
     "name": "stderr",
     "output_type": "stream",
     "text": [
      "epoch 15 iter 58: train loss 0.07340. mean loss: 0.08396. lr 2.465883e-04: 100%|██████████| 59/59 [00:24<00:00,  2.41it/s]\n"
     ]
    },
    {
     "name": "stdout",
     "output_type": "stream",
     "text": [
      "test loss: 0.2471235373190471\n",
      "valid loss: 0.2931816875934601\n",
      "Warning: No built-in rules for language lv.\n",
      "Detokenizer Version $Revision: 4134 $\n",
      "Language: lv\n",
      "Warning: No built-in rules for language lv.\n",
      "Detokenizer Version $Revision: 4134 $\n",
      "Language: lv\n",
      "Warning: No built-in rules for language lv.\n",
      "Detokenizer Version $Revision: 4134 $\n",
      "Language: lv\n",
      "Input:            \"gan pastāstīšu, ja kādreiz spēšu to visu aptvert\"\n",
      "Predicted output: \"think you if it out I can all it all. the time.\"\n",
      "Real output:      'Til tell you about it if I ever get it straight in my head. \"\n",
      "BLEU: 11.162792436952488\n",
      "--------------------------------------------------\n"
     ]
    },
    {
     "name": "stderr",
     "output_type": "stream",
     "text": [
      "epoch 16 iter 58: train loss 0.07375. mean loss: 0.07303. lr 2.395094e-04: 100%|██████████| 59/59 [00:24<00:00,  2.41it/s]\n"
     ]
    },
    {
     "name": "stdout",
     "output_type": "stream",
     "text": [
      "test loss: 0.25395666488579344\n",
      "valid loss: 0.3008826896548271\n",
      "Warning: No built-in rules for language lv.\n",
      "Detokenizer Version $Revision: 4134 $\n",
      "Language: lv\n",
      "Warning: No built-in rules for language lv.\n",
      "Detokenizer Version $Revision: 4134 $\n",
      "Language: lv\n",
      "Warning: No built-in rules for language lv.\n",
      "Detokenizer Version $Revision: 4134 $\n",
      "Language: lv\n",
      "Input:            otras tādas nav \"\n",
      "Predicted output: they are thought. bad. it. \"\n",
      "Real output:      you never saw a town like that. \"\n",
      "BLEU: 11.818511333538051\n",
      "--------------------------------------------------\n"
     ]
    },
    {
     "name": "stderr",
     "output_type": "stream",
     "text": [
      "epoch 17 iter 58: train loss 0.05511. mean loss: 0.06368. lr 2.321062e-04: 100%|██████████| 59/59 [00:24<00:00,  2.41it/s]\n"
     ]
    },
    {
     "name": "stdout",
     "output_type": "stream",
     "text": [
      "test loss: 0.25722826378686087\n",
      "valid loss: 0.28753380849957466\n",
      "Warning: No built-in rules for language lv.\n",
      "Detokenizer Version $Revision: 4134 $\n",
      "Language: lv\n",
      "Warning: No built-in rules for language lv.\n",
      "Detokenizer Version $Revision: 4134 $\n",
      "Language: lv\n",
      "Warning: No built-in rules for language lv.\n",
      "Detokenizer Version $Revision: 4134 $\n",
      "Language: lv\n",
      "Input:            \"tu taču man neaizliegsi?\n",
      "Predicted output: \"you won 't go it like go go darling??\"\n",
      "Real output:      \"you won 't say I can 't, will you?\"\n",
      "BLEU: 12.136221232044631\n",
      "--------------------------------------------------\n"
     ]
    },
    {
     "name": "stderr",
     "output_type": "stream",
     "text": [
      "epoch 18 iter 58: train loss 0.07081. mean loss: 0.05464. lr 2.244057e-04: 100%|██████████| 59/59 [00:24<00:00,  2.41it/s]\n"
     ]
    },
    {
     "name": "stdout",
     "output_type": "stream",
     "text": [
      "test loss: 0.26155525020190645\n",
      "valid loss: 0.3080053851008415\n",
      "Warning: No built-in rules for language lv.\n",
      "Detokenizer Version $Revision: 4134 $\n",
      "Language: lv\n",
      "Warning: No built-in rules for language lv.\n",
      "Detokenizer Version $Revision: 4134 $\n",
      "Language: lv\n",
      "Warning: No built-in rules for language lv.\n",
      "Detokenizer Version $Revision: 4134 $\n",
      "Language: lv\n",
      "Input:            \"kāpēc?\n",
      "Predicted output: \"why not?\"\n",
      "Real output:      \"why not?\"\n",
      "BLEU: 11.61481007563696\n",
      "--------------------------------------------------\n"
     ]
    },
    {
     "name": "stderr",
     "output_type": "stream",
     "text": [
      "epoch 19 iter 58: train loss 0.04246. mean loss: 0.04660. lr 2.164356e-04: 100%|██████████| 59/59 [00:24<00:00,  2.41it/s]\n"
     ]
    },
    {
     "name": "stdout",
     "output_type": "stream",
     "text": [
      "test loss: 0.2667830692870276\n",
      "valid loss: 0.3142243027687073\n",
      "Warning: No built-in rules for language lv.\n",
      "Detokenizer Version $Revision: 4134 $\n",
      "Language: lv\n",
      "Warning: No built-in rules for language lv.\n",
      "Detokenizer Version $Revision: 4134 $\n",
      "Language: lv\n",
      "Warning: No built-in rules for language lv.\n",
      "Detokenizer Version $Revision: 4134 $\n",
      "Language: lv\n",
      "Input:            \"ļoti\"\n",
      "Predicted output: \"very much.\"\n",
      "Real output:      \"very much.\"\n",
      "BLEU: 12.422963022264506\n",
      "--------------------------------------------------\n"
     ]
    },
    {
     "name": "stderr",
     "output_type": "stream",
     "text": [
      "epoch 20 iter 58: train loss 0.03464. mean loss: 0.03990. lr 2.082249e-04: 100%|██████████| 59/59 [00:24<00:00,  2.42it/s]\n"
     ]
    },
    {
     "name": "stdout",
     "output_type": "stream",
     "text": [
      "test loss: 0.274089229958398\n",
      "valid loss: 0.314512699842453\n",
      "Warning: No built-in rules for language lv.\n",
      "Detokenizer Version $Revision: 4134 $\n",
      "Language: lv\n",
      "Warning: No built-in rules for language lv.\n",
      "Detokenizer Version $Revision: 4134 $\n",
      "Language: lv\n",
      "Warning: No built-in rules for language lv.\n",
      "Detokenizer Version $Revision: 4134 $\n",
      "Language: lv\n",
      "Input:            tas bija garš, parasts dzelzceļa tilts pāri gandrīz izsusējušai upes gultnei\n",
      "Predicted output: the was a bridge high bridge bridge over the was low muddy river bridge. bridge with\n",
      "Real output:      it was a long plain iron bridge across what was usually a dry river-bed.\n",
      "BLEU: 12.143101782850406\n",
      "--------------------------------------------------\n"
     ]
    },
    {
     "name": "stderr",
     "output_type": "stream",
     "text": [
      "epoch 21 iter 58: train loss 0.03793. mean loss: 0.03380. lr 1.998033e-04: 100%|██████████| 59/59 [00:24<00:00,  2.41it/s]\n"
     ]
    },
    {
     "name": "stdout",
     "output_type": "stream",
     "text": [
      "test loss: 0.2783955122743334\n",
      "valid loss: 0.3160559609532356\n",
      "Warning: No built-in rules for language lv.\n",
      "Detokenizer Version $Revision: 4134 $\n",
      "Language: lv\n",
      "Warning: No built-in rules for language lv.\n",
      "Detokenizer Version $Revision: 4134 $\n",
      "Language: lv\n",
      "Warning: No built-in rules for language lv.\n",
      "Detokenizer Version $Revision: 4134 $\n",
      "Language: lv\n",
      "Input:            \"vai tu, Barto, nevari pameklēt tomātu mērci?\n",
      "Predicted output: \"will 't you go the ddyou,\"? \"\n",
      "Real output:      \"couldn 't you find tomato sauce, Barto?\"\n",
      "BLEU: 11.741626302455982\n",
      "--------------------------------------------------\n"
     ]
    },
    {
     "name": "stderr",
     "output_type": "stream",
     "text": [
      "epoch 22 iter 58: train loss 0.02392. mean loss: 0.02920. lr 1.912013e-04: 100%|██████████| 59/59 [00:24<00:00,  2.39it/s]\n"
     ]
    },
    {
     "name": "stdout",
     "output_type": "stream",
     "text": [
      "test loss: 0.28067008938108173\n",
      "valid loss: 0.32692087441682816\n",
      "Warning: No built-in rules for language lv.\n",
      "Detokenizer Version $Revision: 4134 $\n",
      "Language: lv\n",
      "Warning: No built-in rules for language lv.\n",
      "Detokenizer Version $Revision: 4134 $\n",
      "Language: lv\n",
      "Warning: No built-in rules for language lv.\n",
      "Detokenizer Version $Revision: 4134 $\n",
      "Language: lv\n",
      "Input:            \"viens divi\" kuņģis beigts, un rokas sāk trīcēt\n",
      "Predicted output: \"in talking ve and drink, one you lie-os'\"\n",
      "Real output:      \"it ruins the stomach and makes the hand shake.\n",
      "BLEU: 11.986232342234029\n",
      "--------------------------------------------------\n"
     ]
    },
    {
     "name": "stderr",
     "output_type": "stream",
     "text": [
      "epoch 23 iter 58: train loss 0.02439. mean loss: 0.02484. lr 1.824500e-04: 100%|██████████| 59/59 [00:24<00:00,  2.36it/s]\n"
     ]
    },
    {
     "name": "stdout",
     "output_type": "stream",
     "text": [
      "test loss: 0.2844448813370296\n",
      "valid loss: 0.32922423630952835\n",
      "Warning: No built-in rules for language lv.\n",
      "Detokenizer Version $Revision: 4134 $\n",
      "Language: lv\n",
      "Warning: No built-in rules for language lv.\n",
      "Detokenizer Version $Revision: 4134 $\n",
      "Language: lv\n",
      "Warning: No built-in rules for language lv.\n",
      "Detokenizer Version $Revision: 4134 $\n",
      "Language: lv\n",
      "Input:            \"nē, signorino\n",
      "Predicted output: \"no, signorino.\n",
      "Real output:      \"no, signorino.\n",
      "BLEU: 11.896803446746043\n",
      "--------------------------------------------------\n"
     ]
    },
    {
     "name": "stderr",
     "output_type": "stream",
     "text": [
      "epoch 24 iter 58: train loss 0.01876. mean loss: 0.02127. lr 1.735812e-04: 100%|██████████| 59/59 [00:24<00:00,  2.39it/s]\n"
     ]
    },
    {
     "name": "stdout",
     "output_type": "stream",
     "text": [
      "test loss: 0.2866666870457785\n",
      "valid loss: 0.3451358675956726\n",
      "Warning: No built-in rules for language lv.\n",
      "Detokenizer Version $Revision: 4134 $\n",
      "Language: lv\n",
      "Warning: No built-in rules for language lv.\n",
      "Detokenizer Version $Revision: 4134 $\n",
      "Language: lv\n",
      "Warning: No built-in rules for language lv.\n",
      "Detokenizer Version $Revision: 4134 $\n",
      "Language: lv\n",
      "Input:            iemesls meklējams daudz dziļāk\n",
      "Predicted output: besides were a of be, a pu@@\n",
      "Real output:      there was more to it than that.\n",
      "BLEU: 12.23126140872842\n",
      "--------------------------------------------------\n"
     ]
    },
    {
     "name": "stderr",
     "output_type": "stream",
     "text": [
      "epoch 25 iter 58: train loss 0.01861. mean loss: 0.01845. lr 1.646270e-04: 100%|██████████| 59/59 [00:24<00:00,  2.38it/s]\n"
     ]
    },
    {
     "name": "stdout",
     "output_type": "stream",
     "text": [
      "test loss: 0.2916233113833836\n",
      "valid loss: 0.33983520418405533\n",
      "Warning: No built-in rules for language lv.\n",
      "Detokenizer Version $Revision: 4134 $\n",
      "Language: lv\n",
      "Warning: No built-in rules for language lv.\n",
      "Detokenizer Version $Revision: 4134 $\n",
      "Language: lv\n",
      "Warning: No built-in rules for language lv.\n",
      "Detokenizer Version $Revision: 4134 $\n",
      "Language: lv\n",
      "Input:            viņš paskatījās uz mani, iegāja mājā un iznāca bez pulksteņa\n",
      "Predicted output: he looked at me in looking into the farmhouse and saw out across hat farmhouse over\n",
      "Real output:      he looked at me, went in the house and came back without the clock.\n",
      "BLEU: 12.477719981332411\n",
      "--------------------------------------------------\n"
     ]
    },
    {
     "name": "stderr",
     "output_type": "stream",
     "text": [
      "epoch 26 iter 58: train loss 0.01991. mean loss: 0.01592. lr 1.556198e-04: 100%|██████████| 59/59 [00:24<00:00,  2.42it/s]\n"
     ]
    },
    {
     "name": "stdout",
     "output_type": "stream",
     "text": [
      "test loss: 0.2906916780131204\n",
      "valid loss: 0.3382393792271614\n",
      "Warning: No built-in rules for language lv.\n",
      "Detokenizer Version $Revision: 4134 $\n",
      "Language: lv\n",
      "Warning: No built-in rules for language lv.\n",
      "Detokenizer Version $Revision: 4134 $\n",
      "Language: lv\n",
      "Warning: No built-in rules for language lv.\n",
      "Detokenizer Version $Revision: 4134 $\n",
      "Language: lv\n",
      "Input:            \"jūs noteikti nožēlosiet, ka aizbraucāt no Lokarno\", otrs ierēdnis noteica\n",
      "Predicted output: \"you 'll you you ought get you you you,\" the first way said.\n",
      "Real output:      \"I believe that you will regret leaving Locarno,\" the second official said.\n",
      "BLEU: 12.454071599584758\n",
      "--------------------------------------------------\n"
     ]
    },
    {
     "name": "stderr",
     "output_type": "stream",
     "text": [
      "epoch 27 iter 58: train loss 0.01540. mean loss: 0.01401. lr 1.465923e-04: 100%|██████████| 59/59 [00:24<00:00,  2.39it/s]\n"
     ]
    },
    {
     "name": "stdout",
     "output_type": "stream",
     "text": [
      "test loss: 0.2951467675822122\n",
      "valid loss: 0.3428318277001381\n",
      "Warning: No built-in rules for language lv.\n",
      "Detokenizer Version $Revision: 4134 $\n",
      "Language: lv\n",
      "Warning: No built-in rules for language lv.\n",
      "Detokenizer Version $Revision: 4134 $\n",
      "Language: lv\n",
      "Warning: No built-in rules for language lv.\n",
      "Detokenizer Version $Revision: 4134 $\n",
      "Language: lv\n",
      "Input:            āda bija tumša un gluda un spīdēja kā nodilušiem segliem\n",
      "Predicted output: I legs was cool and cool se under though yed off.\n",
      "Real output:      the leather was dark and oiled smooth as a used saddle.\n",
      "BLEU: 12.038938763985424\n",
      "--------------------------------------------------\n"
     ]
    },
    {
     "name": "stderr",
     "output_type": "stream",
     "text": [
      "epoch 28 iter 58: train loss 0.01208. mean loss: 0.01242. lr 1.375771e-04: 100%|██████████| 59/59 [00:24<00:00,  2.40it/s]\n"
     ]
    },
    {
     "name": "stdout",
     "output_type": "stream",
     "text": [
      "test loss: 0.29856390186718534\n",
      "valid loss: 0.3354783281683922\n",
      "Warning: No built-in rules for language lv.\n",
      "Detokenizer Version $Revision: 4134 $\n",
      "Language: lv\n",
      "Warning: No built-in rules for language lv.\n",
      "Detokenizer Version $Revision: 4134 $\n",
      "Language: lv\n",
      "Warning: No built-in rules for language lv.\n",
      "Detokenizer Version $Revision: 4134 $\n",
      "Language: lv\n",
      "Input:            es iznācu ārā pie ratiem un samaksāju ormanim, un mēs ar Ketrinu devāmies iekšā\n",
      "Predicted output: I I paid home and the driver and then out driver, then paid said paid asked on bed.\n",
      "Real output:      then I went out to the carriage, paid the driver, and Catherine and I walked in together.\n",
      "BLEU: 12.390132797624394\n",
      "--------------------------------------------------\n"
     ]
    },
    {
     "name": "stderr",
     "output_type": "stream",
     "text": [
      "epoch 29 iter 58: train loss 0.01317. mean loss: 0.01103. lr 1.286068e-04: 100%|██████████| 59/59 [00:25<00:00,  2.34it/s]\n"
     ]
    },
    {
     "name": "stdout",
     "output_type": "stream",
     "text": [
      "test loss: 0.3014840568814959\n",
      "valid loss: 0.34842967987060547\n",
      "Warning: No built-in rules for language lv.\n",
      "Detokenizer Version $Revision: 4134 $\n",
      "Language: lv\n",
      "Warning: No built-in rules for language lv.\n",
      "Detokenizer Version $Revision: 4134 $\n",
      "Language: lv\n",
      "Warning: No built-in rules for language lv.\n",
      "Detokenizer Version $Revision: 4134 $\n",
      "Language: lv\n",
      "Input:            \"es viņu ienesu\", garais anglis teica itāliski\n",
      "Predicted output: \"I 'll Italian him in Italian\" he English said.. Italian.\n",
      "Real output:      \"I have brought him in,\" the tall Englishman said in Italian.\n",
      "BLEU: 12.278799332177343\n",
      "--------------------------------------------------\n"
     ]
    },
    {
     "name": "stderr",
     "output_type": "stream",
     "text": [
      "epoch 30 iter 58: train loss 0.00966. mean loss: 0.00986. lr 1.197141e-04: 100%|██████████| 59/59 [00:24<00:00,  2.40it/s]\n"
     ]
    },
    {
     "name": "stdout",
     "output_type": "stream",
     "text": [
      "test loss: 0.30299483452524456\n",
      "valid loss: 0.3500536009669304\n",
      "Warning: No built-in rules for language lv.\n",
      "Detokenizer Version $Revision: 4134 $\n",
      "Language: lv\n",
      "Warning: No built-in rules for language lv.\n",
      "Detokenizer Version $Revision: 4134 $\n",
      "Language: lv\n",
      "Warning: No built-in rules for language lv.\n",
      "Detokenizer Version $Revision: 4134 $\n",
      "Language: lv\n",
      "Input:            Krouvels aizgāja nopirkt biļetes, un mēs pa to laiku skatījāmies, kā žokeji vēlreiz izmeta apli zem kokiem un tad pa skrejceļu rikšoja uz pagriezienu \"uz starta vietu\n",
      "Predicted output: Crowell and out the walked a we on we found the town filled out the stone and then came in a the street in the lake. had inched ck. of the the street. it horses. filled take filled\n",
      "Real output:      Crowell went over and bought the tickets while we watched the jockeys ride around once more and then go out under the trees to the track and gallop slowly up to the turn where the start was to be.\n",
      "BLEU: 12.748963839868063\n",
      "--------------------------------------------------\n"
     ]
    },
    {
     "name": "stderr",
     "output_type": "stream",
     "text": [
      "epoch 31 iter 58: train loss 0.00961. mean loss: 0.00869. lr 1.109311e-04: 100%|██████████| 59/59 [00:24<00:00,  2.42it/s]\n"
     ]
    },
    {
     "name": "stdout",
     "output_type": "stream",
     "text": [
      "test loss: 0.3042469492980412\n",
      "valid loss: 0.34974631667137146\n",
      "Warning: No built-in rules for language lv.\n",
      "Detokenizer Version $Revision: 4134 $\n",
      "Language: lv\n",
      "Warning: No built-in rules for language lv.\n",
      "Detokenizer Version $Revision: 4134 $\n",
      "Language: lv\n",
      "Warning: No built-in rules for language lv.\n",
      "Detokenizer Version $Revision: 4134 $\n",
      "Language: lv\n",
      "Input:            \"es zinu\n",
      "Predicted output: \"I know it\n",
      "Real output:      \"I know.\n",
      "BLEU: 12.381902715895444\n",
      "--------------------------------------------------\n"
     ]
    },
    {
     "name": "stderr",
     "output_type": "stream",
     "text": [
      "epoch 32 iter 58: train loss 0.01252. mean loss: 0.00797. lr 1.022896e-04: 100%|██████████| 59/59 [00:24<00:00,  2.42it/s]\n"
     ]
    },
    {
     "name": "stdout",
     "output_type": "stream",
     "text": [
      "test loss: 0.3102730597768511\n",
      "valid loss: 0.3605722412467003\n",
      "Warning: No built-in rules for language lv.\n",
      "Detokenizer Version $Revision: 4134 $\n",
      "Language: lv\n",
      "Warning: No built-in rules for language lv.\n",
      "Detokenizer Version $Revision: 4134 $\n",
      "Language: lv\n",
      "Warning: No built-in rules for language lv.\n",
      "Detokenizer Version $Revision: 4134 $\n",
      "Language: lv\n",
      "Input:            āda bija tumša un gluda un spīdēja kā nodilušiem segliem\n",
      "Predicted output: they legs, cool and cool ly under though yed under.\n",
      "Real output:      the leather was dark and oiled smooth as a used saddle.\n",
      "BLEU: 12.490617765868494\n",
      "--------------------------------------------------\n"
     ]
    },
    {
     "name": "stderr",
     "output_type": "stream",
     "text": [
      "epoch 33 iter 58: train loss 0.00639. mean loss: 0.00702. lr 9.382093e-05: 100%|██████████| 59/59 [00:24<00:00,  2.37it/s]\n"
     ]
    },
    {
     "name": "stdout",
     "output_type": "stream",
     "text": [
      "test loss: 0.31275440965379986\n",
      "valid loss: 0.36863747984170914\n",
      "Warning: No built-in rules for language lv.\n",
      "Detokenizer Version $Revision: 4134 $\n",
      "Language: lv\n",
      "Warning: No built-in rules for language lv.\n",
      "Detokenizer Version $Revision: 4134 $\n",
      "Language: lv\n",
      "Warning: No built-in rules for language lv.\n",
      "Detokenizer Version $Revision: 4134 $\n",
      "Language: lv\n",
      "Input:            XXI\n",
      "Predicted output: CHAPTER XXI\n",
      "Real output:      CHAPTER XXI\n",
      "BLEU: 12.516917678498261\n",
      "--------------------------------------------------\n"
     ]
    },
    {
     "name": "stderr",
     "output_type": "stream",
     "text": [
      "epoch 34 iter 58: train loss 0.00607. mean loss: 0.00650. lr 8.555575e-05: 100%|██████████| 59/59 [00:24<00:00,  2.37it/s]\n"
     ]
    },
    {
     "name": "stdout",
     "output_type": "stream",
     "text": [
      "test loss: 0.31336547221456257\n",
      "valid loss: 0.3653646409511566\n",
      "Warning: No built-in rules for language lv.\n",
      "Detokenizer Version $Revision: 4134 $\n",
      "Language: lv\n",
      "Warning: No built-in rules for language lv.\n",
      "Detokenizer Version $Revision: 4134 $\n",
      "Language: lv\n",
      "Warning: No built-in rules for language lv.\n",
      "Detokenizer Version $Revision: 4134 $\n",
      "Language: lv\n",
      "Input:            tā bija mis Fērgusone\n",
      "Predicted output: Miss was Miss Ferguson.\n",
      "Real output:      it was Miss Ferguson.\n",
      "BLEU: 12.420487182572431\n",
      "--------------------------------------------------\n"
     ]
    },
    {
     "name": "stderr",
     "output_type": "stream",
     "text": [
      "epoch 35 iter 58: train loss 0.00541. mean loss: 0.00580. lr 7.752400e-05: 100%|██████████| 59/59 [00:24<00:00,  2.38it/s]\n"
     ]
    },
    {
     "name": "stdout",
     "output_type": "stream",
     "text": [
      "test loss: 0.3149009644985199\n",
      "valid loss: 0.36483749002218246\n",
      "Warning: No built-in rules for language lv.\n",
      "Detokenizer Version $Revision: 4134 $\n",
      "Language: lv\n",
      "Warning: No built-in rules for language lv.\n",
      "Detokenizer Version $Revision: 4134 $\n",
      "Language: lv\n",
      "Warning: No built-in rules for language lv.\n",
      "Detokenizer Version $Revision: 4134 $\n",
      "Language: lv\n",
      "Input:            \"Neej\", es teicu\n",
      "Predicted output: \"don 't,,\" I said.\n",
      "Real output:      \"don 't go,\" I said.\n",
      "BLEU: 12.883255954232322\n",
      "--------------------------------------------------\n"
     ]
    },
    {
     "name": "stderr",
     "output_type": "stream",
     "text": [
      "epoch 36 iter 58: train loss 0.00491. mean loss: 0.00521. lr 6.975478e-05: 100%|██████████| 59/59 [00:24<00:00,  2.36it/s]\n"
     ]
    },
    {
     "name": "stdout",
     "output_type": "stream",
     "text": [
      "test loss: 0.3173705850328718\n",
      "valid loss: 0.39277658611536026\n",
      "Warning: No built-in rules for language lv.\n",
      "Detokenizer Version $Revision: 4134 $\n",
      "Language: lv\n",
      "Warning: No built-in rules for language lv.\n",
      "Detokenizer Version $Revision: 4134 $\n",
      "Language: lv\n",
      "Warning: No built-in rules for language lv.\n",
      "Detokenizer Version $Revision: 4134 $\n",
      "Language: lv\n",
      "Input:            tā nav tikai tukša komēdija \"\n",
      "Predicted output: it was not if little hurry if \"\n",
      "Real output:      it is not a dirty joke. \"\n",
      "BLEU: 12.634442699315253\n",
      "--------------------------------------------------\n"
     ]
    },
    {
     "name": "stderr",
     "output_type": "stream",
     "text": [
      "epoch 37 iter 58: train loss 0.00388. mean loss: 0.00473. lr 6.227623e-05: 100%|██████████| 59/59 [00:24<00:00,  2.38it/s]\n"
     ]
    },
    {
     "name": "stdout",
     "output_type": "stream",
     "text": [
      "test loss: 0.31824112789971487\n",
      "valid loss: 0.35955560952425003\n",
      "Warning: No built-in rules for language lv.\n",
      "Detokenizer Version $Revision: 4134 $\n",
      "Language: lv\n",
      "Warning: No built-in rules for language lv.\n",
      "Detokenizer Version $Revision: 4134 $\n",
      "Language: lv\n",
      "Warning: No built-in rules for language lv.\n",
      "Detokenizer Version $Revision: 4134 $\n",
      "Language: lv\n",
      "Input:            gribu, lai tev būtu laimīga dzīve\n",
      "Predicted output: I want you to have a life life.\n",
      "Real output:      I want you to have a fine life.\n",
      "BLEU: 12.72289176422439\n",
      "--------------------------------------------------\n"
     ]
    },
    {
     "name": "stderr",
     "output_type": "stream",
     "text": [
      "epoch 38 iter 58: train loss 0.00357. mean loss: 0.00430. lr 5.511544e-05: 100%|██████████| 59/59 [00:24<00:00,  2.42it/s]\n"
     ]
    },
    {
     "name": "stdout",
     "output_type": "stream",
     "text": [
      "test loss: 0.3202820675713675\n",
      "valid loss: 0.3781061992049217\n",
      "Warning: No built-in rules for language lv.\n",
      "Detokenizer Version $Revision: 4134 $\n",
      "Language: lv\n",
      "Warning: No built-in rules for language lv.\n",
      "Detokenizer Version $Revision: 4134 $\n",
      "Language: lv\n",
      "Warning: No built-in rules for language lv.\n",
      "Detokenizer Version $Revision: 4134 $\n",
      "Language: lv\n",
      "Input:            \"nē\", mācītājs sacīja\n",
      "Predicted output: \"no,\" said the priest.\n",
      "Real output:      \"no,\" said the priest.\n",
      "BLEU: 12.449218176368579\n",
      "--------------------------------------------------\n"
     ]
    },
    {
     "name": "stderr",
     "output_type": "stream",
     "text": [
      "epoch 39 iter 58: train loss 0.00385. mean loss: 0.00405. lr 4.829835e-05: 100%|██████████| 59/59 [00:24<00:00,  2.38it/s]\n"
     ]
    },
    {
     "name": "stdout",
     "output_type": "stream",
     "text": [
      "test loss: 0.3210890591144562\n",
      "valid loss: 0.3783748000860214\n",
      "Warning: No built-in rules for language lv.\n",
      "Detokenizer Version $Revision: 4134 $\n",
      "Language: lv\n",
      "Warning: No built-in rules for language lv.\n",
      "Detokenizer Version $Revision: 4134 $\n",
      "Language: lv\n",
      "Warning: No built-in rules for language lv.\n",
      "Detokenizer Version $Revision: 4134 $\n",
      "Language: lv\n",
      "Input:            \"mēs paliksim, kamēr paēdīsim pusdienas\", Ketrina sacīja\n",
      "Predicted output: \"we 'll have here we our,\" Catherine said.\n",
      "Real output:      \"we 'll stay till after dinner,\" Catherine said.\n",
      "BLEU: 12.742104311233936\n",
      "--------------------------------------------------\n"
     ]
    },
    {
     "name": "stderr",
     "output_type": "stream",
     "text": [
      "epoch 40 iter 58: train loss 0.00573. mean loss: 0.00371. lr 4.184965e-05: 100%|██████████| 59/59 [00:24<00:00,  2.38it/s]\n"
     ]
    },
    {
     "name": "stdout",
     "output_type": "stream",
     "text": [
      "test loss: 0.32268169948032926\n",
      "valid loss: 0.3727636858820915\n",
      "Warning: No built-in rules for language lv.\n",
      "Detokenizer Version $Revision: 4134 $\n",
      "Language: lv\n",
      "Warning: No built-in rules for language lv.\n",
      "Detokenizer Version $Revision: 4134 $\n",
      "Language: lv\n",
      "Warning: No built-in rules for language lv.\n",
      "Detokenizer Version $Revision: 4134 $\n",
      "Language: lv\n",
      "Input:            pa abām viņas saklāja gultu un mani nemaz necēla ārā\n",
      "Predicted output: then of did me bed from me and the between\n",
      "Real output:      together they made the bed with me in it.\n",
      "BLEU: 12.867919933545334\n",
      "--------------------------------------------------\n"
     ]
    },
    {
     "name": "stderr",
     "output_type": "stream",
     "text": [
      "epoch 41 iter 58: train loss 0.00389. mean loss: 0.00339. lr 3.579270e-05: 100%|██████████| 59/59 [00:24<00:00,  2.40it/s]\n"
     ]
    },
    {
     "name": "stdout",
     "output_type": "stream",
     "text": [
      "test loss: 0.32427997248513357\n",
      "valid loss: 0.3830628916621208\n",
      "Warning: No built-in rules for language lv.\n",
      "Detokenizer Version $Revision: 4134 $\n",
      "Language: lv\n",
      "Warning: No built-in rules for language lv.\n",
      "Detokenizer Version $Revision: 4134 $\n",
      "Language: lv\n",
      "Warning: No built-in rules for language lv.\n",
      "Detokenizer Version $Revision: 4134 $\n",
      "Language: lv\n",
      "Input:            \"vai jums patīk Itālija?\n",
      "Predicted output: \"do like??\"\n",
      "Real output:      \"you love Italy?\"\n",
      "BLEU: 12.734260160996447\n",
      "--------------------------------------------------\n"
     ]
    },
    {
     "name": "stderr",
     "output_type": "stream",
     "text": [
      "epoch 42 iter 58: train loss 0.00359. mean loss: 0.00321. lr 3.014944e-05: 100%|██████████| 59/59 [00:24<00:00,  2.40it/s]\n"
     ]
    },
    {
     "name": "stdout",
     "output_type": "stream",
     "text": [
      "test loss: 0.32374324968882967\n",
      "valid loss: 0.3854171633720398\n",
      "Warning: No built-in rules for language lv.\n",
      "Detokenizer Version $Revision: 4134 $\n",
      "Language: lv\n",
      "Warning: No built-in rules for language lv.\n",
      "Detokenizer Version $Revision: 4134 $\n",
      "Language: lv\n",
      "Warning: No built-in rules for language lv.\n",
      "Detokenizer Version $Revision: 4134 $\n",
      "Language: lv\n",
      "Input:            \"Spekulanti iztirgo\"\n",
      "Predicted output: \"Abwhole ws p-away li, out..\"\n",
      "Real output:      \"the dogfish are selling it somewhere else.\"\n",
      "BLEU: 12.53965454069016\n",
      "--------------------------------------------------\n"
     ]
    },
    {
     "name": "stderr",
     "output_type": "stream",
     "text": [
      "epoch 43 iter 58: train loss 0.00389. mean loss: 0.00314. lr 3.000000e-05: 100%|██████████| 59/59 [00:24<00:00,  2.40it/s]\n"
     ]
    },
    {
     "name": "stdout",
     "output_type": "stream",
     "text": [
      "test loss: 0.3238311197076525\n",
      "valid loss: 0.3782701790332794\n",
      "Warning: No built-in rules for language lv.\n",
      "Detokenizer Version $Revision: 4134 $\n",
      "Language: lv\n",
      "Warning: No built-in rules for language lv.\n",
      "Detokenizer Version $Revision: 4134 $\n",
      "Language: lv\n",
      "Warning: No built-in rules for language lv.\n",
      "Detokenizer Version $Revision: 4134 $\n",
      "Language: lv\n",
      "Input:            es teicu\n",
      "Predicted output: \"get ho,,\" I said to\n",
      "Real output:      \"ho ho ho,\" I said.\n",
      "BLEU: 12.60282382514838\n",
      "--------------------------------------------------\n"
     ]
    },
    {
     "name": "stderr",
     "output_type": "stream",
     "text": [
      "epoch 44 iter 58: train loss 0.00172. mean loss: 0.00292. lr 3.000000e-05: 100%|██████████| 59/59 [00:24<00:00,  2.40it/s]\n"
     ]
    },
    {
     "name": "stdout",
     "output_type": "stream",
     "text": [
      "test loss: 0.3237475667681013\n",
      "valid loss: 0.3740032836794853\n",
      "Warning: No built-in rules for language lv.\n",
      "Detokenizer Version $Revision: 4134 $\n",
      "Language: lv\n",
      "Warning: No built-in rules for language lv.\n",
      "Detokenizer Version $Revision: 4134 $\n",
      "Language: lv\n",
      "Warning: No built-in rules for language lv.\n",
      "Detokenizer Version $Revision: 4134 $\n",
      "Language: lv\n",
      "Input:            \"tas aiz nevaļas\"\n",
      "Predicted output: \"it isn stopped just hard.\"\n",
      "Real output:      \"we 've been very busy.\"\n",
      "BLEU: 12.78271663974143\n",
      "--------------------------------------------------\n"
     ]
    },
    {
     "name": "stderr",
     "output_type": "stream",
     "text": [
      "epoch 45 iter 58: train loss 0.00345. mean loss: 0.00279. lr 3.000000e-05: 100%|██████████| 59/59 [00:24<00:00,  2.38it/s]\n"
     ]
    },
    {
     "name": "stdout",
     "output_type": "stream",
     "text": [
      "test loss: 0.3239204117230007\n",
      "valid loss: 0.36598773300647736\n",
      "Warning: No built-in rules for language lv.\n",
      "Detokenizer Version $Revision: 4134 $\n",
      "Language: lv\n",
      "Warning: No built-in rules for language lv.\n",
      "Detokenizer Version $Revision: 4134 $\n",
      "Language: lv\n",
      "Warning: No built-in rules for language lv.\n",
      "Detokenizer Version $Revision: 4134 $\n",
      "Language: lv\n",
      "Input:            diez vai viņi ticēja jel vienam manam vārdam; nodomāju, cik tas viss muļķīgi, tikpat kā tiesā\n",
      "Predicted output: I thought not see out had off of joke of God bandages of I was I was better. that was better me joke. book.\n",
      "Real output:      I do not think they believed a word of the story and I thought it was silly but it was like a law-court.\n",
      "BLEU: 12.580734010286683\n",
      "--------------------------------------------------\n"
     ]
    },
    {
     "name": "stderr",
     "output_type": "stream",
     "text": [
      "epoch 46 iter 58: train loss 0.00227. mean loss: 0.00277. lr 3.000000e-05: 100%|██████████| 59/59 [00:24<00:00,  2.40it/s]\n"
     ]
    },
    {
     "name": "stdout",
     "output_type": "stream",
     "text": [
      "test loss: 0.3258011298520224\n",
      "valid loss: 0.38543207198381424\n",
      "Warning: No built-in rules for language lv.\n",
      "Detokenizer Version $Revision: 4134 $\n",
      "Language: lv\n",
      "Warning: No built-in rules for language lv.\n",
      "Detokenizer Version $Revision: 4134 $\n",
      "Language: lv\n",
      "Warning: No built-in rules for language lv.\n",
      "Detokenizer Version $Revision: 4134 $\n",
      "Language: lv\n",
      "Input:            \"Ticiāns\", Ketrina teica\n",
      "Predicted output: \"you-\" Catherine said.\n",
      "Real output:      \"Titian,\" Catherine said.\n",
      "BLEU: 12.324945480121613\n",
      "--------------------------------------------------\n"
     ]
    },
    {
     "name": "stderr",
     "output_type": "stream",
     "text": [
      "epoch 47 iter 58: train loss 0.00264. mean loss: 0.00267. lr 3.000000e-05: 100%|██████████| 59/59 [00:25<00:00,  2.35it/s]\n"
     ]
    },
    {
     "name": "stdout",
     "output_type": "stream",
     "text": [
      "test loss: 0.327461234160832\n",
      "valid loss: 0.3738481402397156\n",
      "Warning: No built-in rules for language lv.\n",
      "Detokenizer Version $Revision: 4134 $\n",
      "Language: lv\n",
      "Warning: No built-in rules for language lv.\n",
      "Detokenizer Version $Revision: 4134 $\n",
      "Language: lv\n",
      "Warning: No built-in rules for language lv.\n",
      "Detokenizer Version $Revision: 4134 $\n",
      "Language: lv\n",
      "Input:            mazā istaba ar krāsni kaktā bija mūsu dzīvojamā istaba\n",
      "Predicted output: the snow room was the room, wet room rious ce room.\n",
      "Real output:      the small room with the stove was our livingroom.\n",
      "BLEU: 12.754959031943978\n",
      "--------------------------------------------------\n"
     ]
    },
    {
     "name": "stderr",
     "output_type": "stream",
     "text": [
      "epoch 48 iter 58: train loss 0.00373. mean loss: 0.00258. lr 3.000000e-05: 100%|██████████| 59/59 [00:24<00:00,  2.37it/s]\n"
     ]
    },
    {
     "name": "stdout",
     "output_type": "stream",
     "text": [
      "test loss: 0.32687263403620037\n",
      "valid loss: 0.3718154579401016\n",
      "Warning: No built-in rules for language lv.\n",
      "Detokenizer Version $Revision: 4134 $\n",
      "Language: lv\n",
      "Warning: No built-in rules for language lv.\n",
      "Detokenizer Version $Revision: 4134 $\n",
      "Language: lv\n",
      "Warning: No built-in rules for language lv.\n",
      "Detokenizer Version $Revision: 4134 $\n",
      "Language: lv\n",
      "Input:            tur ir karsts un pilns ar blusām\n",
      "Predicted output: it is a in a place the ayoung\n",
      "Real output:      it is hot and full of fleas.\n",
      "BLEU: 12.943079994690418\n",
      "--------------------------------------------------\n"
     ]
    },
    {
     "name": "stderr",
     "output_type": "stream",
     "text": [
      "epoch 49 iter 58: train loss 0.00292. mean loss: 0.00260. lr 3.000000e-05: 100%|██████████| 59/59 [00:24<00:00,  2.42it/s]\n"
     ]
    },
    {
     "name": "stdout",
     "output_type": "stream",
     "text": [
      "test loss: 0.32840608273233685\n",
      "valid loss: 0.3885938450694084\n",
      "Warning: No built-in rules for language lv.\n",
      "Detokenizer Version $Revision: 4134 $\n",
      "Language: lv\n",
      "Warning: No built-in rules for language lv.\n",
      "Detokenizer Version $Revision: 4134 $\n",
      "Language: lv\n",
      "Warning: No built-in rules for language lv.\n",
      "Detokenizer Version $Revision: 4134 $\n",
      "Language: lv\n",
      "Input:            kā parasti notiek\n",
      "Predicted output: but they gave 't much. the...\n",
      "Real output:      but I wasn 't crazy in any complicated manner.\n",
      "BLEU: 12.617394124029925\n",
      "--------------------------------------------------\n"
     ]
    },
    {
     "name": "stderr",
     "output_type": "stream",
     "text": [
      "epoch 50 iter 58: train loss 0.00236. mean loss: 0.00255. lr 3.000000e-05: 100%|██████████| 59/59 [00:24<00:00,  2.37it/s]\n"
     ]
    },
    {
     "name": "stdout",
     "output_type": "stream",
     "text": [
      "test loss: 0.3279318852084024\n",
      "valid loss: 0.3806307688355446\n",
      "Warning: No built-in rules for language lv.\n",
      "Detokenizer Version $Revision: 4134 $\n",
      "Language: lv\n",
      "Warning: No built-in rules for language lv.\n",
      "Detokenizer Version $Revision: 4134 $\n",
      "Language: lv\n",
      "Warning: No built-in rules for language lv.\n",
      "Detokenizer Version $Revision: 4134 $\n",
      "Language: lv\n",
      "Input:            \"kāds tu esi auša\"\n",
      "Predicted output: \"you 're a a lovely..\"\n",
      "Real output:      \"you 're such a silly boy.\"\n",
      "BLEU: 12.742190624795796\n",
      "--------------------------------------------------\n"
     ]
    },
    {
     "name": "stderr",
     "output_type": "stream",
     "text": [
      "epoch 51 iter 58: train loss 0.00215. mean loss: 0.00244. lr 3.000000e-05: 100%|██████████| 59/59 [00:24<00:00,  2.41it/s]\n"
     ]
    },
    {
     "name": "stdout",
     "output_type": "stream",
     "text": [
      "test loss: 0.3293650320598057\n",
      "valid loss: 0.3944753259420395\n",
      "Warning: No built-in rules for language lv.\n",
      "Detokenizer Version $Revision: 4134 $\n",
      "Language: lv\n",
      "Warning: No built-in rules for language lv.\n",
      "Detokenizer Version $Revision: 4134 $\n",
      "Language: lv\n",
      "Warning: No built-in rules for language lv.\n",
      "Detokenizer Version $Revision: 4134 $\n",
      "Language: lv\n",
      "Input:            uguns un dūmi, bet iekšā tukšpadsmit\n",
      "Predicted output: the stopped in soon of they. of\n",
      "Real output:      all fire and smoke and nothing inside.\n",
      "BLEU: 12.770160427109852\n",
      "--------------------------------------------------\n"
     ]
    },
    {
     "name": "stderr",
     "output_type": "stream",
     "text": [
      "epoch 52 iter 58: train loss 0.00299. mean loss: 0.00240. lr 3.000000e-05: 100%|██████████| 59/59 [00:24<00:00,  2.40it/s]\n"
     ]
    },
    {
     "name": "stdout",
     "output_type": "stream",
     "text": [
      "test loss: 0.3297968677112034\n",
      "valid loss: 0.3887185752391815\n",
      "Warning: No built-in rules for language lv.\n",
      "Detokenizer Version $Revision: 4134 $\n",
      "Language: lv\n",
      "Warning: No built-in rules for language lv.\n",
      "Detokenizer Version $Revision: 4134 $\n",
      "Language: lv\n",
      "Warning: No built-in rules for language lv.\n",
      "Detokenizer Version $Revision: 4134 $\n",
      "Language: lv\n",
      "Input:            pēdējā brīdī \", Meijers teica,\" uz to lika prāvu summu \"\n",
      "Predicted output: sometimes the beard,, \"he,,\" please throw his basin, San. it.\n",
      "Real output:      at the last minute, \"Meyers said,\" they put a lot of money on him. \"\n",
      "BLEU: 12.59563860312388\n",
      "--------------------------------------------------\n"
     ]
    },
    {
     "name": "stderr",
     "output_type": "stream",
     "text": [
      "epoch 53 iter 58: train loss 0.00318. mean loss: 0.00235. lr 3.000000e-05: 100%|██████████| 59/59 [00:24<00:00,  2.37it/s]\n"
     ]
    },
    {
     "name": "stdout",
     "output_type": "stream",
     "text": [
      "test loss: 0.3311917611530849\n",
      "valid loss: 0.38581930845975876\n",
      "Warning: No built-in rules for language lv.\n",
      "Detokenizer Version $Revision: 4134 $\n",
      "Language: lv\n",
      "Warning: No built-in rules for language lv.\n",
      "Detokenizer Version $Revision: 4134 $\n",
      "Language: lv\n",
      "Warning: No built-in rules for language lv.\n",
      "Detokenizer Version $Revision: 4134 $\n",
      "Language: lv\n",
      "Input:            pēdējā brīdī \", Meijers teica,\" uz to lika prāvu summu \"\n",
      "Predicted output: sometimes the beard,, \"he,,\" he throw his basin, San. it.\n",
      "Real output:      at the last minute, \"Meyers said,\" they put a lot of money on him. \"\n",
      "BLEU: 12.50848704775727\n",
      "--------------------------------------------------\n"
     ]
    },
    {
     "name": "stderr",
     "output_type": "stream",
     "text": [
      "epoch 54 iter 58: train loss 0.00270. mean loss: 0.00224. lr 3.000000e-05: 100%|██████████| 59/59 [00:24<00:00,  2.38it/s]\n"
     ]
    },
    {
     "name": "stdout",
     "output_type": "stream",
     "text": [
      "test loss: 0.33083535943712505\n",
      "valid loss: 0.4093533679842949\n",
      "Warning: No built-in rules for language lv.\n",
      "Detokenizer Version $Revision: 4134 $\n",
      "Language: lv\n",
      "Warning: No built-in rules for language lv.\n",
      "Detokenizer Version $Revision: 4134 $\n",
      "Language: lv\n",
      "Warning: No built-in rules for language lv.\n",
      "Detokenizer Version $Revision: 4134 $\n",
      "Language: lv\n",
      "Input:            \"tagad, ja tu neesi man līdzās, jūtu tukšumu\"\n",
      "Predicted output: \"now, you 're 't got me, am 't washed fine. my glass you\"\n",
      "Real output:      \"now if you aren 't with me I haven 't a thing in the world.\"\n",
      "BLEU: 12.361247375503536\n",
      "--------------------------------------------------\n"
     ]
    },
    {
     "name": "stderr",
     "output_type": "stream",
     "text": [
      "epoch 55 iter 58: train loss 0.00227. mean loss: 0.00222. lr 3.000000e-05: 100%|██████████| 59/59 [00:24<00:00,  2.40it/s]\n"
     ]
    },
    {
     "name": "stdout",
     "output_type": "stream",
     "text": [
      "test loss: 0.33063930698803495\n",
      "valid loss: 0.37414104491472244\n",
      "Warning: No built-in rules for language lv.\n",
      "Detokenizer Version $Revision: 4134 $\n",
      "Language: lv\n",
      "Warning: No built-in rules for language lv.\n",
      "Detokenizer Version $Revision: 4134 $\n",
      "Language: lv\n",
      "Warning: No built-in rules for language lv.\n",
      "Detokenizer Version $Revision: 4134 $\n",
      "Language: lv\n",
      "Input:            mēs metāmies lejā no uzbēruma\n",
      "Predicted output: we started off the the embankment.\n",
      "Real output:      we dropped down beside the embankment.\n",
      "BLEU: 12.592617680036541\n",
      "--------------------------------------------------\n"
     ]
    },
    {
     "name": "stderr",
     "output_type": "stream",
     "text": [
      "epoch 56 iter 58: train loss 0.00267. mean loss: 0.00216. lr 3.000000e-05: 100%|██████████| 59/59 [00:24<00:00,  2.39it/s]\n"
     ]
    },
    {
     "name": "stdout",
     "output_type": "stream",
     "text": [
      "test loss: 0.3332676887512207\n",
      "valid loss: 0.3956875205039978\n",
      "Warning: No built-in rules for language lv.\n",
      "Detokenizer Version $Revision: 4134 $\n",
      "Language: lv\n",
      "Warning: No built-in rules for language lv.\n",
      "Detokenizer Version $Revision: 4134 $\n",
      "Language: lv\n",
      "Warning: No built-in rules for language lv.\n",
      "Detokenizer Version $Revision: 4134 $\n",
      "Language: lv\n",
      "Input:            tagad vātis bija apdzijušas un ceļi sapampuši un mainījuši krāsu, un ikri iekrituši, taču sastrutojuma nebija\n",
      "Predicted output: the and had cold arms and green roads, under and barsed and under white and. and it were under guns iles.\n",
      "Real output:      now they were crusted and the knee was swollen and discolored and the calf sunken but there was no pus.\n",
      "BLEU: 12.590959989528304\n",
      "--------------------------------------------------\n"
     ]
    },
    {
     "name": "stderr",
     "output_type": "stream",
     "text": [
      "epoch 57 iter 58: train loss 0.00247. mean loss: 0.00214. lr 3.000000e-05: 100%|██████████| 59/59 [00:24<00:00,  2.41it/s]\n"
     ]
    },
    {
     "name": "stdout",
     "output_type": "stream",
     "text": [
      "test loss: 0.3330829313823155\n",
      "valid loss: 0.3945225030183792\n",
      "Warning: No built-in rules for language lv.\n",
      "Detokenizer Version $Revision: 4134 $\n",
      "Language: lv\n",
      "Warning: No built-in rules for language lv.\n",
      "Detokenizer Version $Revision: 4134 $\n",
      "Language: lv\n",
      "Warning: No built-in rules for language lv.\n",
      "Detokenizer Version $Revision: 4134 $\n",
      "Language: lv\n",
      "Input:            \"Nenokļuvāt īstajā vietā\n",
      "Predicted output: \"it was too place to to.\n",
      "Real output:      \"that 's no place for that.\n",
      "BLEU: 12.3515399791036\n",
      "--------------------------------------------------\n"
     ]
    },
    {
     "name": "stderr",
     "output_type": "stream",
     "text": [
      "epoch 58 iter 58: train loss 0.00240. mean loss: 0.00209. lr 3.000000e-05: 100%|██████████| 59/59 [00:24<00:00,  2.42it/s]\n"
     ]
    },
    {
     "name": "stdout",
     "output_type": "stream",
     "text": [
      "test loss: 0.3340979516506195\n",
      "valid loss: 0.39380595833063126\n",
      "Warning: No built-in rules for language lv.\n",
      "Detokenizer Version $Revision: 4134 $\n",
      "Language: lv\n",
      "Warning: No built-in rules for language lv.\n",
      "Detokenizer Version $Revision: 4134 $\n",
      "Language: lv\n",
      "Warning: No built-in rules for language lv.\n",
      "Detokenizer Version $Revision: 4134 $\n",
      "Language: lv\n",
      "Input:            viņš paskatījās uz mani, iegāja mājā un iznāca bez pulksteņa\n",
      "Predicted output: he looked out me and his out the farmhouse and saw out across a field down\n",
      "Real output:      he looked at me, went in the house and came back without the clock.\n",
      "BLEU: 12.68364193031721\n",
      "--------------------------------------------------\n"
     ]
    },
    {
     "name": "stderr",
     "output_type": "stream",
     "text": [
      "epoch 59 iter 58: train loss 0.00228. mean loss: 0.00213. lr 3.000000e-05: 100%|██████████| 59/59 [00:24<00:00,  2.43it/s]\n"
     ]
    },
    {
     "name": "stdout",
     "output_type": "stream",
     "text": [
      "test loss: 0.3340273414339338\n",
      "valid loss: 0.3977029323577881\n",
      "Warning: No built-in rules for language lv.\n",
      "Detokenizer Version $Revision: 4134 $\n",
      "Language: lv\n",
      "Warning: No built-in rules for language lv.\n",
      "Detokenizer Version $Revision: 4134 $\n",
      "Language: lv\n",
      "Warning: No built-in rules for language lv.\n",
      "Detokenizer Version $Revision: 4134 $\n",
      "Language: lv\n",
      "Input:            \"un tomēr es dziedāšu\" Skalā \"\", Simonss noteica\n",
      "Predicted output: \"I 'll sing / / Ospedale in\" Piani said.\n",
      "Real output:      \"I 'll sing at the Scala,\" Simmons said.\n",
      "BLEU: 12.277947395362288\n",
      "--------------------------------------------------\n"
     ]
    },
    {
     "name": "stderr",
     "output_type": "stream",
     "text": [
      "epoch 60 iter 58: train loss 0.00194. mean loss: 0.00203. lr 3.000000e-05: 100%|██████████| 59/59 [00:24<00:00,  2.38it/s]\n"
     ]
    },
    {
     "name": "stdout",
     "output_type": "stream",
     "text": [
      "test loss: 0.3349415063858032\n",
      "valid loss: 0.39491717517375946\n",
      "Warning: No built-in rules for language lv.\n",
      "Detokenizer Version $Revision: 4134 $\n",
      "Language: lv\n",
      "Warning: No built-in rules for language lv.\n",
      "Detokenizer Version $Revision: 4134 $\n",
      "Language: lv\n",
      "Warning: No built-in rules for language lv.\n",
      "Detokenizer Version $Revision: 4134 $\n",
      "Language: lv\n",
      "Input:            \"maita tāds\", viņš noteica\n",
      "Predicted output: \"he little of dead bitch,\" he said.\n",
      "Real output:      \"the son of a bitch,\" he said.\n",
      "BLEU: 12.579838711828392\n",
      "--------------------------------------------------\n"
     ]
    },
    {
     "name": "stderr",
     "output_type": "stream",
     "text": [
      "epoch 61 iter 58: train loss 0.00248. mean loss: 0.00196. lr 3.000000e-05: 100%|██████████| 59/59 [00:24<00:00,  2.40it/s]\n"
     ]
    },
    {
     "name": "stdout",
     "output_type": "stream",
     "text": [
      "test loss: 0.33463033182280405\n",
      "valid loss: 0.3830427899956703\n",
      "Warning: No built-in rules for language lv.\n",
      "Detokenizer Version $Revision: 4134 $\n",
      "Language: lv\n",
      "Warning: No built-in rules for language lv.\n",
      "Detokenizer Version $Revision: 4134 $\n",
      "Language: lv\n",
      "Warning: No built-in rules for language lv.\n",
      "Detokenizer Version $Revision: 4134 $\n",
      "Language: lv\n",
      "Input:            es jautāju\n",
      "Predicted output: I asked.\n",
      "Real output:      I asked.\n",
      "BLEU: 12.452204059411487\n",
      "--------------------------------------------------\n"
     ]
    },
    {
     "name": "stderr",
     "output_type": "stream",
     "text": [
      "epoch 62 iter 58: train loss 0.00178. mean loss: 0.00195. lr 3.000000e-05: 100%|██████████| 59/59 [00:24<00:00,  2.41it/s]\n"
     ]
    },
    {
     "name": "stdout",
     "output_type": "stream",
     "text": [
      "test loss: 0.3345004064696176\n",
      "valid loss: 0.39055415987968445\n",
      "Warning: No built-in rules for language lv.\n",
      "Detokenizer Version $Revision: 4134 $\n",
      "Language: lv\n",
      "Warning: No built-in rules for language lv.\n",
      "Detokenizer Version $Revision: 4134 $\n",
      "Language: lv\n",
      "Warning: No built-in rules for language lv.\n",
      "Detokenizer Version $Revision: 4134 $\n",
      "Language: lv\n",
      "Input:            es esmu ateists \"\n",
      "Predicted output: I 've operating architeca. \"\n",
      "Real output:      I am an atheist. \"\n",
      "BLEU: 12.422341581667435\n",
      "--------------------------------------------------\n"
     ]
    },
    {
     "name": "stderr",
     "output_type": "stream",
     "text": [
      "epoch 63 iter 58: train loss 0.00196. mean loss: 0.00193. lr 3.000000e-05: 100%|██████████| 59/59 [00:24<00:00,  2.39it/s]\n"
     ]
    },
    {
     "name": "stdout",
     "output_type": "stream",
     "text": [
      "test loss: 0.33600686277662006\n",
      "valid loss: 0.3816431164741516\n",
      "Warning: No built-in rules for language lv.\n",
      "Detokenizer Version $Revision: 4134 $\n",
      "Language: lv\n",
      "Warning: No built-in rules for language lv.\n",
      "Detokenizer Version $Revision: 4134 $\n",
      "Language: lv\n",
      "Warning: No built-in rules for language lv.\n",
      "Detokenizer Version $Revision: 4134 $\n",
      "Language: lv\n",
      "Input:            \"tā ir lietota\", sieviete sacīja\n",
      "Predicted output: \"it 's a to\" said woman said.\n",
      "Real output:      \"it is used,\" the woman said.\n",
      "BLEU: 12.464671505862933\n",
      "--------------------------------------------------\n"
     ]
    },
    {
     "name": "stderr",
     "output_type": "stream",
     "text": [
      "epoch 64 iter 58: train loss 0.00181. mean loss: 0.00192. lr 3.328093e-05: 100%|██████████| 59/59 [00:24<00:00,  2.37it/s]\n"
     ]
    },
    {
     "name": "stdout",
     "output_type": "stream",
     "text": [
      "test loss: 0.3352787750107901\n",
      "valid loss: 0.40854740887880325\n",
      "Warning: No built-in rules for language lv.\n",
      "Detokenizer Version $Revision: 4134 $\n",
      "Language: lv\n",
      "Warning: No built-in rules for language lv.\n",
      "Detokenizer Version $Revision: 4134 $\n",
      "Language: lv\n",
      "Warning: No built-in rules for language lv.\n",
      "Detokenizer Version $Revision: 4134 $\n",
      "Language: lv\n",
      "Input:            kamēr Ketrina sēdēja frizētavā, es aizgāju līdz alus pagrabiņam un iedzēru tumšo Minhenes alu un izlasīju laikrakstus\n",
      "Predicted output: after I was go were sat in the the drink and and was them and entwrite and and they the cap I\n",
      "Real output:      while Catherine was there I went up to a beer place and drank dark Munich beer and read the papers.\n",
      "BLEU: 12.46977767078049\n",
      "--------------------------------------------------\n"
     ]
    },
    {
     "name": "stderr",
     "output_type": "stream",
     "text": [
      "epoch 65 iter 58: train loss 0.00149. mean loss: 0.00194. lr 3.916018e-05: 100%|██████████| 59/59 [00:24<00:00,  2.40it/s]\n"
     ]
    },
    {
     "name": "stdout",
     "output_type": "stream",
     "text": [
      "test loss: 0.33764263136046274\n",
      "valid loss: 0.3996194154024124\n",
      "Warning: No built-in rules for language lv.\n",
      "Detokenizer Version $Revision: 4134 $\n",
      "Language: lv\n",
      "Warning: No built-in rules for language lv.\n",
      "Detokenizer Version $Revision: 4134 $\n",
      "Language: lv\n",
      "Warning: No built-in rules for language lv.\n",
      "Detokenizer Version $Revision: 4134 $\n",
      "Language: lv\n",
      "Input:            tur ir karsts un pilns ar blusām\n",
      "Predicted output: it is a and a of the ayoung\n",
      "Real output:      it is hot and full of fleas.\n",
      "BLEU: 12.465939420959511\n",
      "--------------------------------------------------\n"
     ]
    },
    {
     "name": "stderr",
     "output_type": "stream",
     "text": [
      "epoch 66 iter 58: train loss 0.00158. mean loss: 0.00198. lr 4.544093e-05: 100%|██████████| 59/59 [00:24<00:00,  2.38it/s]\n"
     ]
    },
    {
     "name": "stdout",
     "output_type": "stream",
     "text": [
      "test loss: 0.33957260847091675\n",
      "valid loss: 0.4091126322746277\n",
      "Warning: No built-in rules for language lv.\n",
      "Detokenizer Version $Revision: 4134 $\n",
      "Language: lv\n",
      "Warning: No built-in rules for language lv.\n",
      "Detokenizer Version $Revision: 4134 $\n",
      "Language: lv\n",
      "Warning: No built-in rules for language lv.\n",
      "Detokenizer Version $Revision: 4134 $\n",
      "Language: lv\n",
      "Input:            \"es jums pagādāšu\n",
      "Predicted output: \"I will. Him. drink.\n",
      "Real output:      \"I will get you a copy.\n",
      "BLEU: 12.657985321939549\n",
      "--------------------------------------------------\n"
     ]
    },
    {
     "name": "stderr",
     "output_type": "stream",
     "text": [
      "epoch 67 iter 58: train loss 0.00245. mean loss: 0.00209. lr 5.210041e-05: 100%|██████████| 59/59 [00:24<00:00,  2.40it/s]\n"
     ]
    },
    {
     "name": "stdout",
     "output_type": "stream",
     "text": [
      "test loss: 0.33833312562533785\n",
      "valid loss: 0.3889131024479866\n",
      "Warning: No built-in rules for language lv.\n",
      "Detokenizer Version $Revision: 4134 $\n",
      "Language: lv\n",
      "Warning: No built-in rules for language lv.\n",
      "Detokenizer Version $Revision: 4134 $\n",
      "Language: lv\n",
      "Warning: No built-in rules for language lv.\n",
      "Detokenizer Version $Revision: 4134 $\n",
      "Language: lv\n",
      "Input:            \"ja tikai nenošaus\"\n",
      "Predicted output: \"if they won 't kill you.\"\n",
      "Real output:      \"if they don 't kill you.\"\n",
      "BLEU: 12.330922359280883\n",
      "--------------------------------------------------\n"
     ]
    },
    {
     "name": "stderr",
     "output_type": "stream",
     "text": [
      "epoch 68 iter 58: train loss 0.00288. mean loss: 0.00218. lr 5.911452e-05: 100%|██████████| 59/59 [00:25<00:00,  2.35it/s]\n"
     ]
    },
    {
     "name": "stdout",
     "output_type": "stream",
     "text": [
      "test loss: 0.33915782400539946\n",
      "valid loss: 0.39567162841558456\n",
      "Warning: No built-in rules for language lv.\n",
      "Detokenizer Version $Revision: 4134 $\n",
      "Language: lv\n",
      "Warning: No built-in rules for language lv.\n",
      "Detokenizer Version $Revision: 4134 $\n",
      "Language: lv\n",
      "Warning: No built-in rules for language lv.\n",
      "Detokenizer Version $Revision: 4134 $\n",
      "Language: lv\n",
      "Input:            \"labi\n",
      "Predicted output: \"all right.\n",
      "Real output:      \"all right.\n",
      "BLEU: 12.379210403203743\n",
      "--------------------------------------------------\n"
     ]
    },
    {
     "name": "stderr",
     "output_type": "stream",
     "text": [
      "epoch 69 iter 58: train loss 0.00298. mean loss: 0.00237. lr 6.645783e-05: 100%|██████████| 59/59 [00:24<00:00,  2.41it/s]\n"
     ]
    },
    {
     "name": "stdout",
     "output_type": "stream",
     "text": [
      "test loss: 0.33847502299717497\n",
      "valid loss: 0.39050301909446716\n",
      "Warning: No built-in rules for language lv.\n",
      "Detokenizer Version $Revision: 4134 $\n",
      "Language: lv\n",
      "Warning: No built-in rules for language lv.\n",
      "Detokenizer Version $Revision: 4134 $\n",
      "Language: lv\n",
      "Warning: No built-in rules for language lv.\n",
      "Detokenizer Version $Revision: 4134 $\n",
      "Language: lv\n",
      "Input:            \"negribas teikt\"\n",
      "Predicted output: \"do don 't want a do you\"\n",
      "Real output:      \"I don 't want to tell.\"\n",
      "BLEU: 12.161180235176351\n",
      "--------------------------------------------------\n"
     ]
    },
    {
     "name": "stderr",
     "output_type": "stream",
     "text": [
      "epoch 70 iter 58: train loss 0.00305. mean loss: 0.00244. lr 7.410376e-05: 100%|██████████| 59/59 [00:24<00:00,  2.39it/s]\n"
     ]
    },
    {
     "name": "stdout",
     "output_type": "stream",
     "text": [
      "test loss: 0.3415168012891497\n",
      "valid loss: 0.39805014431476593\n",
      "Warning: No built-in rules for language lv.\n",
      "Detokenizer Version $Revision: 4134 $\n",
      "Language: lv\n",
      "Warning: No built-in rules for language lv.\n",
      "Detokenizer Version $Revision: 4134 $\n",
      "Language: lv\n",
      "Warning: No built-in rules for language lv.\n",
      "Detokenizer Version $Revision: 4134 $\n",
      "Language: lv\n",
      "Input:            tagad vātis bija apdzijušas un ceļi sapampuši un mainījuši krāsu, un ikri iekrituši, taču sastrutojuma nebija\n",
      "Predicted output: the and had cold arms and the roads, out and barsed and in white and. and those were out guns iles.\n",
      "Real output:      now they were crusted and the knee was swollen and discolored and the calf sunken but there was no pus.\n",
      "BLEU: 12.365756769926131\n",
      "--------------------------------------------------\n"
     ]
    },
    {
     "name": "stderr",
     "output_type": "stream",
     "text": [
      "epoch 71 iter 58: train loss 0.00210. mean loss: 0.00263. lr 8.202461e-05: 100%|██████████| 59/59 [00:24<00:00,  2.39it/s]\n"
     ]
    },
    {
     "name": "stdout",
     "output_type": "stream",
     "text": [
      "test loss: 0.33990772707121714\n",
      "valid loss: 0.3946336656808853\n",
      "Warning: No built-in rules for language lv.\n",
      "Detokenizer Version $Revision: 4134 $\n",
      "Language: lv\n",
      "Warning: No built-in rules for language lv.\n",
      "Detokenizer Version $Revision: 4134 $\n",
      "Language: lv\n",
      "Warning: No built-in rules for language lv.\n",
      "Detokenizer Version $Revision: 4134 $\n",
      "Language: lv\n",
      "Input:            pati zinu\n",
      "Predicted output: I know..\n",
      "Real output:      I know it.\n",
      "BLEU: 12.213161779685144\n",
      "--------------------------------------------------\n"
     ]
    },
    {
     "name": "stderr",
     "output_type": "stream",
     "text": [
      "epoch 72 iter 58: train loss 0.00348. mean loss: 0.00277. lr 9.019168e-05: 100%|██████████| 59/59 [00:24<00:00,  2.37it/s]\n"
     ]
    },
    {
     "name": "stdout",
     "output_type": "stream",
     "text": [
      "test loss: 0.33965154205049786\n",
      "valid loss: 0.4085669666528702\n",
      "Warning: No built-in rules for language lv.\n",
      "Detokenizer Version $Revision: 4134 $\n",
      "Language: lv\n",
      "Warning: No built-in rules for language lv.\n",
      "Detokenizer Version $Revision: 4134 $\n",
      "Language: lv\n",
      "Warning: No built-in rules for language lv.\n",
      "Detokenizer Version $Revision: 4134 $\n",
      "Language: lv\n",
      "Input:            tie veda gar upju grīvām uz jūru, un, lai tiktu uz priekšu šajā apvidū, jāiet pa takām līdzās attekām\n",
      "Predicted output: they road were the in the road,, the foot, then the, roof, as p in in right in the house,\n",
      "Real output:      the roads all go along the river mouths to the sea and to cross the country you must go along the paths beside the canals.\n",
      "BLEU: 12.120300208189809\n",
      "--------------------------------------------------\n"
     ]
    },
    {
     "name": "stderr",
     "output_type": "stream",
     "text": [
      "epoch 73 iter 58: train loss 0.00260. mean loss: 0.00304. lr 9.857539e-05: 100%|██████████| 59/59 [00:25<00:00,  2.35it/s]\n"
     ]
    },
    {
     "name": "stdout",
     "output_type": "stream",
     "text": [
      "test loss: 0.34177681377955843\n",
      "valid loss: 0.4039185270667076\n",
      "Warning: No built-in rules for language lv.\n",
      "Detokenizer Version $Revision: 4134 $\n",
      "Language: lv\n",
      "Warning: No built-in rules for language lv.\n",
      "Detokenizer Version $Revision: 4134 $\n",
      "Language: lv\n",
      "Warning: No built-in rules for language lv.\n",
      "Detokenizer Version $Revision: 4134 $\n",
      "Language: lv\n",
      "Input:            es jautāju\n",
      "Predicted output: I asked.\n",
      "Real output:      I asked.\n",
      "BLEU: 12.100236009575376\n",
      "--------------------------------------------------\n"
     ]
    },
    {
     "name": "stderr",
     "output_type": "stream",
     "text": [
      "epoch 74 iter 58: train loss 0.00318. mean loss: 0.00319. lr 1.071454e-04: 100%|██████████| 59/59 [00:24<00:00,  2.39it/s]\n"
     ]
    },
    {
     "name": "stdout",
     "output_type": "stream",
     "text": [
      "test loss: 0.3428530735628946\n",
      "valid loss: 0.3997672274708748\n",
      "Warning: No built-in rules for language lv.\n",
      "Detokenizer Version $Revision: 4134 $\n",
      "Language: lv\n",
      "Warning: No built-in rules for language lv.\n",
      "Detokenizer Version $Revision: 4134 $\n",
      "Language: lv\n",
      "Warning: No built-in rules for language lv.\n",
      "Detokenizer Version $Revision: 4134 $\n",
      "Language: lv\n",
      "Input:            \"jā\n",
      "Predicted output: \"yes.\n",
      "Real output:      \"yes.\n",
      "BLEU: 12.427264651730567\n",
      "--------------------------------------------------\n"
     ]
    },
    {
     "name": "stderr",
     "output_type": "stream",
     "text": [
      "epoch 75 iter 58: train loss 0.00346. mean loss: 0.00340. lr 1.158706e-04: 100%|██████████| 59/59 [00:24<00:00,  2.40it/s]\n"
     ]
    },
    {
     "name": "stdout",
     "output_type": "stream",
     "text": [
      "test loss: 0.34332302638462614\n",
      "valid loss: 0.3948685824871063\n",
      "Warning: No built-in rules for language lv.\n",
      "Detokenizer Version $Revision: 4134 $\n",
      "Language: lv\n",
      "Warning: No built-in rules for language lv.\n",
      "Detokenizer Version $Revision: 4134 $\n",
      "Language: lv\n",
      "Warning: No built-in rules for language lv.\n",
      "Detokenizer Version $Revision: 4134 $\n",
      "Language: lv\n",
      "Input:            pēc brīža piebrauca angļu sanitārā mašīna un mani ielika nestuvēs, un nestuves pacēla un iebīdīja mašīnā\n",
      "Predicted output: after a while they stretcher and and into in the had him in the button on the the stretcher above in drink British. on was me got the\n",
      "Real output:      after a while the English ambulance came up and they put me onto a stretcher and lifted the stretcher up to the ambulance level and shoved it in.\n",
      "BLEU: 12.55333611280989\n",
      "--------------------------------------------------\n"
     ]
    },
    {
     "name": "stderr",
     "output_type": "stream",
     "text": [
      "epoch 76 iter 58: train loss 0.00349. mean loss: 0.00372. lr 1.247194e-04: 100%|██████████| 59/59 [00:24<00:00,  2.37it/s]\n"
     ]
    },
    {
     "name": "stdout",
     "output_type": "stream",
     "text": [
      "test loss: 0.343518112386976\n",
      "valid loss: 0.3960772603750229\n",
      "Warning: No built-in rules for language lv.\n",
      "Detokenizer Version $Revision: 4134 $\n",
      "Language: lv\n",
      "Warning: No built-in rules for language lv.\n",
      "Detokenizer Version $Revision: 4134 $\n",
      "Language: lv\n",
      "Warning: No built-in rules for language lv.\n",
      "Detokenizer Version $Revision: 4134 $\n",
      "Language: lv\n",
      "Input:            mēs pārgājām pāri ielai un sākām iet pa otru pusi\n",
      "Predicted output: we crossed the brickyard and went on the down. bank..\n",
      "Real output:      we crossed the street and started to walk up the other side.\n",
      "BLEU: 12.638125576186704\n",
      "--------------------------------------------------\n"
     ]
    },
    {
     "name": "stderr",
     "output_type": "stream",
     "text": [
      "epoch 77 iter 58: train loss 0.00429. mean loss: 0.00394. lr 1.336599e-04: 100%|██████████| 59/59 [00:24<00:00,  2.38it/s]\n"
     ]
    },
    {
     "name": "stdout",
     "output_type": "stream",
     "text": [
      "test loss: 0.3399005319390978\n",
      "valid loss: 0.39380279928445816\n",
      "Warning: No built-in rules for language lv.\n",
      "Detokenizer Version $Revision: 4134 $\n",
      "Language: lv\n",
      "Warning: No built-in rules for language lv.\n",
      "Detokenizer Version $Revision: 4134 $\n",
      "Language: lv\n",
      "Warning: No built-in rules for language lv.\n",
      "Detokenizer Version $Revision: 4134 $\n",
      "Language: lv\n",
      "Input:            karš mūs sabrāļojis\n",
      "Predicted output: the never never standing have\n",
      "Real output:      we are war brothers.\n",
      "BLEU: 12.49242669361241\n",
      "--------------------------------------------------\n"
     ]
    },
    {
     "name": "stderr",
     "output_type": "stream",
     "text": [
      "epoch 78 iter 58: train loss 0.00531. mean loss: 0.00414. lr 1.426595e-04: 100%|██████████| 59/59 [00:24<00:00,  2.40it/s]\n"
     ]
    },
    {
     "name": "stdout",
     "output_type": "stream",
     "text": [
      "test loss: 0.34137884633881704\n",
      "valid loss: 0.4032581076025963\n",
      "Warning: No built-in rules for language lv.\n",
      "Detokenizer Version $Revision: 4134 $\n",
      "Language: lv\n",
      "Warning: No built-in rules for language lv.\n",
      "Detokenizer Version $Revision: 4134 $\n",
      "Language: lv\n",
      "Warning: No built-in rules for language lv.\n",
      "Detokenizer Version $Revision: 4134 $\n",
      "Language: lv\n",
      "Input:            viņš ar īkšķi un rādītājpirkstu pieskārās zvaigznītēm pie apkakles\n",
      "Predicted output: he pointed a thumb and the piece. rpiece and pools.\n",
      "Real output:      he touched the stars at his collar with his thumb and forefinger.\n",
      "BLEU: 12.321136749041825\n",
      "--------------------------------------------------\n"
     ]
    },
    {
     "name": "stderr",
     "output_type": "stream",
     "text": [
      "epoch 79 iter 58: train loss 0.00584. mean loss: 0.00421. lr 1.516857e-04: 100%|██████████| 59/59 [00:24<00:00,  2.37it/s]\n"
     ]
    },
    {
     "name": "stdout",
     "output_type": "stream",
     "text": [
      "test loss: 0.3395905154091971\n",
      "valid loss: 0.38998089730739594\n",
      "Warning: No built-in rules for language lv.\n",
      "Detokenizer Version $Revision: 4134 $\n",
      "Language: lv\n",
      "Warning: No built-in rules for language lv.\n",
      "Detokenizer Version $Revision: 4134 $\n",
      "Language: lv\n",
      "Warning: No built-in rules for language lv.\n",
      "Detokenizer Version $Revision: 4134 $\n",
      "Language: lv\n",
      "Input:            un tad vēl jūsu skaistums \"\n",
      "Predicted output: another another you 've all. good. 'I said at..\n",
      "Real output:      and then you are so very beautiful / 'I looked at her.\n",
      "BLEU: 12.519558551154775\n",
      "--------------------------------------------------\n"
     ]
    },
    {
     "name": "stderr",
     "output_type": "stream",
     "text": [
      "epoch 80 iter 58: train loss 0.00578. mean loss: 0.00490. lr 1.607058e-04: 100%|██████████| 59/59 [00:24<00:00,  2.39it/s]\n"
     ]
    },
    {
     "name": "stdout",
     "output_type": "stream",
     "text": [
      "test loss: 0.3423577036176409\n",
      "valid loss: 0.389033779501915\n",
      "Warning: No built-in rules for language lv.\n",
      "Detokenizer Version $Revision: 4134 $\n",
      "Language: lv\n",
      "Warning: No built-in rules for language lv.\n",
      "Detokenizer Version $Revision: 4134 $\n",
      "Language: lv\n",
      "Warning: No built-in rules for language lv.\n",
      "Detokenizer Version $Revision: 4134 $\n",
      "Language: lv\n",
      "Input:            \"es jums pagādāšu\n",
      "Predicted output: \"I will love a. drink of\n",
      "Real output:      \"I will get you a copy.\n",
      "BLEU: 12.254634757603645\n",
      "--------------------------------------------------\n"
     ]
    },
    {
     "name": "stderr",
     "output_type": "stream",
     "text": [
      "epoch 81 iter 58: train loss 0.00620. mean loss: 0.00493. lr 1.696871e-04: 100%|██████████| 59/59 [00:24<00:00,  2.39it/s]\n"
     ]
    },
    {
     "name": "stdout",
     "output_type": "stream",
     "text": [
      "test loss: 0.3424547484942845\n",
      "valid loss: 0.39913704991340637\n",
      "Warning: No built-in rules for language lv.\n",
      "Detokenizer Version $Revision: 4134 $\n",
      "Language: lv\n",
      "Warning: No built-in rules for language lv.\n",
      "Detokenizer Version $Revision: 4134 $\n",
      "Language: lv\n",
      "Warning: No built-in rules for language lv.\n",
      "Detokenizer Version $Revision: 4134 $\n",
      "Language: lv\n",
      "Input:            \"rīt\"\n",
      "Predicted output: \"to-morrow.\"\n",
      "Real output:      \"to-morrow.\"\n",
      "BLEU: 12.240170511721942\n",
      "--------------------------------------------------\n"
     ]
    },
    {
     "name": "stderr",
     "output_type": "stream",
     "text": [
      "epoch 82 iter 58: train loss 0.00600. mean loss: 0.00517. lr 1.785971e-04: 100%|██████████| 59/59 [00:24<00:00,  2.40it/s]\n"
     ]
    },
    {
     "name": "stdout",
     "output_type": "stream",
     "text": [
      "test loss: 0.3424304894038609\n",
      "valid loss: 0.3941424712538719\n",
      "Warning: No built-in rules for language lv.\n",
      "Detokenizer Version $Revision: 4134 $\n",
      "Language: lv\n",
      "Warning: No built-in rules for language lv.\n",
      "Detokenizer Version $Revision: 4134 $\n",
      "Language: lv\n",
      "Warning: No built-in rules for language lv.\n",
      "Detokenizer Version $Revision: 4134 $\n",
      "Language: lv\n",
      "Input:            viņš apsēdās uz krēsla, kur bija sēdējis Rinaldi, un mulsi palūkojās ārā pa logu\n",
      "Predicted output: he was in the the window and made regout a. looked out of the window..\n",
      "Real output:      he sat down in the chair that had been brought for Rinaldi and looked out of the window embarrassedly.\n",
      "BLEU: 12.370175167489279\n",
      "--------------------------------------------------\n"
     ]
    },
    {
     "name": "stderr",
     "output_type": "stream",
     "text": [
      "epoch 83 iter 58: train loss 0.00882. mean loss: 0.00526. lr 1.874035e-04: 100%|██████████| 59/59 [00:24<00:00,  2.39it/s]\n"
     ]
    },
    {
     "name": "stdout",
     "output_type": "stream",
     "text": [
      "test loss: 0.3406332475798471\n",
      "valid loss: 0.4057094678282738\n",
      "Warning: No built-in rules for language lv.\n",
      "Detokenizer Version $Revision: 4134 $\n",
      "Language: lv\n",
      "Warning: No built-in rules for language lv.\n",
      "Detokenizer Version $Revision: 4134 $\n",
      "Language: lv\n",
      "Warning: No built-in rules for language lv.\n",
      "Detokenizer Version $Revision: 4134 $\n",
      "Language: lv\n",
      "Input:            ar konjaka glāzi rokā piegāju pie loga un to atvēru\n",
      "Predicted output: with the brandy with the and and lay to and lay it window.\n",
      "Real output:      holding the glass of cognac, I went over and opened the window.\n",
      "BLEU: 11.989713564321692\n",
      "--------------------------------------------------\n"
     ]
    },
    {
     "name": "stderr",
     "output_type": "stream",
     "text": [
      "epoch 84 iter 58: train loss 0.00450. mean loss: 0.00518. lr 1.960744e-04: 100%|██████████| 59/59 [00:24<00:00,  2.39it/s]\n"
     ]
    },
    {
     "name": "stdout",
     "output_type": "stream",
     "text": [
      "test loss: 0.3448458526815687\n",
      "valid loss: 0.39758260548114777\n",
      "Warning: No built-in rules for language lv.\n",
      "Detokenizer Version $Revision: 4134 $\n",
      "Language: lv\n",
      "Warning: No built-in rules for language lv.\n",
      "Detokenizer Version $Revision: 4134 $\n",
      "Language: lv\n",
      "Warning: No built-in rules for language lv.\n",
      "Detokenizer Version $Revision: 4134 $\n",
      "Language: lv\n",
      "Input:            visi joprojām klusēja\n",
      "Predicted output: the was. was nothing.\n",
      "Real output:      still no one said anything.\n",
      "BLEU: 11.746933010511968\n",
      "--------------------------------------------------\n"
     ]
    },
    {
     "name": "stderr",
     "output_type": "stream",
     "text": [
      "epoch 85 iter 58: train loss 0.00504. mean loss: 0.00549. lr 2.045784e-04: 100%|██████████| 59/59 [00:25<00:00,  2.36it/s]\n"
     ]
    },
    {
     "name": "stdout",
     "output_type": "stream",
     "text": [
      "test loss: 0.3417262690407889\n",
      "valid loss: 0.399819515645504\n",
      "Warning: No built-in rules for language lv.\n",
      "Detokenizer Version $Revision: 4134 $\n",
      "Language: lv\n",
      "Warning: No built-in rules for language lv.\n",
      "Detokenizer Version $Revision: 4134 $\n",
      "Language: lv\n",
      "Warning: No built-in rules for language lv.\n",
      "Detokenizer Version $Revision: 4134 $\n",
      "Language: lv\n",
      "Input:            es pametu acis uz karabinieriem\n",
      "Predicted output: I looked up the carabinieri.\n",
      "Real output:      I looked at the carabinieri.\n",
      "BLEU: 11.977670082631052\n",
      "--------------------------------------------------\n"
     ]
    },
    {
     "name": "stderr",
     "output_type": "stream",
     "text": [
      "epoch 86 iter 58: train loss 0.00668. mean loss: 0.00580. lr 2.128848e-04: 100%|██████████| 59/59 [00:24<00:00,  2.41it/s]\n"
     ]
    },
    {
     "name": "stdout",
     "output_type": "stream",
     "text": [
      "test loss: 0.34349338923181805\n",
      "valid loss: 0.40867938846349716\n",
      "Warning: No built-in rules for language lv.\n",
      "Detokenizer Version $Revision: 4134 $\n",
      "Language: lv\n",
      "Warning: No built-in rules for language lv.\n",
      "Detokenizer Version $Revision: 4134 $\n",
      "Language: lv\n",
      "Warning: No built-in rules for language lv.\n",
      "Detokenizer Version $Revision: 4134 $\n",
      "Language: lv\n",
      "Input:            Savienotās Valstis esot pieteikušas karu Vācijai, nevis Austrijai\n",
      "Predicted output: the others was gone were on our. he go our but\n",
      "Real output:      the States had declared war on Germany but not on Austria.\n",
      "BLEU: 12.547500192969052\n",
      "--------------------------------------------------\n"
     ]
    },
    {
     "name": "stderr",
     "output_type": "stream",
     "text": [
      "epoch 87 iter 58: train loss 0.00511. mean loss: 0.00615. lr 2.209633e-04: 100%|██████████| 59/59 [00:24<00:00,  2.39it/s]\n"
     ]
    },
    {
     "name": "stdout",
     "output_type": "stream",
     "text": [
      "test loss: 0.34704216037477764\n",
      "valid loss: 0.4062267616391182\n",
      "Warning: No built-in rules for language lv.\n",
      "Detokenizer Version $Revision: 4134 $\n",
      "Language: lv\n",
      "Warning: No built-in rules for language lv.\n",
      "Detokenizer Version $Revision: 4134 $\n",
      "Language: lv\n",
      "Warning: No built-in rules for language lv.\n",
      "Detokenizer Version $Revision: 4134 $\n",
      "Language: lv\n",
      "Input:            Fērgusone bija lāga dvēsele\n",
      "Predicted output: Ferguson was all fine..\n",
      "Real output:      Ferguson was a fine girl.\n",
      "BLEU: 12.449395873801745\n",
      "--------------------------------------------------\n"
     ]
    },
    {
     "name": "stderr",
     "output_type": "stream",
     "text": [
      "epoch 88 iter 58: train loss 0.00537. mean loss: 0.00617. lr 2.287848e-04: 100%|██████████| 59/59 [00:24<00:00,  2.40it/s]\n"
     ]
    },
    {
     "name": "stdout",
     "output_type": "stream",
     "text": [
      "test loss: 0.34564535106931416\n",
      "valid loss: 0.3992733582854271\n",
      "Warning: No built-in rules for language lv.\n",
      "Detokenizer Version $Revision: 4134 $\n",
      "Language: lv\n",
      "Warning: No built-in rules for language lv.\n",
      "Detokenizer Version $Revision: 4134 $\n",
      "Language: lv\n",
      "Warning: No built-in rules for language lv.\n",
      "Detokenizer Version $Revision: 4134 $\n",
      "Language: lv\n",
      "Input:            es būtu gājusi pie tevis, pat ja tu būtu uzpūtīgs, un tomēr daudz mierīgāku prātu izietu pie vīra, kurš nav uzpūtīgs \"\n",
      "Predicted output: I would like to him again with you felt mine and I was not ering, of get and great e and k I. head so. \"\n",
      "Real output:      I 'd have married you even if you were conceited but it 's very restful to have a husband who 's not conceited. \"\n",
      "BLEU: 12.0798929419199\n",
      "--------------------------------------------------\n"
     ]
    },
    {
     "name": "stderr",
     "output_type": "stream",
     "text": [
      "epoch 89 iter 58: train loss 0.00671. mean loss: 0.00636. lr 2.363209e-04: 100%|██████████| 59/59 [00:24<00:00,  2.39it/s]\n"
     ]
    },
    {
     "name": "stdout",
     "output_type": "stream",
     "text": [
      "test loss: 0.3435958112989153\n",
      "valid loss: 0.3954735994338989\n",
      "Warning: No built-in rules for language lv.\n",
      "Detokenizer Version $Revision: 4134 $\n",
      "Language: lv\n",
      "Warning: No built-in rules for language lv.\n",
      "Detokenizer Version $Revision: 4134 $\n",
      "Language: lv\n",
      "Warning: No built-in rules for language lv.\n",
      "Detokenizer Version $Revision: 4134 $\n",
      "Language: lv\n",
      "Input:            es jautāju\n",
      "Predicted output: I asked.\n",
      "Real output:      I asked.\n",
      "BLEU: 11.72394607526773\n",
      "--------------------------------------------------\n"
     ]
    },
    {
     "name": "stderr",
     "output_type": "stream",
     "text": [
      "epoch 90 iter 58: train loss 0.00708. mean loss: 0.00654. lr 2.435444e-04: 100%|██████████| 59/59 [00:24<00:00,  2.39it/s]\n"
     ]
    },
    {
     "name": "stdout",
     "output_type": "stream",
     "text": [
      "test loss: 0.34618373002324787\n",
      "valid loss: 0.407740980386734\n",
      "Warning: No built-in rules for language lv.\n",
      "Detokenizer Version $Revision: 4134 $\n",
      "Language: lv\n",
      "Warning: No built-in rules for language lv.\n",
      "Detokenizer Version $Revision: 4134 $\n",
      "Language: lv\n",
      "Warning: No built-in rules for language lv.\n",
      "Detokenizer Version $Revision: 4134 $\n",
      "Language: lv\n",
      "Input:            \"nezinu\", viņa atteica\n",
      "Predicted output: \"I don 't know,\" she said.\n",
      "Real output:      \"I don 't know,\" she said.\n",
      "BLEU: 11.741487667656703\n",
      "--------------------------------------------------\n"
     ]
    },
    {
     "name": "stderr",
     "output_type": "stream",
     "text": [
      "epoch 91 iter 58: train loss 0.00788. mean loss: 0.00670. lr 2.504290e-04: 100%|██████████| 59/59 [00:24<00:00,  2.39it/s]\n"
     ]
    },
    {
     "name": "stdout",
     "output_type": "stream",
     "text": [
      "test loss: 0.3426693592752729\n",
      "valid loss: 0.4063706770539284\n",
      "Warning: No built-in rules for language lv.\n",
      "Detokenizer Version $Revision: 4134 $\n",
      "Language: lv\n",
      "Warning: No built-in rules for language lv.\n",
      "Detokenizer Version $Revision: 4134 $\n",
      "Language: lv\n",
      "Warning: No built-in rules for language lv.\n",
      "Detokenizer Version $Revision: 4134 $\n",
      "Language: lv\n",
      "Input:            \"nevaru iedomāties, ka man tā būtu jāguļ\n",
      "Predicted output: \"I can 't know I to me I\n",
      "Real output:      \"I can 't imagine lying like that.\n",
      "BLEU: 12.135288414291722\n",
      "--------------------------------------------------\n"
     ]
    },
    {
     "name": "stderr",
     "output_type": "stream",
     "text": [
      "epoch 92 iter 58: train loss 0.00812. mean loss: 0.00666. lr 2.569498e-04: 100%|██████████| 59/59 [00:24<00:00,  2.40it/s]\n"
     ]
    },
    {
     "name": "stdout",
     "output_type": "stream",
     "text": [
      "test loss: 0.346261841910226\n",
      "valid loss: 0.40209153294563293\n",
      "Warning: No built-in rules for language lv.\n",
      "Detokenizer Version $Revision: 4134 $\n",
      "Language: lv\n",
      "Warning: No built-in rules for language lv.\n",
      "Detokenizer Version $Revision: 4134 $\n",
      "Language: lv\n",
      "Warning: No built-in rules for language lv.\n",
      "Detokenizer Version $Revision: 4134 $\n",
      "Language: lv\n",
      "Input:            es aizgāju uz laivas pakaļgalu un parādīju viņai, kā jātur airis\n",
      "Predicted output: I walked along to the side and there, about it the. same.\n",
      "Real output:      I went back to the stern and showed her how to hold the oar.\n",
      "BLEU: 11.572688018983936\n",
      "--------------------------------------------------\n"
     ]
    },
    {
     "name": "stderr",
     "output_type": "stream",
     "text": [
      "epoch 93 iter 58: train loss 0.00677. mean loss: 0.00659. lr 2.630832e-04: 100%|██████████| 59/59 [00:24<00:00,  2.41it/s]\n"
     ]
    },
    {
     "name": "stdout",
     "output_type": "stream",
     "text": [
      "test loss: 0.345069591488157\n",
      "valid loss: 0.40062233060598373\n",
      "Warning: No built-in rules for language lv.\n",
      "Detokenizer Version $Revision: 4134 $\n",
      "Language: lv\n",
      "Warning: No built-in rules for language lv.\n",
      "Detokenizer Version $Revision: 4134 $\n",
      "Language: lv\n",
      "Warning: No built-in rules for language lv.\n",
      "Detokenizer Version $Revision: 4134 $\n",
      "Language: lv\n",
      "Input:            \"nu, tas ir citādi\n",
      "Predicted output: \"it, it 's all.\n",
      "Real output:      \"oh, that 's different.\n",
      "BLEU: 11.186698978710757\n",
      "--------------------------------------------------\n"
     ]
    },
    {
     "name": "stderr",
     "output_type": "stream",
     "text": [
      "epoch 94 iter 58: train loss 0.00884. mean loss: 0.00671. lr 2.688070e-04: 100%|██████████| 59/59 [00:24<00:00,  2.43it/s]\n"
     ]
    },
    {
     "name": "stdout",
     "output_type": "stream",
     "text": [
      "test loss: 0.3466988801956177\n",
      "valid loss: 0.398061104118824\n",
      "Warning: No built-in rules for language lv.\n",
      "Detokenizer Version $Revision: 4134 $\n",
      "Language: lv\n",
      "Warning: No built-in rules for language lv.\n",
      "Detokenizer Version $Revision: 4134 $\n",
      "Language: lv\n",
      "Warning: No built-in rules for language lv.\n",
      "Detokenizer Version $Revision: 4134 $\n",
      "Language: lv\n",
      "Input:            mēs dzeram, ceļam traci un traucējam Federiko\n",
      "Predicted output: we were and then any of took together.\n",
      "Real output:      we drink and make noise and disturb Federico.\n",
      "BLEU: 11.651019142422763\n",
      "--------------------------------------------------\n"
     ]
    },
    {
     "name": "stderr",
     "output_type": "stream",
     "text": [
      "epoch 95 iter 58: train loss 0.00633. mean loss: 0.00660. lr 2.741005e-04: 100%|██████████| 59/59 [00:24<00:00,  2.38it/s]\n"
     ]
    },
    {
     "name": "stdout",
     "output_type": "stream",
     "text": [
      "test loss: 0.34487058435167584\n",
      "valid loss: 0.4178711771965027\n",
      "Warning: No built-in rules for language lv.\n",
      "Detokenizer Version $Revision: 4134 $\n",
      "Language: lv\n",
      "Warning: No built-in rules for language lv.\n",
      "Detokenizer Version $Revision: 4134 $\n",
      "Language: lv\n",
      "Warning: No built-in rules for language lv.\n",
      "Detokenizer Version $Revision: 4134 $\n",
      "Language: lv\n",
      "Input:            \"nē\", es sacīju\n",
      "Predicted output: \"no,\" I said.\n",
      "Real output:      \"no,\" I said.\n",
      "BLEU: 11.739370060145593\n",
      "--------------------------------------------------\n"
     ]
    },
    {
     "name": "stderr",
     "output_type": "stream",
     "text": [
      "epoch 96 iter 58: train loss 0.00630. mean loss: 0.00637. lr 2.789444e-04: 100%|██████████| 59/59 [00:24<00:00,  2.39it/s]\n"
     ]
    },
    {
     "name": "stdout",
     "output_type": "stream",
     "text": [
      "test loss: 0.34806715164865765\n",
      "valid loss: 0.4098009839653969\n",
      "Warning: No built-in rules for language lv.\n",
      "Detokenizer Version $Revision: 4134 $\n",
      "Language: lv\n",
      "Warning: No built-in rules for language lv.\n",
      "Detokenizer Version $Revision: 4134 $\n",
      "Language: lv\n",
      "Warning: No built-in rules for language lv.\n",
      "Detokenizer Version $Revision: 4134 $\n",
      "Language: lv\n",
      "Input:            \"kāpēc?\n",
      "Predicted output: \"why not?\"\n",
      "Real output:      \"why not?\"\n",
      "BLEU: 12.033742293774317\n",
      "--------------------------------------------------\n"
     ]
    },
    {
     "name": "stderr",
     "output_type": "stream",
     "text": [
      "epoch 97 iter 58: train loss 0.00665. mean loss: 0.00662. lr 2.833212e-04: 100%|██████████| 59/59 [00:24<00:00,  2.40it/s]\n"
     ]
    },
    {
     "name": "stdout",
     "output_type": "stream",
     "text": [
      "test loss: 0.3480723329952785\n",
      "valid loss: 0.4026013985276222\n",
      "Warning: No built-in rules for language lv.\n",
      "Detokenizer Version $Revision: 4134 $\n",
      "Language: lv\n",
      "Warning: No built-in rules for language lv.\n",
      "Detokenizer Version $Revision: 4134 $\n",
      "Language: lv\n",
      "Warning: No built-in rules for language lv.\n",
      "Detokenizer Version $Revision: 4134 $\n",
      "Language: lv\n",
      "Input:            pats arī gribēju braukt uz Milānu\n",
      "Predicted output: he wanted to go to bed..\n",
      "Real output:      I wanted to go to Milan too.\n",
      "BLEU: 11.926848368626763\n",
      "--------------------------------------------------\n"
     ]
    },
    {
     "name": "stderr",
     "output_type": "stream",
     "text": [
      "epoch 98 iter 58: train loss 0.00855. mean loss: 0.00645. lr 2.872151e-04: 100%|██████████| 59/59 [00:25<00:00,  2.32it/s]\n"
     ]
    },
    {
     "name": "stdout",
     "output_type": "stream",
     "text": [
      "test loss: 0.34741915123803274\n",
      "valid loss: 0.41137276589870453\n",
      "Warning: No built-in rules for language lv.\n",
      "Detokenizer Version $Revision: 4134 $\n",
      "Language: lv\n",
      "Warning: No built-in rules for language lv.\n",
      "Detokenizer Version $Revision: 4134 $\n",
      "Language: lv\n",
      "Warning: No built-in rules for language lv.\n",
      "Detokenizer Version $Revision: 4134 $\n",
      "Language: lv\n",
      "Input:            tovakar virsnieku ēdamtelpā es sēdēju blakus mācītājam, un viņš likās vīlies un pēkšņi sabozies, tāpēc ka nebiju aizbraucis uz Abruci\n",
      "Predicted output: there was in the British and had in clock the priest and he was very and I but. way had a our back the British and\n",
      "Real output:      that night at the mess I sat next to the priest and he was disappointed and suddenly hurt that I had not gone to the Abruzzi.\n",
      "BLEU: 11.89668527038783\n",
      "--------------------------------------------------\n"
     ]
    },
    {
     "name": "stderr",
     "output_type": "stream",
     "text": [
      "epoch 99 iter 58: train loss 0.00785. mean loss: 0.00668. lr 2.906120e-04: 100%|██████████| 59/59 [00:24<00:00,  2.40it/s]\n"
     ]
    },
    {
     "name": "stdout",
     "output_type": "stream",
     "text": [
      "test loss: 0.3521666186196463\n",
      "valid loss: 0.41314640641212463\n",
      "Warning: No built-in rules for language lv.\n",
      "Detokenizer Version $Revision: 4134 $\n",
      "Language: lv\n",
      "Warning: No built-in rules for language lv.\n",
      "Detokenizer Version $Revision: 4134 $\n",
      "Language: lv\n",
      "Warning: No built-in rules for language lv.\n",
      "Detokenizer Version $Revision: 4134 $\n",
      "Language: lv\n",
      "Input:            viņi jau bija aizvilkuši mani ceļa malā\n",
      "Predicted output: they took pulled to me edge of that road..\n",
      "Real output:      they had me at the side of the road now.\n",
      "BLEU: 11.710647967042927\n",
      "--------------------------------------------------\n"
     ]
    },
    {
     "name": "stderr",
     "output_type": "stream",
     "text": [
      "epoch 100 iter 58: train loss 0.00946. mean loss: 0.00651. lr 2.934996e-04: 100%|██████████| 59/59 [00:24<00:00,  2.41it/s]\n"
     ]
    },
    {
     "name": "stdout",
     "output_type": "stream",
     "text": [
      "test loss: 0.3487895854881832\n",
      "valid loss: 0.4202094078063965\n",
      "Warning: No built-in rules for language lv.\n",
      "Detokenizer Version $Revision: 4134 $\n",
      "Language: lv\n",
      "Warning: No built-in rules for language lv.\n",
      "Detokenizer Version $Revision: 4134 $\n",
      "Language: lv\n",
      "Warning: No built-in rules for language lv.\n",
      "Detokenizer Version $Revision: 4134 $\n",
      "Language: lv\n",
      "Input:            lūdzu, aizgriezies, mīļais, un es acumirklī būšu saģērbusies \"\n",
      "Predicted output: you see coming others,, darling, and I 'll see drunk, Milan together along, \"\n",
      "Real output:      please look the other way, darling, and I 'll be dressed in just a minute. \"\n",
      "BLEU: 11.738281172141033\n",
      "--------------------------------------------------\n"
     ]
    }
   ],
   "source": [
    "test_loss_list, valid_loss_list, valid_bleu_list = trainer.train()"
   ]
  },
  {
   "cell_type": "code",
   "execution_count": 80,
   "id": "EHFUYpv8P9lr",
   "metadata": {
    "colab": {
     "base_uri": "https://localhost:8080/",
     "height": 621
    },
    "id": "EHFUYpv8P9lr",
    "outputId": "77da5c3a-eeaa-4132-abe1-2de95323a3e7"
   },
   "outputs": [
    {
     "name": "stderr",
     "output_type": "stream",
     "text": [
      "<ipython-input-80-2d6a0f93c48c>:19: UserWarning: Matplotlib is currently using agg, which is a non-GUI backend, so cannot show the figure.\n",
      "  plt.show()\n"
     ]
    }
   ],
   "source": [
    "epochs = range(len(test_loss_list))\n",
    "# plt.subplots(nrows=number_of_layers, ncols=number_of_heads, figsize=(30, 20))\n",
    "fig, axs = plt.subplots(nrows=3, ncols=1, figsize=(20, 10))\n",
    "axs[0].plot(epochs, test_loss_list)\n",
    "axs[0].set_title('Test loss')\n",
    "axs[0].set_xlabel('Epochs')\n",
    "axs[0].set_ylabel('Loss')\n",
    "\n",
    "axs[1].plot(epochs, valid_loss_list)\n",
    "axs[1].set_title('Validation loss')\n",
    "axs[1].set_xlabel('Epochs')\n",
    "axs[1].set_ylabel('Loss')\n",
    "\n",
    "axs[2].plot(epochs, valid_bleu_list)\n",
    "axs[2].set_title('Validation BLEU')\n",
    "axs[2].set_xlabel('Epochs')\n",
    "axs[2].set_ylabel('BLEU')\n",
    "\n",
    "plt.show()"
   ]
  },
  {
   "cell_type": "code",
   "execution_count": 81,
   "id": "ae2c71d4",
   "metadata": {},
   "outputs": [],
   "source": [
    "plt.savefig(\"hemingway_losses.png\")\n"
   ]
  },
  {
   "cell_type": "markdown",
   "id": "1Og-0W-MtKoM",
   "metadata": {
    "id": "1Og-0W-MtKoM"
   },
   "source": [
    "#Evaluate"
   ]
  },
  {
   "cell_type": "code",
   "execution_count": 82,
   "id": "d029ed9c-9170-435a-805f-416774999287",
   "metadata": {
    "colab": {
     "base_uri": "https://localhost:8080/"
    },
    "id": "d029ed9c-9170-435a-805f-416774999287",
    "outputId": "78ebc7df-beec-45fa-eddf-cc1829c07374"
   },
   "outputs": [
    {
     "data": {
      "text/plain": [
       "<All keys matched successfully>"
      ]
     },
     "execution_count": 82,
     "metadata": {},
     "output_type": "execute_result"
    }
   ],
   "source": [
    "checkpoint = torch.load('minGPT-LV-EN-translator_model.pt')\n",
    "model.load_state_dict(checkpoint)"
   ]
  },
  {
   "cell_type": "code",
   "execution_count": 83,
   "id": "afC6uEVGXIPL",
   "metadata": {
    "id": "afC6uEVGXIPL"
   },
   "outputs": [],
   "source": [
    "with open('hemingway_test_loss.txt', 'w') as f:\n",
    "    f.write('\\n'.join([str(s) for s in test_loss_list]))\n",
    "\n",
    "with open('hemingway_valid_loss.txt', 'w') as f:\n",
    "    f.write('\\n'.join([str(s) for s in valid_loss_list]))\n",
    "\n",
    "with open('hemingway_valid_blue.txt', 'w') as f:\n",
    "    f.write('\\n'.join([str(s) for s in valid_bleu_list]))"
   ]
  },
  {
   "cell_type": "code",
   "execution_count": 84,
   "id": "greek-travel",
   "metadata": {
    "colab": {
     "base_uri": "https://localhost:8080/"
    },
    "id": "greek-travel",
    "outputId": "8b5ee427-7a71-46ab-e62c-a8730ac37bb8"
   },
   "outputs": [
    {
     "name": "stdout",
     "output_type": "stream",
     "text": [
      "Input:            &quot; Uz@@ ņemiet palī@@ gos kādu , kam plat@@ ā@@ ka mugura &quot; .\n",
      "Predicted output: &quot; you &apos;ll be a good @-@ ing with your officer . &quot;\n",
      "Real output:      &quot; pick up somebody with a wide back to push . &quot;\n",
      "--------------------------------------------------\n",
      "Input:            &quot; ļoti &quot; .\n",
      "Predicted output: &quot; very much . &quot;\n",
      "Real output:      &quot; very much . &quot;\n",
      "--------------------------------------------------\n",
      "Input:            atveda vēl trīs virsniekus .\n",
      "Predicted output: the three girl was three weeks .\n",
      "Real output:      three more officers had just been put in with us .\n",
      "--------------------------------------------------\n",
      "Input:            viņš ar īkšķi un rādītājpirkstu pieskārās z@@ vai@@ g@@ z@@ nī@@ tēm pie ap@@ ka@@ kl@@ es .\n",
      "Predicted output: he took the glass with the glass with the glass .\n",
      "Real output:      he touched the stars at his collar with his thumb and forefinger .\n",
      "--------------------------------------------------\n",
      "Input:            viņš bija izskatīgs , ma@@ nos ga@@ dos , dzimis A@@ mal@@ fi .\n",
      "Predicted output: he was a little boy and he was a great he had gone . \n",
      "Real output:      he was good @-@ looking , was my age , and he came from A@@ mal@@ f@@ i .\n",
      "--------------------------------------------------\n"
     ]
    }
   ],
   "source": [
    "from random import choice\n",
    "\n",
    "for _ in range(5):\n",
    "    idx = choice(range(len(valid_output)))\n",
    "\n",
    "    context = valid_input[idx]\n",
    "    encoded_input = tokenizer_input.encode(tokenizer_input.tokenize(context, block_size))\n",
    "    x = torch.tensor(encoded_input, dtype=torch.long)[None,...].to(trainer.device)\n",
    "    y = sample(model, x, block_size, temperature=1.0, sample=False, top_k=10)[0]\n",
    "\n",
    "    intent = len(encoded_input) + 1\n",
    "\n",
    "    predicted = y[intent:]\n",
    "    completion = tokenizer_output.decode(predicted, True)\n",
    "    print(f'Input:            {context}')\n",
    "    print(f'Predicted output: {completion}')\n",
    "    print(f'Real output:      {valid_output[idx]}')\n",
    "    print('--------------------------------------------------')"
   ]
  },
  {
   "cell_type": "code",
   "execution_count": 85,
   "id": "eF3lesDzM_UY",
   "metadata": {
    "colab": {
     "base_uri": "https://localhost:8080/"
    },
    "id": "eF3lesDzM_UY",
    "outputId": "8d15a610-69b9-47c9-c296-425e51f35e9f"
   },
   "outputs": [
    {
     "name": "stdout",
     "output_type": "stream",
     "text": [
      "Input:            pietiek šim vakaram .\n",
      "Predicted output: that &apos;s all right girl . <pad> <pad> <pad> <pad> <pad> <pad> <pad> <pad> <pad> <pad> <pad> <pad> <pad> <pad> <pad> <pad> <pad> <pad> <pad> <pad> <pad> <pad> <pad> <pad> <pad> <pad> <pad> <pad> <pad> <pad> <pad> <pad> <pad> <pad> <pad> <pad> <pad> <pad> <pad> <pad> <pad> <pad> <pad> <pad> <pad> <pad> <pad> <pad> <pad> <pad> <pad> <pad> <pad> <pad> <pad> <pad> <pad> <pad> <pad> <pad> <pad> <pad> <pad> <pad> <pad> <pad> <pad> <pad> <pad> <pad> <pad> <pad> <pad> <pad> <pad> <pad> <pad> <pad> <pad> <pad> <pad> <pad> <pad> <pad> <pad> <pad> <pad> <pad> <pad> <pad> <pad> <pad> <pad>\n",
      "Real output:      that &apos;s over for the evening .\n",
      "--------------------------------------------------\n"
     ]
    }
   ],
   "source": [
    "idx = choice(range(len(valid_output)))\n",
    "\n",
    "context = valid_input[idx]\n",
    "encoded_input = tokenizer_input.encode(tokenizer_input.tokenize(context, block_size))\n",
    "x = torch.tensor(encoded_input, dtype=torch.long)[None,...].to(trainer.device)\n",
    "y, attention_state = sample(model, x, block_size, temperature=1.0, sample=False, top_k=10, output_attention=True)\n",
    "\n",
    "intent = len(encoded_input) + 1\n",
    "\n",
    "predicted = y[0][intent:]\n",
    "completion = tokenizer_output.decode(predicted,)\n",
    "print(f'Input:            {context}')\n",
    "print(f'Predicted output: {completion}')\n",
    "print(f'Real output:      {valid_output[idx]}')\n",
    "print('--------------------------------------------------')\n"
   ]
  },
  {
   "cell_type": "code",
   "execution_count": null,
   "id": "1uY06xs7n5sx",
   "metadata": {
    "colab": {
     "base_uri": "https://localhost:8080/",
     "height": 878
    },
    "id": "1uY06xs7n5sx",
    "outputId": "0b2993a4-b919-41a6-e99e-d395cde20c1e"
   },
   "outputs": [
    {
     "data": {
      "image/png": "[encoded data removed]",
      "text/plain": [
       "<Figure size 2160x1440 with 48 Axes>"
      ]
     },
     "metadata": {
      "needs_background": "light",
      "tags": []
     },
     "output_type": "display_data"
    }
   ],
   "source": [
    "fig, plots = plt.subplots(nrows=number_of_layers, ncols=number_of_heads, figsize=(30, 20))\n",
    "\n",
    "axis_text = tokenizer_input.decode(encoded_input, True).split()\n",
    "\n",
    "axis_text.append('<eos>')\n",
    "\n",
    "axis_text += tokenizer_input.decode(predicted, True).split()\n",
    "\n",
    "limit = len(axis_text)\n",
    "for bi in range(number_of_layers):\n",
    "    for hi in range(number_of_heads):\n",
    "        attetion_plot = torch.zeros(limit, limit)\n",
    "        for di in range(limit):\n",
    "            attetion_plot[:di, :di] = attention_state[bi][di][0,hi,:di,:di].data\n",
    "\n",
    "        ax = plots[bi][hi]\n",
    "        ax.matshow(attetion_plot.numpy(), cmap='bone')\n",
    "\n",
    "        # Set up axes\n",
    "        ax.set_xticklabels([''] + axis_text, rotation=90)\n",
    "        ax.set_yticklabels([''] + axis_text)\n",
    "\n",
    "        # Show label at every tick\n",
    "        ax.xaxis.set_major_locator(ticker.MultipleLocator(1))\n",
    "        ax.yaxis.set_major_locator(ticker.MultipleLocator(1))\n",
    "\n",
    "        # Set up a title\n",
    "        ax.set_title(f'Block {bi + 1} Head {hi + 1}', size=25, pad=30)\n",
    "        \n",
    "plt.show()"
   ]
  },
  {
   "cell_type": "code",
   "execution_count": null,
   "id": "CXFro4HhyE8D",
   "metadata": {
    "id": "CXFro4HhyE8D"
   },
   "outputs": [],
   "source": [
    "# In case the previous cell is not plotting anything, uncomment the code below and execute. After that, the plotting should be fine.\n",
    "# %matplotlib inline\n",
    "# import numpy as np\n",
    "# x = np.linspace(0, 10, 100)\n",
    "\n",
    "# fig = plt.figure()\n",
    "# plt.plot(x, np.sin(x), '-')\n",
    "# plt.plot(x, np.cos(x), '--');"
   ]
  },
  {
   "cell_type": "markdown",
   "id": "bxvZ1nVstR7j",
   "metadata": {
    "id": "bxvZ1nVstR7j"
   },
   "source": [
    "#Calculate BLEU"
   ]
  },
  {
   "cell_type": "code",
   "execution_count": 86,
   "id": "JlVOSUDaNqaz",
   "metadata": {
    "id": "JlVOSUDaNqaz"
   },
   "outputs": [],
   "source": [
    "def clean_tokens(sentence):\n",
    "    return sentence.replace('@@ ', '').replace(' @', '').replace('@ ', '')"
   ]
  },
  {
   "cell_type": "code",
   "execution_count": 87,
   "id": "4VAAvPyR4GMv",
   "metadata": {
    "id": "4VAAvPyR4GMv"
   },
   "outputs": [],
   "source": [
    "# from nltk.translate.bleu_score import sentence_bleu, SmoothingFunction\n",
    "\n",
    "# smooth = SmoothingFunction().method7\n",
    "\n",
    "translation_results = []\n",
    "eval_text = []\n",
    "bleu_results = []\n",
    "for idx, context in enumerate(valid_input):\n",
    "    encoded_input = tokenizer_input.encode(tokenizer_input.tokenize(context, block_size))\n",
    "    x = torch.tensor(encoded_input, dtype=torch.long)[None,...].to(trainer.device)\n",
    "    y = sample(model, x, block_size, temperature=1.0, sample=False, top_k=10)[0]\n",
    "\n",
    "    intent = len(encoded_input) + 1\n",
    "    predicted = y[intent:]\n",
    "    completion = clean_tokens(tokenizer_output.decode(predicted, True))\n",
    "    translation_results.append(completion)\n",
    "\n",
    "    eval = clean_tokens(valid_output[idx])\n",
    "    eval_text.append(eval)\n",
    "    # bleu = sentence_bleu([eval], completion, smoothing_function=smooth)\n",
    "    # bleu_results.append(bleu)\n",
    "\n",
    "# print(f\"Averare BLEU: {np.mean(bleu_results)}\")"
   ]
  },
  {
   "cell_type": "code",
   "execution_count": 88,
   "id": "4xQ1sDwfWS9S",
   "metadata": {
    "id": "4xQ1sDwfWS9S"
   },
   "outputs": [],
   "source": [
    "with open('hemingway_valid.out', 'w') as f:\n",
    "    f.write(\"\\n\".join(translation_results))\n",
    "\n",
    "with open('hemingway_valid.ref', 'w') as f:\n",
    "    f.write(\"\\n\".join(eval_text))"
   ]
  },
  {
   "cell_type": "code",
   "execution_count": 89,
   "id": "U8TILVBwWncc",
   "metadata": {
    "colab": {
     "base_uri": "https://localhost:8080/"
    },
    "id": "U8TILVBwWncc",
    "outputId": "771c5462-601d-4e6e-9c44-d1b99918df5f"
   },
   "outputs": [
    {
     "name": "stdout",
     "output_type": "stream",
     "text": [
      "BLEU = 9.61, 43.4/14.8/6.2/3.3 (BP=0.896, ratio=0.901, hyp_len=4675, ref_len=5188)\r\n",
      "It is not advisable to publish scores from multi-bleu.perl.  The scores depend on your tokenizer, which is unlikely to be reproducible from your paper or consistent across research groups.  Instead you should detokenize then use mteval-v14.pl, which has a standard tokenization.  Scores from multi-bleu.perl can still be used for internal purposes when you have a consistent tokenizer.\r\n"
     ]
    }
   ],
   "source": [
    "!perl mosesdecoder/scripts/generic/multi-bleu.perl hemingway_valid.ref < hemingway_valid.out"
   ]
  },
  {
   "cell_type": "code",
   "execution_count": 90,
   "id": "L0ccdKVEi_51",
   "metadata": {
    "colab": {
     "base_uri": "https://localhost:8080/"
    },
    "id": "L0ccdKVEi_51",
    "outputId": "1325a0f7-bbc4-42ce-87c8-bdec30a82a37"
   },
   "outputs": [
    {
     "name": "stdout",
     "output_type": "stream",
     "text": [
      "Warning: No built-in rules for language lv.\n",
      "Detokenizer Version $Revision: 4134 $\n",
      "Language: lv\n",
      "Warning: No built-in rules for language lv.\n",
      "Detokenizer Version $Revision: 4134 $\n",
      "Language: lv\n"
     ]
    }
   ],
   "source": [
    "!cat hemingway_valid.out | mosesdecoder/scripts/tokenizer/detokenizer.perl -l lv > hemingway_valid.detok.out\n",
    "!cat hemingway_valid.ref | mosesdecoder/scripts/tokenizer/detokenizer.perl -l lv > hemingway_valid.detok.ref"
   ]
  },
  {
   "cell_type": "code",
   "execution_count": 91,
   "id": "hZ_G2YbxgdnH",
   "metadata": {
    "colab": {
     "base_uri": "https://localhost:8080/"
    },
    "id": "hZ_G2YbxgdnH",
    "outputId": "16446218-4a72-4072-d04d-fad681783dc5"
   },
   "outputs": [
    {
     "name": "stdout",
     "output_type": "stream",
     "text": [
      "Name: sacrebleu\r\n",
      "Version: 1.5.1\r\n",
      "Summary: Hassle-free computation of shareable, comparable, and reproducible BLEU, chrF, and TER scores\r\n",
      "Home-page: https://github.com/mjpost/sacrebleu\r\n",
      "Author: Matt Post\r\n",
      "Author-email: post@cs.jhu.edu\r\n",
      "License: Apache License 2.0\r\n",
      "Location: /home/guntis/anaconda3/envs/tw131/lib/python3.8/site-packages\r\n",
      "Requires: portalocker\r\n",
      "Required-by: \r\n"
     ]
    }
   ],
   "source": [
    "#!pip install sacrebleu\n",
    "!pip show sacrebleu"
   ]
  },
  {
   "cell_type": "code",
   "execution_count": 92,
   "id": "C7Z2dQh7gnq2",
   "metadata": {
    "colab": {
     "base_uri": "https://localhost:8080/"
    },
    "id": "C7Z2dQh7gnq2",
    "outputId": "8a4d34d6-f607-4067-ab6c-bb6abb6d70c1"
   },
   "outputs": [
    {
     "name": "stdout",
     "output_type": "stream",
     "text": [
      "9.617007660325706\n"
     ]
    }
   ],
   "source": [
    "import sacrebleu\n",
    "\n",
    "with open('hemingway_valid.detok.ref', 'r') as f:\n",
    "    eval_ref = [l.strip() for l in f.readlines()]\n",
    "with open('hemingway_valid.detok.out', 'r') as f:\n",
    "    translation_results = [l.strip() for l in f.readlines()]\n",
    "\n",
    "refs = [eval_ref]\n",
    "sys = translation_results\n",
    "bleu = sacrebleu.corpus_bleu(sys, refs)\n",
    "print(bleu.score)"
   ]
  },
  {
   "cell_type": "markdown",
   "id": "q8b-0-iFkRRA",
   "metadata": {
    "id": "q8b-0-iFkRRA"
   },
   "source": [
    "#Interactive translator"
   ]
  },
  {
   "cell_type": "code",
   "execution_count": 52,
   "id": "LHYXSA190x8G",
   "metadata": {
    "colab": {
     "base_uri": "https://localhost:8080/",
     "height": 1000
    },
    "id": "LHYXSA190x8G",
    "outputId": "75c2aeed-055e-4a30-b252-b1039a2b3fe0"
   },
   "outputs": [
    {
     "name": "stdout",
     "output_type": "stream",
     "text": [
      "Enter your English text to translate: \"What do you mean?\", he asked.\n",
      "Input:            \"What do you mean?\", he asked.\n",
      "Predicted output: the orderly . &quot; \n"
     ]
    },
    {
     "name": "stderr",
     "output_type": "stream",
     "text": [
      "<ipython-input-52-362679eb645d>:36: UserWarning: FixedFormatter should only be used together with FixedLocator\n",
      "  ax.set_xticklabels([''] + axis_text, rotation=90)\n",
      "<ipython-input-52-362679eb645d>:37: UserWarning: FixedFormatter should only be used together with FixedLocator\n",
      "  ax.set_yticklabels([''] + axis_text)\n",
      "<ipython-input-52-362679eb645d>:46: UserWarning: Matplotlib is currently using agg, which is a non-GUI backend, so cannot show the figure.\n",
      "  plt.show()\n"
     ]
    }
   ],
   "source": [
    "context = input(\"Enter your English text to translate: \")\n",
    "\n",
    "# Predict Latvian output\n",
    "encoded_input = tokenizer_input.encode(tokenizer_input.tokenize(context, block_size))\n",
    "x = torch.tensor(encoded_input, dtype=torch.long)[None,...].to(trainer.device)\n",
    "y, attention_state = sample(model, x, block_size, temperature=1.0, sample=False, top_k=10, output_attention=True)\n",
    "\n",
    "intent = len(encoded_input) + 1\n",
    "\n",
    "predicted = y[0][intent:]\n",
    "completion = tokenizer_output.decode(predicted, True)\n",
    "print(f'Input:            {context}')\n",
    "print(f'Predicted output: {completion}')\n",
    "\n",
    "\n",
    "# Plot attention\n",
    "fig, plots = plt.subplots(nrows=number_of_layers, ncols=number_of_heads, figsize=(30, 20))\n",
    "\n",
    "axis_text = tokenizer_input.decode(encoded_input, True).split()\n",
    "\n",
    "axis_text.append('<eos>')\n",
    "\n",
    "axis_text += tokenizer_input.decode(predicted, True).split()\n",
    "\n",
    "limit = len(axis_text)\n",
    "for bi in range(number_of_layers):\n",
    "    for hi in range(number_of_heads):\n",
    "        attetion_plot = torch.zeros(limit, limit)\n",
    "        for di in range(limit):\n",
    "            attetion_plot[:di, :di] = attention_state[bi][di][0,hi,:di,:di].data\n",
    "\n",
    "        ax = plots[bi][hi]\n",
    "        ax.matshow(attetion_plot.numpy(), cmap='bone')\n",
    "\n",
    "        # Set up axes\n",
    "        ax.set_xticklabels([''] + axis_text, rotation=90)\n",
    "        ax.set_yticklabels([''] + axis_text)\n",
    "\n",
    "        # Show label at every tick\n",
    "        ax.xaxis.set_major_locator(ticker.MultipleLocator(1))\n",
    "        ax.yaxis.set_major_locator(ticker.MultipleLocator(1))\n",
    "\n",
    "        # Set up a title\n",
    "        ax.set_title(f'Block {bi + 1} Head {hi + 1}', size=25, pad=30)\n",
    "        \n",
    "plt.show()"
   ]
  },
  {
   "cell_type": "code",
   "execution_count": null,
   "id": "68dbab04",
   "metadata": {},
   "outputs": [],
   "source": []
  }
 ],
 "metadata": {
  "accelerator": "GPU",
  "colab": {
   "collapsed_sections": [],
   "name": "with valid Proper packages minGPT EN-LV translator.ipynb",
   "provenance": []
  },
  "kernelspec": {
   "display_name": "Python 3",
   "language": "python",
   "name": "python3"
  },
  "language_info": {
   "codemirror_mode": {
    "name": "ipython",
    "version": 3
   },
   "file_extension": ".py",
   "mimetype": "text/x-python",
   "name": "python",
   "nbconvert_exporter": "python",
   "pygments_lexer": "ipython3",
   "version": "3.8.5"
  }
 },
 "nbformat": 4,
 "nbformat_minor": 5
}
